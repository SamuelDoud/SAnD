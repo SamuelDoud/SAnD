{
 "cells": [
  {
   "attachments": {},
   "cell_type": "markdown",
   "metadata": {},
   "source": [
    "## Mortality Training\n",
    "1. Load the MIMIC III Dataset\n",
    "2. Normalize Data\n",
    "3. Load into Pytorch Dataloader\n",
    "4. Train\n",
    "5. Evaluate"
   ]
  },
  {
   "cell_type": "code",
   "execution_count": 106,
   "metadata": {},
   "outputs": [],
   "source": [
    "import itertools\n",
    "from os import path\n",
    "\n",
    "from comet_ml import Experiment\n",
    "from matplotlib import pyplot as plt\n",
    "import numpy as np\n",
    "import pandas as pd\n",
    "from scipy.ndimage import interpolation\n",
    "import torch\n",
    "import torch.nn as nn\n",
    "import torch.optim as optim\n",
    "from torch.utils.data import TensorDataset, DataLoader\n",
    "\n",
    "from core.model import SAnD\n",
    "from mimic3_benchmarks.mimic3benchmark.readers import InHospitalMortalityReader as Reader\n",
    "from mimic3_benchmarks.mimic3models.preprocessing import Discretizer, Normalizer\n",
    "from utils.ihm_utils import evaluate_predictions, load_data, save_results\n",
    "from utils.functions import get_weights\n",
    "from utils.trainer import NeuralNetworkClassifier\n",
    "\n",
    "device = torch.device(\"cuda\" if torch.cuda.is_available() else \"cpu\")\n",
    "task = \"in-hospital-mortality\"\n",
    "\n",
    "comet_ml_info = {\n",
    "    \"api_key\": \"eQ3INeSsFGUYKahSdEtjhry42\",\n",
    "    \"username\": \"samdoud\",\n",
    "    \"project_name\": \"SAnD-in-hospital-mortality\"\n",
    "}\n",
    "def get_experiment() -> Experiment:\n",
    "    return Experiment(\n",
    "    api_key=comet_ml_info[\"api_key\"],\n",
    "    project_name=comet_ml_info[\"project_name\"],\n",
    "    workspace=comet_ml_info[\"username\"],\n",
    ")"
   ]
  },
  {
   "attachments": {},
   "cell_type": "markdown",
   "metadata": {},
   "source": [
    "## Load Data\n",
    "Using the [MimicIII Benchmark's](https://github.com/YerevaNN/mimic3-benchmarks) InHospitalMortalityReader and associated functions, load the data into memory.\n",
    "\n",
    "If you are following along you will need to arrange the data following the directions on the link.\n",
    "\n",
    "`Reader` is an alias for `InHospitalMortalityReader` from MIMIC-III Benchmarks\n"
   ]
  },
  {
   "cell_type": "code",
   "execution_count": 3,
   "metadata": {},
   "outputs": [],
   "source": [
    "train_reader = Reader(dataset_dir=f\"mimic3_benchmarks/data/{task}/train\",\n",
    "                              listfile=f\"mimic3_benchmarks/data/{task}/train_listfile.csv\")\n",
    "val_reader = Reader(dataset_dir=f\"mimic3_benchmarks/data/{task}/train\",\n",
    "                              listfile=f\"mimic3_benchmarks/data/{task}/val_listfile.csv\")\n",
    "test_reader = Reader(dataset_dir=f\"mimic3_benchmarks/data/{task}/test\",\n",
    "                              listfile=f\"mimic3_benchmarks/data/{task}/test_listfile.csv\")"
   ]
  },
  {
   "attachments": {},
   "cell_type": "markdown",
   "metadata": {},
   "source": [
    "### Example data"
   ]
  },
  {
   "cell_type": "code",
   "execution_count": 4,
   "metadata": {},
   "outputs": [
    {
     "data": {
      "text/html": [
       "<div>\n",
       "<style scoped>\n",
       "    .dataframe tbody tr th:only-of-type {\n",
       "        vertical-align: middle;\n",
       "    }\n",
       "\n",
       "    .dataframe tbody tr th {\n",
       "        vertical-align: top;\n",
       "    }\n",
       "\n",
       "    .dataframe thead th {\n",
       "        text-align: right;\n",
       "    }\n",
       "</style>\n",
       "<table border=\"1\" class=\"dataframe\">\n",
       "  <thead>\n",
       "    <tr style=\"text-align: right;\">\n",
       "      <th></th>\n",
       "      <th>Hours</th>\n",
       "      <th>Capillary refill rate</th>\n",
       "      <th>Diastolic blood pressure</th>\n",
       "      <th>Fraction inspired oxygen</th>\n",
       "      <th>Glascow coma scale eye opening</th>\n",
       "      <th>Glascow coma scale motor response</th>\n",
       "      <th>Glascow coma scale total</th>\n",
       "      <th>Glascow coma scale verbal response</th>\n",
       "      <th>Glucose</th>\n",
       "      <th>Heart Rate</th>\n",
       "      <th>Height</th>\n",
       "      <th>Mean blood pressure</th>\n",
       "      <th>Oxygen saturation</th>\n",
       "      <th>Respiratory rate</th>\n",
       "      <th>Systolic blood pressure</th>\n",
       "      <th>Temperature</th>\n",
       "      <th>Weight</th>\n",
       "      <th>pH</th>\n",
       "    </tr>\n",
       "  </thead>\n",
       "  <tbody>\n",
       "    <tr>\n",
       "      <th>0</th>\n",
       "      <td>0.2138888888888889</td>\n",
       "      <td></td>\n",
       "      <td>71.0</td>\n",
       "      <td></td>\n",
       "      <td></td>\n",
       "      <td></td>\n",
       "      <td></td>\n",
       "      <td></td>\n",
       "      <td></td>\n",
       "      <td>94</td>\n",
       "      <td></td>\n",
       "      <td>95</td>\n",
       "      <td>92.0</td>\n",
       "      <td>16</td>\n",
       "      <td>141.0</td>\n",
       "      <td></td>\n",
       "      <td></td>\n",
       "      <td></td>\n",
       "    </tr>\n",
       "    <tr>\n",
       "      <th>1</th>\n",
       "      <td>0.46388888888888885</td>\n",
       "      <td></td>\n",
       "      <td>71.0</td>\n",
       "      <td></td>\n",
       "      <td></td>\n",
       "      <td></td>\n",
       "      <td></td>\n",
       "      <td></td>\n",
       "      <td></td>\n",
       "      <td>91</td>\n",
       "      <td></td>\n",
       "      <td>95</td>\n",
       "      <td>93.0</td>\n",
       "      <td>16</td>\n",
       "      <td>141.0</td>\n",
       "      <td></td>\n",
       "      <td></td>\n",
       "      <td></td>\n",
       "    </tr>\n",
       "    <tr>\n",
       "      <th>2</th>\n",
       "      <td>0.7138888888888889</td>\n",
       "      <td></td>\n",
       "      <td></td>\n",
       "      <td></td>\n",
       "      <td></td>\n",
       "      <td></td>\n",
       "      <td></td>\n",
       "      <td></td>\n",
       "      <td></td>\n",
       "      <td>89</td>\n",
       "      <td></td>\n",
       "      <td></td>\n",
       "      <td>93.0</td>\n",
       "      <td>19</td>\n",
       "      <td></td>\n",
       "      <td></td>\n",
       "      <td></td>\n",
       "      <td></td>\n",
       "    </tr>\n",
       "    <tr>\n",
       "      <th>3</th>\n",
       "      <td>0.9638888888888889</td>\n",
       "      <td></td>\n",
       "      <td></td>\n",
       "      <td></td>\n",
       "      <td></td>\n",
       "      <td></td>\n",
       "      <td></td>\n",
       "      <td></td>\n",
       "      <td></td>\n",
       "      <td>89</td>\n",
       "      <td></td>\n",
       "      <td></td>\n",
       "      <td>94.0</td>\n",
       "      <td>13</td>\n",
       "      <td></td>\n",
       "      <td></td>\n",
       "      <td></td>\n",
       "      <td></td>\n",
       "    </tr>\n",
       "    <tr>\n",
       "      <th>4</th>\n",
       "      <td>1.1305555555555555</td>\n",
       "      <td></td>\n",
       "      <td></td>\n",
       "      <td></td>\n",
       "      <td></td>\n",
       "      <td></td>\n",
       "      <td></td>\n",
       "      <td></td>\n",
       "      <td></td>\n",
       "      <td></td>\n",
       "      <td></td>\n",
       "      <td></td>\n",
       "      <td></td>\n",
       "      <td></td>\n",
       "      <td></td>\n",
       "      <td></td>\n",
       "      <td></td>\n",
       "      <td>7.51</td>\n",
       "    </tr>\n",
       "    <tr>\n",
       "      <th>...</th>\n",
       "      <td>...</td>\n",
       "      <td>...</td>\n",
       "      <td>...</td>\n",
       "      <td>...</td>\n",
       "      <td>...</td>\n",
       "      <td>...</td>\n",
       "      <td>...</td>\n",
       "      <td>...</td>\n",
       "      <td>...</td>\n",
       "      <td>...</td>\n",
       "      <td>...</td>\n",
       "      <td>...</td>\n",
       "      <td>...</td>\n",
       "      <td>...</td>\n",
       "      <td>...</td>\n",
       "      <td>...</td>\n",
       "      <td>...</td>\n",
       "      <td>...</td>\n",
       "    </tr>\n",
       "    <tr>\n",
       "      <th>66</th>\n",
       "      <td>44.21388888888889</td>\n",
       "      <td></td>\n",
       "      <td>58.0</td>\n",
       "      <td></td>\n",
       "      <td></td>\n",
       "      <td></td>\n",
       "      <td></td>\n",
       "      <td></td>\n",
       "      <td></td>\n",
       "      <td>103</td>\n",
       "      <td></td>\n",
       "      <td>81</td>\n",
       "      <td>99.0</td>\n",
       "      <td>21</td>\n",
       "      <td>113.0</td>\n",
       "      <td></td>\n",
       "      <td></td>\n",
       "      <td></td>\n",
       "    </tr>\n",
       "    <tr>\n",
       "      <th>67</th>\n",
       "      <td>45.21388888888889</td>\n",
       "      <td></td>\n",
       "      <td>59.0</td>\n",
       "      <td></td>\n",
       "      <td>4 Spontaneously</td>\n",
       "      <td>6 Obeys Commands</td>\n",
       "      <td>15</td>\n",
       "      <td>5 Oriented</td>\n",
       "      <td></td>\n",
       "      <td>107</td>\n",
       "      <td></td>\n",
       "      <td>81</td>\n",
       "      <td>97.0</td>\n",
       "      <td>22</td>\n",
       "      <td>116.0</td>\n",
       "      <td></td>\n",
       "      <td></td>\n",
       "      <td></td>\n",
       "    </tr>\n",
       "    <tr>\n",
       "      <th>68</th>\n",
       "      <td>46.21388888888889</td>\n",
       "      <td></td>\n",
       "      <td>61.0</td>\n",
       "      <td></td>\n",
       "      <td></td>\n",
       "      <td></td>\n",
       "      <td></td>\n",
       "      <td></td>\n",
       "      <td></td>\n",
       "      <td>100</td>\n",
       "      <td></td>\n",
       "      <td>85</td>\n",
       "      <td>97.0</td>\n",
       "      <td>20</td>\n",
       "      <td>120.0</td>\n",
       "      <td></td>\n",
       "      <td></td>\n",
       "      <td></td>\n",
       "    </tr>\n",
       "    <tr>\n",
       "      <th>69</th>\n",
       "      <td>47.21388888888889</td>\n",
       "      <td></td>\n",
       "      <td>58.0</td>\n",
       "      <td></td>\n",
       "      <td></td>\n",
       "      <td></td>\n",
       "      <td></td>\n",
       "      <td></td>\n",
       "      <td></td>\n",
       "      <td>90</td>\n",
       "      <td></td>\n",
       "      <td>83</td>\n",
       "      <td>100.0</td>\n",
       "      <td>18</td>\n",
       "      <td>123.0</td>\n",
       "      <td>37.0</td>\n",
       "      <td></td>\n",
       "      <td></td>\n",
       "    </tr>\n",
       "    <tr>\n",
       "      <th>70</th>\n",
       "      <td>47.71388888888889</td>\n",
       "      <td></td>\n",
       "      <td></td>\n",
       "      <td></td>\n",
       "      <td>4 Spontaneously</td>\n",
       "      <td>6 Obeys Commands</td>\n",
       "      <td>15</td>\n",
       "      <td>5 Oriented</td>\n",
       "      <td></td>\n",
       "      <td></td>\n",
       "      <td></td>\n",
       "      <td></td>\n",
       "      <td></td>\n",
       "      <td></td>\n",
       "      <td></td>\n",
       "      <td></td>\n",
       "      <td></td>\n",
       "      <td></td>\n",
       "    </tr>\n",
       "  </tbody>\n",
       "</table>\n",
       "<p>71 rows × 18 columns</p>\n",
       "</div>"
      ],
      "text/plain": [
       "                  Hours Capillary refill rate Diastolic blood pressure  \\\n",
       "0    0.2138888888888889                                           71.0   \n",
       "1   0.46388888888888885                                           71.0   \n",
       "2    0.7138888888888889                                                  \n",
       "3    0.9638888888888889                                                  \n",
       "4    1.1305555555555555                                                  \n",
       "..                  ...                   ...                      ...   \n",
       "66    44.21388888888889                                           58.0   \n",
       "67    45.21388888888889                                           59.0   \n",
       "68    46.21388888888889                                           61.0   \n",
       "69    47.21388888888889                                           58.0   \n",
       "70    47.71388888888889                                                  \n",
       "\n",
       "   Fraction inspired oxygen Glascow coma scale eye opening  \\\n",
       "0                                                            \n",
       "1                                                            \n",
       "2                                                            \n",
       "3                                                            \n",
       "4                                                            \n",
       "..                      ...                            ...   \n",
       "66                                                           \n",
       "67                                         4 Spontaneously   \n",
       "68                                                           \n",
       "69                                                           \n",
       "70                                         4 Spontaneously   \n",
       "\n",
       "   Glascow coma scale motor response Glascow coma scale total  \\\n",
       "0                                                               \n",
       "1                                                               \n",
       "2                                                               \n",
       "3                                                               \n",
       "4                                                               \n",
       "..                               ...                      ...   \n",
       "66                                                              \n",
       "67                  6 Obeys Commands                       15   \n",
       "68                                                              \n",
       "69                                                              \n",
       "70                  6 Obeys Commands                       15   \n",
       "\n",
       "   Glascow coma scale verbal response Glucose Heart Rate Height  \\\n",
       "0                                                     94          \n",
       "1                                                     91          \n",
       "2                                                     89          \n",
       "3                                                     89          \n",
       "4                                                                 \n",
       "..                                ...     ...        ...    ...   \n",
       "66                                                   103          \n",
       "67                         5 Oriented                107          \n",
       "68                                                   100          \n",
       "69                                                    90          \n",
       "70                         5 Oriented                             \n",
       "\n",
       "   Mean blood pressure Oxygen saturation Respiratory rate  \\\n",
       "0                   95              92.0               16   \n",
       "1                   95              93.0               16   \n",
       "2                                   93.0               19   \n",
       "3                                   94.0               13   \n",
       "4                                                           \n",
       "..                 ...               ...              ...   \n",
       "66                  81              99.0               21   \n",
       "67                  81              97.0               22   \n",
       "68                  85              97.0               20   \n",
       "69                  83             100.0               18   \n",
       "70                                                          \n",
       "\n",
       "   Systolic blood pressure Temperature Weight    pH  \n",
       "0                    141.0                           \n",
       "1                    141.0                           \n",
       "2                                                    \n",
       "3                                                    \n",
       "4                                              7.51  \n",
       "..                     ...         ...    ...   ...  \n",
       "66                   113.0                           \n",
       "67                   116.0                           \n",
       "68                   120.0                           \n",
       "69                   123.0        37.0               \n",
       "70                                                   \n",
       "\n",
       "[71 rows x 18 columns]"
      ]
     },
     "execution_count": 4,
     "metadata": {},
     "output_type": "execute_result"
    }
   ],
   "source": [
    "ex = pd.DataFrame.from_dict(train_reader.read_example(0)['X'])\n",
    "ex.columns = train_reader.read_example(0)[\"header\"]\n",
    "ex"
   ]
  },
  {
   "attachments": {},
   "cell_type": "markdown",
   "metadata": {},
   "source": [
    "### Normalize and Discretize data\n",
    "From the MIMIC-III Benchmark repo"
   ]
  },
  {
   "cell_type": "code",
   "execution_count": 5,
   "metadata": {},
   "outputs": [],
   "source": [
    "discretizer = Discretizer(timestep=1.0,\n",
    "                          store_masks=True,\n",
    "                          impute_strategy='previous',\n",
    "                          start_time='zero')\n",
    "\n",
    "discretizer_header = discretizer.transform(train_reader.read_example(0)[\"X\"])[1].split(',')\n",
    "cont_channels = [i for (i, x) in enumerate(discretizer_header) if x.find(\"->\") == -1]"
   ]
  },
  {
   "cell_type": "code",
   "execution_count": 6,
   "metadata": {},
   "outputs": [],
   "source": [
    "normalizer = Normalizer(fields=cont_channels)  # choose here which columns to standardize\n",
    "normalizer_state = 'train/modelsihm_ts1.0.input_str-previous.start_time-zero.normalizer'\n",
    "normalizer.load_params(normalizer_state)"
   ]
  },
  {
   "attachments": {},
   "cell_type": "markdown",
   "metadata": {},
   "source": [
    "### Load the data into Tensors\n",
    "The `load_data` method is customized from the MIMIC-III benchmark."
   ]
  },
  {
   "cell_type": "code",
   "execution_count": 7,
   "metadata": {},
   "outputs": [],
   "source": [
    "train_raw = load_data(train_reader, discretizer, normalizer)\n",
    "val_raw = load_data(val_reader, discretizer, normalizer)\n",
    "# return_names such that the prediction can be tied directly to a patient for evaluation\n",
    "test_data = load_data(test_reader, discretizer, normalizer, return_names=True)\n",
    "test_raw = test_data[\"data\"]\n",
    "test_names = test_data[\"names\"]\n",
    "\n",
    "N, seq_len, feature_count = train_raw[0].shape"
   ]
  },
  {
   "attachments": {},
   "cell_type": "markdown",
   "metadata": {},
   "source": [
    "### Load into standard Pytorch datasets\n",
    "\n",
    "This data has already been collated for us. Shuffle is enabled on the train dataset to limit overfitting. This does come at the cost of reduced determinism."
   ]
  },
  {
   "cell_type": "code",
   "execution_count": 8,
   "metadata": {},
   "outputs": [
    {
     "name": "stdout",
     "output_type": "stream",
     "text": [
      "3236\n",
      "torch.Size([3236])\n"
     ]
    }
   ],
   "source": [
    "batch_size = 256\n",
    "\n",
    "train_ds = TensorDataset(train_raw[0], train_raw[1])\n",
    "val_ds = TensorDataset(val_raw[0], val_raw[1])\n",
    "test_ds = TensorDataset(test_raw[0], test_raw[1])\n",
    "\n",
    "train_loader = DataLoader(train_ds, batch_size=batch_size, shuffle=True)\n",
    "val_loader = DataLoader(val_ds, batch_size=batch_size, shuffle=False)\n",
    "test_loader = DataLoader(test_ds, batch_size=batch_size)\n",
    "print(len(test_raw[1]))\n",
    "print(test_loader.dataset.tensors[1].shape)"
   ]
  },
  {
   "attachments": {},
   "cell_type": "markdown",
   "metadata": {},
   "source": [
    "## Create model, Train, and Evaluate\n",
    "Train the model, this will export results to Comet ML.\n",
    "Creating is done in the same step such that a new experiment made each time\n",
    "Evaluation is done in the same step such that the Comet ML experiment is also deleted."
   ]
  },
  {
   "attachments": {},
   "cell_type": "markdown",
   "metadata": {},
   "source": [
    "### Paper IHM Module"
   ]
  },
  {
   "cell_type": "code",
   "execution_count": 232,
   "metadata": {},
   "outputs": [
    {
     "name": "stderr",
     "output_type": "stream",
     "text": [
      "COMET WARNING: As you are running in a Jupyter environment, you will need to call `experiment.end()` when finished to ensure all metrics and code are logged before exiting.\n",
      "COMET INFO: Experiment is live on comet.com https://www.comet.com/samdoud/sand-in-hospital-mortality/46eb8a5b33424377bf6676cdffca398d\n",
      "\n",
      "\u001b[36mTraining\u001b[0m - Epochs: 001/028:  99%|█████████▉| 14592/14681 [00:03<00:00, 4470.76it/s]"
     ]
    },
    {
     "name": "stdout",
     "output_type": "stream",
     "text": [
      "\u001b[32mTrain finished. \u001b[0mAccuracy: 0.7767 MSE: 0.2233 AUROC: 0.5404 AUPRC: 0.2611\n"
     ]
    },
    {
     "name": "stderr",
     "output_type": "stream",
     "text": [
      "\u001b[36mTraining\u001b[0m - Epochs: 001/028: 100%|██████████| 14681/14681 [00:03<00:00, 4117.96it/s]\n"
     ]
    },
    {
     "name": "stdout",
     "output_type": "stream",
     "text": [
      "\u001b[31mValidation finished. \u001b[0mAccuracy: 0.6124 MSE: 0.0851 AUROC: 0.7014 AUPRC: 0.5409\n"
     ]
    },
    {
     "name": "stderr",
     "output_type": "stream",
     "text": [
      "\u001b[36mTraining\u001b[0m - Epochs: 002/028:  99%|█████████▉| 14592/14681 [00:03<00:00, 4592.87it/s]"
     ]
    },
    {
     "name": "stdout",
     "output_type": "stream",
     "text": [
      "\u001b[32mTrain finished. \u001b[0mAccuracy: 0.8280 MSE: 0.1720 AUROC: 0.5966 AUPRC: 0.3568\n"
     ]
    },
    {
     "name": "stderr",
     "output_type": "stream",
     "text": [
      "\u001b[36mTraining\u001b[0m - Epochs: 002/028: 100%|██████████| 14681/14681 [00:03<00:00, 4110.16it/s]\n"
     ]
    },
    {
     "name": "stdout",
     "output_type": "stream",
     "text": [
      "\u001b[31mValidation finished. \u001b[0mAccuracy: 0.1806 MSE: 0.1798 AUROC: 0.5214 AUPRC: 0.5653\n"
     ]
    },
    {
     "name": "stderr",
     "output_type": "stream",
     "text": [
      "\u001b[36mTraining\u001b[0m - Epochs: 003/028:  99%|█████████▉| 14592/14681 [00:02<00:00, 4774.46it/s]"
     ]
    },
    {
     "name": "stdout",
     "output_type": "stream",
     "text": [
      "\u001b[32mTrain finished. \u001b[0mAccuracy: 0.8023 MSE: 0.1977 AUROC: 0.5813 AUPRC: 0.3247\n"
     ]
    },
    {
     "name": "stderr",
     "output_type": "stream",
     "text": [
      "\u001b[36mTraining\u001b[0m - Epochs: 003/028: 100%|██████████| 14681/14681 [00:03<00:00, 4807.96it/s]\n"
     ]
    },
    {
     "name": "stdout",
     "output_type": "stream",
     "text": [
      "\u001b[31mValidation finished. \u001b[0mAccuracy: 0.8731 MSE: 0.0279 AUROC: 0.5503 AUPRC: 0.4650\n"
     ]
    },
    {
     "name": "stderr",
     "output_type": "stream",
     "text": [
      "\u001b[36mTraining\u001b[0m - Epochs: 004/028:  99%|█████████▉| 14592/14681 [00:02<00:00, 4686.31it/s]"
     ]
    },
    {
     "name": "stdout",
     "output_type": "stream",
     "text": [
      "\u001b[32mTrain finished. \u001b[0mAccuracy: 0.8526 MSE: 0.1474 AUROC: 0.6231 AUPRC: 0.4195\n"
     ]
    },
    {
     "name": "stderr",
     "output_type": "stream",
     "text": [
      "\u001b[36mTraining\u001b[0m - Epochs: 004/028: 100%|██████████| 14681/14681 [00:03<00:00, 4635.32it/s]\n"
     ]
    },
    {
     "name": "stdout",
     "output_type": "stream",
     "text": [
      "\u001b[31mValidation finished. \u001b[0mAccuracy: 0.7840 MSE: 0.0474 AUROC: 0.7368 AUPRC: 0.5314\n"
     ]
    },
    {
     "name": "stderr",
     "output_type": "stream",
     "text": [
      "\u001b[36mTraining\u001b[0m - Epochs: 005/028:  51%|█████     | 7424/14681 [00:01<00:01, 5734.24it/s]"
     ]
    }
   ],
   "source": [
    "n_heads = 8\n",
    "factor = 12 # M\n",
    "num_class = 2\n",
    "num_layers = 4 # N\n",
    "epochs = 28\n",
    "betas = (0.9, 0.98)\n",
    "lr = 5e-4\n",
    "eps = 4e-09\n",
    "weight_decay = 5e-4\n",
    "dropout = 0.3\n",
    "scores = {}\n",
    "\n",
    "experiment = get_experiment()\n",
    "\n",
    "clf = NeuralNetworkClassifier(\n",
    "    SAnD(feature_count, seq_len, n_heads, factor, num_class, num_layers, dropout_rate=dropout),\n",
    "    nn.CrossEntropyLoss(),\n",
    "    optim.Adam, optimizer_config={\n",
    "        \"lr\": lr, \"betas\": betas, \"eps\": eps, \"weight_decay\": weight_decay},\n",
    "    experiment=experiment,\n",
    ")\n",
    "# Score is the multiplication of AUPRC and AUROC\n",
    "score = clf.fit(\n",
    "    {\n",
    "        \"train\": train_loader,\n",
    "        \"val\": val_loader\n",
    "    },\n",
    "    validation=True,\n",
    "    epochs=epochs,\n",
    "    verbose=True,\n",
    ")\n",
    "\n",
    "preds = clf.evaluate(test_loader)\n",
    "\n",
    "experiment.end()\n",
    "\n",
    "file_path = 'results/modelstest_predictions.csv'\n",
    "save_results(test_names, preds, test_raw[1], file_path)\n",
    "pred_df = pd.read_csv(file_path, index_col=False)\n",
    "list_df = pd.read_csv(f\"mimic3_benchmarks/data/{task}/test_listfile.csv\", index_col=False)\n",
    "\n",
    "evaluate_predictions(pred_df, list_df, save_file=\"train/modelspaper_ihm.json\")\n",
    "\n",
    "clf.save_to_file(\"train/models/\", \"paper-ihm.pth\")"
   ]
  },
  {
   "attachments": {},
   "cell_type": "markdown",
   "metadata": {},
   "source": [
    "### Evaluate\n",
    "Use the standard MIMIC-III Benchmark evaluation. This exports the stats shown in the paper to a JSON. Presumably, this is the same function the author used."
   ]
  },
  {
   "cell_type": "code",
   "execution_count": 16,
   "metadata": {},
   "outputs": [
    {
     "name": "stdout",
     "output_type": "stream",
     "text": [
      "Saving the results in results/paper_ihm_results.json ...\n",
      "{'n_iters': 10000, 'AUC of ROC': {'value': 0.590879195207719, 'mean': 0.590855437850811, 'median': 0.5908270261635298, 'std': 0.010888827680076834, '2.5% percentile': 0.5695861390411279, '97.5% percentile': 0.6126749928603985}, 'AUC of PRC': {'value': 0.3849364636030209, 'mean': 0.3850653890952727, 'median': 0.3855819542050518, 'std': 0.027183231088282897, '2.5% percentile': 0.3309164092162112, '97.5% percentile': 0.43716908687352685}, 'min(+P, Se)': {'value': 0.21390374331550802, 'mean': 0.21382195466640283, 'median': 0.21366253265363055, 'std': 0.021502527345097226, '2.5% percentile': 0.17201031206133247, '97.5% percentile': 0.2572178477690289}}\n"
     ]
    }
   ],
   "source": [
    "file_path = 'train/test_predictions.csv'\n",
    "save_results(test_names, preds, test_raw[1], file_path)\n",
    "pred_df = pd.read_csv(file_path, index_col=False)\n",
    "list_df = pd.read_csv(f\"mimic3_benchmarks/data/{task}/test_listfile.csv\", index_col=False)\n",
    "\n",
    "save_file_path = \"results/paper_ihm_results.json\"\n",
    "evaluate_predictions(pred_df, list_df, save_file=save_file_path)"
   ]
  },
  {
   "cell_type": "code",
   "execution_count": 21,
   "metadata": {},
   "outputs": [
    {
     "name": "stdout",
     "output_type": "stream",
     "text": [
      "{\n",
      "    \"n_iters\": 10000,\n",
      "    \"AUC of ROC\": {\n",
      "        \"value\": 0.590879195207719,\n",
      "        \"mean\": 0.590855437850811,\n",
      "        \"median\": 0.5908270261635298,\n",
      "        \"std\": 0.010888827680076834,\n",
      "        \"2.5% percentile\": 0.5695861390411279,\n",
      "        \"97.5% percentile\": 0.6126749928603985\n",
      "    },\n",
      "    \"AUC of PRC\": {\n",
      "        \"value\": 0.3849364636030209,\n",
      "        \"mean\": 0.3850653890952727,\n",
      "        \"median\": 0.3855819542050518,\n",
      "        \"std\": 0.027183231088282897,\n",
      "        \"2.5% percentile\": 0.3309164092162112,\n",
      "        \"97.5% percentile\": 0.43716908687352685\n",
      "    },\n",
      "    \"min(+P, Se)\": {\n",
      "        \"value\": 0.21390374331550802,\n",
      "        \"mean\": 0.21382195466640283,\n",
      "        \"median\": 0.21366253265363055,\n",
      "        \"std\": 0.021502527345097226,\n",
      "        \"2.5% percentile\": 0.17201031206133247,\n",
      "        \"97.5% percentile\": 0.2572178477690289\n",
      "    }\n",
      "}\n"
     ]
    }
   ],
   "source": [
    "from json import load, dumps\n",
    "with open(save_file_path) as fp:\n",
    "    data = load(fp)\n",
    "print(dumps(data, indent=4))"
   ]
  },
  {
   "attachments": {},
   "cell_type": "markdown",
   "metadata": {},
   "source": [
    "### Ablation: CrossEntropyLoss weighting\n",
    "\n",
    "This block searches for the optimal weights to pass `nn.CrossEntropyLoss`.\n",
    "\n",
    "The weight function is stored in `utils`, but placed here for clarity:\n",
    "```\n",
    "def get_weights(labels, level: Optional[int]=1) -> np.array:\n",
    "    class_sample_count = np.array(\n",
    "        [len(np.where(labels == t)[0]) for t in np.unique(labels)]\n",
    "    )\n",
    "    weight = (1.0 / class_sample_count ** (1/level))\n",
    "    return weight\n",
    "```\n"
   ]
  },
  {
   "cell_type": "code",
   "execution_count": 22,
   "metadata": {},
   "outputs": [
    {
     "name": "stderr",
     "output_type": "stream",
     "text": [
      "COMET INFO: ---------------------------\n",
      "COMET INFO: Comet.ml Experiment Summary\n",
      "COMET INFO: ---------------------------\n",
      "COMET INFO:   Data:\n",
      "COMET INFO:     display_summary_level : 1\n",
      "COMET INFO:     url                   : https://www.comet.com/samdoud/sand-in-hospital-mortality/3785b6b57ad84a9d98648f1a61ec41af\n",
      "COMET INFO:   Metrics [count] (min, max):\n",
      "COMET INFO:     train_AUPRC [1051]         : (0.06640625, 0.6198257215424157)\n",
      "COMET INFO:     train_AUROC [1051]         : (0.4743264017379617, 0.8056440639166398)\n",
      "COMET INFO:     train_MSE [1051]           : (0.1484375, 0.84765625)\n",
      "COMET INFO:     train_accuracy [1051]      : (0.15234375, 0.8515625)\n",
      "COMET INFO:     train_loss [1110]          : (0.23641610145568848, 136.97283935546875)\n",
      "COMET INFO:     validate_AUPRC [234]       : (0.5000537114021315, 0.6297058127999262)\n",
      "COMET INFO:     validate_AUPRCxAUROC [234] : (0.5411818649220399, 0.6742166567991064)\n",
      "COMET INFO:     validate_AUROC [234]       : (0.5012294805107073, 0.7720959595959596)\n",
      "COMET INFO:     validate_MSE [234]         : (0.0034057625502349974, 0.18350248620666168)\n",
      "COMET INFO:     validate_accuracy [234]    : (0.16387337057728119, 0.84016139044072)\n",
      "COMET INFO:     validate_loss [234]        : (0.4147964417934418, 3.145120143890381)\n",
      "COMET INFO:   Parameters:\n",
      "COMET INFO:     batch_size    : 256\n",
      "COMET INFO:     betas         : (0.9, 0.98)\n",
      "COMET INFO:     epochs        : 12\n",
      "COMET INFO:     eps           : 4e-09\n",
      "COMET INFO:     lr            : 0.0005\n",
      "COMET INFO:     train_ds_size : 14681\n",
      "COMET INFO:     val_ds_size   : 3222\n",
      "COMET INFO:     weight_decay  : 0.0005\n",
      "COMET INFO:   Uploads:\n",
      "COMET INFO:     conda-environment-definition : 1\n",
      "COMET INFO:     conda-info                   : 1\n",
      "COMET INFO:     conda-specification          : 1\n",
      "COMET INFO:     confusion-matrix             : 1285\n",
      "COMET INFO:     environment details          : 1\n",
      "COMET INFO:     filename                     : 1\n",
      "COMET INFO:     git metadata                 : 1\n",
      "COMET INFO:     git-patch (uncompressed)     : 1 (144.32 KB)\n",
      "COMET INFO:     installed packages           : 1\n",
      "COMET INFO:     model graph                  : 1\n",
      "COMET INFO:     notebook                     : 1\n",
      "COMET INFO:     source_code                  : 1\n",
      "COMET INFO: ---------------------------\n",
      "COMET WARNING: As you are running in a Jupyter environment, you will need to call `experiment.end()` when finished to ensure all metrics and code are logged before exiting.\n",
      "COMET INFO: Experiment is live on comet.com https://www.comet.com/samdoud/sand-in-hospital-mortality/abf2335f85d24f7e9a68c8061267ae16\n",
      "\n",
      "\u001b[36mTraining\u001b[0m - Epochs: 012/028:  73%|███████▎  | 10752/14681 [10:04<03:41, 17.78it/s]  \n"
     ]
    },
    {
     "name": "stdout",
     "output_type": "stream",
     "text": [
      "(0.6314484787636439, 0.5789867687391947, 0.7363718988125424)\n"
     ]
    },
    {
     "name": "stderr",
     "output_type": "stream",
     "text": [
      "COMET WARNING: Cannot safely convert (0.641065987061497, 0.58596507712998, 0.751267806924531) object to a scalar value, using its string representation for logging. Resulting string might be invalid\n"
     ]
    },
    {
     "name": "stdout",
     "output_type": "stream",
     "text": [
      "(0.641065987061497, 0.58596507712998, 0.751267806924531)\n"
     ]
    },
    {
     "name": "stderr",
     "output_type": "stream",
     "text": [
      "COMET WARNING: Cannot safely convert (0.6298933794425505, 0.5738982861991992, 0.7418835659292531) object to a scalar value, using its string representation for logging. Resulting string might be invalid\n"
     ]
    },
    {
     "name": "stdout",
     "output_type": "stream",
     "text": [
      "(0.6298933794425505, 0.5738982861991992, 0.7418835659292531)\n"
     ]
    },
    {
     "name": "stderr",
     "output_type": "stream",
     "text": [
      "COMET WARNING: Cannot safely convert (0.6347340754212848, 0.5785418028188942, 0.747118620626066) object to a scalar value, using its string representation for logging. Resulting string might be invalid\n"
     ]
    },
    {
     "name": "stdout",
     "output_type": "stream",
     "text": [
      "(0.6347340754212848, 0.5785418028188942, 0.747118620626066)\n"
     ]
    },
    {
     "name": "stderr",
     "output_type": "stream",
     "text": [
      "COMET WARNING: Cannot safely convert (0.6294618894223136, 0.5683173064294194, 0.751751055408102) object to a scalar value, using its string representation for logging. Resulting string might be invalid\n"
     ]
    },
    {
     "name": "stdout",
     "output_type": "stream",
     "text": [
      "(0.6294618894223136, 0.5683173064294194, 0.751751055408102)\n"
     ]
    },
    {
     "name": "stderr",
     "output_type": "stream",
     "text": [
      "COMET WARNING: Cannot safely convert (0.63124972844838, 0.5777167951660336, 0.7383155950130731) object to a scalar value, using its string representation for logging. Resulting string might be invalid\n"
     ]
    },
    {
     "name": "stdout",
     "output_type": "stream",
     "text": [
      "(0.63124972844838, 0.5777167951660336, 0.7383155950130731)\n"
     ]
    },
    {
     "name": "stderr",
     "output_type": "stream",
     "text": [
      "COMET WARNING: Cannot safely convert (0.6250115148883051, 0.5749496010797328, 0.7251353425054499) object to a scalar value, using its string representation for logging. Resulting string might be invalid\n"
     ]
    },
    {
     "name": "stdout",
     "output_type": "stream",
     "text": [
      "(0.6250115148883051, 0.5749496010797328, 0.7251353425054499)\n"
     ]
    },
    {
     "name": "stderr",
     "output_type": "stream",
     "text": [
      "COMET WARNING: Cannot safely convert (0.6279338323041403, 0.5714228675707873, 0.7409557617708464) object to a scalar value, using its string representation for logging. Resulting string might be invalid\n"
     ]
    },
    {
     "name": "stdout",
     "output_type": "stream",
     "text": [
      "(0.6279338323041403, 0.5714228675707873, 0.7409557617708464)\n"
     ]
    },
    {
     "name": "stderr",
     "output_type": "stream",
     "text": [
      "COMET WARNING: Cannot safely convert (0.6168276966318725, 0.5538741410870898, 0.7427348077214382) object to a scalar value, using its string representation for logging. Resulting string might be invalid\n"
     ]
    },
    {
     "name": "stdout",
     "output_type": "stream",
     "text": [
      "(0.6168276966318725, 0.5538741410870898, 0.7427348077214382)\n"
     ]
    },
    {
     "name": "stderr",
     "output_type": "stream",
     "text": [
      "COMET WARNING: Cannot safely convert (0.6333770052169119, 0.5699831662353733, 0.7601646831799891) object to a scalar value, using its string representation for logging. Resulting string might be invalid\n"
     ]
    },
    {
     "name": "stdout",
     "output_type": "stream",
     "text": [
      "(0.6333770052169119, 0.5699831662353733, 0.7601646831799891)\n"
     ]
    },
    {
     "name": "stderr",
     "output_type": "stream",
     "text": [
      "COMET WARNING: Cannot safely convert (0.6217795454620704, 0.5782962898798487, 0.7087460566265139) object to a scalar value, using its string representation for logging. Resulting string might be invalid\n"
     ]
    },
    {
     "name": "stdout",
     "output_type": "stream",
     "text": [
      "(0.6217795454620704, 0.5782962898798487, 0.7087460566265139)\n"
     ]
    },
    {
     "name": "stderr",
     "output_type": "stream",
     "text": [
      "COMET WARNING: Cannot safely convert (0.6175895911731427, 0.5507768273374389, 0.7512151188445504) object to a scalar value, using its string representation for logging. Resulting string might be invalid\n"
     ]
    },
    {
     "name": "stdout",
     "output_type": "stream",
     "text": [
      "(0.6175895911731427, 0.5507768273374389, 0.7512151188445504)\n"
     ]
    },
    {
     "name": "stderr",
     "output_type": "stream",
     "text": [
      "COMET WARNING: Cannot safely convert (0.6298744298514347, 0.5728980137122601, 0.743827262129784) object to a scalar value, using its string representation for logging. Resulting string might be invalid\n"
     ]
    },
    {
     "name": "stdout",
     "output_type": "stream",
     "text": [
      "(0.6298744298514347, 0.5728980137122601, 0.743827262129784)\n"
     ]
    },
    {
     "name": "stderr",
     "output_type": "stream",
     "text": [
      "COMET WARNING: Cannot safely convert (0.6308669824047373, 0.5733450180857245, 0.745910911042763) object to a scalar value, using its string representation for logging. Resulting string might be invalid\n"
     ]
    },
    {
     "name": "stdout",
     "output_type": "stream",
     "text": [
      "(0.6308669824047373, 0.5733450180857245, 0.745910911042763)\n"
     ]
    },
    {
     "name": "stderr",
     "output_type": "stream",
     "text": [
      "COMET WARNING: Cannot safely convert (0.624443058560427, 0.5578661065745462, 0.7575969625321891) object to a scalar value, using its string representation for logging. Resulting string might be invalid\n"
     ]
    },
    {
     "name": "stdout",
     "output_type": "stream",
     "text": [
      "(0.624443058560427, 0.5578661065745462, 0.7575969625321891)\n"
     ]
    },
    {
     "name": "stderr",
     "output_type": "stream",
     "text": [
      "COMET WARNING: Cannot safely convert (0.621863106791998, 0.5610073981899333, 0.7435745239961276) object to a scalar value, using its string representation for logging. Resulting string might be invalid\n"
     ]
    },
    {
     "name": "stdout",
     "output_type": "stream",
     "text": [
      "(0.621863106791998, 0.5610073981899333, 0.7435745239961276)\n"
     ]
    },
    {
     "name": "stderr",
     "output_type": "stream",
     "text": [
      "COMET WARNING: Cannot safely convert (0.6186103920673649, 0.5558500671805867, 0.7441310418409215) object to a scalar value, using its string representation for logging. Resulting string might be invalid\n"
     ]
    },
    {
     "name": "stdout",
     "output_type": "stream",
     "text": [
      "(0.6186103920673649, 0.5558500671805867, 0.7441310418409215)\n"
     ]
    },
    {
     "name": "stderr",
     "output_type": "stream",
     "text": [
      "COMET WARNING: Cannot safely convert (0.6280656880129789, 0.5718548661145836, 0.7404873318097697) object to a scalar value, using its string representation for logging. Resulting string might be invalid\n"
     ]
    },
    {
     "name": "stdout",
     "output_type": "stream",
     "text": [
      "(0.6280656880129789, 0.5718548661145836, 0.7404873318097697)\n"
     ]
    },
    {
     "name": "stderr",
     "output_type": "stream",
     "text": [
      "COMET WARNING: Cannot safely convert (0.6218327299671291, 0.5808034229471637, 0.7038913440070602) object to a scalar value, using its string representation for logging. Resulting string might be invalid\n"
     ]
    },
    {
     "name": "stdout",
     "output_type": "stream",
     "text": [
      "(0.6218327299671291, 0.5808034229471637, 0.7038913440070602)\n"
     ]
    },
    {
     "name": "stderr",
     "output_type": "stream",
     "text": [
      "COMET WARNING: Cannot safely convert (0.620041809917083, 0.5634738728937624, 0.7331776839637242) object to a scalar value, using its string representation for logging. Resulting string might be invalid\n"
     ]
    },
    {
     "name": "stdout",
     "output_type": "stream",
     "text": [
      "(0.620041809917083, 0.5634738728937624, 0.7331776839637242)\n"
     ]
    },
    {
     "name": "stderr",
     "output_type": "stream",
     "text": [
      "COMET WARNING: Cannot safely convert (0.6223980467853399, 0.5583513296799759, 0.7504914809960681) object to a scalar value, using its string representation for logging. Resulting string might be invalid\n"
     ]
    },
    {
     "name": "stdout",
     "output_type": "stream",
     "text": [
      "(0.6223980467853399, 0.5583513296799759, 0.7504914809960681)\n"
     ]
    },
    {
     "name": "stderr",
     "output_type": "stream",
     "text": [
      "COMET WARNING: Cannot safely convert (0.6218800916250127, 0.5580778150786736, 0.7494846447176907) object to a scalar value, using its string representation for logging. Resulting string might be invalid\n"
     ]
    },
    {
     "name": "stdout",
     "output_type": "stream",
     "text": [
      "(0.6218800916250127, 0.5580778150786736, 0.7494846447176907)\n"
     ]
    },
    {
     "name": "stderr",
     "output_type": "stream",
     "text": [
      "COMET WARNING: Cannot safely convert (0.6250399649923826, 0.566968046305068, 0.741183802367012) object to a scalar value, using its string representation for logging. Resulting string might be invalid\n"
     ]
    },
    {
     "name": "stdout",
     "output_type": "stream",
     "text": [
      "(0.6250399649923826, 0.566968046305068, 0.741183802367012)\n"
     ]
    },
    {
     "name": "stderr",
     "output_type": "stream",
     "text": [
      "COMET WARNING: Cannot safely convert (0.6257484916107567, 0.5681403286488387, 0.7409648175345931) object to a scalar value, using its string representation for logging. Resulting string might be invalid\n"
     ]
    },
    {
     "name": "stdout",
     "output_type": "stream",
     "text": [
      "(0.6257484916107567, 0.5681403286488387, 0.7409648175345931)\n"
     ]
    },
    {
     "name": "stderr",
     "output_type": "stream",
     "text": [
      "COMET WARNING: Cannot safely convert (0.6133704478098063, 0.5521924367983189, 0.7357264698327812) object to a scalar value, using its string representation for logging. Resulting string might be invalid\n"
     ]
    },
    {
     "name": "stdout",
     "output_type": "stream",
     "text": [
      "(0.6133704478098063, 0.5521924367983189, 0.7357264698327812)\n"
     ]
    },
    {
     "name": "stderr",
     "output_type": "stream",
     "text": [
      "COMET WARNING: Cannot safely convert (0.6086352727964587, 0.5422457528362247, 0.7414143127169267) object to a scalar value, using its string representation for logging. Resulting string might be invalid\n"
     ]
    },
    {
     "name": "stdout",
     "output_type": "stream",
     "text": [
      "(0.6086352727964587, 0.5422457528362247, 0.7414143127169267)\n"
     ]
    },
    {
     "name": "stderr",
     "output_type": "stream",
     "text": [
      "COMET WARNING: Cannot safely convert (0.6260277190209987, 0.5668496885442093, 0.7443837799745779) object to a scalar value, using its string representation for logging. Resulting string might be invalid\n"
     ]
    },
    {
     "name": "stdout",
     "output_type": "stream",
     "text": [
      "(0.6260277190209987, 0.5668496885442093, 0.7443837799745779)\n"
     ]
    },
    {
     "name": "stderr",
     "output_type": "stream",
     "text": [
      "COMET WARNING: Cannot safely convert (0.629897990900348, 0.5699630647767292, 0.7497678431475859) object to a scalar value, using its string representation for logging. Resulting string might be invalid\n"
     ]
    },
    {
     "name": "stdout",
     "output_type": "stream",
     "text": [
      "(0.629897990900348, 0.5699630647767292, 0.7497678431475859)\n"
     ]
    },
    {
     "name": "stderr",
     "output_type": "stream",
     "text": [
      "COMET WARNING: Cannot safely convert (0.6201927204702549, 0.5554874842565588, 0.7496031928976469) object to a scalar value, using its string representation for logging. Resulting string might be invalid\n"
     ]
    },
    {
     "name": "stdout",
     "output_type": "stream",
     "text": [
      "(0.6201927204702549, 0.5554874842565588, 0.7496031928976469)\n"
     ]
    },
    {
     "name": "stderr",
     "output_type": "stream",
     "text": [
      "COMET WARNING: Cannot safely convert (0.6028765209821496, 0.5347926952886976, 0.7390441723690537) object to a scalar value, using its string representation for logging. Resulting string might be invalid\n",
      "COMET INFO: ---------------------------\n",
      "COMET INFO: Comet.ml Experiment Summary\n",
      "COMET INFO: ---------------------------\n",
      "COMET INFO:   Data:\n",
      "COMET INFO:     display_summary_level : 1\n",
      "COMET INFO:     url                   : https://www.comet.com/samdoud/sand-in-hospital-mortality/abf2335f85d24f7e9a68c8061267ae16\n",
      "COMET INFO:   Metrics [count] (min, max):\n",
      "COMET INFO:     AUPRCxAUROC                 : (0.6028765209821496, 0.5347926952886976, 0.7390441723690537)\n",
      "COMET INFO:     train_AUPRC [20880]         : (0.06640625, 0.7267984896661367)\n",
      "COMET INFO:     train_AUROC [20880]         : (0.41931637519872816, 0.8348142663211158)\n",
      "COMET INFO:     train_MSE [20880]           : (0.080078125, 0.8671875)\n",
      "COMET INFO:     train_accuracy [20880]      : (0.1328125, 0.919921875)\n",
      "COMET INFO:     train_loss [22623]          : (0.11633864045143127, 216.57203674316406)\n",
      "COMET INFO:     validate_AUPRC [4680]       : (0.2757161458333333, 0.6419158250099384)\n",
      "COMET INFO:     validate_AUPRCxAUROC [4680] : (0.3555279356060606, 0.6898563441967978)\n",
      "COMET INFO:     validate_AUROC [4680]       : (0.5, 0.7893874877169996)\n",
      "COMET INFO:     validate_MSE [4680]         : (0.002452149036169198, 0.18976908929909406)\n",
      "COMET INFO:     validate_accuracy [4680]    : (0.13531967721911856, 0.8767846058348852)\n",
      "COMET INFO:     validate_loss [4680]        : (0.26060208678245544, 7.780786037445068)\n",
      "COMET INFO:   Parameters:\n",
      "COMET INFO:     batch_size    : 256\n",
      "COMET INFO:     betas         : (0.9, 0.98)\n",
      "COMET INFO:     epochs        : 12\n",
      "COMET INFO:     eps           : 4e-09\n",
      "COMET INFO:     lr            : 0.0005\n",
      "COMET INFO:     train_ds_size : 14681\n",
      "COMET INFO:     val_ds_size   : 3222\n",
      "COMET INFO:     weight_decay  : 0.0005\n",
      "COMET INFO:   Uploads:\n",
      "COMET INFO:     conda-environment-definition : 1\n",
      "COMET INFO:     conda-info                   : 1\n",
      "COMET INFO:     conda-specification          : 1\n",
      "COMET INFO:     confusion-matrix             : 25560\n",
      "COMET INFO:     environment details          : 1\n",
      "COMET INFO:     filename                     : 1\n",
      "COMET INFO:     git metadata                 : 1\n",
      "COMET INFO:     git-patch (uncompressed)     : 1 (146.18 KB)\n",
      "COMET INFO:     installed packages           : 1\n",
      "COMET INFO:     model graph                  : 1\n",
      "COMET INFO:     notebook                     : 1\n",
      "COMET INFO:     source_code                  : 1\n",
      "COMET INFO: ---------------------------\n"
     ]
    },
    {
     "name": "stdout",
     "output_type": "stream",
     "text": [
      "(0.6028765209821496, 0.5347926952886976, 0.7390441723690537)\n"
     ]
    },
    {
     "name": "stderr",
     "output_type": "stream",
     "text": [
      "COMET INFO: Uploading 1 metrics, params and output messages\n"
     ]
    },
    {
     "data": {
      "text/plain": [
       "'train/models/loss-weighting-ihm.pth'"
      ]
     },
     "execution_count": 22,
     "metadata": {},
     "output_type": "execute_result"
    }
   ],
   "source": [
    "n_heads = 8\n",
    "factor = 12 # M\n",
    "num_class = 2\n",
    "num_layers = 4 # N\n",
    "epochs = 12\n",
    "betas = (0.9, 0.98)\n",
    "lr = 0.0005\n",
    "eps = 4e-09\n",
    "weight_decay = 5e-4\n",
    "dropout = 0.3\n",
    "scores = {}\n",
    "\n",
    "experiment = get_experiment()\n",
    "\n",
    "for iteration, level in enumerate(np.logspace(0, .75, 30)):\n",
    "    clf = NeuralNetworkClassifier(\n",
    "        SAnD(feature_count, seq_len, n_heads, factor, num_class, num_layers, dropout_rate=dropout),\n",
    "        nn.CrossEntropyLoss(weight=torch.tensor(get_weights(train_raw[1], level=level), dtype=torch.float32).to(device=device)),\n",
    "        optim.Adam, optimizer_config={\n",
    "            \"lr\": lr, \"betas\": betas, \"eps\": eps, \"weight_decay\": weight_decay},\n",
    "        experiment=experiment,\n",
    "        silent=True,\n",
    "    )\n",
    "    # Score is the multiplication of AUPRC and AUROC\n",
    "    scores[level] = clf.fit(\n",
    "        {\n",
    "            \"train\": DataLoader(train_ds, batch_size=batch_size, shuffle=False),\n",
    "            \"val\": val_loader\n",
    "        },\n",
    "        validation=True,\n",
    "        epochs=epochs,\n",
    "        verbose=True,\n",
    "        level=iteration\n",
    "    )\n",
    "    print(scores[level])\n",
    "\n",
    "    #clf.evaluate(test_loader)\n",
    "\n",
    "experiment.end()\n",
    "clf.save_to_file(\"train/models/\", \"loss-weighting-ihm.pth\")"
   ]
  },
  {
   "cell_type": "code",
   "execution_count": 23,
   "metadata": {},
   "outputs": [
    {
     "name": "stdout",
     "output_type": "stream",
     "text": [
      "1.0613584184128781: AUROC/3 + 2/3 * AUPRC 0.641065987061497; AUPRC 0.58596507712998; AUROC 0.751267806924531\n",
      "1.1956008273486787: AUROC/3 + 2/3 * AUPRC 0.6347340754212848; AUPRC 0.5785418028188942; AUROC 0.747118620626066\n",
      "1.709065158802393: AUROC/3 + 2/3 * AUPRC 0.6333770052169119; AUPRC 0.5699831662353733; AUROC 0.7601646831799891\n",
      "1.0: AUROC/3 + 2/3 * AUPRC 0.6314484787636439; AUPRC 0.5789867687391947; AUROC 0.7363718988125424\n",
      "1.3468224433499252: AUROC/3 + 2/3 * AUPRC 0.63124972844838; AUPRC 0.5777167951660336; AUROC 0.7383155950130731\n",
      "2.1687370383932287: AUROC/3 + 2/3 * AUPRC 0.6308669824047373; AUPRC 0.5733450180857245; AUROC 0.745910911042763\n",
      "4.992014774996221: AUROC/3 + 2/3 * AUPRC 0.629897990900348; AUPRC 0.5699630647767292; AUROC 0.7497678431475859\n",
      "1.1264816923358862: AUROC/3 + 2/3 * AUPRC 0.6298933794425505; AUPRC 0.5738982861991992; AUROC 0.7418835659292531\n",
      "2.043359717856942: AUROC/3 + 2/3 * AUPRC 0.6298744298514347; AUPRC 0.5728980137122601; AUROC 0.743827262129784\n",
      "1.2689610031679222: AUROC/3 + 2/3 * AUPRC 0.6294618894223136; AUPRC 0.5683173064294194; AUROC 0.751751055408102\n",
      "2.7520427278469: AUROC/3 + 2/3 * AUPRC 0.6280656880129789; AUPRC 0.5718548661145836; AUROC 0.7404873318097697\n",
      "1.517170825260777: AUROC/3 + 2/3 * AUPRC 0.6279338323041403; AUPRC 0.5714228675707873; AUROC 0.7409557617708464\n",
      "4.703420341698633: AUROC/3 + 2/3 * AUPRC 0.6260277190209987; AUPRC 0.5668496885442093; AUROC 0.7443837799745779\n",
      "3.9339386809632524: AUROC/3 + 2/3 * AUPRC 0.6257484916107567; AUPRC 0.5681403286488387; AUROC 0.7409648175345931\n",
      "3.7065129109221555: AUROC/3 + 2/3 * AUPRC 0.6250399649923826; AUPRC 0.566968046305068; AUROC 0.741183802367012\n",
      "1.4294613383568449: AUROC/3 + 2/3 * AUPRC 0.6250115148883051; AUPRC 0.5749496010797328; AUROC 0.7251353425054499\n",
      "2.3018073130224668: AUROC/3 + 2/3 * AUPRC 0.624443058560427; AUPRC 0.5578661065745462; AUROC 0.7575969625321891\n",
      "3.2903445623126686: AUROC/3 + 2/3 * AUPRC 0.6223980467853399; AUPRC 0.5583513296799759; AUROC 0.7504914809960681\n",
      "3.4922349006895876: AUROC/3 + 2/3 * AUPRC 0.6218800916250127; AUPRC 0.5580778150786736; AUROC 0.7494846447176907\n",
      "2.4430425692407223: AUROC/3 + 2/3 * AUPRC 0.621863106791998; AUPRC 0.5610073981899333; AUROC 0.7435745239961276\n",
      "2.9209037170322487: AUROC/3 + 2/3 * AUPRC 0.6218327299671291; AUPRC 0.5808034229471637; AUROC 0.7038913440070602\n",
      "1.8139306939110624: AUROC/3 + 2/3 * AUPRC 0.6217795454620704; AUPRC 0.5782962898798487; AUROC 0.7087460566265139\n",
      "5.298316906283708: AUROC/3 + 2/3 * AUPRC 0.6201927204702549; AUPRC 0.5554874842565588; AUROC 0.7496031928976469\n",
      "3.100125749445645: AUROC/3 + 2/3 * AUPRC 0.620041809917083; AUPRC 0.5634738728937624; AUROC 0.7331776839637242\n",
      "2.592943797404667: AUROC/3 + 2/3 * AUPRC 0.6186103920673649; AUPRC 0.5558500671805867; AUROC 0.7441310418409215\n",
      "1.9252306124000198: AUROC/3 + 2/3 * AUPRC 0.6175895911731427; AUPRC 0.5507768273374389; AUROC 0.7512151188445504\n",
      "1.6102620275609394: AUROC/3 + 2/3 * AUPRC 0.6168276966318725; AUPRC 0.5538741410870898; AUROC 0.7427348077214382\n",
      "4.1753189365604015: AUROC/3 + 2/3 * AUPRC 0.6133704478098063; AUPRC 0.5521924367983189; AUROC 0.7357264698327812\n",
      "4.431509902877088: AUROC/3 + 2/3 * AUPRC 0.6086352727964587; AUPRC 0.5422457528362247; AUROC 0.7414143127169267\n",
      "5.623413251903491: AUROC/3 + 2/3 * AUPRC 0.6028765209821496; AUPRC 0.5347926952886976; AUROC 0.7390441723690537\n"
     ]
    }
   ],
   "source": [
    "results = {level: score for level, score in sorted(scores.items(), key=lambda item: item[1], reverse=True)}\n",
    "max_level = list(results.keys())[0]\n",
    "for level, score in results.items():\n",
    "    print(f\"{level}: AUROC/3 + 2/3 * AUPRC {score[0]}; AUPRC {score[1]}; AUROC {score[2]}\")"
   ]
  },
  {
   "attachments": {},
   "cell_type": "markdown",
   "metadata": {},
   "source": [
    "### Dropout Optimatization\n",
    "\n",
    "The author claims that `dropout=0.3 is optimal. However, this is not the case. Anywhere from  ~0.4-~0.7 shows improved performance"
   ]
  },
  {
   "cell_type": "code",
   "execution_count": 24,
   "metadata": {},
   "outputs": [
    {
     "name": "stderr",
     "output_type": "stream",
     "text": [
      "COMET WARNING: As you are running in a Jupyter environment, you will need to call `experiment.end()` when finished to ensure all metrics and code are logged before exiting.\n",
      "COMET INFO: Experiment is live on comet.com https://www.comet.com/samdoud/sand-in-hospital-mortality/6d125f5612f64a14bffed6c264600ce3\n",
      "\n",
      "COMET WARNING: Cannot safely convert (0.6019338427105055, 0.5451470544956272, 0.7155074191402623) object to a scalar value, using its string representation for logging. Resulting string might be invalid\n"
     ]
    },
    {
     "name": "stdout",
     "output_type": "stream",
     "text": [
      "(0.6019338427105055, 0.5451470544956272, 0.7155074191402623)\n"
     ]
    },
    {
     "name": "stderr",
     "output_type": "stream",
     "text": [
      "COMET WARNING: Cannot safely convert (0.6104389435360835, 0.5500932862512595, 0.7311302581057317) object to a scalar value, using its string representation for logging. Resulting string might be invalid\n"
     ]
    },
    {
     "name": "stdout",
     "output_type": "stream",
     "text": [
      "(0.6104389435360835, 0.5500932862512595, 0.7311302581057317)\n"
     ]
    },
    {
     "name": "stderr",
     "output_type": "stream",
     "text": [
      "COMET WARNING: Cannot safely convert (0.62245381374209, 0.5680682546134116, 0.7312249319994468) object to a scalar value, using its string representation for logging. Resulting string might be invalid\n"
     ]
    },
    {
     "name": "stdout",
     "output_type": "stream",
     "text": [
      "(0.62245381374209, 0.5680682546134116, 0.7312249319994468)\n"
     ]
    },
    {
     "name": "stderr",
     "output_type": "stream",
     "text": [
      "COMET WARNING: Cannot safely convert (0.611166758473496, 0.5585461097065295, 0.7164080560074291) object to a scalar value, using its string representation for logging. Resulting string might be invalid\n"
     ]
    },
    {
     "name": "stdout",
     "output_type": "stream",
     "text": [
      "(0.611166758473496, 0.5585461097065295, 0.7164080560074291)\n"
     ]
    },
    {
     "name": "stderr",
     "output_type": "stream",
     "text": [
      "COMET WARNING: Cannot safely convert (0.6194899614195819, 0.5764223865599135, 0.7056251111389187) object to a scalar value, using its string representation for logging. Resulting string might be invalid\n"
     ]
    },
    {
     "name": "stdout",
     "output_type": "stream",
     "text": [
      "(0.6194899614195819, 0.5764223865599135, 0.7056251111389187)\n"
     ]
    },
    {
     "name": "stderr",
     "output_type": "stream",
     "text": [
      "COMET WARNING: Cannot safely convert (0.6198990159006008, 0.5681888987265903, 0.7233192502486219) object to a scalar value, using its string representation for logging. Resulting string might be invalid\n"
     ]
    },
    {
     "name": "stdout",
     "output_type": "stream",
     "text": [
      "(0.6198990159006008, 0.5681888987265903, 0.7233192502486219)\n"
     ]
    },
    {
     "name": "stderr",
     "output_type": "stream",
     "text": [
      "COMET WARNING: Cannot safely convert (0.6185856870550287, 0.5668820343398618, 0.7219929924853625) object to a scalar value, using its string representation for logging. Resulting string might be invalid\n"
     ]
    },
    {
     "name": "stdout",
     "output_type": "stream",
     "text": [
      "(0.6185856870550287, 0.5668820343398618, 0.7219929924853625)\n"
     ]
    },
    {
     "name": "stderr",
     "output_type": "stream",
     "text": [
      "COMET WARNING: Cannot safely convert (0.6155552258211414, 0.5777233199714626, 0.691219037520499) object to a scalar value, using its string representation for logging. Resulting string might be invalid\n"
     ]
    },
    {
     "name": "stdout",
     "output_type": "stream",
     "text": [
      "(0.6155552258211414, 0.5777233199714626, 0.691219037520499)\n"
     ]
    },
    {
     "name": "stderr",
     "output_type": "stream",
     "text": [
      "COMET WARNING: Cannot safely convert (0.60797870091071, 0.5404792179460159, 0.7429776668400982) object to a scalar value, using its string representation for logging. Resulting string might be invalid\n"
     ]
    },
    {
     "name": "stdout",
     "output_type": "stream",
     "text": [
      "(0.60797870091071, 0.5404792179460159, 0.7429776668400982)\n"
     ]
    },
    {
     "name": "stderr",
     "output_type": "stream",
     "text": [
      "COMET WARNING: Cannot safely convert (0.6190044881436468, 0.5581354623668827, 0.7407425396971752) object to a scalar value, using its string representation for logging. Resulting string might be invalid\n"
     ]
    },
    {
     "name": "stdout",
     "output_type": "stream",
     "text": [
      "(0.6190044881436468, 0.5581354623668827, 0.7407425396971752)\n"
     ]
    },
    {
     "name": "stderr",
     "output_type": "stream",
     "text": [
      "COMET WARNING: Cannot safely convert (0.6017785657973489, 0.5446799241453539, 0.7159758491013388) object to a scalar value, using its string representation for logging. Resulting string might be invalid\n"
     ]
    },
    {
     "name": "stdout",
     "output_type": "stream",
     "text": [
      "(0.6017785657973489, 0.5446799241453539, 0.7159758491013388)\n"
     ]
    },
    {
     "name": "stderr",
     "output_type": "stream",
     "text": [
      "COMET WARNING: Cannot safely convert (0.610378796504475, 0.552504926251671, 0.7261265370100831) object to a scalar value, using its string representation for logging. Resulting string might be invalid\n"
     ]
    },
    {
     "name": "stdout",
     "output_type": "stream",
     "text": [
      "(0.610378796504475, 0.552504926251671, 0.7261265370100831)\n"
     ]
    },
    {
     "name": "stderr",
     "output_type": "stream",
     "text": [
      "COMET WARNING: Cannot safely convert (0.6119674234523333, 0.5699447204047624, 0.6960128295474752) object to a scalar value, using its string representation for logging. Resulting string might be invalid\n"
     ]
    },
    {
     "name": "stdout",
     "output_type": "stream",
     "text": [
      "(0.6119674234523333, 0.5699447204047624, 0.6960128295474752)\n"
     ]
    },
    {
     "name": "stderr",
     "output_type": "stream",
     "text": [
      "COMET WARNING: Cannot safely convert (0.6099815229072074, 0.5708639642543812, 0.6882166402128598) object to a scalar value, using its string representation for logging. Resulting string might be invalid\n"
     ]
    },
    {
     "name": "stdout",
     "output_type": "stream",
     "text": [
      "(0.6099815229072074, 0.5708639642543812, 0.6882166402128598)\n"
     ]
    },
    {
     "name": "stderr",
     "output_type": "stream",
     "text": [
      "COMET WARNING: Cannot safely convert (0.6127816797559559, 0.5475770751770491, 0.7431908889137694) object to a scalar value, using its string representation for logging. Resulting string might be invalid\n"
     ]
    },
    {
     "name": "stdout",
     "output_type": "stream",
     "text": [
      "(0.6127816797559559, 0.5475770751770491, 0.7431908889137694)\n"
     ]
    },
    {
     "name": "stderr",
     "output_type": "stream",
     "text": [
      "COMET WARNING: Cannot safely convert (0.6152273935218527, 0.5738871133206421, 0.6979079539242741) object to a scalar value, using its string representation for logging. Resulting string might be invalid\n"
     ]
    },
    {
     "name": "stdout",
     "output_type": "stream",
     "text": [
      "(0.6152273935218527, 0.5738871133206421, 0.6979079539242741)\n"
     ]
    },
    {
     "name": "stderr",
     "output_type": "stream",
     "text": [
      "COMET WARNING: Cannot safely convert (0.6111669579757402, 0.5498545222656117, 0.7337918293959971) object to a scalar value, using its string representation for logging. Resulting string might be invalid\n"
     ]
    },
    {
     "name": "stdout",
     "output_type": "stream",
     "text": [
      "(0.6111669579757402, 0.5498545222656117, 0.7337918293959971)\n"
     ]
    },
    {
     "name": "stderr",
     "output_type": "stream",
     "text": [
      "COMET WARNING: Cannot safely convert (0.6043571675447386, 0.5526542039999192, 0.7077630946343776) object to a scalar value, using its string representation for logging. Resulting string might be invalid\n"
     ]
    },
    {
     "name": "stdout",
     "output_type": "stream",
     "text": [
      "(0.6043571675447386, 0.5526542039999192, 0.7077630946343776)\n"
     ]
    },
    {
     "name": "stderr",
     "output_type": "stream",
     "text": [
      "COMET WARNING: Cannot safely convert (0.6085662638737892, 0.5511321430988942, 0.7234345054235791) object to a scalar value, using its string representation for logging. Resulting string might be invalid\n"
     ]
    },
    {
     "name": "stdout",
     "output_type": "stream",
     "text": [
      "(0.6085662638737892, 0.5511321430988942, 0.7234345054235791)\n"
     ]
    },
    {
     "name": "stderr",
     "output_type": "stream",
     "text": [
      "COMET WARNING: Cannot safely convert (0.6195706420680591, 0.5599762993837591, 0.7387593274366591) object to a scalar value, using its string representation for logging. Resulting string might be invalid\n"
     ]
    },
    {
     "name": "stdout",
     "output_type": "stream",
     "text": [
      "(0.6195706420680591, 0.5599762993837591, 0.7387593274366591)\n"
     ]
    },
    {
     "name": "stderr",
     "output_type": "stream",
     "text": [
      "COMET WARNING: Cannot safely convert (0.621641528494, 0.5600621201875381, 0.7448003451069238) object to a scalar value, using its string representation for logging. Resulting string might be invalid\n"
     ]
    },
    {
     "name": "stdout",
     "output_type": "stream",
     "text": [
      "(0.621641528494, 0.5600621201875381, 0.7448003451069238)\n"
     ]
    },
    {
     "name": "stderr",
     "output_type": "stream",
     "text": [
      "COMET WARNING: Cannot safely convert (0.6187768472679887, 0.5774911104536075, 0.7013483208967511) object to a scalar value, using its string representation for logging. Resulting string might be invalid\n"
     ]
    },
    {
     "name": "stdout",
     "output_type": "stream",
     "text": [
      "(0.6187768472679887, 0.5774911104536075, 0.7013483208967511)\n"
     ]
    },
    {
     "name": "stderr",
     "output_type": "stream",
     "text": [
      "COMET WARNING: Cannot safely convert (0.627855027137952, 0.5768817754125664, 0.7298015305887234) object to a scalar value, using its string representation for logging. Resulting string might be invalid\n"
     ]
    },
    {
     "name": "stdout",
     "output_type": "stream",
     "text": [
      "(0.627855027137952, 0.5768817754125664, 0.7298015305887234)\n"
     ]
    },
    {
     "name": "stderr",
     "output_type": "stream",
     "text": [
      "COMET WARNING: Cannot safely convert (0.6197778890870832, 0.5604316505066169, 0.7384703662480159) object to a scalar value, using its string representation for logging. Resulting string might be invalid\n"
     ]
    },
    {
     "name": "stdout",
     "output_type": "stream",
     "text": [
      "(0.6197778890870832, 0.5604316505066169, 0.7384703662480159)\n"
     ]
    },
    {
     "name": "stderr",
     "output_type": "stream",
     "text": [
      "COMET WARNING: Cannot safely convert (0.6210726857152608, 0.5571708975508083, 0.7488762620441658) object to a scalar value, using its string representation for logging. Resulting string might be invalid\n"
     ]
    },
    {
     "name": "stdout",
     "output_type": "stream",
     "text": [
      "(0.6210726857152608, 0.5571708975508083, 0.7488762620441658)\n"
     ]
    },
    {
     "name": "stderr",
     "output_type": "stream",
     "text": [
      "COMET WARNING: Cannot safely convert (0.6293576698505055, 0.5752528749622081, 0.7375672596271001) object to a scalar value, using its string representation for logging. Resulting string might be invalid\n"
     ]
    },
    {
     "name": "stdout",
     "output_type": "stream",
     "text": [
      "(0.6293576698505055, 0.5752528749622081, 0.7375672596271001)\n"
     ]
    },
    {
     "name": "stderr",
     "output_type": "stream",
     "text": [
      "COMET WARNING: Cannot safely convert (0.6230838851844166, 0.5740870592287742, 0.7210775370957013) object to a scalar value, using its string representation for logging. Resulting string might be invalid\n"
     ]
    },
    {
     "name": "stdout",
     "output_type": "stream",
     "text": [
      "(0.6230838851844166, 0.5740870592287742, 0.7210775370957013)\n"
     ]
    },
    {
     "name": "stderr",
     "output_type": "stream",
     "text": [
      "COMET WARNING: Cannot safely convert (0.6269237425875249, 0.5670074188431873, 0.7467563900762002) object to a scalar value, using its string representation for logging. Resulting string might be invalid\n"
     ]
    },
    {
     "name": "stdout",
     "output_type": "stream",
     "text": [
      "(0.6269237425875249, 0.5670074188431873, 0.7467563900762002)\n"
     ]
    },
    {
     "name": "stderr",
     "output_type": "stream",
     "text": [
      "COMET WARNING: Cannot safely convert (0.6221445900762897, 0.5620425336717693, 0.742348702885331) object to a scalar value, using its string representation for logging. Resulting string might be invalid\n"
     ]
    },
    {
     "name": "stdout",
     "output_type": "stream",
     "text": [
      "(0.6221445900762897, 0.5620425336717693, 0.742348702885331)\n"
     ]
    },
    {
     "name": "stderr",
     "output_type": "stream",
     "text": [
      "COMET WARNING: Cannot safely convert (0.6187465361669557, 0.5551174234078196, 0.7460047616852282) object to a scalar value, using its string representation for logging. Resulting string might be invalid\n"
     ]
    },
    {
     "name": "stdout",
     "output_type": "stream",
     "text": [
      "(0.6187465361669557, 0.5551174234078196, 0.7460047616852282)\n"
     ]
    },
    {
     "name": "stderr",
     "output_type": "stream",
     "text": [
      "COMET WARNING: Cannot safely convert (0.6172505017537395, 0.5639773846438867, 0.7237967359734453) object to a scalar value, using its string representation for logging. Resulting string might be invalid\n"
     ]
    },
    {
     "name": "stdout",
     "output_type": "stream",
     "text": [
      "(0.6172505017537395, 0.5639773846438867, 0.7237967359734453)\n"
     ]
    },
    {
     "name": "stderr",
     "output_type": "stream",
     "text": [
      "COMET WARNING: Cannot safely convert (0.6236839747394711, 0.5686024684943435, 0.7338469872297266) object to a scalar value, using its string representation for logging. Resulting string might be invalid\n"
     ]
    },
    {
     "name": "stdout",
     "output_type": "stream",
     "text": [
      "(0.6236839747394711, 0.5686024684943435, 0.7338469872297266)\n"
     ]
    },
    {
     "name": "stderr",
     "output_type": "stream",
     "text": [
      "COMET WARNING: Cannot safely convert (0.626839544109096, 0.5651518818755588, 0.7502148685761706) object to a scalar value, using its string representation for logging. Resulting string might be invalid\n"
     ]
    },
    {
     "name": "stdout",
     "output_type": "stream",
     "text": [
      "(0.626839544109096, 0.5651518818755588, 0.7502148685761706)\n"
     ]
    },
    {
     "name": "stderr",
     "output_type": "stream",
     "text": [
      "COMET WARNING: Cannot safely convert (0.6190830124899724, 0.5786879914063103, 0.699873054657297) object to a scalar value, using its string representation for logging. Resulting string might be invalid\n"
     ]
    },
    {
     "name": "stdout",
     "output_type": "stream",
     "text": [
      "(0.6190830124899724, 0.5786879914063103, 0.699873054657297)\n"
     ]
    },
    {
     "name": "stderr",
     "output_type": "stream",
     "text": [
      "COMET WARNING: Cannot safely convert (0.6328086311401, 0.5811015015419764, 0.7362228903363475) object to a scalar value, using its string representation for logging. Resulting string might be invalid\n"
     ]
    },
    {
     "name": "stdout",
     "output_type": "stream",
     "text": [
      "(0.6328086311401, 0.5811015015419764, 0.7362228903363475)\n"
     ]
    },
    {
     "name": "stderr",
     "output_type": "stream",
     "text": [
      "COMET WARNING: Cannot safely convert (0.6213637752226067, 0.5644697426036632, 0.7351518404604939) object to a scalar value, using its string representation for logging. Resulting string might be invalid\n"
     ]
    },
    {
     "name": "stdout",
     "output_type": "stream",
     "text": [
      "(0.6213637752226067, 0.5644697426036632, 0.7351518404604939)\n"
     ]
    },
    {
     "name": "stderr",
     "output_type": "stream",
     "text": [
      "COMET WARNING: Cannot safely convert (0.6279543946824654, 0.5701579136712545, 0.7435473567048874) object to a scalar value, using its string representation for logging. Resulting string might be invalid\n"
     ]
    },
    {
     "name": "stdout",
     "output_type": "stream",
     "text": [
      "(0.6279543946824654, 0.5701579136712545, 0.7435473567048874)\n"
     ]
    },
    {
     "name": "stderr",
     "output_type": "stream",
     "text": [
      "COMET WARNING: Cannot safely convert (0.6269176384982114, 0.5662058833813851, 0.7483411487318639) object to a scalar value, using its string representation for logging. Resulting string might be invalid\n"
     ]
    },
    {
     "name": "stdout",
     "output_type": "stream",
     "text": [
      "(0.6269176384982114, 0.5662058833813851, 0.7483411487318639)\n"
     ]
    },
    {
     "name": "stderr",
     "output_type": "stream",
     "text": [
      "COMET WARNING: Cannot safely convert (0.622656508458531, 0.5738049316848132, 0.7203596620059669) object to a scalar value, using its string representation for logging. Resulting string might be invalid\n"
     ]
    },
    {
     "name": "stdout",
     "output_type": "stream",
     "text": [
      "(0.622656508458531, 0.5738049316848132, 0.7203596620059669)\n"
     ]
    },
    {
     "name": "stderr",
     "output_type": "stream",
     "text": [
      "COMET WARNING: Cannot safely convert (0.6358854061773676, 0.5744377103514258, 0.7587807978292511) object to a scalar value, using its string representation for logging. Resulting string might be invalid\n"
     ]
    },
    {
     "name": "stdout",
     "output_type": "stream",
     "text": [
      "(0.6358854061773676, 0.5744377103514258, 0.7587807978292511)\n"
     ]
    },
    {
     "name": "stderr",
     "output_type": "stream",
     "text": [
      "COMET WARNING: Cannot safely convert (0.6263398269702729, 0.5712599890772867, 0.7364995027562452) object to a scalar value, using its string representation for logging. Resulting string might be invalid\n"
     ]
    },
    {
     "name": "stdout",
     "output_type": "stream",
     "text": [
      "(0.6263398269702729, 0.5712599890772867, 0.7364995027562452)\n"
     ]
    },
    {
     "name": "stderr",
     "output_type": "stream",
     "text": [
      "COMET WARNING: Cannot safely convert (0.6329219707237038, 0.5800304596584662, 0.7387049928541791) object to a scalar value, using its string representation for logging. Resulting string might be invalid\n"
     ]
    },
    {
     "name": "stdout",
     "output_type": "stream",
     "text": [
      "(0.6329219707237038, 0.5800304596584662, 0.7387049928541791)\n"
     ]
    },
    {
     "name": "stderr",
     "output_type": "stream",
     "text": [
      "COMET WARNING: Cannot safely convert (0.6327646278131571, 0.580297863431835, 0.7376981565758016) object to a scalar value, using its string representation for logging. Resulting string might be invalid\n"
     ]
    },
    {
     "name": "stdout",
     "output_type": "stream",
     "text": [
      "(0.6327646278131571, 0.580297863431835, 0.7376981565758016)\n"
     ]
    },
    {
     "name": "stderr",
     "output_type": "stream",
     "text": [
      "COMET WARNING: Cannot safely convert (0.6255118429421777, 0.5653184832762578, 0.7458985622740175) object to a scalar value, using its string representation for logging. Resulting string might be invalid\n"
     ]
    },
    {
     "name": "stdout",
     "output_type": "stream",
     "text": [
      "(0.6255118429421777, 0.5653184832762578, 0.7458985622740175)\n"
     ]
    },
    {
     "name": "stderr",
     "output_type": "stream",
     "text": [
      "COMET WARNING: Cannot safely convert (0.6225181758838061, 0.5677511140730138, 0.7320522995053907) object to a scalar value, using its string representation for logging. Resulting string might be invalid\n"
     ]
    },
    {
     "name": "stdout",
     "output_type": "stream",
     "text": [
      "(0.6225181758838061, 0.5677511140730138, 0.7320522995053907)\n"
     ]
    },
    {
     "name": "stderr",
     "output_type": "stream",
     "text": [
      "COMET WARNING: Cannot safely convert (0.6263574649104546, 0.5636166257197721, 0.7518391432918196) object to a scalar value, using its string representation for logging. Resulting string might be invalid\n"
     ]
    },
    {
     "name": "stdout",
     "output_type": "stream",
     "text": [
      "(0.6263574649104546, 0.5636166257197721, 0.7518391432918196)\n"
     ]
    },
    {
     "name": "stderr",
     "output_type": "stream",
     "text": [
      "COMET WARNING: Cannot safely convert (0.605740895245635, 0.5466903354723633, 0.7238420147921785) object to a scalar value, using its string representation for logging. Resulting string might be invalid\n"
     ]
    },
    {
     "name": "stdout",
     "output_type": "stream",
     "text": [
      "(0.605740895245635, 0.5466903354723633, 0.7238420147921785)\n"
     ]
    },
    {
     "name": "stderr",
     "output_type": "stream",
     "text": [
      "COMET WARNING: Cannot safely convert (0.6148392666042848, 0.5542009660694837, 0.7361158676738871) object to a scalar value, using its string representation for logging. Resulting string might be invalid\n",
      "COMET INFO: ---------------------------\n",
      "COMET INFO: Comet.ml Experiment Summary\n",
      "COMET INFO: ---------------------------\n",
      "COMET INFO:   Data:\n",
      "COMET INFO:     display_summary_level : 1\n",
      "COMET INFO:     url                   : https://www.comet.com/samdoud/sand-in-hospital-mortality/6d125f5612f64a14bffed6c264600ce3\n",
      "COMET INFO:   Metrics [count] (min, max):\n",
      "COMET INFO:     AUPRCxAUROC                 : (0.6148392666042848, 0.5542009660694837, 0.7361158676738871)\n",
      "COMET INFO:     train_AUPRC [41760]         : (0.06640625, 0.6847360295746566)\n",
      "COMET INFO:     train_AUROC [41760]         : (0.40827471306923363, 0.8540894346617238)\n",
      "COMET INFO:     train_MSE [41760]           : (0.1015625, 0.8671875)\n",
      "COMET INFO:     train_accuracy [41760]      : (0.1328125, 0.8984375)\n",
      "COMET INFO:     train_loss [44592]          : (0.2010730504989624, 38.42928695678711)\n",
      "COMET INFO:     validate_AUPRC [9360]       : (0.4294741436485643, 0.6544618926018776)\n",
      "COMET INFO:     validate_AUPRCxAUROC [9360] : (0.5022119446870716, 0.7040227444292023)\n",
      "COMET INFO:     validate_AUROC [9360]       : (0.5474942679331806, 0.8031444480838519)\n",
      "COMET INFO:     validate_MSE [9360]         : (0.002588379538178598, 0.1518970097404809)\n",
      "COMET INFO:     validate_accuracy [9360]    : (0.3078833022967101, 0.8625077591558038)\n",
      "COMET INFO:     validate_loss [9360]        : (0.35235634446144104, 4.389187812805176)\n",
      "COMET INFO:   Parameters:\n",
      "COMET INFO:     batch_size    : 256\n",
      "COMET INFO:     betas         : (0.9, 0.98)\n",
      "COMET INFO:     epochs        : 15\n",
      "COMET INFO:     eps           : 4e-09\n",
      "COMET INFO:     lr            : 4e-05\n",
      "COMET INFO:     train_ds_size : 14681\n",
      "COMET INFO:     val_ds_size   : 3222\n",
      "COMET INFO:     weight_decay  : 4e-05\n",
      "COMET INFO:   Uploads:\n",
      "COMET INFO:     conda-environment-definition : 1\n",
      "COMET INFO:     conda-info                   : 1\n",
      "COMET INFO:     conda-specification          : 1\n",
      "COMET INFO:     confusion-matrix             : 51120\n",
      "COMET INFO:     environment details          : 1\n",
      "COMET INFO:     filename                     : 1\n",
      "COMET INFO:     git metadata                 : 1\n",
      "COMET INFO:     git-patch (uncompressed)     : 1 (202.72 KB)\n",
      "COMET INFO:     installed packages           : 1\n",
      "COMET INFO:     model graph                  : 1\n",
      "COMET INFO:     notebook                     : 1\n",
      "COMET INFO:     source_code                  : 1\n",
      "COMET INFO: ---------------------------\n"
     ]
    },
    {
     "name": "stdout",
     "output_type": "stream",
     "text": [
      "(0.6148392666042848, 0.5542009660694837, 0.7361158676738871)\n"
     ]
    },
    {
     "name": "stderr",
     "output_type": "stream",
     "text": [
      "COMET INFO: Uploading 1 metrics, params and output messages\n"
     ]
    }
   ],
   "source": [
    "n_heads = 8\n",
    "factor = 12 # M\n",
    "num_class = 2\n",
    "num_layers = 4 # N\n",
    "epochs = 15\n",
    "betas = (0.9, 0.98)\n",
    "lr = 4e-5\n",
    "eps = 4e-09\n",
    "weight_decay = 4e-5\n",
    "scores = {}\n",
    "experiment = get_experiment()\n",
    "\n",
    "for dropout in np.arange(0, .841, .015):\n",
    "    clf = NeuralNetworkClassifier(\n",
    "        SAnD(feature_count, seq_len, n_heads, factor, num_class, num_layers, dropout_rate=dropout),\n",
    "        nn.CrossEntropyLoss(weight=torch.tensor(get_weights(train_raw[1], level=max_level), dtype=torch.float32).to(device=device)),\n",
    "        optim.Adam, optimizer_config={\n",
    "            \"lr\": lr, \"betas\": betas, \"eps\": eps, \"weight_decay\": weight_decay},\n",
    "        experiment=experiment,\n",
    "        silent=True\n",
    "    )\n",
    "    # Score is the multiplication of AUPRC and AUROC\n",
    "    scores[dropout] = clf.fit(\n",
    "        {\n",
    "            \"train\": DataLoader(train_ds, batch_size=batch_size, shuffle=False),\n",
    "            \"val\": val_loader\n",
    "        },\n",
    "        validation=True,\n",
    "        epochs=epochs,\n",
    "        verbose=False,\n",
    "        level=iteration\n",
    "    )\n",
    "    print(scores[dropout])\n",
    "\n",
    "    #clf.evaluate(test_loader)\n",
    "\n",
    "experiment.end()"
   ]
  },
  {
   "cell_type": "code",
   "execution_count": 25,
   "metadata": {},
   "outputs": [
    {
     "name": "stdout",
     "output_type": "stream",
     "text": [
      "Dropout 0.6084: AUROC/3 + 2/3 * AUPRC 0.6358854061773676; AUPRC 0.5744377103514258; AUROC 0.7587807978292511\n",
      "Dropout 0.6724000000000001: AUROC/3 + 2/3 * AUPRC 0.6329219707237038; AUPRC 0.5800304596584662; AUROC 0.7387049928541791\n",
      "Dropout 0.4624000000000001: AUROC/3 + 2/3 * AUPRC 0.6328086311401; AUPRC 0.5811015015419764; AUROC 0.7362228903363475\n",
      "Dropout 0.7055999999999999: AUROC/3 + 2/3 * AUPRC 0.6327646278131571; AUPRC 0.580297863431835; AUROC 0.7376981565758016\n",
      "Dropout 0.25: AUROC/3 + 2/3 * AUPRC 0.6293576698505055; AUPRC 0.5752528749622081; AUROC 0.7375672596271001\n",
      "Dropout 0.5184: AUROC/3 + 2/3 * AUPRC 0.6279543946824654; AUPRC 0.5701579136712545; AUROC 0.7435473567048874\n",
      "Dropout 0.1936: AUROC/3 + 2/3 * AUPRC 0.627855027137952; AUPRC 0.5768817754125664; AUROC 0.7298015305887234\n",
      "Dropout 0.2916: AUROC/3 + 2/3 * AUPRC 0.6269237425875249; AUPRC 0.5670074188431873; AUROC 0.7467563900762002\n",
      "Dropout 0.5476: AUROC/3 + 2/3 * AUPRC 0.6269176384982114; AUPRC 0.5662058833813851; AUROC 0.7483411487318639\n",
      "Dropout 0.4096: AUROC/3 + 2/3 * AUPRC 0.626839544109096; AUPRC 0.5651518818755588; AUROC 0.7502148685761706\n",
      "Dropout 0.81: AUROC/3 + 2/3 * AUPRC 0.6263574649104546; AUPRC 0.5636166257197721; AUROC 0.7518391432918196\n",
      "Dropout 0.6400000000000001: AUROC/3 + 2/3 * AUPRC 0.6263398269702729; AUPRC 0.5712599890772867; AUROC 0.7364995027562452\n",
      "Dropout 0.7395999999999999: AUROC/3 + 2/3 * AUPRC 0.6255118429421777; AUPRC 0.5653184832762578; AUROC 0.7458985622740175\n",
      "Dropout 0.3844: AUROC/3 + 2/3 * AUPRC 0.6236839747394711; AUPRC 0.5686024684943435; AUROC 0.7338469872297266\n",
      "Dropout 0.27040000000000003: AUROC/3 + 2/3 * AUPRC 0.6230838851844166; AUPRC 0.5740870592287742; AUROC 0.7210775370957013\n",
      "Dropout 0.5776: AUROC/3 + 2/3 * AUPRC 0.622656508458531; AUPRC 0.5738049316848132; AUROC 0.7203596620059669\n",
      "Dropout 0.7744: AUROC/3 + 2/3 * AUPRC 0.6225181758838061; AUPRC 0.5677511140730138; AUROC 0.7320522995053907\n",
      "Dropout 0.0016: AUROC/3 + 2/3 * AUPRC 0.62245381374209; AUPRC 0.5680682546134116; AUROC 0.7312249319994468\n",
      "Dropout 0.31360000000000005: AUROC/3 + 2/3 * AUPRC 0.6221445900762897; AUPRC 0.5620425336717693; AUROC 0.742348702885331\n",
      "Dropout 0.16000000000000003: AUROC/3 + 2/3 * AUPRC 0.621641528494; AUPRC 0.5600621201875381; AUROC 0.7448003451069238\n",
      "Dropout 0.4900000000000001: AUROC/3 + 2/3 * AUPRC 0.6213637752226067; AUPRC 0.5644697426036632; AUROC 0.7351518404604939\n",
      "Dropout 0.2304: AUROC/3 + 2/3 * AUPRC 0.6210726857152608; AUPRC 0.5571708975508083; AUROC 0.7488762620441658\n",
      "Dropout 0.010000000000000002: AUROC/3 + 2/3 * AUPRC 0.6198990159006008; AUPRC 0.5681888987265903; AUROC 0.7233192502486219\n",
      "Dropout 0.2116: AUROC/3 + 2/3 * AUPRC 0.6197778890870832; AUPRC 0.5604316505066169; AUROC 0.7384703662480159\n",
      "Dropout 0.1444: AUROC/3 + 2/3 * AUPRC 0.6195706420680591; AUPRC 0.5599762993837591; AUROC 0.7387593274366591\n",
      "Dropout 0.0064: AUROC/3 + 2/3 * AUPRC 0.6194899614195819; AUPRC 0.5764223865599135; AUROC 0.7056251111389187\n",
      "Dropout 0.43560000000000004: AUROC/3 + 2/3 * AUPRC 0.6190830124899724; AUPRC 0.5786879914063103; AUROC 0.699873054657297\n",
      "Dropout 0.0324: AUROC/3 + 2/3 * AUPRC 0.6190044881436468; AUPRC 0.5581354623668827; AUROC 0.7407425396971752\n",
      "Dropout 0.17639999999999997: AUROC/3 + 2/3 * AUPRC 0.6187768472679887; AUPRC 0.5774911104536075; AUROC 0.7013483208967511\n",
      "Dropout 0.3364: AUROC/3 + 2/3 * AUPRC 0.6187465361669557; AUPRC 0.5551174234078196; AUROC 0.7460047616852282\n",
      "Dropout 0.0144: AUROC/3 + 2/3 * AUPRC 0.6185856870550287; AUPRC 0.5668820343398618; AUROC 0.7219929924853625\n",
      "Dropout 0.36: AUROC/3 + 2/3 * AUPRC 0.6172505017537395; AUPRC 0.5639773846438867; AUROC 0.7237967359734453\n",
      "Dropout 0.019600000000000003: AUROC/3 + 2/3 * AUPRC 0.6155552258211414; AUPRC 0.5777233199714626; AUROC 0.691219037520499\n",
      "Dropout 0.09: AUROC/3 + 2/3 * AUPRC 0.6152273935218527; AUPRC 0.5738871133206421; AUROC 0.6979079539242741\n",
      "Dropout 0.8836000000000002: AUROC/3 + 2/3 * AUPRC 0.6148392666042848; AUPRC 0.5542009660694837; AUROC 0.7361158676738871\n",
      "Dropout 0.07840000000000001: AUROC/3 + 2/3 * AUPRC 0.6127816797559559; AUPRC 0.5475770751770491; AUROC 0.7431908889137694\n",
      "Dropout 0.0576: AUROC/3 + 2/3 * AUPRC 0.6119674234523333; AUPRC 0.5699447204047624; AUROC 0.6960128295474752\n",
      "Dropout 0.1024: AUROC/3 + 2/3 * AUPRC 0.6111669579757402; AUPRC 0.5498545222656117; AUROC 0.7337918293959971\n",
      "Dropout 0.0036: AUROC/3 + 2/3 * AUPRC 0.611166758473496; AUPRC 0.5585461097065295; AUROC 0.7164080560074291\n",
      "Dropout 0.0004: AUROC/3 + 2/3 * AUPRC 0.6104389435360835; AUPRC 0.5500932862512595; AUROC 0.7311302581057317\n",
      "Dropout 0.0484: AUROC/3 + 2/3 * AUPRC 0.610378796504475; AUPRC 0.552504926251671; AUROC 0.7261265370100831\n",
      "Dropout 0.06760000000000001: AUROC/3 + 2/3 * AUPRC 0.6099815229072074; AUPRC 0.5708639642543812; AUROC 0.6882166402128598\n",
      "Dropout 0.1296: AUROC/3 + 2/3 * AUPRC 0.6085662638737892; AUPRC 0.5511321430988942; AUROC 0.7234345054235791\n",
      "Dropout 0.0256: AUROC/3 + 2/3 * AUPRC 0.60797870091071; AUPRC 0.5404792179460159; AUROC 0.7429776668400982\n",
      "Dropout 0.8464: AUROC/3 + 2/3 * AUPRC 0.605740895245635; AUPRC 0.5466903354723633; AUROC 0.7238420147921785\n",
      "Dropout 0.11560000000000002: AUROC/3 + 2/3 * AUPRC 0.6043571675447386; AUPRC 0.5526542039999192; AUROC 0.7077630946343776\n",
      "Dropout 0.0: AUROC/3 + 2/3 * AUPRC 0.6019338427105055; AUPRC 0.5451470544956272; AUROC 0.7155074191402623\n",
      "Dropout 0.04000000000000001: AUROC/3 + 2/3 * AUPRC 0.6017785657973489; AUPRC 0.5446799241453539; AUROC 0.7159758491013388\n"
     ]
    },
    {
     "data": {
      "text/plain": [
       "{0.6084: (0.6358854061773676, 0.5744377103514258, 0.7587807978292511),\n",
       " 0.6724000000000001: (0.6329219707237038,\n",
       "  0.5800304596584662,\n",
       "  0.7387049928541791),\n",
       " 0.4624000000000001: (0.6328086311401, 0.5811015015419764, 0.7362228903363475),\n",
       " 0.7055999999999999: (0.6327646278131571,\n",
       "  0.580297863431835,\n",
       "  0.7376981565758016),\n",
       " 0.25: (0.6293576698505055, 0.5752528749622081, 0.7375672596271001),\n",
       " 0.5184: (0.6279543946824654, 0.5701579136712545, 0.7435473567048874),\n",
       " 0.1936: (0.627855027137952, 0.5768817754125664, 0.7298015305887234),\n",
       " 0.2916: (0.6269237425875249, 0.5670074188431873, 0.7467563900762002),\n",
       " 0.5476: (0.6269176384982114, 0.5662058833813851, 0.7483411487318639),\n",
       " 0.4096: (0.626839544109096, 0.5651518818755588, 0.7502148685761706),\n",
       " 0.81: (0.6263574649104546, 0.5636166257197721, 0.7518391432918196),\n",
       " 0.6400000000000001: (0.6263398269702729,\n",
       "  0.5712599890772867,\n",
       "  0.7364995027562452),\n",
       " 0.7395999999999999: (0.6255118429421777,\n",
       "  0.5653184832762578,\n",
       "  0.7458985622740175),\n",
       " 0.3844: (0.6236839747394711, 0.5686024684943435, 0.7338469872297266),\n",
       " 0.27040000000000003: (0.6230838851844166,\n",
       "  0.5740870592287742,\n",
       "  0.7210775370957013),\n",
       " 0.5776: (0.622656508458531, 0.5738049316848132, 0.7203596620059669),\n",
       " 0.7744: (0.6225181758838061, 0.5677511140730138, 0.7320522995053907),\n",
       " 0.0016: (0.62245381374209, 0.5680682546134116, 0.7312249319994468),\n",
       " 0.31360000000000005: (0.6221445900762897,\n",
       "  0.5620425336717693,\n",
       "  0.742348702885331),\n",
       " 0.16000000000000003: (0.621641528494, 0.5600621201875381, 0.7448003451069238),\n",
       " 0.4900000000000001: (0.6213637752226067,\n",
       "  0.5644697426036632,\n",
       "  0.7351518404604939),\n",
       " 0.2304: (0.6210726857152608, 0.5571708975508083, 0.7488762620441658),\n",
       " 0.010000000000000002: (0.6198990159006008,\n",
       "  0.5681888987265903,\n",
       "  0.7233192502486219),\n",
       " 0.2116: (0.6197778890870832, 0.5604316505066169, 0.7384703662480159),\n",
       " 0.1444: (0.6195706420680591, 0.5599762993837591, 0.7387593274366591),\n",
       " 0.0064: (0.6194899614195819, 0.5764223865599135, 0.7056251111389187),\n",
       " 0.43560000000000004: (0.6190830124899724,\n",
       "  0.5786879914063103,\n",
       "  0.699873054657297),\n",
       " 0.0324: (0.6190044881436468, 0.5581354623668827, 0.7407425396971752),\n",
       " 0.17639999999999997: (0.6187768472679887,\n",
       "  0.5774911104536075,\n",
       "  0.7013483208967511),\n",
       " 0.3364: (0.6187465361669557, 0.5551174234078196, 0.7460047616852282),\n",
       " 0.0144: (0.6185856870550287, 0.5668820343398618, 0.7219929924853625),\n",
       " 0.36: (0.6172505017537395, 0.5639773846438867, 0.7237967359734453),\n",
       " 0.019600000000000003: (0.6155552258211414,\n",
       "  0.5777233199714626,\n",
       "  0.691219037520499),\n",
       " 0.09: (0.6152273935218527, 0.5738871133206421, 0.6979079539242741),\n",
       " 0.8836000000000002: (0.6148392666042848,\n",
       "  0.5542009660694837,\n",
       "  0.7361158676738871),\n",
       " 0.07840000000000001: (0.6127816797559559,\n",
       "  0.5475770751770491,\n",
       "  0.7431908889137694),\n",
       " 0.0576: (0.6119674234523333, 0.5699447204047624, 0.6960128295474752),\n",
       " 0.1024: (0.6111669579757402, 0.5498545222656117, 0.7337918293959971),\n",
       " 0.0036: (0.611166758473496, 0.5585461097065295, 0.7164080560074291),\n",
       " 0.0004: (0.6104389435360835, 0.5500932862512595, 0.7311302581057317),\n",
       " 0.0484: (0.610378796504475, 0.552504926251671, 0.7261265370100831),\n",
       " 0.06760000000000001: (0.6099815229072074,\n",
       "  0.5708639642543812,\n",
       "  0.6882166402128598),\n",
       " 0.1296: (0.6085662638737892, 0.5511321430988942, 0.7234345054235791),\n",
       " 0.0256: (0.60797870091071, 0.5404792179460159, 0.7429776668400982),\n",
       " 0.8464: (0.605740895245635, 0.5466903354723633, 0.7238420147921785),\n",
       " 0.11560000000000002: (0.6043571675447386,\n",
       "  0.5526542039999192,\n",
       "  0.7077630946343776),\n",
       " 0.0: (0.6019338427105055, 0.5451470544956272, 0.7155074191402623),\n",
       " 0.04000000000000001: (0.6017785657973489,\n",
       "  0.5446799241453539,\n",
       "  0.7159758491013388)}"
      ]
     },
     "execution_count": 25,
     "metadata": {},
     "output_type": "execute_result"
    }
   ],
   "source": [
    "\n",
    "results = {level: score for level, score in sorted(scores.items(), key=lambda item: item[1], reverse=True)}\n",
    "max_level = list(results.keys())[0]\n",
    "for level, score in results.items():\n",
    "    print(f\"Dropout {level}: AUROC/3 + 2/3 * AUPRC {score[0]}; AUPRC {score[1]}; AUROC {score[2]}\")\n",
    "results"
   ]
  },
  {
   "attachments": {},
   "cell_type": "markdown",
   "metadata": {},
   "source": [
    "#### Dropout Regression"
   ]
  },
  {
   "cell_type": "code",
   "execution_count": 34,
   "metadata": {},
   "outputs": [
    {
     "data": {
      "text/plain": [
       "dict_keys([0.6084, 0.6724000000000001, 0.4624000000000001, 0.7055999999999999, 0.25, 0.5184, 0.1936, 0.2916, 0.5476, 0.4096, 0.81, 0.6400000000000001, 0.7395999999999999, 0.3844, 0.27040000000000003, 0.5776, 0.7744, 0.0016, 0.31360000000000005, 0.16000000000000003, 0.4900000000000001, 0.2304, 0.010000000000000002, 0.2116, 0.1444, 0.0064, 0.43560000000000004, 0.0324, 0.17639999999999997, 0.3364, 0.0144, 0.36, 0.019600000000000003, 0.09, 0.8836000000000002, 0.07840000000000001, 0.0576, 0.1024, 0.0036, 0.0004, 0.0484, 0.06760000000000001, 0.1296, 0.0256, 0.8464, 0.11560000000000002, 0.0, 0.04000000000000001])"
      ]
     },
     "execution_count": 34,
     "metadata": {},
     "output_type": "execute_result"
    }
   ],
   "source": []
  },
  {
   "cell_type": "code",
   "execution_count": 37,
   "metadata": {},
   "outputs": [
    {
     "data": {
      "text/plain": [
       "<matplotlib.legend.Legend at 0x1de626ce3d0>"
      ]
     },
     "execution_count": 37,
     "metadata": {},
     "output_type": "execute_result"
    },
    {
     "data": {
      "image/png": "[encoded data removed]",
      "text/plain": [
       "<Figure size 640x480 with 1 Axes>"
      ]
     },
     "metadata": {},
     "output_type": "display_data"
    }
   ],
   "source": [
    "# plot the results from above\n",
    "\n",
    "%matplotlib inline\n",
    "\n",
    "#dropout = list(scores.keys())\n",
    "#auprc = list(score[1] for score in scores.values())\n",
    "#auroc = list(score[2] for score in scores.values())\n",
    "\n",
    "fig = plt.figure()\n",
    "ax = fig.add_axes([0, 0, 1, 1])\n",
    "\n",
    "\n",
    "mixed, auprc, auroc = zip(*scores.values())\n",
    "dropout = list(scores.keys())\n",
    "coeffecients = np.polyfit(dropout, auroc, 2)\n",
    "auroc_fit_fn = np.poly1d(coeffecients)\n",
    "coeffecients = np.polyfit(dropout, auprc, 2)\n",
    "auprc_fit_fn = np.poly1d(coeffecients)\n",
    "\n",
    "auroc_deriv = auroc_fit_fn.deriv().r\n",
    "auroc_max = auroc_deriv[auroc_deriv.imag==0].real\n",
    "auprc_deriv = auprc_fit_fn.deriv().r\n",
    "auprc_max = auprc_deriv[auprc_deriv.imag==0].real\n",
    "\n",
    "\n",
    "ax.plot(dropout, auprc, label=\"auprc\")\n",
    "ax.plot(dropout, auroc, label=\"auroc\")\n",
    "ax.plot(dropout, auroc_fit_fn(dropout), label=\"auroc fit\")\n",
    "ax.plot(dropout, auprc_fit_fn(dropout), label=\"auprc fit\")\n",
    "ax.plot(auroc_max, auroc_fit_fn(auroc_max),'bo', label=\"auroc max\")\n",
    "ax.annotate(f\"({auroc_max.round(3)}, {auroc_fit_fn(auroc_max).round(3)})\",xy=(auroc_max-.04, auroc_fit_fn(auroc_max)-.025))\n",
    "ax.plot(auprc_max, auprc_fit_fn(auprc_max),'bo', label=\"auprc max\")\n",
    "ax.annotate(f\"({auprc_max.round(3)}, {auprc_fit_fn(auprc_max).round(3)})\",xy=(auprc_max-.03, auprc_fit_fn(auprc_max)-.02))\n",
    "\n",
    "ax.set_title(\"Dropout's affect on AUPRC and AUROC\")\n",
    "ax.set_xlabel(\"Dropout rate\")\n",
    "ax.set_ylabel(\"Metric\")\n",
    "plt.legend()"
   ]
  },
  {
   "attachments": {},
   "cell_type": "markdown",
   "metadata": {},
   "source": [
    "#### Lock Dropout"
   ]
  },
  {
   "cell_type": "code",
   "execution_count": 38,
   "metadata": {},
   "outputs": [],
   "source": [
    "dropout = 0.5"
   ]
  },
  {
   "attachments": {},
   "cell_type": "markdown",
   "metadata": {},
   "source": [
    "### Vary layers, heads and dense interpolation factor\n",
    "Since these two parameters are interlinked, we will scan a reasonable set.\n",
    "\n",
    "High values will cause out of memory exceptions on our 4080 RTX, so this is somewhat limited."
   ]
  },
  {
   "cell_type": "code",
   "execution_count": 129,
   "metadata": {},
   "outputs": [
    {
     "name": "stderr",
     "output_type": "stream",
     "text": [
      "COMET INFO: ---------------------------\n",
      "COMET INFO: Comet.ml Experiment Summary\n",
      "COMET INFO: ---------------------------\n",
      "COMET INFO:   Data:\n",
      "COMET INFO:     display_summary_level : 1\n",
      "COMET INFO:     url                   : https://www.comet.com/samdoud/sand-in-hospital-mortality/52877e0c96b0489985f5e05975c52a86\n",
      "COMET INFO:   Metrics [count] (min, max):\n",
      "COMET INFO:     AUPRCxAUROC                : (0.6199388240633724, 0.572475182886684, 0.7148661064167494)\n",
      "COMET INFO:     train_AUPRC [1392]         : (0.06640625, 0.5960990287162162)\n",
      "COMET INFO:     train_AUROC [1392]         : (0.45447583605478337, 0.7299148463532026)\n",
      "COMET INFO:     train_MSE [1392]           : (0.126953125, 0.78125)\n",
      "COMET INFO:     train_accuracy [1392]      : (0.21875, 0.873046875)\n",
      "COMET INFO:     train_loss [1510]          : (0.25722694396972656, 7.762701988220215)\n",
      "COMET INFO:     validate_AUPRC [312]       : (0.4997209821428571, 0.6248218079159212)\n",
      "COMET INFO:     validate_AUPRCxAUROC [312] : (0.5498139880952381, 0.667830763089269)\n",
      "COMET INFO:     validate_AUROC [312]       : (0.6500000000000001, 0.7538486734359645)\n",
      "COMET INFO:     validate_MSE [312]         : (0.006334718343437095, 0.11729446223009332)\n",
      "COMET INFO:     validate_accuracy [312]    : (0.46240234375, 0.63671875)\n",
      "COMET INFO:     validate_loss [312]        : (0.30387791991233826, 0.844615638256073)\n",
      "COMET INFO:   Parameters:\n",
      "COMET INFO:     batch_size    : 256\n",
      "COMET INFO:     betas         : (0.9, 0.98)\n",
      "COMET INFO:     epochs        : 12\n",
      "COMET INFO:     eps           : 4e-09\n",
      "COMET INFO:     lr            : 4e-05\n",
      "COMET INFO:     train_ds_size : 14681\n",
      "COMET INFO:     val_ds_size   : 3222\n",
      "COMET INFO:     weight_decay  : 4e-05\n",
      "COMET INFO:   Uploads:\n",
      "COMET INFO:     conda-environment-definition : 1\n",
      "COMET INFO:     conda-info                   : 1\n",
      "COMET INFO:     conda-specification          : 1\n",
      "COMET INFO:     confusion-matrix             : 1704\n",
      "COMET INFO:     environment details          : 1\n",
      "COMET INFO:     filename                     : 1\n",
      "COMET INFO:     git metadata                 : 1\n",
      "COMET INFO:     git-patch (uncompressed)     : 1 (517.67 KB)\n",
      "COMET INFO:     installed packages           : 1\n",
      "COMET INFO:     model graph                  : 1\n",
      "COMET INFO:     notebook                     : 1\n",
      "COMET INFO:     source_code                  : 1\n",
      "COMET INFO: ---------------------------\n",
      "COMET WARNING: As you are running in a Jupyter environment, you will need to call `experiment.end()` when finished to ensure all metrics and code are logged before exiting.\n",
      "COMET INFO: Experiment is live on comet.com https://www.comet.com/samdoud/sand-in-hospital-mortality/9bc1fcd76e7f470e825c838badd779e4\n",
      "\n",
      "COMET WARNING: Cannot safely convert (0.6276294754779654, 0.5779639679539358, 0.7269604905260246) object to a scalar value, using its string representation for logging. Resulting string might be invalid\n"
     ]
    },
    {
     "name": "stdout",
     "output_type": "stream",
     "text": [
      "num_layers=1 factor=1 n_heads=1 => (0.6276294754779654, 0.5779639679539358, 0.7269604905260246)\n"
     ]
    },
    {
     "name": "stderr",
     "output_type": "stream",
     "text": [
      "COMET WARNING: Cannot safely convert (0.6231393269899992, 0.5772454769803854, 0.714927027009227) object to a scalar value, using its string representation for logging. Resulting string might be invalid\n"
     ]
    },
    {
     "name": "stdout",
     "output_type": "stream",
     "text": [
      "num_layers=1 factor=1 n_heads=2 => (0.6231393269899992, 0.5772454769803854, 0.714927027009227)\n"
     ]
    },
    {
     "name": "stderr",
     "output_type": "stream",
     "text": [
      "COMET WARNING: Cannot safely convert (0.6262433104156484, 0.574569164863447, 0.7295916015200511) object to a scalar value, using its string representation for logging. Resulting string might be invalid\n"
     ]
    },
    {
     "name": "stdout",
     "output_type": "stream",
     "text": [
      "num_layers=1 factor=1 n_heads=4 => (0.6262433104156484, 0.574569164863447, 0.7295916015200511)\n"
     ]
    },
    {
     "name": "stderr",
     "output_type": "stream",
     "text": [
      "COMET WARNING: Cannot safely convert (0.6341216952849905, 0.5824079688776824, 0.7375491480996068) object to a scalar value, using its string representation for logging. Resulting string might be invalid\n"
     ]
    },
    {
     "name": "stdout",
     "output_type": "stream",
     "text": [
      "num_layers=1 factor=1 n_heads=8 => (0.6341216952849905, 0.5824079688776824, 0.7375491480996068)\n"
     ]
    },
    {
     "name": "stderr",
     "output_type": "stream",
     "text": [
      "COMET WARNING: Cannot safely convert (0.6205295488045564, 0.5622267968463295, 0.7371350527210101) object to a scalar value, using its string representation for logging. Resulting string might be invalid\n"
     ]
    },
    {
     "name": "stdout",
     "output_type": "stream",
     "text": [
      "num_layers=1 factor=1 n_heads=16 => (0.6205295488045564, 0.5622267968463295, 0.7371350527210101)\n"
     ]
    },
    {
     "name": "stderr",
     "output_type": "stream",
     "text": [
      "COMET WARNING: Cannot safely convert (0.6240828102953488, 0.576935990570298, 0.7183764497454508) object to a scalar value, using its string representation for logging. Resulting string might be invalid\n"
     ]
    },
    {
     "name": "stdout",
     "output_type": "stream",
     "text": [
      "num_layers=1 factor=1 n_heads=32 => (0.6240828102953488, 0.576935990570298, 0.7183764497454508)\n"
     ]
    },
    {
     "name": "stderr",
     "output_type": "stream",
     "text": [
      "COMET WARNING: Cannot safely convert (0.6245320027668234, 0.5710455854380636, 0.7315048374243432) object to a scalar value, using its string representation for logging. Resulting string might be invalid\n"
     ]
    },
    {
     "name": "stdout",
     "output_type": "stream",
     "text": [
      "num_layers=1 factor=2 n_heads=1 => (0.6245320027668234, 0.5710455854380636, 0.7315048374243432)\n"
     ]
    },
    {
     "name": "stderr",
     "output_type": "stream",
     "text": [
      "COMET WARNING: Cannot safely convert (0.6183205607495894, 0.5718972218484502, 0.7111672385518681) object to a scalar value, using its string representation for logging. Resulting string might be invalid\n"
     ]
    },
    {
     "name": "stdout",
     "output_type": "stream",
     "text": [
      "num_layers=1 factor=2 n_heads=2 => (0.6183205607495894, 0.5718972218484502, 0.7111672385518681)\n"
     ]
    },
    {
     "name": "stderr",
     "output_type": "stream",
     "text": [
      "COMET WARNING: Cannot safely convert (0.6213394759721996, 0.5800087957466646, 0.7040008364232697) object to a scalar value, using its string representation for logging. Resulting string might be invalid\n"
     ]
    },
    {
     "name": "stdout",
     "output_type": "stream",
     "text": [
      "num_layers=1 factor=2 n_heads=4 => (0.6213394759721996, 0.5800087957466646, 0.7040008364232697)\n"
     ]
    },
    {
     "name": "stderr",
     "output_type": "stream",
     "text": [
      "COMET WARNING: Cannot safely convert (0.6248024961485903, 0.5634423257280523, 0.7475228369896665) object to a scalar value, using its string representation for logging. Resulting string might be invalid\n"
     ]
    },
    {
     "name": "stdout",
     "output_type": "stream",
     "text": [
      "num_layers=1 factor=2 n_heads=8 => (0.6248024961485903, 0.5634423257280523, 0.7475228369896665)\n"
     ]
    },
    {
     "name": "stderr",
     "output_type": "stream",
     "text": [
      "COMET WARNING: Cannot safely convert (0.6227324616435569, 0.5713470245583034, 0.7255033358140638) object to a scalar value, using its string representation for logging. Resulting string might be invalid\n"
     ]
    },
    {
     "name": "stdout",
     "output_type": "stream",
     "text": [
      "num_layers=1 factor=2 n_heads=16 => (0.6227324616435569, 0.5713470245583034, 0.7255033358140638)\n"
     ]
    },
    {
     "name": "stderr",
     "output_type": "stream",
     "text": [
      "COMET WARNING: Cannot safely convert (0.6160649196419379, 0.5608834559791711, 0.7264278469674716) object to a scalar value, using its string representation for logging. Resulting string might be invalid\n"
     ]
    },
    {
     "name": "stdout",
     "output_type": "stream",
     "text": [
      "num_layers=1 factor=2 n_heads=32 => (0.6160649196419379, 0.5608834559791711, 0.7264278469674716)\n"
     ]
    },
    {
     "name": "stderr",
     "output_type": "stream",
     "text": [
      "COMET WARNING: Cannot safely convert (0.6196336833719996, 0.5649301018409971, 0.7290408464340049) object to a scalar value, using its string representation for logging. Resulting string might be invalid\n"
     ]
    },
    {
     "name": "stdout",
     "output_type": "stream",
     "text": [
      "num_layers=1 factor=5 n_heads=1 => (0.6196336833719996, 0.5649301018409971, 0.7290408464340049)\n"
     ]
    },
    {
     "name": "stderr",
     "output_type": "stream",
     "text": [
      "COMET WARNING: Cannot safely convert (0.6147001840446715, 0.5686902584165006, 0.7067200353010137) object to a scalar value, using its string representation for logging. Resulting string might be invalid\n"
     ]
    },
    {
     "name": "stdout",
     "output_type": "stream",
     "text": [
      "num_layers=1 factor=5 n_heads=2 => (0.6147001840446715, 0.5686902584165006, 0.7067200353010137)\n"
     ]
    },
    {
     "name": "stderr",
     "output_type": "stream",
     "text": [
      "COMET WARNING: Cannot safely convert (0.6283366647610227, 0.5764179267963613, 0.7321741406903457) object to a scalar value, using its string representation for logging. Resulting string might be invalid\n"
     ]
    },
    {
     "name": "stdout",
     "output_type": "stream",
     "text": [
      "num_layers=1 factor=5 n_heads=4 => (0.6283366647610227, 0.5764179267963613, 0.7321741406903457)\n"
     ]
    },
    {
     "name": "stderr",
     "output_type": "stream",
     "text": [
      "COMET WARNING: Cannot safely convert (0.6132500875690882, 0.5592285168920715, 0.7212932289231215) object to a scalar value, using its string representation for logging. Resulting string might be invalid\n"
     ]
    },
    {
     "name": "stdout",
     "output_type": "stream",
     "text": [
      "num_layers=1 factor=5 n_heads=8 => (0.6132500875690882, 0.5592285168920715, 0.7212932289231215)\n"
     ]
    },
    {
     "name": "stderr",
     "output_type": "stream",
     "text": [
      "COMET WARNING: Cannot safely convert (0.6043696441864035, 0.5424160316424617, 0.7282768692742875) object to a scalar value, using its string representation for logging. Resulting string might be invalid\n"
     ]
    },
    {
     "name": "stdout",
     "output_type": "stream",
     "text": [
      "num_layers=1 factor=5 n_heads=16 => (0.6043696441864035, 0.5424160316424617, 0.7282768692742875)\n"
     ]
    },
    {
     "name": "stderr",
     "output_type": "stream",
     "text": [
      "COMET WARNING: Cannot safely convert (0.6068591613203392, 0.5475601251084684, 0.725457233744081) object to a scalar value, using its string representation for logging. Resulting string might be invalid\n"
     ]
    },
    {
     "name": "stdout",
     "output_type": "stream",
     "text": [
      "num_layers=1 factor=5 n_heads=32 => (0.6068591613203392, 0.5475601251084684, 0.725457233744081)\n"
     ]
    },
    {
     "name": "stderr",
     "output_type": "stream",
     "text": [
      "COMET WARNING: Cannot safely convert (0.6135249216434558, 0.5590476154782176, 0.7224795339739326) object to a scalar value, using its string representation for logging. Resulting string might be invalid\n"
     ]
    },
    {
     "name": "stdout",
     "output_type": "stream",
     "text": [
      "num_layers=1 factor=8 n_heads=1 => (0.6135249216434558, 0.5590476154782176, 0.7224795339739326)\n"
     ]
    },
    {
     "name": "stderr",
     "output_type": "stream",
     "text": [
      "COMET WARNING: Cannot safely convert (0.608471773372109, 0.5619803999041827, 0.7014545203079618) object to a scalar value, using its string representation for logging. Resulting string might be invalid\n"
     ]
    },
    {
     "name": "stdout",
     "output_type": "stream",
     "text": [
      "num_layers=1 factor=8 n_heads=2 => (0.608471773372109, 0.5619803999041827, 0.7014545203079618)\n"
     ]
    },
    {
     "name": "stderr",
     "output_type": "stream",
     "text": [
      "COMET WARNING: Cannot safely convert (0.601228176685205, 0.5446269617749773, 0.7144306065056607) object to a scalar value, using its string representation for logging. Resulting string might be invalid\n"
     ]
    },
    {
     "name": "stdout",
     "output_type": "stream",
     "text": [
      "num_layers=1 factor=8 n_heads=4 => (0.601228176685205, 0.5446269617749773, 0.7144306065056607)\n"
     ]
    },
    {
     "name": "stderr",
     "output_type": "stream",
     "text": [
      "COMET WARNING: Cannot safely convert (0.6032688051962001, 0.5602626557549422, 0.6892811040787161) object to a scalar value, using its string representation for logging. Resulting string might be invalid\n"
     ]
    },
    {
     "name": "stdout",
     "output_type": "stream",
     "text": [
      "num_layers=1 factor=8 n_heads=8 => (0.6032688051962001, 0.5602626557549422, 0.6892811040787161)\n"
     ]
    },
    {
     "name": "stderr",
     "output_type": "stream",
     "text": [
      "COMET WARNING: Cannot safely convert (0.614831703344131, 0.5697149048716336, 0.7050653002891258) object to a scalar value, using its string representation for logging. Resulting string might be invalid\n"
     ]
    },
    {
     "name": "stdout",
     "output_type": "stream",
     "text": [
      "num_layers=1 factor=8 n_heads=16 => (0.614831703344131, 0.5697149048716336, 0.7050653002891258)\n"
     ]
    },
    {
     "name": "stderr",
     "output_type": "stream",
     "text": [
      "COMET WARNING: Cannot safely convert (0.6100582159925056, 0.5577806398472122, 0.714613368283093) object to a scalar value, using its string representation for logging. Resulting string might be invalid\n"
     ]
    },
    {
     "name": "stdout",
     "output_type": "stream",
     "text": [
      "num_layers=1 factor=8 n_heads=32 => (0.6100582159925056, 0.5577806398472122, 0.714613368283093)\n"
     ]
    },
    {
     "name": "stderr",
     "output_type": "stream",
     "text": [
      "COMET WARNING: Cannot safely convert (0.6049837166692342, 0.5603027021204304, 0.694345745766842) object to a scalar value, using its string representation for logging. Resulting string might be invalid\n"
     ]
    },
    {
     "name": "stdout",
     "output_type": "stream",
     "text": [
      "num_layers=1 factor=12 n_heads=1 => (0.6049837166692342, 0.5603027021204304, 0.694345745766842)\n"
     ]
    },
    {
     "name": "stderr",
     "output_type": "stream",
     "text": [
      "COMET WARNING: Cannot safely convert (0.6109252842531148, 0.5560607334029933, 0.7206543859533578) object to a scalar value, using its string representation for logging. Resulting string might be invalid\n"
     ]
    },
    {
     "name": "stdout",
     "output_type": "stream",
     "text": [
      "num_layers=1 factor=12 n_heads=2 => (0.6109252842531148, 0.5560607334029933, 0.7206543859533578)\n"
     ]
    },
    {
     "name": "stderr",
     "output_type": "stream",
     "text": [
      "COMET WARNING: Cannot safely convert (0.6163606105778631, 0.5583764599041505, 0.7323289119252882) object to a scalar value, using its string representation for logging. Resulting string might be invalid\n"
     ]
    },
    {
     "name": "stdout",
     "output_type": "stream",
     "text": [
      "num_layers=1 factor=12 n_heads=4 => (0.6163606105778631, 0.5583764599041505, 0.7323289119252882)\n"
     ]
    },
    {
     "name": "stderr",
     "output_type": "stream",
     "text": [
      "COMET WARNING: Cannot safely convert (0.6146633653535796, 0.5766897206068823, 0.6906106548469741) object to a scalar value, using its string representation for logging. Resulting string might be invalid\n"
     ]
    },
    {
     "name": "stdout",
     "output_type": "stream",
     "text": [
      "num_layers=1 factor=12 n_heads=8 => (0.6146633653535796, 0.5766897206068823, 0.6906106548469741)\n"
     ]
    },
    {
     "name": "stderr",
     "output_type": "stream",
     "text": [
      "COMET WARNING: Cannot safely convert (0.61026761775587, 0.5587426412257688, 0.7133175708160726) object to a scalar value, using its string representation for logging. Resulting string might be invalid\n"
     ]
    },
    {
     "name": "stdout",
     "output_type": "stream",
     "text": [
      "num_layers=1 factor=12 n_heads=16 => (0.61026761775587, 0.5587426412257688, 0.7133175708160726)\n"
     ]
    },
    {
     "name": "stderr",
     "output_type": "stream",
     "text": [
      "COMET WARNING: Cannot safely convert (0.6085595577209539, 0.5461533509521047, 0.7333719712586523) object to a scalar value, using its string representation for logging. Resulting string might be invalid\n"
     ]
    },
    {
     "name": "stdout",
     "output_type": "stream",
     "text": [
      "num_layers=1 factor=12 n_heads=32 => (0.6085595577209539, 0.5461533509521047, 0.7333719712586523)\n"
     ]
    },
    {
     "name": "stderr",
     "output_type": "stream",
     "text": [
      "COMET WARNING: Cannot safely convert (0.6007244393196413, 0.5613860260639012, 0.6794012658311215) object to a scalar value, using its string representation for logging. Resulting string might be invalid\n"
     ]
    },
    {
     "name": "stdout",
     "output_type": "stream",
     "text": [
      "num_layers=1 factor=15 n_heads=1 => (0.6007244393196413, 0.5613860260639012, 0.6794012658311215)\n"
     ]
    },
    {
     "name": "stderr",
     "output_type": "stream",
     "text": [
      "COMET WARNING: Cannot safely convert (0.608365224520534, 0.5778204646646501, 0.6694547442323018) object to a scalar value, using its string representation for logging. Resulting string might be invalid\n"
     ]
    },
    {
     "name": "stdout",
     "output_type": "stream",
     "text": [
      "num_layers=1 factor=15 n_heads=2 => (0.608365224520534, 0.5778204646646501, 0.6694547442323018)\n"
     ]
    },
    {
     "name": "stderr",
     "output_type": "stream",
     "text": [
      "COMET WARNING: Cannot safely convert (0.6132941577828764, 0.5753887725186742, 0.6891049283112811) object to a scalar value, using its string representation for logging. Resulting string might be invalid\n"
     ]
    },
    {
     "name": "stdout",
     "output_type": "stream",
     "text": [
      "num_layers=1 factor=15 n_heads=4 => (0.6132941577828764, 0.5753887725186742, 0.6891049283112811)\n"
     ]
    },
    {
     "name": "stderr",
     "output_type": "stream",
     "text": [
      "COMET WARNING: Cannot safely convert (0.6219652531587359, 0.5645993382100178, 0.7366970830561721) object to a scalar value, using its string representation for logging. Resulting string might be invalid\n"
     ]
    },
    {
     "name": "stdout",
     "output_type": "stream",
     "text": [
      "num_layers=1 factor=15 n_heads=8 => (0.6219652531587359, 0.5645993382100178, 0.7366970830561721)\n"
     ]
    },
    {
     "name": "stderr",
     "output_type": "stream",
     "text": [
      "COMET WARNING: Cannot safely convert (0.5900774444612917, 0.5489760954313094, 0.6722801425212563) object to a scalar value, using its string representation for logging. Resulting string might be invalid\n"
     ]
    },
    {
     "name": "stdout",
     "output_type": "stream",
     "text": [
      "num_layers=1 factor=15 n_heads=16 => (0.5900774444612917, 0.5489760954313094, 0.6722801425212563)\n"
     ]
    },
    {
     "name": "stderr",
     "output_type": "stream",
     "text": [
      "COMET WARNING: Cannot safely convert (0.6050153509400751, 0.5526893890226511, 0.7096672747749232) object to a scalar value, using its string representation for logging. Resulting string might be invalid\n"
     ]
    },
    {
     "name": "stdout",
     "output_type": "stream",
     "text": [
      "num_layers=1 factor=15 n_heads=32 => (0.6050153509400751, 0.5526893890226511, 0.7096672747749232)\n"
     ]
    },
    {
     "name": "stderr",
     "output_type": "stream",
     "text": [
      "COMET WARNING: Cannot safely convert (0.6252404361098317, 0.5723074622550023, 0.7311063838194907) object to a scalar value, using its string representation for logging. Resulting string might be invalid\n"
     ]
    },
    {
     "name": "stdout",
     "output_type": "stream",
     "text": [
      "num_layers=2 factor=1 n_heads=1 => (0.6252404361098317, 0.5723074622550023, 0.7311063838194907)\n"
     ]
    },
    {
     "name": "stderr",
     "output_type": "stream",
     "text": [
      "COMET WARNING: Cannot safely convert (0.6233166511225958, 0.5690583193474079, 0.7318333146729716) object to a scalar value, using its string representation for logging. Resulting string might be invalid\n"
     ]
    },
    {
     "name": "stdout",
     "output_type": "stream",
     "text": [
      "num_layers=2 factor=1 n_heads=2 => (0.6233166511225958, 0.5690583193474079, 0.7318333146729716)\n"
     ]
    },
    {
     "name": "stderr",
     "output_type": "stream",
     "text": [
      "COMET WARNING: Cannot safely convert (0.6267320105313178, 0.5705174787737215, 0.7391610740465104) object to a scalar value, using its string representation for logging. Resulting string might be invalid\n"
     ]
    },
    {
     "name": "stdout",
     "output_type": "stream",
     "text": [
      "num_layers=2 factor=1 n_heads=4 => (0.6267320105313178, 0.5705174787737215, 0.7391610740465104)\n"
     ]
    },
    {
     "name": "stderr",
     "output_type": "stream",
     "text": [
      "COMET WARNING: Cannot safely convert (0.6390045298343543, 0.5866112752141329, 0.7437910390747973) object to a scalar value, using its string representation for logging. Resulting string might be invalid\n"
     ]
    },
    {
     "name": "stdout",
     "output_type": "stream",
     "text": [
      "num_layers=2 factor=1 n_heads=8 => (0.6390045298343543, 0.5866112752141329, 0.7437910390747973)\n"
     ]
    },
    {
     "name": "stderr",
     "output_type": "stream",
     "text": [
      "COMET WARNING: Cannot safely convert (0.6295088832628419, 0.5726188969880215, 0.743288855812483) object to a scalar value, using its string representation for logging. Resulting string might be invalid\n"
     ]
    },
    {
     "name": "stdout",
     "output_type": "stream",
     "text": [
      "num_layers=2 factor=1 n_heads=16 => (0.6295088832628419, 0.5726188969880215, 0.743288855812483)\n"
     ]
    },
    {
     "name": "stderr",
     "output_type": "stream",
     "text": [
      "COMET WARNING: Cannot safely convert (0.6215499636473336, 0.5681679876807385, 0.7283139155805239) object to a scalar value, using its string representation for logging. Resulting string might be invalid\n"
     ]
    },
    {
     "name": "stdout",
     "output_type": "stream",
     "text": [
      "num_layers=2 factor=1 n_heads=32 => (0.6215499636473336, 0.5681679876807385, 0.7283139155805239)\n"
     ]
    },
    {
     "name": "stderr",
     "output_type": "stream",
     "text": [
      "COMET WARNING: Cannot safely convert (0.6270571189120924, 0.5829669820029576, 0.7152373927303621) object to a scalar value, using its string representation for logging. Resulting string might be invalid\n"
     ]
    },
    {
     "name": "stdout",
     "output_type": "stream",
     "text": [
      "num_layers=2 factor=2 n_heads=1 => (0.6270571189120924, 0.5829669820029576, 0.7152373927303621)\n"
     ]
    },
    {
     "name": "stderr",
     "output_type": "stream",
     "text": [
      "COMET WARNING: Cannot safely convert (0.6171801728473171, 0.5702566163512657, 0.7110272858394199) object to a scalar value, using its string representation for logging. Resulting string might be invalid\n"
     ]
    },
    {
     "name": "stdout",
     "output_type": "stream",
     "text": [
      "num_layers=2 factor=2 n_heads=2 => (0.6171801728473171, 0.5702566163512657, 0.7110272858394199)\n"
     ]
    },
    {
     "name": "stderr",
     "output_type": "stream",
     "text": [
      "COMET WARNING: Cannot safely convert (0.6311121525233895, 0.5815575344220502, 0.7302213887260682) object to a scalar value, using its string representation for logging. Resulting string might be invalid\n"
     ]
    },
    {
     "name": "stdout",
     "output_type": "stream",
     "text": [
      "num_layers=2 factor=2 n_heads=4 => (0.6311121525233895, 0.5815575344220502, 0.7302213887260682)\n"
     ]
    },
    {
     "name": "stderr",
     "output_type": "stream",
     "text": [
      "COMET WARNING: Cannot safely convert (0.6172109642543099, 0.5721370072460762, 0.7073588782707773) object to a scalar value, using its string representation for logging. Resulting string might be invalid\n"
     ]
    },
    {
     "name": "stdout",
     "output_type": "stream",
     "text": [
      "num_layers=2 factor=2 n_heads=8 => (0.6172109642543099, 0.5721370072460762, 0.7073588782707773)\n"
     ]
    },
    {
     "name": "stderr",
     "output_type": "stream",
     "text": [
      "COMET WARNING: Cannot safely convert (0.6317140823698104, 0.5743114766965717, 0.7465192937162879) object to a scalar value, using its string representation for logging. Resulting string might be invalid\n"
     ]
    },
    {
     "name": "stdout",
     "output_type": "stream",
     "text": [
      "num_layers=2 factor=2 n_heads=16 => (0.6317140823698104, 0.5743114766965717, 0.7465192937162879)\n"
     ]
    },
    {
     "name": "stderr",
     "output_type": "stream",
     "text": [
      "COMET WARNING: Cannot safely convert (0.624143738250316, 0.5731247599535676, 0.7261816948438129) object to a scalar value, using its string representation for logging. Resulting string might be invalid\n"
     ]
    },
    {
     "name": "stdout",
     "output_type": "stream",
     "text": [
      "num_layers=2 factor=2 n_heads=32 => (0.624143738250316, 0.5731247599535676, 0.7261816948438129)\n"
     ]
    },
    {
     "name": "stderr",
     "output_type": "stream",
     "text": [
      "COMET WARNING: Cannot safely convert (0.6252634707345359, 0.5734933310647575, 0.7288037500740926) object to a scalar value, using its string representation for logging. Resulting string might be invalid\n"
     ]
    },
    {
     "name": "stdout",
     "output_type": "stream",
     "text": [
      "num_layers=2 factor=5 n_heads=1 => (0.6252634707345359, 0.5734933310647575, 0.7288037500740926)\n"
     ]
    },
    {
     "name": "stderr",
     "output_type": "stream",
     "text": [
      "COMET WARNING: Cannot safely convert (0.6273570633709666, 0.5855750518423455, 0.7109210864282092) object to a scalar value, using its string representation for logging. Resulting string might be invalid\n"
     ]
    },
    {
     "name": "stdout",
     "output_type": "stream",
     "text": [
      "num_layers=2 factor=5 n_heads=2 => (0.6273570633709666, 0.5855750518423455, 0.7109210864282092)\n"
     ]
    },
    {
     "name": "stderr",
     "output_type": "stream",
     "text": [
      "COMET WARNING: Cannot safely convert (0.6060238595975975, 0.5760483587964768, 0.6659748611998393) object to a scalar value, using its string representation for logging. Resulting string might be invalid\n"
     ]
    },
    {
     "name": "stdout",
     "output_type": "stream",
     "text": [
      "num_layers=2 factor=5 n_heads=4 => (0.6060238595975975, 0.5760483587964768, 0.6659748611998393)\n"
     ]
    },
    {
     "name": "stderr",
     "output_type": "stream",
     "text": [
      "COMET WARNING: Cannot safely convert (0.6180423583579899, 0.5645370288467447, 0.7250530173804804) object to a scalar value, using its string representation for logging. Resulting string might be invalid\n"
     ]
    },
    {
     "name": "stdout",
     "output_type": "stream",
     "text": [
      "num_layers=2 factor=5 n_heads=8 => (0.6180423583579899, 0.5645370288467447, 0.7250530173804804)\n"
     ]
    },
    {
     "name": "stderr",
     "output_type": "stream",
     "text": [
      "COMET WARNING: Cannot safely convert (0.6053023881962668, 0.5650422695050275, 0.6858226255787456) object to a scalar value, using its string representation for logging. Resulting string might be invalid\n"
     ]
    },
    {
     "name": "stdout",
     "output_type": "stream",
     "text": [
      "num_layers=2 factor=5 n_heads=16 => (0.6053023881962668, 0.5650422695050275, 0.6858226255787456)\n"
     ]
    },
    {
     "name": "stderr",
     "output_type": "stream",
     "text": [
      "COMET WARNING: Cannot safely convert (0.6256617831445839, 0.5674521016022859, 0.74208114622918) object to a scalar value, using its string representation for logging. Resulting string might be invalid\n"
     ]
    },
    {
     "name": "stdout",
     "output_type": "stream",
     "text": [
      "num_layers=2 factor=5 n_heads=32 => (0.6256617831445839, 0.5674521016022859, 0.74208114622918)\n"
     ]
    },
    {
     "name": "stderr",
     "output_type": "stream",
     "text": [
      "COMET WARNING: Cannot safely convert (0.6234491560534466, 0.5774410174169061, 0.7154654333265278) object to a scalar value, using its string representation for logging. Resulting string might be invalid\n"
     ]
    },
    {
     "name": "stdout",
     "output_type": "stream",
     "text": [
      "num_layers=2 factor=8 n_heads=1 => (0.6234491560534466, 0.5774410174169061, 0.7154654333265278)\n"
     ]
    },
    {
     "name": "stderr",
     "output_type": "stream",
     "text": [
      "COMET WARNING: Cannot safely convert (0.6024639224871603, 0.5695526083762485, 0.6682865507089839) object to a scalar value, using its string representation for logging. Resulting string might be invalid\n"
     ]
    },
    {
     "name": "stdout",
     "output_type": "stream",
     "text": [
      "num_layers=2 factor=8 n_heads=2 => (0.6024639224871603, 0.5695526083762485, 0.6682865507089839)\n"
     ]
    },
    {
     "name": "stderr",
     "output_type": "stream",
     "text": [
      "COMET WARNING: Cannot safely convert (0.6051249116370281, 0.575004128192385, 0.6653664785263144) object to a scalar value, using its string representation for logging. Resulting string might be invalid\n"
     ]
    },
    {
     "name": "stdout",
     "output_type": "stream",
     "text": [
      "num_layers=2 factor=8 n_heads=4 => (0.6051249116370281, 0.575004128192385, 0.6653664785263144)\n"
     ]
    },
    {
     "name": "stderr",
     "output_type": "stream",
     "text": [
      "COMET WARNING: Cannot safely convert (0.6222149345076152, 0.5644704420941481, 0.7377039193345496) object to a scalar value, using its string representation for logging. Resulting string might be invalid\n"
     ]
    },
    {
     "name": "stdout",
     "output_type": "stream",
     "text": [
      "num_layers=2 factor=8 n_heads=8 => (0.6222149345076152, 0.5644704420941481, 0.7377039193345496)\n"
     ]
    },
    {
     "name": "stderr",
     "output_type": "stream",
     "text": [
      "COMET WARNING: Cannot safely convert (0.6194155773641823, 0.5721389847689827, 0.7139687625545816) object to a scalar value, using its string representation for logging. Resulting string might be invalid\n"
     ]
    },
    {
     "name": "stdout",
     "output_type": "stream",
     "text": [
      "num_layers=2 factor=8 n_heads=16 => (0.6194155773641823, 0.5721389847689827, 0.7139687625545816)\n"
     ]
    },
    {
     "name": "stderr",
     "output_type": "stream",
     "text": [
      "COMET WARNING: Cannot safely convert (0.6182505871163126, 0.567889638849354, 0.71897248365023) object to a scalar value, using its string representation for logging. Resulting string might be invalid\n"
     ]
    },
    {
     "name": "stdout",
     "output_type": "stream",
     "text": [
      "num_layers=2 factor=8 n_heads=32 => (0.6182505871163126, 0.567889638849354, 0.71897248365023)\n"
     ]
    },
    {
     "name": "stderr",
     "output_type": "stream",
     "text": [
      "COMET WARNING: Cannot safely convert (0.6168685842664842, 0.5700584366386667, 0.7104888795221191) object to a scalar value, using its string representation for logging. Resulting string might be invalid\n"
     ]
    },
    {
     "name": "stdout",
     "output_type": "stream",
     "text": [
      "num_layers=2 factor=12 n_heads=1 => (0.6168685842664842, 0.5700584366386667, 0.7104888795221191)\n"
     ]
    },
    {
     "name": "stderr",
     "output_type": "stream",
     "text": [
      "COMET WARNING: Cannot safely convert (0.6199736328927483, 0.5641092404769874, 0.7317024177242701) object to a scalar value, using its string representation for logging. Resulting string might be invalid\n"
     ]
    },
    {
     "name": "stdout",
     "output_type": "stream",
     "text": [
      "num_layers=2 factor=12 n_heads=2 => (0.6199736328927483, 0.5641092404769874, 0.7317024177242701)\n"
     ]
    },
    {
     "name": "stderr",
     "output_type": "stream",
     "text": [
      "COMET WARNING: Cannot safely convert (0.6089368254575869, 0.5646566624110423, 0.697497151550676) object to a scalar value, using its string representation for logging. Resulting string might be invalid\n"
     ]
    },
    {
     "name": "stdout",
     "output_type": "stream",
     "text": [
      "num_layers=2 factor=12 n_heads=4 => (0.6089368254575869, 0.5646566624110423, 0.697497151550676)\n"
     ]
    },
    {
     "name": "stderr",
     "output_type": "stream",
     "text": [
      "COMET WARNING: Cannot safely convert (0.6133765437005937, 0.5604797835758121, 0.7191700639501571) object to a scalar value, using its string representation for logging. Resulting string might be invalid\n"
     ]
    },
    {
     "name": "stdout",
     "output_type": "stream",
     "text": [
      "num_layers=2 factor=12 n_heads=8 => (0.6133765437005937, 0.5604797835758121, 0.7191700639501571)\n"
     ]
    },
    {
     "name": "stderr",
     "output_type": "stream",
     "text": [
      "COMET WARNING: Cannot safely convert (0.6188130588763835, 0.5691120420643201, 0.7182150925005103) object to a scalar value, using its string representation for logging. Resulting string might be invalid\n"
     ]
    },
    {
     "name": "stdout",
     "output_type": "stream",
     "text": [
      "num_layers=2 factor=12 n_heads=16 => (0.6188130588763835, 0.5691120420643201, 0.7182150925005103)\n"
     ]
    },
    {
     "name": "stderr",
     "output_type": "stream",
     "text": [
      "COMET WARNING: Cannot safely convert (0.6121500243936395, 0.5769425263986088, 0.6825650203837009) object to a scalar value, using its string representation for logging. Resulting string might be invalid\n"
     ]
    },
    {
     "name": "stdout",
     "output_type": "stream",
     "text": [
      "num_layers=2 factor=12 n_heads=32 => (0.6121500243936395, 0.5769425263986088, 0.6825650203837009)\n"
     ]
    },
    {
     "name": "stderr",
     "output_type": "stream",
     "text": [
      "COMET WARNING: Cannot safely convert (0.6073317647488394, 0.5656984940841449, 0.6905983060782286) object to a scalar value, using its string representation for logging. Resulting string might be invalid\n"
     ]
    },
    {
     "name": "stdout",
     "output_type": "stream",
     "text": [
      "num_layers=2 factor=15 n_heads=1 => (0.6073317647488394, 0.5656984940841449, 0.6905983060782286)\n"
     ]
    },
    {
     "name": "stderr",
     "output_type": "stream",
     "text": [
      "COMET WARNING: Cannot safely convert (0.6196933441796225, 0.5676461761645846, 0.7237876802096985) object to a scalar value, using its string representation for logging. Resulting string might be invalid\n"
     ]
    },
    {
     "name": "stdout",
     "output_type": "stream",
     "text": [
      "num_layers=2 factor=15 n_heads=2 => (0.6196933441796225, 0.5676461761645846, 0.7237876802096985)\n"
     ]
    },
    {
     "name": "stderr",
     "output_type": "stream",
     "text": [
      "COMET WARNING: Cannot safely convert (0.6131605138788618, 0.5701541252707649, 0.6991732910950559) object to a scalar value, using its string representation for logging. Resulting string might be invalid\n"
     ]
    },
    {
     "name": "stdout",
     "output_type": "stream",
     "text": [
      "num_layers=2 factor=15 n_heads=4 => (0.6131605138788618, 0.5701541252707649, 0.6991732910950559)\n"
     ]
    },
    {
     "name": "stderr",
     "output_type": "stream",
     "text": [
      "COMET WARNING: Cannot safely convert (0.6132601344824309, 0.5702138217899015, 0.6993527598674896) object to a scalar value, using its string representation for logging. Resulting string might be invalid\n"
     ]
    },
    {
     "name": "stdout",
     "output_type": "stream",
     "text": [
      "num_layers=2 factor=15 n_heads=8 => (0.6132601344824309, 0.5702138217899015, 0.6993527598674896)\n"
     ]
    },
    {
     "name": "stderr",
     "output_type": "stream",
     "text": [
      "COMET WARNING: Cannot safely convert (0.6202657511605192, 0.5657534809594474, 0.7292902915626626) object to a scalar value, using its string representation for logging. Resulting string might be invalid\n"
     ]
    },
    {
     "name": "stdout",
     "output_type": "stream",
     "text": [
      "num_layers=2 factor=15 n_heads=16 => (0.6202657511605192, 0.5657534809594474, 0.7292902915626626)\n"
     ]
    },
    {
     "name": "stderr",
     "output_type": "stream",
     "text": [
      "COMET WARNING: Cannot safely convert (0.6169475245089616, 0.5687563269710334, 0.7133299195848181) object to a scalar value, using its string representation for logging. Resulting string might be invalid\n"
     ]
    },
    {
     "name": "stdout",
     "output_type": "stream",
     "text": [
      "num_layers=2 factor=15 n_heads=32 => (0.6169475245089616, 0.5687563269710334, 0.7133299195848181)\n"
     ]
    },
    {
     "name": "stderr",
     "output_type": "stream",
     "text": [
      "COMET WARNING: Cannot safely convert (0.6353683828299158, 0.5848559225723565, 0.7363933033450345) object to a scalar value, using its string representation for logging. Resulting string might be invalid\n"
     ]
    },
    {
     "name": "stdout",
     "output_type": "stream",
     "text": [
      "num_layers=3 factor=1 n_heads=1 => (0.6353683828299158, 0.5848559225723565, 0.7363933033450345)\n"
     ]
    },
    {
     "name": "stderr",
     "output_type": "stream",
     "text": [
      "COMET WARNING: Cannot safely convert (0.6300313619191616, 0.5808336923778765, 0.728426701001732) object to a scalar value, using its string representation for logging. Resulting string might be invalid\n"
     ]
    },
    {
     "name": "stdout",
     "output_type": "stream",
     "text": [
      "num_layers=3 factor=1 n_heads=2 => (0.6300313619191616, 0.5808336923778765, 0.728426701001732)\n"
     ]
    },
    {
     "name": "stderr",
     "output_type": "stream",
     "text": [
      "COMET WARNING: Cannot safely convert (0.6340420991144905, 0.5819646252551773, 0.738197046833117) object to a scalar value, using its string representation for logging. Resulting string might be invalid\n"
     ]
    },
    {
     "name": "stdout",
     "output_type": "stream",
     "text": [
      "num_layers=3 factor=1 n_heads=4 => (0.6340420991144905, 0.5819646252551773, 0.738197046833117)\n"
     ]
    },
    {
     "name": "stderr",
     "output_type": "stream",
     "text": [
      "COMET WARNING: Cannot safely convert (0.6287580965995041, 0.5771048207621883, 0.732064648274136) object to a scalar value, using its string representation for logging. Resulting string might be invalid\n"
     ]
    },
    {
     "name": "stdout",
     "output_type": "stream",
     "text": [
      "num_layers=3 factor=1 n_heads=8 => (0.6287580965995041, 0.5771048207621883, 0.732064648274136)\n"
     ]
    },
    {
     "name": "stderr",
     "output_type": "stream",
     "text": [
      "COMET WARNING: Cannot safely convert (0.6314657520418732, 0.5754142474441201, 0.7435687612373795) object to a scalar value, using its string representation for logging. Resulting string might be invalid\n"
     ]
    },
    {
     "name": "stdout",
     "output_type": "stream",
     "text": [
      "num_layers=3 factor=1 n_heads=16 => (0.6314657520418732, 0.5754142474441201, 0.7435687612373795)\n"
     ]
    },
    {
     "name": "stderr",
     "output_type": "stream",
     "text": [
      "COMET WARNING: Cannot safely convert (0.6362962527692213, 0.5781885093724217, 0.7525117395628207) object to a scalar value, using its string representation for logging. Resulting string might be invalid\n"
     ]
    },
    {
     "name": "stdout",
     "output_type": "stream",
     "text": [
      "num_layers=3 factor=1 n_heads=32 => (0.6362962527692213, 0.5781885093724217, 0.7525117395628207)\n"
     ]
    },
    {
     "name": "stderr",
     "output_type": "stream",
     "text": [
      "COMET WARNING: Cannot safely convert (0.62932199431907, 0.5712222348777765, 0.745521513201657) object to a scalar value, using its string representation for logging. Resulting string might be invalid\n"
     ]
    },
    {
     "name": "stdout",
     "output_type": "stream",
     "text": [
      "num_layers=3 factor=2 n_heads=1 => (0.62932199431907, 0.5712222348777765, 0.745521513201657)\n"
     ]
    },
    {
     "name": "stderr",
     "output_type": "stream",
     "text": [
      "COMET WARNING: Cannot safely convert (0.6161026857170552, 0.5791026741626268, 0.690102708825912) object to a scalar value, using its string representation for logging. Resulting string might be invalid\n"
     ]
    },
    {
     "name": "stdout",
     "output_type": "stream",
     "text": [
      "num_layers=3 factor=2 n_heads=2 => (0.6161026857170552, 0.5791026741626268, 0.690102708825912)\n"
     ]
    },
    {
     "name": "stderr",
     "output_type": "stream",
     "text": [
      "COMET WARNING: Cannot safely convert (0.6255722919195374, 0.5792447172446783, 0.7182274412692559) object to a scalar value, using its string representation for logging. Resulting string might be invalid\n"
     ]
    },
    {
     "name": "stdout",
     "output_type": "stream",
     "text": [
      "num_layers=3 factor=2 n_heads=4 => (0.6255722919195374, 0.5792447172446783, 0.7182274412692559)\n"
     ]
    },
    {
     "name": "stderr",
     "output_type": "stream",
     "text": [
      "COMET WARNING: Cannot safely convert (0.6267794335297738, 0.5778204638743548, 0.724697372840612) object to a scalar value, using its string representation for logging. Resulting string might be invalid\n"
     ]
    },
    {
     "name": "stdout",
     "output_type": "stream",
     "text": [
      "num_layers=3 factor=2 n_heads=8 => (0.6267794335297738, 0.5778204638743548, 0.724697372840612)\n"
     ]
    },
    {
     "name": "stderr",
     "output_type": "stream",
     "text": [
      "COMET WARNING: Cannot safely convert (0.630593835000883, 0.5757960950726344, 0.74018931485738) object to a scalar value, using its string representation for logging. Resulting string might be invalid\n"
     ]
    },
    {
     "name": "stdout",
     "output_type": "stream",
     "text": [
      "num_layers=3 factor=2 n_heads=16 => (0.630593835000883, 0.5757960950726344, 0.74018931485738)\n"
     ]
    },
    {
     "name": "stderr",
     "output_type": "stream",
     "text": [
      "COMET WARNING: Cannot safely convert (0.6249519938852948, 0.5728816351965743, 0.7290927112627357) object to a scalar value, using its string representation for logging. Resulting string might be invalid\n"
     ]
    },
    {
     "name": "stdout",
     "output_type": "stream",
     "text": [
      "num_layers=3 factor=2 n_heads=32 => (0.6249519938852948, 0.5728816351965743, 0.7290927112627357)\n"
     ]
    },
    {
     "name": "stderr",
     "output_type": "stream",
     "text": [
      "COMET WARNING: Cannot safely convert (0.6301323297141307, 0.5776756740465546, 0.735045641049283) object to a scalar value, using its string representation for logging. Resulting string might be invalid\n"
     ]
    },
    {
     "name": "stdout",
     "output_type": "stream",
     "text": [
      "num_layers=3 factor=5 n_heads=1 => (0.6301323297141307, 0.5776756740465546, 0.735045641049283)\n"
     ]
    },
    {
     "name": "stderr",
     "output_type": "stream",
     "text": [
      "COMET WARNING: Cannot safely convert (0.6263005725659485, 0.5797089975107772, 0.719483722676291) object to a scalar value, using its string representation for logging. Resulting string might be invalid\n"
     ]
    },
    {
     "name": "stdout",
     "output_type": "stream",
     "text": [
      "num_layers=3 factor=5 n_heads=2 => (0.6263005725659485, 0.5797089975107772, 0.719483722676291)\n"
     ]
    },
    {
     "name": "stderr",
     "output_type": "stream",
     "text": [
      "COMET WARNING: Cannot safely convert (0.6242949767065072, 0.5651829071127519, 0.742519115894018) object to a scalar value, using its string representation for logging. Resulting string might be invalid\n"
     ]
    },
    {
     "name": "stdout",
     "output_type": "stream",
     "text": [
      "num_layers=3 factor=5 n_heads=4 => (0.6242949767065072, 0.5651829071127519, 0.742519115894018)\n"
     ]
    },
    {
     "name": "stderr",
     "output_type": "stream",
     "text": [
      "COMET WARNING: Cannot safely convert (0.6189603436584807, 0.5833936889566386, 0.6900936530621653) object to a scalar value, using its string representation for logging. Resulting string might be invalid\n"
     ]
    },
    {
     "name": "stdout",
     "output_type": "stream",
     "text": [
      "num_layers=3 factor=5 n_heads=8 => (0.6189603436584807, 0.5833936889566386, 0.6900936530621653)\n"
     ]
    },
    {
     "name": "stderr",
     "output_type": "stream",
     "text": [
      "COMET WARNING: Cannot safely convert (0.618034259944098, 0.5665035656045497, 0.7210956486231946) object to a scalar value, using its string representation for logging. Resulting string might be invalid\n"
     ]
    },
    {
     "name": "stdout",
     "output_type": "stream",
     "text": [
      "num_layers=3 factor=5 n_heads=16 => (0.618034259944098, 0.5665035656045497, 0.7210956486231946)\n"
     ]
    },
    {
     "name": "stderr",
     "output_type": "stream",
     "text": [
      "COMET WARNING: Cannot safely convert (0.6250423421382233, 0.5710384731973243, 0.7330500800200215) object to a scalar value, using its string representation for logging. Resulting string might be invalid\n"
     ]
    },
    {
     "name": "stdout",
     "output_type": "stream",
     "text": [
      "num_layers=3 factor=5 n_heads=32 => (0.6250423421382233, 0.5710384731973243, 0.7330500800200215)\n"
     ]
    },
    {
     "name": "stderr",
     "output_type": "stream",
     "text": [
      "COMET WARNING: Cannot safely convert (0.6238925118285983, 0.5637320842599518, 0.7442133669658911) object to a scalar value, using its string representation for logging. Resulting string might be invalid\n"
     ]
    },
    {
     "name": "stdout",
     "output_type": "stream",
     "text": [
      "num_layers=3 factor=8 n_heads=1 => (0.6238925118285983, 0.5637320842599518, 0.7442133669658911)\n"
     ]
    },
    {
     "name": "stderr",
     "output_type": "stream",
     "text": [
      "COMET WARNING: Cannot safely convert (0.6268632304281623, 0.5656558413152348, 0.7492780086540172) object to a scalar value, using its string representation for logging. Resulting string might be invalid\n"
     ]
    },
    {
     "name": "stdout",
     "output_type": "stream",
     "text": [
      "num_layers=3 factor=8 n_heads=2 => (0.6268632304281623, 0.5656558413152348, 0.7492780086540172)\n"
     ]
    },
    {
     "name": "stderr",
     "output_type": "stream",
     "text": [
      "COMET WARNING: Cannot safely convert (0.6243813419042125, 0.5780316867171037, 0.7170806522784301) object to a scalar value, using its string representation for logging. Resulting string might be invalid\n"
     ]
    },
    {
     "name": "stdout",
     "output_type": "stream",
     "text": [
      "num_layers=3 factor=8 n_heads=4 => (0.6243813419042125, 0.5780316867171037, 0.7170806522784301)\n"
     ]
    },
    {
     "name": "stderr",
     "output_type": "stream",
     "text": [
      "COMET WARNING: Cannot safely convert (0.6237128414236178, 0.5740784035173034, 0.7229817172362468) object to a scalar value, using its string representation for logging. Resulting string might be invalid\n"
     ]
    },
    {
     "name": "stdout",
     "output_type": "stream",
     "text": [
      "num_layers=3 factor=8 n_heads=8 => (0.6237128414236178, 0.5740784035173034, 0.7229817172362468)\n"
     ]
    },
    {
     "name": "stderr",
     "output_type": "stream",
     "text": [
      "COMET WARNING: Cannot safely convert (0.6163486746706999, 0.5725682842387732, 0.7039094555345535) object to a scalar value, using its string representation for logging. Resulting string might be invalid\n"
     ]
    },
    {
     "name": "stdout",
     "output_type": "stream",
     "text": [
      "num_layers=3 factor=8 n_heads=16 => (0.6163486746706999, 0.5725682842387732, 0.7039094555345535)\n"
     ]
    },
    {
     "name": "stderr",
     "output_type": "stream",
     "text": [
      "COMET WARNING: Cannot safely convert (0.6253110948043721, 0.5772879209462592, 0.7213574425205977) object to a scalar value, using its string representation for logging. Resulting string might be invalid\n"
     ]
    },
    {
     "name": "stdout",
     "output_type": "stream",
     "text": [
      "num_layers=3 factor=8 n_heads=32 => (0.6253110948043721, 0.5772879209462592, 0.7213574425205977)\n"
     ]
    },
    {
     "name": "stderr",
     "output_type": "stream",
     "text": [
      "COMET WARNING: Cannot safely convert (0.6230315362465767, 0.5805179834533559, 0.7080586418330183) object to a scalar value, using its string representation for logging. Resulting string might be invalid\n"
     ]
    },
    {
     "name": "stdout",
     "output_type": "stream",
     "text": [
      "num_layers=3 factor=12 n_heads=1 => (0.6230315362465767, 0.5805179834533559, 0.7080586418330183)\n"
     ]
    },
    {
     "name": "stderr",
     "output_type": "stream",
     "text": [
      "COMET WARNING: Cannot safely convert (0.6226689385171695, 0.5671498905171152, 0.7337070345172784) object to a scalar value, using its string representation for logging. Resulting string might be invalid\n"
     ]
    },
    {
     "name": "stdout",
     "output_type": "stream",
     "text": [
      "num_layers=3 factor=12 n_heads=2 => (0.6226689385171695, 0.5671498905171152, 0.7337070345172784)\n"
     ]
    },
    {
     "name": "stderr",
     "output_type": "stream",
     "text": [
      "COMET WARNING: Cannot safely convert (0.6232007022952039, 0.5652312186857966, 0.7391396695140183) object to a scalar value, using its string representation for logging. Resulting string might be invalid\n"
     ]
    },
    {
     "name": "stdout",
     "output_type": "stream",
     "text": [
      "num_layers=3 factor=12 n_heads=4 => (0.6232007022952039, 0.5652312186857966, 0.7391396695140183)\n"
     ]
    },
    {
     "name": "stderr",
     "output_type": "stream",
     "text": [
      "COMET WARNING: Cannot safely convert (0.6274795509108042, 0.5694806361918748, 0.7434773803486633) object to a scalar value, using its string representation for logging. Resulting string might be invalid\n"
     ]
    },
    {
     "name": "stdout",
     "output_type": "stream",
     "text": [
      "num_layers=3 factor=12 n_heads=8 => (0.6274795509108042, 0.5694806361918748, 0.7434773803486633)\n"
     ]
    },
    {
     "name": "stderr",
     "output_type": "stream",
     "text": [
      "COMET WARNING: Cannot safely convert (0.6127052109890402, 0.5729403517022488, 0.6922349295626231) object to a scalar value, using its string representation for logging. Resulting string might be invalid\n"
     ]
    },
    {
     "name": "stdout",
     "output_type": "stream",
     "text": [
      "num_layers=3 factor=12 n_heads=16 => (0.6127052109890402, 0.5729403517022488, 0.6922349295626231)\n"
     ]
    },
    {
     "name": "stderr",
     "output_type": "stream",
     "text": [
      "COMET WARNING: Cannot safely convert (0.6193063443463789, 0.5758230115833538, 0.706273009872429) object to a scalar value, using its string representation for logging. Resulting string might be invalid\n"
     ]
    },
    {
     "name": "stdout",
     "output_type": "stream",
     "text": [
      "num_layers=3 factor=12 n_heads=32 => (0.6193063443463789, 0.5758230115833538, 0.706273009872429)\n"
     ]
    },
    {
     "name": "stderr",
     "output_type": "stream",
     "text": [
      "COMET WARNING: Cannot safely convert (0.6054971368981983, 0.574017223488462, 0.6684569637176709) object to a scalar value, using its string representation for logging. Resulting string might be invalid\n"
     ]
    },
    {
     "name": "stdout",
     "output_type": "stream",
     "text": [
      "num_layers=3 factor=15 n_heads=1 => (0.6054971368981983, 0.574017223488462, 0.6684569637176709)\n"
     ]
    },
    {
     "name": "stderr",
     "output_type": "stream",
     "text": [
      "COMET WARNING: Cannot safely convert (0.6164841232897462, 0.5777159041730131, 0.6940205615232125) object to a scalar value, using its string representation for logging. Resulting string might be invalid\n"
     ]
    },
    {
     "name": "stdout",
     "output_type": "stream",
     "text": [
      "num_layers=3 factor=15 n_heads=2 => (0.6164841232897462, 0.5777159041730131, 0.6940205615232125)\n"
     ]
    },
    {
     "name": "stderr",
     "output_type": "stream",
     "text": [
      "COMET WARNING: Cannot safely convert (0.6263473676024824, 0.5692378694388535, 0.7405663639297404) object to a scalar value, using its string representation for logging. Resulting string might be invalid\n"
     ]
    },
    {
     "name": "stdout",
     "output_type": "stream",
     "text": [
      "num_layers=3 factor=15 n_heads=4 => (0.6263473676024824, 0.5692378694388535, 0.7405663639297404)\n"
     ]
    },
    {
     "name": "stderr",
     "output_type": "stream",
     "text": [
      "COMET WARNING: Cannot safely convert (0.6238138781952288, 0.578132581223901, 0.7151764721378847) object to a scalar value, using its string representation for logging. Resulting string might be invalid\n"
     ]
    },
    {
     "name": "stdout",
     "output_type": "stream",
     "text": [
      "num_layers=3 factor=15 n_heads=8 => (0.6238138781952288, 0.578132581223901, 0.7151764721378847)\n"
     ]
    },
    {
     "name": "stderr",
     "output_type": "stream",
     "text": [
      "COMET WARNING: Cannot safely convert (0.6247297251745563, 0.5646837129421266, 0.7448217496394158) object to a scalar value, using its string representation for logging. Resulting string might be invalid\n"
     ]
    },
    {
     "name": "stdout",
     "output_type": "stream",
     "text": [
      "num_layers=3 factor=15 n_heads=16 => (0.6247297251745563, 0.5646837129421266, 0.7448217496394158)\n"
     ]
    },
    {
     "name": "stderr",
     "output_type": "stream",
     "text": [
      "COMET WARNING: Cannot safely convert (0.6228650416005164, 0.5794408739783217, 0.709713376844906) object to a scalar value, using its string representation for logging. Resulting string might be invalid\n"
     ]
    },
    {
     "name": "stdout",
     "output_type": "stream",
     "text": [
      "num_layers=3 factor=15 n_heads=32 => (0.6228650416005164, 0.5794408739783217, 0.709713376844906)\n"
     ]
    },
    {
     "name": "stderr",
     "output_type": "stream",
     "text": [
      "COMET WARNING: Cannot safely convert (0.6366868400989818, 0.5810070477562365, 0.7480464247844728) object to a scalar value, using its string representation for logging. Resulting string might be invalid\n"
     ]
    },
    {
     "name": "stdout",
     "output_type": "stream",
     "text": [
      "num_layers=4 factor=1 n_heads=1 => (0.6366868400989818, 0.5810070477562365, 0.7480464247844728)\n"
     ]
    },
    {
     "name": "stderr",
     "output_type": "stream",
     "text": [
      "COMET WARNING: Cannot safely convert (0.6300195986800843, 0.5775963118817017, 0.7348661722768495) object to a scalar value, using its string representation for logging. Resulting string might be invalid\n"
     ]
    },
    {
     "name": "stdout",
     "output_type": "stream",
     "text": [
      "num_layers=4 factor=1 n_heads=2 => (0.6300195986800843, 0.5775963118817017, 0.7348661722768495)\n"
     ]
    },
    {
     "name": "stderr",
     "output_type": "stream",
     "text": [
      "COMET WARNING: Cannot safely convert (0.6375244525478907, 0.5809874269925719, 0.7505985036585286) object to a scalar value, using its string representation for logging. Resulting string might be invalid\n"
     ]
    },
    {
     "name": "stdout",
     "output_type": "stream",
     "text": [
      "num_layers=4 factor=1 n_heads=4 => (0.6375244525478907, 0.5809874269925719, 0.7505985036585286)\n"
     ]
    },
    {
     "name": "stderr",
     "output_type": "stream",
     "text": [
      "COMET WARNING: Cannot safely convert (0.6386206943752829, 0.5886970933157909, 0.7384678964942669) object to a scalar value, using its string representation for logging. Resulting string might be invalid\n"
     ]
    },
    {
     "name": "stdout",
     "output_type": "stream",
     "text": [
      "num_layers=4 factor=1 n_heads=8 => (0.6386206943752829, 0.5886970933157909, 0.7384678964942669)\n"
     ]
    },
    {
     "name": "stderr",
     "output_type": "stream",
     "text": [
      "COMET WARNING: Cannot safely convert (0.6311887147327915, 0.5791902752183217, 0.7351855937617313) object to a scalar value, using its string representation for logging. Resulting string might be invalid\n"
     ]
    },
    {
     "name": "stdout",
     "output_type": "stream",
     "text": [
      "num_layers=4 factor=1 n_heads=16 => (0.6311887147327915, 0.5791902752183217, 0.7351855937617313)\n"
     ]
    },
    {
     "name": "stderr",
     "output_type": "stream",
     "text": [
      "COMET WARNING: Cannot safely convert (0.6353298353700653, 0.5824954676371826, 0.7409985708358306) object to a scalar value, using its string representation for logging. Resulting string might be invalid\n"
     ]
    },
    {
     "name": "stdout",
     "output_type": "stream",
     "text": [
      "num_layers=4 factor=1 n_heads=32 => (0.6353298353700653, 0.5824954676371826, 0.7409985708358306)\n"
     ]
    },
    {
     "name": "stderr",
     "output_type": "stream",
     "text": [
      "COMET WARNING: Cannot safely convert (0.6224629495935297, 0.5791966735127088, 0.7089955017551717) object to a scalar value, using its string representation for logging. Resulting string might be invalid\n"
     ]
    },
    {
     "name": "stdout",
     "output_type": "stream",
     "text": [
      "num_layers=4 factor=2 n_heads=1 => (0.6224629495935297, 0.5791966735127088, 0.7089955017551717)\n"
     ]
    },
    {
     "name": "stderr",
     "output_type": "stream",
     "text": [
      "COMET WARNING: Cannot safely convert (0.6241516506822774, 0.5807076587193335, 0.7110396346081653) object to a scalar value, using its string representation for logging. Resulting string might be invalid\n"
     ]
    },
    {
     "name": "stdout",
     "output_type": "stream",
     "text": [
      "num_layers=4 factor=2 n_heads=2 => (0.6241516506822774, 0.5807076587193335, 0.7110396346081653)\n"
     ]
    },
    {
     "name": "stderr",
     "output_type": "stream",
     "text": [
      "COMET WARNING: Cannot safely convert (0.6271907438627192, 0.5772511243229619, 0.727069982942234) object to a scalar value, using its string representation for logging. Resulting string might be invalid\n"
     ]
    },
    {
     "name": "stdout",
     "output_type": "stream",
     "text": [
      "num_layers=4 factor=2 n_heads=4 => (0.6271907438627192, 0.5772511243229619, 0.727069982942234)\n"
     ]
    },
    {
     "name": "stderr",
     "output_type": "stream",
     "text": [
      "COMET WARNING: Cannot safely convert (0.6248743372943871, 0.5712898840707588, 0.732043243741644) object to a scalar value, using its string representation for logging. Resulting string might be invalid\n"
     ]
    },
    {
     "name": "stdout",
     "output_type": "stream",
     "text": [
      "num_layers=4 factor=2 n_heads=8 => (0.6248743372943871, 0.5712898840707588, 0.732043243741644)\n"
     ]
    },
    {
     "name": "stderr",
     "output_type": "stream",
     "text": [
      "COMET WARNING: Cannot safely convert (0.6299039167047267, 0.5824767283405453, 0.7247582934330894) object to a scalar value, using its string representation for logging. Resulting string might be invalid\n"
     ]
    },
    {
     "name": "stdout",
     "output_type": "stream",
     "text": [
      "num_layers=4 factor=2 n_heads=16 => (0.6299039167047267, 0.5824767283405453, 0.7247582934330894)\n"
     ]
    },
    {
     "name": "stderr",
     "output_type": "stream",
     "text": [
      "COMET WARNING: Cannot safely convert (0.6238492385743293, 0.5705598454666232, 0.7304280247897416) object to a scalar value, using its string representation for logging. Resulting string might be invalid\n"
     ]
    },
    {
     "name": "stdout",
     "output_type": "stream",
     "text": [
      "num_layers=4 factor=2 n_heads=32 => (0.6238492385743293, 0.5705598454666232, 0.7304280247897416)\n"
     ]
    },
    {
     "name": "stderr",
     "output_type": "stream",
     "text": [
      "COMET WARNING: Cannot safely convert (0.5976001340345188, 0.5750827685419158, 0.6426348650197251) object to a scalar value, using its string representation for logging. Resulting string might be invalid\n"
     ]
    },
    {
     "name": "stdout",
     "output_type": "stream",
     "text": [
      "num_layers=4 factor=5 n_heads=1 => (0.5976001340345188, 0.5750827685419158, 0.6426348650197251)\n"
     ]
    },
    {
     "name": "stderr",
     "output_type": "stream",
     "text": [
      "COMET WARNING: Cannot safely convert (0.6264471686469518, 0.5751091671909405, 0.7291231715589745) object to a scalar value, using its string representation for logging. Resulting string might be invalid\n"
     ]
    },
    {
     "name": "stdout",
     "output_type": "stream",
     "text": [
      "num_layers=4 factor=5 n_heads=2 => (0.6264471686469518, 0.5751091671909405, 0.7291231715589745)\n"
     ]
    },
    {
     "name": "stderr",
     "output_type": "stream",
     "text": [
      "COMET WARNING: Cannot safely convert (0.6219722649691112, 0.5704211864971807, 0.7250744219129724) object to a scalar value, using its string representation for logging. Resulting string might be invalid\n"
     ]
    },
    {
     "name": "stdout",
     "output_type": "stream",
     "text": [
      "num_layers=4 factor=5 n_heads=4 => (0.6219722649691112, 0.5704211864971807, 0.7250744219129724)\n"
     ]
    },
    {
     "name": "stderr",
     "output_type": "stream",
     "text": [
      "COMET WARNING: Cannot safely convert (0.6179928566591683, 0.5730953889028182, 0.7077877921718685) object to a scalar value, using its string representation for logging. Resulting string might be invalid\n"
     ]
    },
    {
     "name": "stdout",
     "output_type": "stream",
     "text": [
      "num_layers=4 factor=5 n_heads=8 => (0.6179928566591683, 0.5730953889028182, 0.7077877921718685)\n"
     ]
    },
    {
     "name": "stderr",
     "output_type": "stream",
     "text": [
      "COMET WARNING: Cannot safely convert (0.6193856081131117, 0.5744316528158868, 0.7092935187075615) object to a scalar value, using its string representation for logging. Resulting string might be invalid\n"
     ]
    },
    {
     "name": "stdout",
     "output_type": "stream",
     "text": [
      "num_layers=4 factor=5 n_heads=16 => (0.6193856081131117, 0.5744316528158868, 0.7092935187075615)\n"
     ]
    },
    {
     "name": "stderr",
     "output_type": "stream",
     "text": [
      "COMET WARNING: Cannot safely convert (0.6377992356548272, 0.5765206031216568, 0.7603565007211681) object to a scalar value, using its string representation for logging. Resulting string might be invalid\n"
     ]
    },
    {
     "name": "stdout",
     "output_type": "stream",
     "text": [
      "num_layers=4 factor=5 n_heads=32 => (0.6377992356548272, 0.5765206031216568, 0.7603565007211681)\n"
     ]
    },
    {
     "name": "stderr",
     "output_type": "stream",
     "text": [
      "COMET WARNING: Cannot safely convert (0.6177404212112099, 0.5684004294287276, 0.7164204047761744) object to a scalar value, using its string representation for logging. Resulting string might be invalid\n"
     ]
    },
    {
     "name": "stdout",
     "output_type": "stream",
     "text": [
      "num_layers=4 factor=8 n_heads=1 => (0.6177404212112099, 0.5684004294287276, 0.7164204047761744)\n"
     ]
    },
    {
     "name": "stderr",
     "output_type": "stream",
     "text": [
      "COMET WARNING: Cannot safely convert (0.6315614009973121, 0.5724079615959438, 0.7498682798000488) object to a scalar value, using its string representation for logging. Resulting string might be invalid\n"
     ]
    },
    {
     "name": "stdout",
     "output_type": "stream",
     "text": [
      "num_layers=4 factor=8 n_heads=2 => (0.6315614009973121, 0.5724079615959438, 0.7498682798000488)\n"
     ]
    },
    {
     "name": "stderr",
     "output_type": "stream",
     "text": [
      "COMET WARNING: Cannot safely convert (0.6261404514727519, 0.5800619683963879, 0.7182974176254799) object to a scalar value, using its string representation for logging. Resulting string might be invalid\n"
     ]
    },
    {
     "name": "stdout",
     "output_type": "stream",
     "text": [
      "num_layers=4 factor=8 n_heads=4 => (0.6261404514727519, 0.5800619683963879, 0.7182974176254799)\n"
     ]
    },
    {
     "name": "stderr",
     "output_type": "stream",
     "text": [
      "COMET WARNING: Cannot safely convert (0.623587529814725, 0.5674859530069588, 0.7357906834302574) object to a scalar value, using its string representation for logging. Resulting string might be invalid\n"
     ]
    },
    {
     "name": "stdout",
     "output_type": "stream",
     "text": [
      "num_layers=4 factor=8 n_heads=8 => (0.623587529814725, 0.5674859530069588, 0.7357906834302574)\n"
     ]
    },
    {
     "name": "stderr",
     "output_type": "stream",
     "text": [
      "COMET WARNING: Cannot safely convert (0.6150025280231851, 0.5652958980431946, 0.7144157879831662) object to a scalar value, using its string representation for logging. Resulting string might be invalid\n"
     ]
    },
    {
     "name": "stdout",
     "output_type": "stream",
     "text": [
      "num_layers=4 factor=8 n_heads=16 => (0.6150025280231851, 0.5652958980431946, 0.7144157879831662)\n"
     ]
    },
    {
     "name": "stderr",
     "output_type": "stream",
     "text": [
      "COMET WARNING: Cannot safely convert (0.6301561729545984, 0.571287197780258, 0.7478941233032791) object to a scalar value, using its string representation for logging. Resulting string might be invalid\n"
     ]
    },
    {
     "name": "stdout",
     "output_type": "stream",
     "text": [
      "num_layers=4 factor=8 n_heads=32 => (0.6301561729545984, 0.571287197780258, 0.7478941233032791)\n"
     ]
    },
    {
     "name": "stderr",
     "output_type": "stream",
     "text": [
      "COMET WARNING: Cannot safely convert (0.62142565366239, 0.5771175534468178, 0.7100418540935345) object to a scalar value, using its string representation for logging. Resulting string might be invalid\n"
     ]
    },
    {
     "name": "stdout",
     "output_type": "stream",
     "text": [
      "num_layers=4 factor=12 n_heads=1 => (0.62142565366239, 0.5771175534468178, 0.7100418540935345)\n"
     ]
    },
    {
     "name": "stderr",
     "output_type": "stream",
     "text": [
      "COMET WARNING: Cannot safely convert (0.6198226395918283, 0.5827829527161144, 0.6939020133432563) object to a scalar value, using its string representation for logging. Resulting string might be invalid\n"
     ]
    },
    {
     "name": "stdout",
     "output_type": "stream",
     "text": [
      "num_layers=4 factor=12 n_heads=2 => (0.6198226395918283, 0.5827829527161144, 0.6939020133432563)\n"
     ]
    },
    {
     "name": "stderr",
     "output_type": "stream",
     "text": [
      "COMET WARNING: Cannot safely convert (0.620949296994828, 0.5802858829646631, 0.7022761250551579) object to a scalar value, using its string representation for logging. Resulting string might be invalid\n"
     ]
    },
    {
     "name": "stdout",
     "output_type": "stream",
     "text": [
      "num_layers=4 factor=12 n_heads=4 => (0.620949296994828, 0.5802858829646631, 0.7022761250551579)\n"
     ]
    },
    {
     "name": "stderr",
     "output_type": "stream",
     "text": [
      "COMET WARNING: Cannot safely convert (0.6235258726564609, 0.5714953166211699, 0.7275869847270429) object to a scalar value, using its string representation for logging. Resulting string might be invalid\n"
     ]
    },
    {
     "name": "stdout",
     "output_type": "stream",
     "text": [
      "num_layers=4 factor=12 n_heads=8 => (0.6235258726564609, 0.5714953166211699, 0.7275869847270429)\n"
     ]
    },
    {
     "name": "stderr",
     "output_type": "stream",
     "text": [
      "COMET WARNING: Cannot safely convert (0.626036857315193, 0.5799963115462663, 0.7181179488530464) object to a scalar value, using its string representation for logging. Resulting string might be invalid\n"
     ]
    },
    {
     "name": "stdout",
     "output_type": "stream",
     "text": [
      "num_layers=4 factor=12 n_heads=16 => (0.626036857315193, 0.5799963115462663, 0.7181179488530464)\n"
     ]
    },
    {
     "name": "stderr",
     "output_type": "stream",
     "text": [
      "COMET WARNING: Cannot safely convert (0.6159219787107716, 0.5732940141221253, 0.7011779078880642) object to a scalar value, using its string representation for logging. Resulting string might be invalid\n"
     ]
    },
    {
     "name": "stdout",
     "output_type": "stream",
     "text": [
      "num_layers=4 factor=12 n_heads=32 => (0.6159219787107716, 0.5732940141221253, 0.7011779078880642)\n"
     ]
    },
    {
     "name": "stderr",
     "output_type": "stream",
     "text": [
      "COMET WARNING: Cannot safely convert (0.6183161236689263, 0.5841520703404186, 0.6866442303259417) object to a scalar value, using its string representation for logging. Resulting string might be invalid\n"
     ]
    },
    {
     "name": "stdout",
     "output_type": "stream",
     "text": [
      "num_layers=4 factor=15 n_heads=1 => (0.6183161236689263, 0.5841520703404186, 0.6866442303259417)\n"
     ]
    },
    {
     "name": "stderr",
     "output_type": "stream",
     "text": [
      "COMET WARNING: Cannot safely convert (0.6195902515823891, 0.5660162710292803, 0.7267382126886068) object to a scalar value, using its string representation for logging. Resulting string might be invalid\n"
     ]
    },
    {
     "name": "stdout",
     "output_type": "stream",
     "text": [
      "num_layers=4 factor=15 n_heads=2 => (0.6195902515823891, 0.5660162710292803, 0.7267382126886068)\n"
     ]
    },
    {
     "name": "stderr",
     "output_type": "stream",
     "text": [
      "COMET WARNING: Cannot safely convert (0.6151066798795214, 0.5703615846552575, 0.7045968703280492) object to a scalar value, using its string representation for logging. Resulting string might be invalid\n"
     ]
    },
    {
     "name": "stdout",
     "output_type": "stream",
     "text": [
      "num_layers=4 factor=15 n_heads=4 => (0.6151066798795214, 0.5703615846552575, 0.7045968703280492)\n"
     ]
    },
    {
     "name": "stderr",
     "output_type": "stream",
     "text": [
      "COMET WARNING: Cannot safely convert (0.602697804627216, 0.5720068385293038, 0.6640797368230404) object to a scalar value, using its string representation for logging. Resulting string might be invalid\n"
     ]
    },
    {
     "name": "stdout",
     "output_type": "stream",
     "text": [
      "num_layers=4 factor=15 n_heads=8 => (0.602697804627216, 0.5720068385293038, 0.6640797368230404)\n"
     ]
    },
    {
     "name": "stderr",
     "output_type": "stream",
     "text": [
      "COMET WARNING: Cannot safely convert (0.6197315294006707, 0.5710129240199322, 0.7171687401621476) object to a scalar value, using its string representation for logging. Resulting string might be invalid\n"
     ]
    },
    {
     "name": "stdout",
     "output_type": "stream",
     "text": [
      "num_layers=4 factor=15 n_heads=16 => (0.6197315294006707, 0.5710129240199322, 0.7171687401621476)\n"
     ]
    },
    {
     "name": "stderr",
     "output_type": "stream",
     "text": [
      "COMET WARNING: Cannot safely convert (0.6238221241219762, 0.563950452066774, 0.7435654682323808) object to a scalar value, using its string representation for logging. Resulting string might be invalid\n"
     ]
    },
    {
     "name": "stdout",
     "output_type": "stream",
     "text": [
      "num_layers=4 factor=15 n_heads=32 => (0.6238221241219762, 0.563950452066774, 0.7435654682323808)\n"
     ]
    },
    {
     "name": "stderr",
     "output_type": "stream",
     "text": [
      "COMET WARNING: Cannot safely convert (0.6267166041218216, 0.5733551672521688, 0.7334394778611273) object to a scalar value, using its string representation for logging. Resulting string might be invalid\n"
     ]
    },
    {
     "name": "stdout",
     "output_type": "stream",
     "text": [
      "num_layers=5 factor=1 n_heads=1 => (0.6267166041218216, 0.5733551672521688, 0.7334394778611273)\n"
     ]
    },
    {
     "name": "stderr",
     "output_type": "stream",
     "text": [
      "COMET WARNING: Cannot safely convert (0.6372258658470173, 0.5780726745715496, 0.755532248397953) object to a scalar value, using its string representation for logging. Resulting string might be invalid\n"
     ]
    },
    {
     "name": "stdout",
     "output_type": "stream",
     "text": [
      "num_layers=5 factor=1 n_heads=2 => (0.6372258658470173, 0.5780726745715496, 0.755532248397953)\n"
     ]
    },
    {
     "name": "stderr",
     "output_type": "stream",
     "text": [
      "COMET WARNING: Cannot safely convert (0.6296950021678365, 0.5797709884035952, 0.729543029696319) object to a scalar value, using its string representation for logging. Resulting string might be invalid\n"
     ]
    },
    {
     "name": "stdout",
     "output_type": "stream",
     "text": [
      "num_layers=5 factor=1 n_heads=4 => (0.6296950021678365, 0.5797709884035952, 0.729543029696319)\n"
     ]
    },
    {
     "name": "stderr",
     "output_type": "stream",
     "text": [
      "COMET WARNING: Cannot safely convert (0.6376560536745126, 0.5807711449295327, 0.7514258711644723) object to a scalar value, using its string representation for logging. Resulting string might be invalid\n"
     ]
    },
    {
     "name": "stdout",
     "output_type": "stream",
     "text": [
      "num_layers=5 factor=1 n_heads=8 => (0.6376560536745126, 0.5807711449295327, 0.7514258711644723)\n"
     ]
    },
    {
     "name": "stderr",
     "output_type": "stream",
     "text": [
      "COMET WARNING: Cannot safely convert (0.6315007352607661, 0.5700295593938461, 0.754443086994606) object to a scalar value, using its string representation for logging. Resulting string might be invalid\n"
     ]
    },
    {
     "name": "stdout",
     "output_type": "stream",
     "text": [
      "num_layers=5 factor=1 n_heads=16 => (0.6315007352607661, 0.5700295593938461, 0.754443086994606)\n"
     ]
    },
    {
     "name": "stderr",
     "output_type": "stream",
     "text": [
      "COMET WARNING: Cannot safely convert (0.636702061308703, 0.5834769939105376, 0.7431521961050338) object to a scalar value, using its string representation for logging. Resulting string might be invalid\n"
     ]
    },
    {
     "name": "stdout",
     "output_type": "stream",
     "text": [
      "num_layers=5 factor=1 n_heads=32 => (0.636702061308703, 0.5834769939105376, 0.7431521961050338)\n"
     ]
    },
    {
     "name": "stderr",
     "output_type": "stream",
     "text": [
      "COMET WARNING: Cannot safely convert (0.6289377326125559, 0.5870137236644494, 0.7127857505087691) object to a scalar value, using its string representation for logging. Resulting string might be invalid\n"
     ]
    },
    {
     "name": "stdout",
     "output_type": "stream",
     "text": [
      "num_layers=5 factor=2 n_heads=1 => (0.6289377326125559, 0.5870137236644494, 0.7127857505087691)\n"
     ]
    },
    {
     "name": "stderr",
     "output_type": "stream",
     "text": [
      "COMET WARNING: Cannot safely convert (0.6261002953725953, 0.575685427944, 0.7269300302297859) object to a scalar value, using its string representation for logging. Resulting string might be invalid\n"
     ]
    },
    {
     "name": "stdout",
     "output_type": "stream",
     "text": [
      "num_layers=5 factor=2 n_heads=2 => (0.6261002953725953, 0.575685427944, 0.7269300302297859)\n"
     ]
    },
    {
     "name": "stderr",
     "output_type": "stream",
     "text": [
      "COMET WARNING: Cannot safely convert (0.6285719857237386, 0.5829761645350143, 0.7197636281011874) object to a scalar value, using its string representation for logging. Resulting string might be invalid\n"
     ]
    },
    {
     "name": "stdout",
     "output_type": "stream",
     "text": [
      "num_layers=5 factor=2 n_heads=4 => (0.6285719857237386, 0.5829761645350143, 0.7197636281011874)\n"
     ]
    },
    {
     "name": "stderr",
     "output_type": "stream",
     "text": [
      "COMET WARNING: Cannot safely convert (0.634613396233581, 0.5784505184235553, 0.7469391518536325) object to a scalar value, using its string representation for logging. Resulting string might be invalid\n"
     ]
    },
    {
     "name": "stdout",
     "output_type": "stream",
     "text": [
      "num_layers=5 factor=2 n_heads=8 => (0.634613396233581, 0.5784505184235553, 0.7469391518536325)\n"
     ]
    },
    {
     "name": "stderr",
     "output_type": "stream",
     "text": [
      "COMET WARNING: Cannot safely convert (0.6349816594722317, 0.5815047738293556, 0.741935430757984) object to a scalar value, using its string representation for logging. Resulting string might be invalid\n"
     ]
    },
    {
     "name": "stdout",
     "output_type": "stream",
     "text": [
      "num_layers=5 factor=2 n_heads=16 => (0.6349816594722317, 0.5815047738293556, 0.741935430757984)\n"
     ]
    },
    {
     "name": "stderr",
     "output_type": "stream",
     "text": [
      "COMET WARNING: Cannot safely convert (0.6372254627378946, 0.5890118441394426, 0.7336526999347984) object to a scalar value, using its string representation for logging. Resulting string might be invalid\n"
     ]
    },
    {
     "name": "stdout",
     "output_type": "stream",
     "text": [
      "num_layers=5 factor=2 n_heads=32 => (0.6372254627378946, 0.5890118441394426, 0.7336526999347984)\n"
     ]
    },
    {
     "name": "stderr",
     "output_type": "stream",
     "text": [
      "COMET WARNING: Cannot safely convert (0.6006532650972058, 0.5783909535807916, 0.6451778881300342) object to a scalar value, using its string representation for logging. Resulting string might be invalid\n"
     ]
    },
    {
     "name": "stdout",
     "output_type": "stream",
     "text": [
      "num_layers=5 factor=5 n_heads=1 => (0.6006532650972058, 0.5783909535807916, 0.6451778881300342)\n"
     ]
    },
    {
     "name": "stderr",
     "output_type": "stream",
     "text": [
      "COMET WARNING: Cannot safely convert (0.6076850637180641, 0.5810770137031129, 0.6609011637479665) object to a scalar value, using its string representation for logging. Resulting string might be invalid\n"
     ]
    },
    {
     "name": "stdout",
     "output_type": "stream",
     "text": [
      "num_layers=5 factor=5 n_heads=2 => (0.6076850637180641, 0.5810770137031129, 0.6609011637479665)\n"
     ]
    },
    {
     "name": "stderr",
     "output_type": "stream",
     "text": [
      "COMET WARNING: Cannot safely convert (0.6296357176505414, 0.5874325605179098, 0.7140420319158044) object to a scalar value, using its string representation for logging. Resulting string might be invalid\n"
     ]
    },
    {
     "name": "stdout",
     "output_type": "stream",
     "text": [
      "num_layers=5 factor=5 n_heads=4 => (0.6296357176505414, 0.5874325605179098, 0.7140420319158044)\n"
     ]
    },
    {
     "name": "stderr",
     "output_type": "stream",
     "text": [
      "COMET WARNING: Cannot safely convert (0.6263808274431085, 0.5716454391532954, 0.735851604022735) object to a scalar value, using its string representation for logging. Resulting string might be invalid\n"
     ]
    },
    {
     "name": "stdout",
     "output_type": "stream",
     "text": [
      "num_layers=5 factor=5 n_heads=8 => (0.6263808274431085, 0.5716454391532954, 0.735851604022735)\n"
     ]
    },
    {
     "name": "stderr",
     "output_type": "stream",
     "text": [
      "COMET WARNING: Cannot safely convert (0.6143460190104777, 0.582055491960068, 0.6789270731112971) object to a scalar value, using its string representation for logging. Resulting string might be invalid\n"
     ]
    },
    {
     "name": "stdout",
     "output_type": "stream",
     "text": [
      "num_layers=5 factor=5 n_heads=16 => (0.6143460190104777, 0.582055491960068, 0.6789270731112971)\n"
     ]
    },
    {
     "name": "stderr",
     "output_type": "stream",
     "text": [
      "COMET WARNING: Cannot safely convert (0.6201023675796857, 0.5695555087316999, 0.7211960852756574) object to a scalar value, using its string representation for logging. Resulting string might be invalid\n"
     ]
    },
    {
     "name": "stdout",
     "output_type": "stream",
     "text": [
      "num_layers=5 factor=5 n_heads=32 => (0.6201023675796857, 0.5695555087316999, 0.7211960852756574)\n"
     ]
    },
    {
     "name": "stderr",
     "output_type": "stream",
     "text": [
      "COMET WARNING: Cannot safely convert (0.6335217640463442, 0.5848525302216004, 0.7308602316958317) object to a scalar value, using its string representation for logging. Resulting string might be invalid\n"
     ]
    },
    {
     "name": "stdout",
     "output_type": "stream",
     "text": [
      "num_layers=5 factor=8 n_heads=1 => (0.6335217640463442, 0.5848525302216004, 0.7308602316958317)\n"
     ]
    },
    {
     "name": "stderr",
     "output_type": "stream",
     "text": [
      "COMET WARNING: Cannot safely convert (0.6269380775789059, 0.5635156966221836, 0.7537828394923505) object to a scalar value, using its string representation for logging. Resulting string might be invalid\n"
     ]
    },
    {
     "name": "stdout",
     "output_type": "stream",
     "text": [
      "num_layers=5 factor=8 n_heads=2 => (0.6269380775789059, 0.5635156966221836, 0.7537828394923505)\n"
     ]
    },
    {
     "name": "stderr",
     "output_type": "stream",
     "text": [
      "COMET WARNING: Cannot safely convert (0.6183686573924643, 0.5738035705970838, 0.7074988309832254) object to a scalar value, using its string representation for logging. Resulting string might be invalid\n"
     ]
    },
    {
     "name": "stdout",
     "output_type": "stream",
     "text": [
      "num_layers=5 factor=8 n_heads=4 => (0.6183686573924643, 0.5738035705970838, 0.7074988309832254)\n"
     ]
    },
    {
     "name": "stderr",
     "output_type": "stream",
     "text": [
      "COMET WARNING: Cannot safely convert (0.6289750236890463, 0.5805602126478434, 0.7258046457714523) object to a scalar value, using its string representation for logging. Resulting string might be invalid\n"
     ]
    },
    {
     "name": "stdout",
     "output_type": "stream",
     "text": [
      "num_layers=5 factor=8 n_heads=8 => (0.6289750236890463, 0.5805602126478434, 0.7258046457714523)\n"
     ]
    },
    {
     "name": "stderr",
     "output_type": "stream",
     "text": [
      "COMET WARNING: Cannot safely convert (0.6110159480483037, 0.5752216538506125, 0.6826045364436863) object to a scalar value, using its string representation for logging. Resulting string might be invalid\n"
     ]
    },
    {
     "name": "stdout",
     "output_type": "stream",
     "text": [
      "num_layers=5 factor=8 n_heads=16 => (0.6110159480483037, 0.5752216538506125, 0.6826045364436863)\n"
     ]
    },
    {
     "name": "stderr",
     "output_type": "stream",
     "text": [
      "COMET WARNING: Cannot safely convert (0.6322505908986279, 0.5807131131108522, 0.7353255464741795) object to a scalar value, using its string representation for logging. Resulting string might be invalid\n"
     ]
    },
    {
     "name": "stdout",
     "output_type": "stream",
     "text": [
      "num_layers=5 factor=8 n_heads=32 => (0.6322505908986279, 0.5807131131108522, 0.7353255464741795)\n"
     ]
    },
    {
     "name": "stderr",
     "output_type": "stream",
     "text": [
      "COMET WARNING: Cannot safely convert (0.6266485429140625, 0.5768864948310607, 0.726172639080066) object to a scalar value, using its string representation for logging. Resulting string might be invalid\n"
     ]
    },
    {
     "name": "stdout",
     "output_type": "stream",
     "text": [
      "num_layers=5 factor=12 n_heads=1 => (0.6266485429140625, 0.5768864948310607, 0.726172639080066)\n"
     ]
    },
    {
     "name": "stderr",
     "output_type": "stream",
     "text": [
      "COMET WARNING: Cannot safely convert (0.6147841185296995, 0.5828571218332224, 0.6786381119226539) object to a scalar value, using its string representation for logging. Resulting string might be invalid\n"
     ]
    },
    {
     "name": "stdout",
     "output_type": "stream",
     "text": [
      "num_layers=5 factor=12 n_heads=2 => (0.6147841185296995, 0.5828571218332224, 0.6786381119226539)\n"
     ]
    },
    {
     "name": "stderr",
     "output_type": "stream",
     "text": [
      "COMET WARNING: Cannot safely convert (0.618781396667311, 0.5764910982742136, 0.703361993453506) object to a scalar value, using its string representation for logging. Resulting string might be invalid\n"
     ]
    },
    {
     "name": "stdout",
     "output_type": "stream",
     "text": [
      "num_layers=5 factor=12 n_heads=4 => (0.618781396667311, 0.5764910982742136, 0.703361993453506)\n"
     ]
    },
    {
     "name": "stderr",
     "output_type": "stream",
     "text": [
      "COMET WARNING: Cannot safely convert (0.6266591760705364, 0.5803913833619808, 0.7191947614876479) object to a scalar value, using its string representation for logging. Resulting string might be invalid\n"
     ]
    },
    {
     "name": "stdout",
     "output_type": "stream",
     "text": [
      "num_layers=5 factor=12 n_heads=8 => (0.6266591760705364, 0.5803913833619808, 0.7191947614876479)\n"
     ]
    },
    {
     "name": "stderr",
     "output_type": "stream",
     "text": [
      "COMET WARNING: Cannot safely convert (0.6218565509472012, 0.5719920848624201, 0.7215854831167633) object to a scalar value, using its string representation for logging. Resulting string might be invalid\n"
     ]
    },
    {
     "name": "stdout",
     "output_type": "stream",
     "text": [
      "num_layers=5 factor=12 n_heads=16 => (0.6218565509472012, 0.5719920848624201, 0.7215854831167633)\n"
     ]
    },
    {
     "name": "stderr",
     "output_type": "stream",
     "text": [
      "COMET WARNING: Cannot safely convert (0.6130315382175486, 0.5843058148047373, 0.6704829850431713) object to a scalar value, using its string representation for logging. Resulting string might be invalid\n"
     ]
    },
    {
     "name": "stdout",
     "output_type": "stream",
     "text": [
      "num_layers=5 factor=12 n_heads=32 => (0.6130315382175486, 0.5843058148047373, 0.6704829850431713)\n"
     ]
    },
    {
     "name": "stderr",
     "output_type": "stream",
     "text": [
      "COMET WARNING: Cannot safely convert (0.6336546083295076, 0.5764344141901591, 0.7480949966082049) object to a scalar value, using its string representation for logging. Resulting string might be invalid\n"
     ]
    },
    {
     "name": "stdout",
     "output_type": "stream",
     "text": [
      "num_layers=5 factor=15 n_heads=1 => (0.6336546083295076, 0.5764344141901591, 0.7480949966082049)\n"
     ]
    },
    {
     "name": "stderr",
     "output_type": "stream",
     "text": [
      "COMET WARNING: Cannot safely convert (0.6266923664724768, 0.5662816590957553, 0.7475137812259199) object to a scalar value, using its string representation for logging. Resulting string might be invalid\n"
     ]
    },
    {
     "name": "stdout",
     "output_type": "stream",
     "text": [
      "num_layers=5 factor=15 n_heads=2 => (0.6266923664724768, 0.5662816590957553, 0.7475137812259199)\n"
     ]
    },
    {
     "name": "stderr",
     "output_type": "stream",
     "text": [
      "COMET WARNING: Cannot safely convert (0.6253646686286647, 0.5791127510808027, 0.7178685037243887) object to a scalar value, using its string representation for logging. Resulting string might be invalid\n"
     ]
    },
    {
     "name": "stdout",
     "output_type": "stream",
     "text": [
      "num_layers=5 factor=15 n_heads=4 => (0.6253646686286647, 0.5791127510808027, 0.7178685037243887)\n"
     ]
    },
    {
     "name": "stderr",
     "output_type": "stream",
     "text": [
      "COMET WARNING: Cannot safely convert (0.6217482918583296, 0.5817733364485586, 0.7016982026778718) object to a scalar value, using its string representation for logging. Resulting string might be invalid\n"
     ]
    },
    {
     "name": "stdout",
     "output_type": "stream",
     "text": [
      "num_layers=5 factor=15 n_heads=8 => (0.6217482918583296, 0.5817733364485586, 0.7016982026778718)\n"
     ]
    },
    {
     "name": "stderr",
     "output_type": "stream",
     "text": [
      "COMET WARNING: Cannot safely convert (0.6231562334269278, 0.578187938527939, 0.7130928232249056) object to a scalar value, using its string representation for logging. Resulting string might be invalid\n"
     ]
    },
    {
     "name": "stdout",
     "output_type": "stream",
     "text": [
      "num_layers=5 factor=15 n_heads=16 => (0.6231562334269278, 0.578187938527939, 0.7130928232249056)\n"
     ]
    },
    {
     "name": "stderr",
     "output_type": "stream",
     "text": [
      "COMET WARNING: Cannot safely convert (0.6203049181995731, 0.5750030084696279, 0.7109087376594637) object to a scalar value, using its string representation for logging. Resulting string might be invalid\n"
     ]
    },
    {
     "name": "stdout",
     "output_type": "stream",
     "text": [
      "num_layers=5 factor=15 n_heads=32 => (0.6203049181995731, 0.5750030084696279, 0.7109087376594637)\n"
     ]
    },
    {
     "name": "stderr",
     "output_type": "stream",
     "text": [
      "COMET WARNING: Cannot safely convert (0.6321552066656697, 0.5772955549157514, 0.7418745101655064) object to a scalar value, using its string representation for logging. Resulting string might be invalid\n"
     ]
    },
    {
     "name": "stdout",
     "output_type": "stream",
     "text": [
      "num_layers=8 factor=1 n_heads=1 => (0.6321552066656697, 0.5772955549157514, 0.7418745101655064)\n"
     ]
    },
    {
     "name": "stderr",
     "output_type": "stream",
     "text": [
      "COMET WARNING: Cannot safely convert (0.6278462931392208, 0.5772823581674414, 0.7289741630827795) object to a scalar value, using its string representation for logging. Resulting string might be invalid\n"
     ]
    },
    {
     "name": "stdout",
     "output_type": "stream",
     "text": [
      "num_layers=8 factor=1 n_heads=2 => (0.6278462931392208, 0.5772823581674414, 0.7289741630827795)\n"
     ]
    },
    {
     "name": "stderr",
     "output_type": "stream",
     "text": [
      "COMET WARNING: Cannot safely convert (0.6322311078273531, 0.5744041279712635, 0.7478850675395325) object to a scalar value, using its string representation for logging. Resulting string might be invalid\n"
     ]
    },
    {
     "name": "stdout",
     "output_type": "stream",
     "text": [
      "num_layers=8 factor=1 n_heads=4 => (0.6322311078273531, 0.5744041279712635, 0.7478850675395325)\n"
     ]
    },
    {
     "name": "stderr",
     "output_type": "stream",
     "text": [
      "COMET WARNING: Cannot safely convert (0.6303549878948438, 0.5810499281827494, 0.728965107319033) object to a scalar value, using its string representation for logging. Resulting string might be invalid\n"
     ]
    },
    {
     "name": "stdout",
     "output_type": "stream",
     "text": [
      "num_layers=8 factor=1 n_heads=8 => (0.6303549878948438, 0.5810499281827494, 0.728965107319033)\n"
     ]
    },
    {
     "name": "stderr",
     "output_type": "stream",
     "text": [
      "COMET WARNING: Cannot safely convert (0.6358286725851063, 0.5790521397219202, 0.7493817383114789) object to a scalar value, using its string representation for logging. Resulting string might be invalid\n"
     ]
    },
    {
     "name": "stdout",
     "output_type": "stream",
     "text": [
      "num_layers=8 factor=1 n_heads=16 => (0.6358286725851063, 0.5790521397219202, 0.7493817383114789)\n"
     ]
    },
    {
     "name": "stderr",
     "output_type": "stream",
     "text": [
      "COMET WARNING: Cannot safely convert (0.6484558891065051, 0.5919000820050228, 0.76156750330947) object to a scalar value, using its string representation for logging. Resulting string might be invalid\n"
     ]
    },
    {
     "name": "stdout",
     "output_type": "stream",
     "text": [
      "num_layers=8 factor=1 n_heads=32 => (0.6484558891065051, 0.5919000820050228, 0.76156750330947)\n"
     ]
    },
    {
     "name": "stderr",
     "output_type": "stream",
     "text": [
      "COMET WARNING: Cannot safely convert (0.6258418796381533, 0.5822209357266505, 0.713083767461159) object to a scalar value, using its string representation for logging. Resulting string might be invalid\n"
     ]
    },
    {
     "name": "stdout",
     "output_type": "stream",
     "text": [
      "num_layers=8 factor=2 n_heads=1 => (0.6258418796381533, 0.5822209357266505, 0.713083767461159)\n"
     ]
    },
    {
     "name": "stderr",
     "output_type": "stream",
     "text": [
      "COMET WARNING: Cannot safely convert (0.6198340697436382, 0.5724077857932994, 0.714686637644316) object to a scalar value, using its string representation for logging. Resulting string might be invalid\n"
     ]
    },
    {
     "name": "stdout",
     "output_type": "stream",
     "text": [
      "num_layers=8 factor=2 n_heads=2 => (0.6198340697436382, 0.5724077857932994, 0.714686637644316)\n"
     ]
    },
    {
     "name": "stderr",
     "output_type": "stream",
     "text": [
      "COMET WARNING: Cannot safely convert (0.6290888443697593, 0.5833027805729614, 0.7206609719633554) object to a scalar value, using its string representation for logging. Resulting string might be invalid\n"
     ]
    },
    {
     "name": "stdout",
     "output_type": "stream",
     "text": [
      "num_layers=8 factor=2 n_heads=4 => (0.6290888443697593, 0.5833027805729614, 0.7206609719633554)\n"
     ]
    },
    {
     "name": "stderr",
     "output_type": "stream",
     "text": [
      "COMET WARNING: Cannot safely convert (0.629482416364484, 0.5822034153750485, 0.7240404183433551) object to a scalar value, using its string representation for logging. Resulting string might be invalid\n"
     ]
    },
    {
     "name": "stdout",
     "output_type": "stream",
     "text": [
      "num_layers=8 factor=2 n_heads=8 => (0.629482416364484, 0.5822034153750485, 0.7240404183433551)\n"
     ]
    },
    {
     "name": "stderr",
     "output_type": "stream",
     "text": [
      "COMET WARNING: Cannot safely convert (0.6269831245503423, 0.5690949341960491, 0.7427595052589289) object to a scalar value, using its string representation for logging. Resulting string might be invalid\n"
     ]
    },
    {
     "name": "stdout",
     "output_type": "stream",
     "text": [
      "num_layers=8 factor=2 n_heads=16 => (0.6269831245503423, 0.5690949341960491, 0.7427595052589289)\n"
     ]
    },
    {
     "name": "stderr",
     "output_type": "stream",
     "text": [
      "COMET WARNING: Cannot safely convert (0.6261062383387981, 0.5733019742616893, 0.7317147664930156) object to a scalar value, using its string representation for logging. Resulting string might be invalid\n"
     ]
    },
    {
     "name": "stdout",
     "output_type": "stream",
     "text": [
      "num_layers=8 factor=2 n_heads=32 => (0.6261062383387981, 0.5733019742616893, 0.7317147664930156)\n"
     ]
    },
    {
     "name": "stderr",
     "output_type": "stream",
     "text": [
      "COMET WARNING: Cannot safely convert (0.6249221773660882, 0.5774771660866725, 0.7198121999249195) object to a scalar value, using its string representation for logging. Resulting string might be invalid\n"
     ]
    },
    {
     "name": "stdout",
     "output_type": "stream",
     "text": [
      "num_layers=8 factor=5 n_heads=1 => (0.6249221773660882, 0.5774771660866725, 0.7198121999249195)\n"
     ]
    },
    {
     "name": "stderr",
     "output_type": "stream",
     "text": [
      "COMET WARNING: Cannot safely convert (0.6170252812866436, 0.570617431535661, 0.7098409807886088) object to a scalar value, using its string representation for logging. Resulting string might be invalid\n"
     ]
    },
    {
     "name": "stdout",
     "output_type": "stream",
     "text": [
      "num_layers=8 factor=5 n_heads=2 => (0.6170252812866436, 0.570617431535661, 0.7098409807886088)\n"
     ]
    },
    {
     "name": "stderr",
     "output_type": "stream",
     "text": [
      "COMET WARNING: Cannot safely convert (0.6177199066935157, 0.5778996141186603, 0.6973604918432266) object to a scalar value, using its string representation for logging. Resulting string might be invalid\n"
     ]
    },
    {
     "name": "stdout",
     "output_type": "stream",
     "text": [
      "num_layers=8 factor=5 n_heads=4 => (0.6177199066935157, 0.5778996141186603, 0.6973604918432266)\n"
     ]
    },
    {
     "name": "stderr",
     "output_type": "stream",
     "text": [
      "COMET WARNING: Cannot safely convert (0.6251142414209832, 0.5655494485004099, 0.7442438272621298) object to a scalar value, using its string representation for logging. Resulting string might be invalid\n"
     ]
    },
    {
     "name": "stdout",
     "output_type": "stream",
     "text": [
      "num_layers=8 factor=5 n_heads=8 => (0.6251142414209832, 0.5655494485004099, 0.7442438272621298)\n"
     ]
    },
    {
     "name": "stderr",
     "output_type": "stream",
     "text": [
      "COMET WARNING: Cannot safely convert (0.6278684530180612, 0.573447963614633, 0.7367094318249174) object to a scalar value, using its string representation for logging. Resulting string might be invalid\n"
     ]
    },
    {
     "name": "stdout",
     "output_type": "stream",
     "text": [
      "num_layers=8 factor=5 n_heads=16 => (0.6278684530180612, 0.573447963614633, 0.7367094318249174)\n"
     ]
    },
    {
     "name": "stderr",
     "output_type": "stream",
     "text": [
      "COMET WARNING: Cannot safely convert (0.6274030713176946, 0.5661066651046661, 0.7499958837437515) object to a scalar value, using its string representation for logging. Resulting string might be invalid\n"
     ]
    },
    {
     "name": "stdout",
     "output_type": "stream",
     "text": [
      "num_layers=8 factor=5 n_heads=32 => (0.6274030713176946, 0.5661066651046661, 0.7499958837437515)\n"
     ]
    },
    {
     "name": "stderr",
     "output_type": "stream",
     "text": [
      "COMET WARNING: Cannot safely convert (0.6238728114987317, 0.5786346649321273, 0.7143491046319408) object to a scalar value, using its string representation for logging. Resulting string might be invalid\n"
     ]
    },
    {
     "name": "stdout",
     "output_type": "stream",
     "text": [
      "num_layers=8 factor=8 n_heads=1 => (0.6238728114987317, 0.5786346649321273, 0.7143491046319408)\n"
     ]
    },
    {
     "name": "stderr",
     "output_type": "stream",
     "text": [
      "COMET WARNING: Cannot safely convert (0.620567619726758, 0.5805757227466141, 0.700551413687046) object to a scalar value, using its string representation for logging. Resulting string might be invalid\n"
     ]
    },
    {
     "name": "stdout",
     "output_type": "stream",
     "text": [
      "num_layers=8 factor=8 n_heads=2 => (0.620567619726758, 0.5805757227466141, 0.700551413687046)\n"
     ]
    },
    {
     "name": "stderr",
     "output_type": "stream",
     "text": [
      "COMET WARNING: Cannot safely convert (0.6323903176218465, 0.5774687525775829, 0.7422334477103737) object to a scalar value, using its string representation for logging. Resulting string might be invalid\n"
     ]
    },
    {
     "name": "stdout",
     "output_type": "stream",
     "text": [
      "num_layers=8 factor=8 n_heads=4 => (0.6323903176218465, 0.5774687525775829, 0.7422334477103737)\n"
     ]
    },
    {
     "name": "stderr",
     "output_type": "stream",
     "text": [
      "COMET WARNING: Cannot safely convert (0.6053386092645705, 0.5781109684882927, 0.6597938908171261) object to a scalar value, using its string representation for logging. Resulting string might be invalid\n"
     ]
    },
    {
     "name": "stdout",
     "output_type": "stream",
     "text": [
      "num_layers=8 factor=8 n_heads=8 => (0.6053386092645705, 0.5781109684882927, 0.6597938908171261)\n"
     ]
    },
    {
     "name": "stderr",
     "output_type": "stream",
     "text": [
      "COMET WARNING: Cannot safely convert (0.6280834504436239, 0.5722054591273061, 0.7398394330762594) object to a scalar value, using its string representation for logging. Resulting string might be invalid\n"
     ]
    },
    {
     "name": "stdout",
     "output_type": "stream",
     "text": [
      "num_layers=8 factor=8 n_heads=16 => (0.6280834504436239, 0.5722054591273061, 0.7398394330762594)\n"
     ]
    },
    {
     "name": "stderr",
     "output_type": "stream",
     "text": [
      "COMET WARNING: Cannot safely convert (0.6245895107552519, 0.5689189480615251, 0.7359306361427056) object to a scalar value, using its string representation for logging. Resulting string might be invalid\n"
     ]
    },
    {
     "name": "stdout",
     "output_type": "stream",
     "text": [
      "num_layers=8 factor=8 n_heads=32 => (0.6245895107552519, 0.5689189480615251, 0.7359306361427056)\n"
     ]
    },
    {
     "name": "stderr",
     "output_type": "stream",
     "text": [
      "COMET WARNING: Cannot safely convert (0.6328614642985699, 0.5823320681523803, 0.7339202565909495) object to a scalar value, using its string representation for logging. Resulting string might be invalid\n"
     ]
    },
    {
     "name": "stdout",
     "output_type": "stream",
     "text": [
      "num_layers=8 factor=12 n_heads=1 => (0.6328614642985699, 0.5823320681523803, 0.7339202565909495)\n"
     ]
    },
    {
     "name": "stderr",
     "output_type": "stream",
     "text": [
      "COMET WARNING: Cannot safely convert (0.6253835880827563, 0.5688340246157537, 0.7384827150167614) object to a scalar value, using its string representation for logging. Resulting string might be invalid\n"
     ]
    },
    {
     "name": "stdout",
     "output_type": "stream",
     "text": [
      "num_layers=8 factor=12 n_heads=2 => (0.6253835880827563, 0.5688340246157537, 0.7384827150167614)\n"
     ]
    },
    {
     "name": "stderr",
     "output_type": "stream",
     "text": [
      "COMET WARNING: Cannot safely convert (0.6259236121513788, 0.5772546068964967, 0.7232616226611431) object to a scalar value, using its string representation for logging. Resulting string might be invalid\n"
     ]
    },
    {
     "name": "stdout",
     "output_type": "stream",
     "text": [
      "num_layers=8 factor=12 n_heads=4 => (0.6259236121513788, 0.5772546068964967, 0.7232616226611431)\n"
     ]
    },
    {
     "name": "stderr",
     "output_type": "stream",
     "text": [
      "COMET WARNING: Cannot safely convert (0.6163298774293999, 0.5760640153511443, 0.6968616015859112) object to a scalar value, using its string representation for logging. Resulting string might be invalid\n"
     ]
    },
    {
     "name": "stdout",
     "output_type": "stream",
     "text": [
      "num_layers=8 factor=12 n_heads=8 => (0.6163298774293999, 0.5760640153511443, 0.6968616015859112)\n"
     ]
    },
    {
     "name": "stderr",
     "output_type": "stream",
     "text": [
      "COMET WARNING: Cannot safely convert (0.6236991678029935, 0.5794707700531142, 0.7121559633027523) object to a scalar value, using its string representation for logging. Resulting string might be invalid\n"
     ]
    },
    {
     "name": "stdout",
     "output_type": "stream",
     "text": [
      "num_layers=8 factor=12 n_heads=16 => (0.6236991678029935, 0.5794707700531142, 0.7121559633027523)\n"
     ]
    },
    {
     "name": "stderr",
     "output_type": "stream",
     "text": [
      "COMET WARNING: Cannot safely convert (0.6328031302151341, 0.5903190152842389, 0.7177713600769247) object to a scalar value, using its string representation for logging. Resulting string might be invalid\n"
     ]
    },
    {
     "name": "stdout",
     "output_type": "stream",
     "text": [
      "num_layers=8 factor=12 n_heads=32 => (0.6328031302151341, 0.5903190152842389, 0.7177713600769247)\n"
     ]
    },
    {
     "name": "stderr",
     "output_type": "stream",
     "text": [
      "COMET WARNING: Cannot safely convert (0.6197628997533781, 0.5785762634587124, 0.7021361723427095) object to a scalar value, using its string representation for logging. Resulting string might be invalid\n"
     ]
    },
    {
     "name": "stdout",
     "output_type": "stream",
     "text": [
      "num_layers=8 factor=15 n_heads=1 => (0.6197628997533781, 0.5785762634587124, 0.7021361723427095)\n"
     ]
    },
    {
     "name": "stderr",
     "output_type": "stream",
     "text": [
      "COMET WARNING: Cannot safely convert (0.624914604091657, 0.5736529180120615, 0.727437976250848) object to a scalar value, using its string representation for logging. Resulting string might be invalid\n"
     ]
    },
    {
     "name": "stdout",
     "output_type": "stream",
     "text": [
      "num_layers=8 factor=15 n_heads=2 => (0.624914604091657, 0.5736529180120615, 0.727437976250848)\n"
     ]
    },
    {
     "name": "stderr",
     "output_type": "stream",
     "text": [
      "COMET WARNING: Cannot safely convert (0.6157463262200356, 0.5757270948543987, 0.6957847889513096) object to a scalar value, using its string representation for logging. Resulting string might be invalid\n"
     ]
    },
    {
     "name": "stdout",
     "output_type": "stream",
     "text": [
      "num_layers=8 factor=15 n_heads=4 => (0.6157463262200356, 0.5757270948543987, 0.6957847889513096)\n"
     ]
    },
    {
     "name": "stderr",
     "output_type": "stream",
     "text": [
      "COMET WARNING: Cannot safely convert (0.6231908706557236, 0.574157803049518, 0.721257005868135) object to a scalar value, using its string representation for logging. Resulting string might be invalid\n"
     ]
    },
    {
     "name": "stdout",
     "output_type": "stream",
     "text": [
      "num_layers=8 factor=15 n_heads=8 => (0.6231908706557236, 0.574157803049518, 0.721257005868135)\n"
     ]
    },
    {
     "name": "stderr",
     "output_type": "stream",
     "text": [
      "COMET WARNING: Cannot safely convert (0.6374578424360735, 0.5836585755313208, 0.7450563762455791) object to a scalar value, using its string representation for logging. Resulting string might be invalid\n"
     ]
    },
    {
     "name": "stdout",
     "output_type": "stream",
     "text": [
      "num_layers=8 factor=15 n_heads=16 => (0.6374578424360735, 0.5836585755313208, 0.7450563762455791)\n"
     ]
    },
    {
     "name": "stderr",
     "output_type": "stream",
     "text": [
      "COMET WARNING: Cannot safely convert (0.6285260251054442, 0.5735719660616517, 0.7384341431930292) object to a scalar value, using its string representation for logging. Resulting string might be invalid\n",
      "COMET INFO: ---------------------------\n",
      "COMET INFO: Comet.ml Experiment Summary\n",
      "COMET INFO: ---------------------------\n",
      "COMET INFO:   Data:\n",
      "COMET INFO:     display_summary_level : 1\n",
      "COMET INFO:     url                   : https://www.comet.com/samdoud/sand-in-hospital-mortality/9bc1fcd76e7f470e825c838badd779e4\n",
      "COMET INFO:   Metrics [count] (min, max):\n",
      "COMET INFO:     AUPRCxAUROC                  : (0.6285260251054442, 0.5735719660616517, 0.7384341431930292)\n",
      "COMET INFO:     train_AUPRC [150336]         : (0.06640625, 0.6252296983542277)\n",
      "COMET INFO:     train_AUROC [150336]         : (0.3661897191308956, 0.7868309485956544)\n",
      "COMET INFO:     train_MSE [150336]           : (0.1328125, 0.87109375)\n",
      "COMET INFO:     train_accuracy [150336]      : (0.12890625, 0.8671875)\n",
      "COMET INFO:     train_loss [163080]          : (0.17113074660301208, 44.722537994384766)\n",
      "COMET INFO:     validate_AUPRC [33696]       : (0.4292109643470791, 0.6561608392549525)\n",
      "COMET INFO:     validate_AUPRCxAUROC [33696] : (0.492453774211184, 0.7059378481447108)\n",
      "COMET INFO:     validate_AUROC [33696]       : (0.5077020202020203, 0.8058194125996287)\n",
      "COMET INFO:     validate_MSE [33696]         : (0.0036782235542537974, 0.18534159798378858)\n",
      "COMET INFO:     validate_accuracy [33696]    : (0.15549348230912477, 0.7903645833333334)\n",
      "COMET INFO:     validate_loss [33696]        : (0.2447989135980606, 3.6414220333099365)\n",
      "COMET INFO:   Parameters:\n",
      "COMET INFO:     batch_size    : 256\n",
      "COMET INFO:     betas         : (0.9, 0.98)\n",
      "COMET INFO:     epochs        : 12\n",
      "COMET INFO:     eps           : 4e-09\n",
      "COMET INFO:     lr            : 4e-05\n",
      "COMET INFO:     train_ds_size : 14681\n",
      "COMET INFO:     val_ds_size   : 3222\n",
      "COMET INFO:     weight_decay  : 4e-05\n",
      "COMET INFO:   Uploads:\n",
      "COMET INFO:     conda-environment-definition : 1\n",
      "COMET INFO:     conda-info                   : 1\n",
      "COMET INFO:     conda-specification          : 1\n",
      "COMET INFO:     confusion-matrix             : 184032\n",
      "COMET INFO:     environment details          : 1\n",
      "COMET INFO:     filename                     : 1\n",
      "COMET INFO:     git metadata                 : 1\n",
      "COMET INFO:     git-patch (uncompressed)     : 1 (519.36 KB)\n",
      "COMET INFO:     installed packages           : 1\n",
      "COMET INFO:     model graph                  : 1\n",
      "COMET INFO:     notebook                     : 1\n",
      "COMET INFO:     source_code                  : 1\n",
      "COMET INFO: ---------------------------\n"
     ]
    },
    {
     "name": "stdout",
     "output_type": "stream",
     "text": [
      "num_layers=8 factor=15 n_heads=32 => (0.6285260251054442, 0.5735719660616517, 0.7384341431930292)\n"
     ]
    },
    {
     "name": "stderr",
     "output_type": "stream",
     "text": [
      "COMET INFO: Uploading 1 metrics, params and output messages\n"
     ]
    },
    {
     "data": {
      "text/plain": [
       "'train/models/model-param-optim.pth'"
      ]
     },
     "execution_count": 129,
     "metadata": {},
     "output_type": "execute_result"
    }
   ],
   "source": [
    "n_heads = 8\n",
    "num_class = 2\n",
    "epochs = 12\n",
    "betas = (0.9, 0.98)\n",
    "lr = 4e-5\n",
    "eps = 4e-09\n",
    "weight_decay = 4e-5\n",
    "scores = {}\n",
    "experiment = get_experiment()\n",
    "\n",
    "ranges = [\n",
    "    np.rint(np.concatenate((np.arange(1,5), np.linspace(5, 8, 2)),axis=0)).astype(int),\n",
    "    np.rint(np.concatenate((np.array([1]), np.linspace(2, 15, 5)), axis=0)).astype(int),\n",
    "    np.array(np.power(2, np.arange(0, 6))).astype(int),\n",
    "]\n",
    "\n",
    "for parameters in list(itertools.product(*ranges)):\n",
    "    num_layers, factor, n_heads = parameters\n",
    "    clf = NeuralNetworkClassifier(\n",
    "        SAnD(feature_count, seq_len, n_heads, factor, num_class, num_layers, dropout_rate=dropout),\n",
    "        nn.CrossEntropyLoss(weight=torch.tensor(get_weights(train_raw[1], level=max_level), dtype=torch.float32).to(device=device)),\n",
    "        optim.Adam, optimizer_config={\n",
    "            \"lr\": lr, \"betas\": betas, \"eps\": eps, \"weight_decay\": weight_decay},\n",
    "        experiment=experiment,\n",
    "        silent=True\n",
    "    )\n",
    "    # Score is the multiplication of AUPRC and AUROC\n",
    "    scores[parameters] = clf.fit(\n",
    "        {\n",
    "            \"train\": DataLoader(train_ds, batch_size=batch_size, shuffle=False),\n",
    "            \"val\": val_loader\n",
    "        },\n",
    "        validation=True,\n",
    "        epochs=epochs,\n",
    "        verbose=False,\n",
    "        level=iteration\n",
    "    )\n",
    "    print(f\"{num_layers=} {factor=} {n_heads=} => {scores[parameters]}\")\n",
    "\n",
    "    #clf.evaluate(test_loader)\n",
    "\n",
    "experiment.end()"
   ]
  },
  {
   "attachments": {},
   "cell_type": "markdown",
   "metadata": {},
   "source": [
    "### Data visualization of results"
   ]
  },
  {
   "cell_type": "code",
   "execution_count": 229,
   "metadata": {},
   "outputs": [
    {
     "name": "stdout",
     "output_type": "stream",
     "text": [
      "best_num_layers=8 best_factor=1 best_n_heads=32 is the best combination leading to a combined AUROC and AUPRC score of (0.6484558891065051, 0.5919000820050228, 0.76156750330947)\n"
     ]
    }
   ],
   "source": [
    "best_scores = {parameters: score for parameters, score in sorted(scores.items(), key=lambda item: item[1], reverse=True)}\n",
    "best_param = next(iter(best_scores))\n",
    "best_num_layers, best_factor, best_n_heads = best_param\n",
    "best_score = best_scores[best_param]\n",
    "\n",
    "print(f\"{best_num_layers=} {best_factor=} {best_n_heads=} is the best combination leading to a combined AUROC and AUPRC score of {best_score}\")"
   ]
  },
  {
   "cell_type": "code",
   "execution_count": 225,
   "metadata": {},
   "outputs": [
    {
     "name": "stdout",
     "output_type": "stream",
     "text": [
      "{1.0, 2, 3, 4, 5, 8, 10.0}\n"
     ]
    },
    {
     "data": {
      "image/png": "[encoded data removed]",
      "text/plain": [
       "<Figure size 640x480 with 2 Axes>"
      ]
     },
     "metadata": {},
     "output_type": "display_data"
    }
   ],
   "source": [
    "from matplotlib import colors\n",
    "import matplotlib.cm as cm\n",
    "from mpl_toolkits.mplot3d import Axes3D\n",
    "\n",
    "%matplotlib inline\n",
    "\n",
    "fig = plt.figure()\n",
    "ax = fig.add_axes([0, 0, 2, 2], projection=\"3d\")\n",
    "\n",
    "mixed, auprc, auroc = zip(*scores.values())\n",
    "\n",
    "x, _, _ = list(zip(*scores.keys()))\n",
    "lines = {}\n",
    "for point, score in scores.items():\n",
    "    layer, factor, head = point\n",
    "    if layer not in lines:\n",
    "        lines[layer] = []\n",
    "    lines[layer].append((factor, head, score[0]))\n",
    "print(set(x))\n",
    "\n",
    "scatter = {}\n",
    "for layer, data in lines.items():\n",
    "    factors, heads, new_scores = zip(*data)\n",
    "    scatter = ax.scatter(factors, heads, zs=layer, c=new_scores, cmap=cm.coolwarm, vmin=min(mixed), vmax=max(mixed))\n",
    "cbar = fig.colorbar(scatter, shrink=0.5, aspect=5)\n",
    "cbar.set_label('1/3 AUROC + 2/3 AUPRC', rotation=270)\n",
    "\n",
    "\n",
    "ax.set_title(\"Affect of Model Parameters on Model Performance\")\n",
    "ax.set_zlabel('Number of layers')\n",
    "ax.set_xlabel('Dense Interpolation Factor')\n",
    "ax.set_ylabel('number of heads')\n",
    "\n",
    "ax.view_init(5, 5)\n"
   ]
  },
  {
   "cell_type": "code",
   "execution_count": 231,
   "metadata": {},
   "outputs": [
    {
     "name": "stderr",
     "output_type": "stream",
     "text": [
      "COMET WARNING: As you are running in a Jupyter environment, you will need to call `experiment.end()` when finished to ensure all metrics and code are logged before exiting.\n",
      "COMET INFO: Experiment is live on comet.com https://www.comet.com/samdoud/sand-in-hospital-mortality/6d65b797e4d34027a8d757099e82b00b\n",
      "\n",
      "\u001b[36mTraining\u001b[0m - Epochs: 001/020:  99%|█████████▉| 14592/14681 [00:05<00:00, 2414.96it/s]"
     ]
    },
    {
     "name": "stdout",
     "output_type": "stream",
     "text": [
      "\u001b[32mTrain finished. \u001b[0mAccuracy: 0.7911 MSE: 0.2089 AUROC: 0.4976 AUPRC: 0.1736\n"
     ]
    },
    {
     "name": "stderr",
     "output_type": "stream",
     "text": [
      "\u001b[36mTraining\u001b[0m - Epochs: 001/020: 100%|██████████| 14681/14681 [00:06<00:00, 2339.45it/s]\n"
     ]
    },
    {
     "name": "stdout",
     "output_type": "stream",
     "text": [
      "\u001b[31mValidation finished. \u001b[0mAccuracy: 0.8647 MSE: 0.0297 AUROC: 0.5000 AUPRC: 0.5677\n"
     ]
    },
    {
     "name": "stderr",
     "output_type": "stream",
     "text": [
      "\u001b[36mTraining\u001b[0m - Epochs: 002/020:  99%|█████████▉| 14592/14681 [00:05<00:00, 2507.01it/s]"
     ]
    },
    {
     "name": "stdout",
     "output_type": "stream",
     "text": [
      "\u001b[32mTrain finished. \u001b[0mAccuracy: 0.8646 MSE: 0.1354 AUROC: 0.5000 AUPRC: 0.0677\n"
     ]
    },
    {
     "name": "stderr",
     "output_type": "stream",
     "text": [
      "\u001b[36mTraining\u001b[0m - Epochs: 002/020: 100%|██████████| 14681/14681 [00:06<00:00, 2425.82it/s]\n"
     ]
    },
    {
     "name": "stdout",
     "output_type": "stream",
     "text": [
      "\u001b[31mValidation finished. \u001b[0mAccuracy: 0.8647 MSE: 0.0297 AUROC: 0.5000 AUPRC: 0.5677\n"
     ]
    },
    {
     "name": "stderr",
     "output_type": "stream",
     "text": [
      "\u001b[36mTraining\u001b[0m - Epochs: 003/020:  99%|█████████▉| 14592/14681 [00:05<00:00, 2517.85it/s]"
     ]
    },
    {
     "name": "stdout",
     "output_type": "stream",
     "text": [
      "\u001b[32mTrain finished. \u001b[0mAccuracy: 0.8645 MSE: 0.1355 AUROC: 0.4999 AUPRC: 0.0677\n"
     ]
    },
    {
     "name": "stderr",
     "output_type": "stream",
     "text": [
      "\u001b[36mTraining\u001b[0m - Epochs: 003/020: 100%|██████████| 14681/14681 [00:05<00:00, 2454.29it/s]\n"
     ]
    },
    {
     "name": "stdout",
     "output_type": "stream",
     "text": [
      "\u001b[31mValidation finished. \u001b[0mAccuracy: 0.8647 MSE: 0.0297 AUROC: 0.5000 AUPRC: 0.5677\n"
     ]
    },
    {
     "name": "stderr",
     "output_type": "stream",
     "text": [
      "\u001b[36mTraining\u001b[0m - Epochs: 004/020:  99%|█████████▉| 14592/14681 [00:05<00:00, 2526.93it/s]"
     ]
    },
    {
     "name": "stdout",
     "output_type": "stream",
     "text": [
      "\u001b[32mTrain finished. \u001b[0mAccuracy: 0.8646 MSE: 0.1354 AUROC: 0.5000 AUPRC: 0.0677\n"
     ]
    },
    {
     "name": "stderr",
     "output_type": "stream",
     "text": [
      "\u001b[36mTraining\u001b[0m - Epochs: 004/020: 100%|██████████| 14681/14681 [00:06<00:00, 2425.63it/s]\n"
     ]
    },
    {
     "name": "stdout",
     "output_type": "stream",
     "text": [
      "\u001b[31mValidation finished. \u001b[0mAccuracy: 0.1353 MSE: 0.1898 AUROC: 0.5000 AUPRC: 0.5677\n"
     ]
    },
    {
     "name": "stderr",
     "output_type": "stream",
     "text": [
      "\u001b[36mTraining\u001b[0m - Epochs: 005/020:  99%|█████████▉| 14592/14681 [00:05<00:00, 2498.48it/s]"
     ]
    },
    {
     "name": "stdout",
     "output_type": "stream",
     "text": [
      "\u001b[32mTrain finished. \u001b[0mAccuracy: 0.8647 MSE: 0.1353 AUROC: 0.5003 AUPRC: 0.5679\n"
     ]
    },
    {
     "name": "stderr",
     "output_type": "stream",
     "text": [
      "\u001b[36mTraining\u001b[0m - Epochs: 005/020: 100%|██████████| 14681/14681 [00:05<00:00, 2450.87it/s]\n"
     ]
    },
    {
     "name": "stdout",
     "output_type": "stream",
     "text": [
      "\u001b[31mValidation finished. \u001b[0mAccuracy: 0.8647 MSE: 0.0297 AUROC: 0.5000 AUPRC: 0.5677\n"
     ]
    },
    {
     "name": "stderr",
     "output_type": "stream",
     "text": [
      "\u001b[36mTraining\u001b[0m - Epochs: 006/020:  99%|█████████▉| 14592/14681 [00:05<00:00, 2528.72it/s]"
     ]
    },
    {
     "name": "stdout",
     "output_type": "stream",
     "text": [
      "\u001b[32mTrain finished. \u001b[0mAccuracy: 0.8647 MSE: 0.1353 AUROC: 0.5000 AUPRC: 0.5677\n"
     ]
    },
    {
     "name": "stderr",
     "output_type": "stream",
     "text": [
      "\u001b[36mTraining\u001b[0m - Epochs: 006/020: 100%|██████████| 14681/14681 [00:05<00:00, 2447.94it/s]\n"
     ]
    },
    {
     "name": "stdout",
     "output_type": "stream",
     "text": [
      "\u001b[31mValidation finished. \u001b[0mAccuracy: 0.8647 MSE: 0.0297 AUROC: 0.5000 AUPRC: 0.5677\n"
     ]
    },
    {
     "name": "stderr",
     "output_type": "stream",
     "text": [
      "\u001b[36mTraining\u001b[0m - Epochs: 007/020:  99%|█████████▉| 14592/14681 [00:05<00:00, 2509.63it/s]"
     ]
    },
    {
     "name": "stdout",
     "output_type": "stream",
     "text": [
      "\u001b[32mTrain finished. \u001b[0mAccuracy: 0.8646 MSE: 0.1354 AUROC: 0.5019 AUPRC: 0.3065\n"
     ]
    },
    {
     "name": "stderr",
     "output_type": "stream",
     "text": [
      "\u001b[36mTraining\u001b[0m - Epochs: 007/020: 100%|██████████| 14681/14681 [00:06<00:00, 2436.97it/s]\n"
     ]
    },
    {
     "name": "stdout",
     "output_type": "stream",
     "text": [
      "\u001b[31mValidation finished. \u001b[0mAccuracy: 0.8637 MSE: 0.0299 AUROC: 0.5604 AUPRC: 0.3743\n"
     ]
    },
    {
     "name": "stderr",
     "output_type": "stream",
     "text": [
      "\u001b[36mTraining\u001b[0m - Epochs: 008/020:  99%|█████████▉| 14592/14681 [00:05<00:00, 2469.84it/s]"
     ]
    },
    {
     "name": "stdout",
     "output_type": "stream",
     "text": [
      "\u001b[32mTrain finished. \u001b[0mAccuracy: 0.8639 MSE: 0.1361 AUROC: 0.5537 AUPRC: 0.3679\n"
     ]
    },
    {
     "name": "stderr",
     "output_type": "stream",
     "text": [
      "\u001b[36mTraining\u001b[0m - Epochs: 008/020: 100%|██████████| 14681/14681 [00:06<00:00, 2433.97it/s]\n"
     ]
    },
    {
     "name": "stdout",
     "output_type": "stream",
     "text": [
      "\u001b[31mValidation finished. \u001b[0mAccuracy: 0.8740 MSE: 0.0277 AUROC: 0.6011 AUPRC: 0.4605\n"
     ]
    },
    {
     "name": "stderr",
     "output_type": "stream",
     "text": [
      "\u001b[36mTraining\u001b[0m - Epochs: 009/020:  99%|█████████▉| 14592/14681 [00:05<00:00, 2524.98it/s]"
     ]
    },
    {
     "name": "stdout",
     "output_type": "stream",
     "text": [
      "\u001b[32mTrain finished. \u001b[0mAccuracy: 0.8651 MSE: 0.1349 AUROC: 0.5909 AUPRC: 0.4123\n"
     ]
    },
    {
     "name": "stderr",
     "output_type": "stream",
     "text": [
      "\u001b[36mTraining\u001b[0m - Epochs: 009/020: 100%|██████████| 14681/14681 [00:06<00:00, 2437.51it/s]\n"
     ]
    },
    {
     "name": "stdout",
     "output_type": "stream",
     "text": [
      "\u001b[31mValidation finished. \u001b[0mAccuracy: 0.8665 MSE: 0.0293 AUROC: 0.6858 AUPRC: 0.5110\n"
     ]
    },
    {
     "name": "stderr",
     "output_type": "stream",
     "text": [
      "\u001b[36mTraining\u001b[0m - Epochs: 010/020:  99%|█████████▉| 14592/14681 [00:05<00:00, 2410.22it/s]"
     ]
    },
    {
     "name": "stdout",
     "output_type": "stream",
     "text": [
      "\u001b[32mTrain finished. \u001b[0mAccuracy: 0.8769 MSE: 0.1231 AUROC: 0.6226 AUPRC: 0.4856\n"
     ]
    },
    {
     "name": "stderr",
     "output_type": "stream",
     "text": [
      "\u001b[36mTraining\u001b[0m - Epochs: 010/020: 100%|██████████| 14681/14681 [00:06<00:00, 2403.30it/s]\n"
     ]
    },
    {
     "name": "stdout",
     "output_type": "stream",
     "text": [
      "\u001b[31mValidation finished. \u001b[0mAccuracy: 0.8641 MSE: 0.0298 AUROC: 0.6863 AUPRC: 0.5078\n"
     ]
    },
    {
     "name": "stderr",
     "output_type": "stream",
     "text": [
      "\u001b[36mTraining\u001b[0m - Epochs: 011/020:  99%|█████████▉| 14592/14681 [00:05<00:00, 2483.23it/s]"
     ]
    },
    {
     "name": "stdout",
     "output_type": "stream",
     "text": [
      "\u001b[32mTrain finished. \u001b[0mAccuracy: 0.8826 MSE: 0.1174 AUROC: 0.6392 AUPRC: 0.5189\n"
     ]
    },
    {
     "name": "stderr",
     "output_type": "stream",
     "text": [
      "\u001b[36mTraining\u001b[0m - Epochs: 011/020: 100%|██████████| 14681/14681 [00:05<00:00, 2447.30it/s]\n"
     ]
    },
    {
     "name": "stdout",
     "output_type": "stream",
     "text": [
      "\u001b[31mValidation finished. \u001b[0mAccuracy: 0.8731 MSE: 0.0279 AUROC: 0.6548 AUPRC: 0.4952\n"
     ]
    },
    {
     "name": "stderr",
     "output_type": "stream",
     "text": [
      "\u001b[36mTraining\u001b[0m - Epochs: 012/020:  99%|█████████▉| 14592/14681 [00:05<00:00, 2498.74it/s]"
     ]
    },
    {
     "name": "stdout",
     "output_type": "stream",
     "text": [
      "\u001b[32mTrain finished. \u001b[0mAccuracy: 0.8841 MSE: 0.1159 AUROC: 0.6424 AUPRC: 0.5271\n"
     ]
    },
    {
     "name": "stderr",
     "output_type": "stream",
     "text": [
      "\u001b[36mTraining\u001b[0m - Epochs: 012/020: 100%|██████████| 14681/14681 [00:05<00:00, 2448.38it/s]\n"
     ]
    },
    {
     "name": "stdout",
     "output_type": "stream",
     "text": [
      "\u001b[31mValidation finished. \u001b[0mAccuracy: 0.8700 MSE: 0.0285 AUROC: 0.6511 AUPRC: 0.4841\n"
     ]
    },
    {
     "name": "stderr",
     "output_type": "stream",
     "text": [
      "\u001b[36mTraining\u001b[0m - Epochs: 013/020:  99%|█████████▉| 14592/14681 [00:05<00:00, 2492.87it/s]"
     ]
    },
    {
     "name": "stdout",
     "output_type": "stream",
     "text": [
      "\u001b[32mTrain finished. \u001b[0mAccuracy: 0.8849 MSE: 0.1151 AUROC: 0.6567 AUPRC: 0.5357\n"
     ]
    },
    {
     "name": "stderr",
     "output_type": "stream",
     "text": [
      "\u001b[36mTraining\u001b[0m - Epochs: 013/020: 100%|██████████| 14681/14681 [00:05<00:00, 2450.79it/s]\n"
     ]
    },
    {
     "name": "stdout",
     "output_type": "stream",
     "text": [
      "\u001b[31mValidation finished. \u001b[0mAccuracy: 0.8520 MSE: 0.0325 AUROC: 0.6909 AUPRC: 0.4982\n"
     ]
    },
    {
     "name": "stderr",
     "output_type": "stream",
     "text": [
      "\u001b[36mTraining\u001b[0m - Epochs: 014/020:  99%|█████████▉| 14592/14681 [00:05<00:00, 2486.22it/s]"
     ]
    },
    {
     "name": "stdout",
     "output_type": "stream",
     "text": [
      "\u001b[32mTrain finished. \u001b[0mAccuracy: 0.8909 MSE: 0.1091 AUROC: 0.6780 AUPRC: 0.5683\n"
     ]
    },
    {
     "name": "stderr",
     "output_type": "stream",
     "text": [
      "\u001b[36mTraining\u001b[0m - Epochs: 014/020: 100%|██████████| 14681/14681 [00:06<00:00, 2437.73it/s]\n"
     ]
    },
    {
     "name": "stdout",
     "output_type": "stream",
     "text": [
      "\u001b[31mValidation finished. \u001b[0mAccuracy: 0.8681 MSE: 0.0289 AUROC: 0.6558 AUPRC: 0.4843\n"
     ]
    },
    {
     "name": "stderr",
     "output_type": "stream",
     "text": [
      "\u001b[36mTraining\u001b[0m - Epochs: 015/020:  99%|█████████▉| 14592/14681 [00:05<00:00, 2434.20it/s]"
     ]
    },
    {
     "name": "stdout",
     "output_type": "stream",
     "text": [
      "\u001b[32mTrain finished. \u001b[0mAccuracy: 0.8996 MSE: 0.1004 AUROC: 0.7053 AUPRC: 0.6116\n"
     ]
    },
    {
     "name": "stderr",
     "output_type": "stream",
     "text": [
      "\u001b[36mTraining\u001b[0m - Epochs: 015/020: 100%|██████████| 14681/14681 [00:06<00:00, 2416.97it/s]\n"
     ]
    },
    {
     "name": "stdout",
     "output_type": "stream",
     "text": [
      "\u001b[31mValidation finished. \u001b[0mAccuracy: 0.8771 MSE: 0.0270 AUROC: 0.6175 AUPRC: 0.4839\n"
     ]
    },
    {
     "name": "stderr",
     "output_type": "stream",
     "text": [
      "\u001b[36mTraining\u001b[0m - Epochs: 016/020:  99%|█████████▉| 14592/14681 [00:05<00:00, 2424.42it/s]"
     ]
    },
    {
     "name": "stdout",
     "output_type": "stream",
     "text": [
      "\u001b[32mTrain finished. \u001b[0mAccuracy: 0.9043 MSE: 0.0957 AUROC: 0.7258 AUPRC: 0.6351\n"
     ]
    },
    {
     "name": "stderr",
     "output_type": "stream",
     "text": [
      "\u001b[36mTraining\u001b[0m - Epochs: 016/020: 100%|██████████| 14681/14681 [00:06<00:00, 2418.04it/s]\n"
     ]
    },
    {
     "name": "stdout",
     "output_type": "stream",
     "text": [
      "\u001b[31mValidation finished. \u001b[0mAccuracy: 0.8464 MSE: 0.0337 AUROC: 0.6684 AUPRC: 0.4667\n"
     ]
    },
    {
     "name": "stderr",
     "output_type": "stream",
     "text": [
      "\u001b[36mTraining\u001b[0m - Epochs: 017/020:  99%|█████████▉| 14592/14681 [00:05<00:00, 2468.40it/s]"
     ]
    },
    {
     "name": "stdout",
     "output_type": "stream",
     "text": [
      "\u001b[32mTrain finished. \u001b[0mAccuracy: 0.9128 MSE: 0.0872 AUROC: 0.7520 AUPRC: 0.6732\n"
     ]
    },
    {
     "name": "stderr",
     "output_type": "stream",
     "text": [
      "\u001b[36mTraining\u001b[0m - Epochs: 017/020: 100%|██████████| 14681/14681 [00:06<00:00, 2446.41it/s]\n"
     ]
    },
    {
     "name": "stdout",
     "output_type": "stream",
     "text": [
      "\u001b[31mValidation finished. \u001b[0mAccuracy: 0.8411 MSE: 0.0349 AUROC: 0.6518 AUPRC: 0.4418\n"
     ]
    },
    {
     "name": "stderr",
     "output_type": "stream",
     "text": [
      "\u001b[36mTraining\u001b[0m - Epochs: 018/020:  99%|█████████▉| 14592/14681 [00:05<00:00, 2501.57it/s]"
     ]
    },
    {
     "name": "stdout",
     "output_type": "stream",
     "text": [
      "\u001b[32mTrain finished. \u001b[0mAccuracy: 0.9241 MSE: 0.0759 AUROC: 0.7872 AUPRC: 0.7214\n"
     ]
    },
    {
     "name": "stderr",
     "output_type": "stream",
     "text": [
      "\u001b[36mTraining\u001b[0m - Epochs: 018/020: 100%|██████████| 14681/14681 [00:05<00:00, 2451.83it/s]\n"
     ]
    },
    {
     "name": "stdout",
     "output_type": "stream",
     "text": [
      "\u001b[31mValidation finished. \u001b[0mAccuracy: 0.8588 MSE: 0.0310 AUROC: 0.5953 AUPRC: 0.3975\n"
     ]
    },
    {
     "name": "stderr",
     "output_type": "stream",
     "text": [
      "\u001b[36mTraining\u001b[0m - Epochs: 019/020:  99%|█████████▉| 14592/14681 [00:05<00:00, 2434.45it/s]"
     ]
    },
    {
     "name": "stdout",
     "output_type": "stream",
     "text": [
      "\u001b[32mTrain finished. \u001b[0mAccuracy: 0.9270 MSE: 0.0730 AUROC: 0.7958 AUPRC: 0.7332\n"
     ]
    },
    {
     "name": "stderr",
     "output_type": "stream",
     "text": [
      "\u001b[36mTraining\u001b[0m - Epochs: 019/020: 100%|██████████| 14681/14681 [00:06<00:00, 2442.88it/s]\n"
     ]
    },
    {
     "name": "stdout",
     "output_type": "stream",
     "text": [
      "\u001b[31mValidation finished. \u001b[0mAccuracy: 0.8551 MSE: 0.0318 AUROC: 0.6047 AUPRC: 0.4008\n"
     ]
    },
    {
     "name": "stderr",
     "output_type": "stream",
     "text": [
      "\u001b[36mTraining\u001b[0m - Epochs: 020/020:  99%|█████████▉| 14592/14681 [00:05<00:00, 2439.06it/s]"
     ]
    },
    {
     "name": "stdout",
     "output_type": "stream",
     "text": [
      "\u001b[32mTrain finished. \u001b[0mAccuracy: 0.9354 MSE: 0.0646 AUROC: 0.8206 AUPRC: 0.7668\n"
     ]
    },
    {
     "name": "stderr",
     "output_type": "stream",
     "text": [
      "\u001b[36mTraining\u001b[0m - Epochs: 020/020: 100%|██████████| 14681/14681 [00:06<00:00, 2397.87it/s]\n"
     ]
    },
    {
     "name": "stdout",
     "output_type": "stream",
     "text": [
      "\u001b[31mValidation finished. \u001b[0mAccuracy: 0.8637 MSE: 0.0299 AUROC: 0.6030 AUPRC: 0.4203\n"
     ]
    },
    {
     "name": "stderr",
     "output_type": "stream",
     "text": [
      "\u001b[32mEvaluating\u001b[0m: 100%|██████████| 3236/3236 [00:00<00:00, 6644.74it/s]\n",
      "COMET INFO: ---------------------------\n",
      "COMET INFO: Comet.ml Experiment Summary\n",
      "COMET INFO: ---------------------------\n",
      "COMET INFO:   Data:\n",
      "COMET INFO:     display_summary_level : 1\n",
      "COMET INFO:     url                   : https://www.comet.com/samdoud/sand-in-hospital-mortality/6d65b797e4d34027a8d757099e82b00b\n",
      "COMET INFO:   Metrics [count] (min, max):\n",
      "COMET INFO:     test_AUPRC                 : 1.0\n",
      "COMET INFO:     test_AUROC                 : 1.0\n",
      "COMET INFO:     test_MSE [13]              : (0.11328125, 0.12571022727272727)\n",
      "COMET INFO:     test_accuracy [13]         : (0.8742897727272727, 0.88671875)\n",
      "COMET INFO:     test_loss [13]             : (0.3616727888584137, 4.995124578475952)\n",
      "COMET INFO:     train_AUPRC [1160]         : (0.06676136363636363, 0.8067697298728813)\n",
      "COMET INFO:     train_AUROC [1160]         : (0.48997621016954634, 0.8468446363725587)\n",
      "COMET INFO:     train_MSE [1160]           : (0.05859375, 0.8515625)\n",
      "COMET INFO:     train_accuracy [1160]      : (0.1484375, 0.94140625)\n",
      "COMET INFO:     train_loss [1276]          : (0.08870543539524078, 14.575401306152344)\n",
      "COMET INFO:     validate_AUPRC [260]       : (0.3700093182266982, 0.6311960285567715)\n",
      "COMET INFO:     validate_AUPRCxAUROC [260] : (0.43294817763445503, 0.6416555494140554)\n",
      "COMET INFO:     validate_AUROC [260]       : (0.5, 0.7344688284747245)\n",
      "COMET INFO:     validate_MSE [260]         : (0.0021796880321503986, 0.18976908929909406)\n",
      "COMET INFO:     validate_accuracy [260]    : (0.13531967721911856, 0.884765625)\n",
      "COMET INFO:     validate_loss [260]        : (0.21281921863555908, 0.7936621904373169)\n",
      "COMET INFO:   Parameters:\n",
      "COMET INFO:     batch_size    : 256\n",
      "COMET INFO:     betas         : (0.9, 0.98)\n",
      "COMET INFO:     epochs        : 20\n",
      "COMET INFO:     eps           : 4e-09\n",
      "COMET INFO:     lr            : 0.0005\n",
      "COMET INFO:     test_ds_size  : 3236\n",
      "COMET INFO:     train_ds_size : 14681\n",
      "COMET INFO:     val_ds_size   : 3222\n",
      "COMET INFO:     weight_decay  : 0.0005\n",
      "COMET INFO:   Uploads:\n",
      "COMET INFO:     conda-environment-definition : 1\n",
      "COMET INFO:     conda-info                   : 1\n",
      "COMET INFO:     conda-specification          : 1\n",
      "COMET INFO:     confusion-matrix             : 1421\n",
      "COMET INFO:     environment details          : 1\n",
      "COMET INFO:     filename                     : 1\n",
      "COMET INFO:     git metadata                 : 1\n",
      "COMET INFO:     git-patch (uncompressed)     : 1 (794.42 KB)\n",
      "COMET INFO:     installed packages           : 1\n",
      "COMET INFO:     model graph                  : 1\n",
      "COMET INFO:     notebook                     : 1\n",
      "COMET INFO:     source_code                  : 1\n",
      "COMET INFO: ---------------------------\n"
     ]
    },
    {
     "name": "stdout",
     "output_type": "stream",
     "text": [
      "\u001b[35mEvaluation finished. \u001b[0mAccuracy: 0.8786 MSE: 0.1214 AUROC: 1.0000 AUPRC: 1.0000\n"
     ]
    },
    {
     "name": "stderr",
     "output_type": "stream",
     "text": [
      "COMET INFO: Uploading 1 metrics, params and output messages\n"
     ]
    },
    {
     "name": "stdout",
     "output_type": "stream",
     "text": [
      "Saving the results in results/optimal_ihm.json ...\n",
      "{'n_iters': 10000, 'AUC of ROC': {'value': 0.6001160326909495, 'mean': 0.600206587810774, 'median': 0.5999233539070996, 'std': 0.011214270506389129, '2.5% percentile': 0.5784176540977234, '97.5% percentile': 0.6223031921716695}, 'AUC of PRC': {'value': 0.3889081288166989, 'mean': 0.38929684186203795, 'median': 0.38964300460870316, 'std': 0.026202804082092104, '2.5% percentile': 0.3365138095446701, '97.5% percentile': 0.43918503781997414}, 'min(+P, Se)': {'value': 0.23796791443850268, 'mean': 0.23811358114064723, 'median': 0.23783783783783785, 'std': 0.022114526849024718, '2.5% percentile': 0.19483801337153772, '97.5% percentile': 0.28205128205128205}}\n"
     ]
    },
    {
     "data": {
      "text/plain": [
       "'train/models/optimal_ihm.pth'"
      ]
     },
     "execution_count": 231,
     "metadata": {},
     "output_type": "execute_result"
    }
   ],
   "source": [
    "num_class = 2\n",
    "epochs = 20\n",
    "betas = (0.9, 0.98)\n",
    "lr = 5e-4\n",
    "eps = 4e-09\n",
    "weight_decay = 5e-4\n",
    "\n",
    "\n",
    "experiment = get_experiment()\n",
    "\n",
    "clf = NeuralNetworkClassifier(\n",
    "    SAnD(feature_count, seq_len, best_n_heads, best_factor, num_class, best_num_layers, dropout_rate=dropout),\n",
    "    nn.CrossEntropyLoss(),\n",
    "    optim.Adam, optimizer_config={\n",
    "        \"lr\": lr, \"betas\": betas, \"eps\": eps, \"weight_decay\": weight_decay},\n",
    "    experiment=experiment,\n",
    ")\n",
    "# Score is the multiplication of AUPRC and AUROC\n",
    "score = clf.fit(\n",
    "    {\n",
    "        \"train\": train_loader,\n",
    "        \"val\": val_loader\n",
    "    },\n",
    "    validation=True,\n",
    "    epochs=epochs,\n",
    "    verbose=True,\n",
    ")\n",
    "\n",
    "preds = clf.evaluate(test_loader)\n",
    "\n",
    "experiment.end()\n",
    "\n",
    "file_path = 'results/modelstest_predictions.csv'\n",
    "save_results(test_names, preds, test_raw[1], file_path)\n",
    "pred_df = pd.read_csv(file_path, index_col=False)\n",
    "list_df = pd.read_csv(f\"mimic3_benchmarks/data/{task}/test_listfile.csv\", index_col=False)\n",
    "\n",
    "evaluate_predictions(pred_df, list_df, save_file=\"results/optimal_ihm.json\")\n",
    "\n",
    "clf.save_to_file(\"train/models/\", \"optimal_ihm.pth\")"
   ]
  }
 ],
 "metadata": {
  "kernelspec": {
   "display_name": "py38",
   "language": "python",
   "name": "python3"
  },
  "language_info": {
   "codemirror_mode": {
    "name": "ipython",
    "version": 3
   },
   "file_extension": ".py",
   "mimetype": "text/x-python",
   "name": "python",
   "nbconvert_exporter": "python",
   "pygments_lexer": "ipython3",
   "version": "3.8.16"
  },
  "orig_nbformat": 4
 },
 "nbformat": 4,
 "nbformat_minor": 2
}
