{
 "cells": [
  {
   "attachments": {},
   "cell_type": "markdown",
   "metadata": {},
   "source": [
    "## Mortality Training\n",
    "1. Load the MIMIC III Dataset\n",
    "2. Normalize Data\n",
    "3. Load into Pytorch Dataloader\n",
    "4. Train\n",
    "5. Evaluate"
   ]
  },
  {
   "cell_type": "code",
   "execution_count": 1,
   "metadata": {},
   "outputs": [],
   "source": [
    "from os import path\n",
    "\n",
    "from comet_ml import Experiment\n",
    "import numpy as np\n",
    "import pandas as pd\n",
    "import torch\n",
    "import torch.nn as nn\n",
    "import torch.optim as optim\n",
    "from torch.utils.data import TensorDataset, DataLoader\n",
    "\n",
    "from core.model import SAnD\n",
    "from mimic3_benchmarks.mimic3benchmark.readers import InHospitalMortalityReader as Reader\n",
    "from mimic3_benchmarks.mimic3models.preprocessing import Discretizer, Normalizer\n",
    "from utils.ihm_utils import evaluate_predictions, load_data, save_results\n",
    "from utils.functions import get_weights\n",
    "from utils.trainer import NeuralNetworkClassifier\n",
    "\n",
    "device = torch.device(\"cuda\" if torch.cuda.is_available() else \"cpu\")\n",
    "task = \"in-hospital-mortality\""
   ]
  },
  {
   "attachments": {},
   "cell_type": "markdown",
   "metadata": {},
   "source": [
    "## Load Data\n",
    "Using the [MimicIII Benchmark's](https://github.com/YerevaNN/mimic3-benchmarks) InHospitalMortalityReader and associated functions, load the data into memory.\n",
    "\n",
    "If you are following along you will need to arrange the data following the directions on the link.\n",
    "\n",
    "`Reader` is an alias for `InHospitalMortalityReader` from MIMIC-III Benchmarks\n"
   ]
  },
  {
   "cell_type": "code",
   "execution_count": 2,
   "metadata": {},
   "outputs": [],
   "source": [
    "train_reader = Reader(dataset_dir=f\"mimic3_benchmarks/data/{task}/train\",\n",
    "                              listfile=f\"mimic3_benchmarks/data/{task}/train_listfile.csv\")\n",
    "val_reader = Reader(dataset_dir=f\"mimic3_benchmarks/data/{task}/train\",\n",
    "                              listfile=f\"mimic3_benchmarks/data/{task}/val_listfile.csv\")\n",
    "test_reader = Reader(dataset_dir=f\"mimic3_benchmarks/data/{task}/test\",\n",
    "                              listfile=f\"mimic3_benchmarks/data/{task}/test_listfile.csv\")"
   ]
  },
  {
   "attachments": {},
   "cell_type": "markdown",
   "metadata": {},
   "source": [
    "### Example data"
   ]
  },
  {
   "cell_type": "code",
   "execution_count": 3,
   "metadata": {},
   "outputs": [
    {
     "data": {
      "text/html": [
       "<div>\n",
       "<style scoped>\n",
       "    .dataframe tbody tr th:only-of-type {\n",
       "        vertical-align: middle;\n",
       "    }\n",
       "\n",
       "    .dataframe tbody tr th {\n",
       "        vertical-align: top;\n",
       "    }\n",
       "\n",
       "    .dataframe thead th {\n",
       "        text-align: right;\n",
       "    }\n",
       "</style>\n",
       "<table border=\"1\" class=\"dataframe\">\n",
       "  <thead>\n",
       "    <tr style=\"text-align: right;\">\n",
       "      <th></th>\n",
       "      <th>Hours</th>\n",
       "      <th>Capillary refill rate</th>\n",
       "      <th>Diastolic blood pressure</th>\n",
       "      <th>Fraction inspired oxygen</th>\n",
       "      <th>Glascow coma scale eye opening</th>\n",
       "      <th>Glascow coma scale motor response</th>\n",
       "      <th>Glascow coma scale total</th>\n",
       "      <th>Glascow coma scale verbal response</th>\n",
       "      <th>Glucose</th>\n",
       "      <th>Heart Rate</th>\n",
       "      <th>Height</th>\n",
       "      <th>Mean blood pressure</th>\n",
       "      <th>Oxygen saturation</th>\n",
       "      <th>Respiratory rate</th>\n",
       "      <th>Systolic blood pressure</th>\n",
       "      <th>Temperature</th>\n",
       "      <th>Weight</th>\n",
       "      <th>pH</th>\n",
       "    </tr>\n",
       "  </thead>\n",
       "  <tbody>\n",
       "    <tr>\n",
       "      <th>0</th>\n",
       "      <td>0.2138888888888889</td>\n",
       "      <td></td>\n",
       "      <td>71.0</td>\n",
       "      <td></td>\n",
       "      <td></td>\n",
       "      <td></td>\n",
       "      <td></td>\n",
       "      <td></td>\n",
       "      <td></td>\n",
       "      <td>94</td>\n",
       "      <td></td>\n",
       "      <td>95</td>\n",
       "      <td>92.0</td>\n",
       "      <td>16</td>\n",
       "      <td>141.0</td>\n",
       "      <td></td>\n",
       "      <td></td>\n",
       "      <td></td>\n",
       "    </tr>\n",
       "    <tr>\n",
       "      <th>1</th>\n",
       "      <td>0.46388888888888885</td>\n",
       "      <td></td>\n",
       "      <td>71.0</td>\n",
       "      <td></td>\n",
       "      <td></td>\n",
       "      <td></td>\n",
       "      <td></td>\n",
       "      <td></td>\n",
       "      <td></td>\n",
       "      <td>91</td>\n",
       "      <td></td>\n",
       "      <td>95</td>\n",
       "      <td>93.0</td>\n",
       "      <td>16</td>\n",
       "      <td>141.0</td>\n",
       "      <td></td>\n",
       "      <td></td>\n",
       "      <td></td>\n",
       "    </tr>\n",
       "    <tr>\n",
       "      <th>2</th>\n",
       "      <td>0.7138888888888889</td>\n",
       "      <td></td>\n",
       "      <td></td>\n",
       "      <td></td>\n",
       "      <td></td>\n",
       "      <td></td>\n",
       "      <td></td>\n",
       "      <td></td>\n",
       "      <td></td>\n",
       "      <td>89</td>\n",
       "      <td></td>\n",
       "      <td></td>\n",
       "      <td>93.0</td>\n",
       "      <td>19</td>\n",
       "      <td></td>\n",
       "      <td></td>\n",
       "      <td></td>\n",
       "      <td></td>\n",
       "    </tr>\n",
       "    <tr>\n",
       "      <th>3</th>\n",
       "      <td>0.9638888888888889</td>\n",
       "      <td></td>\n",
       "      <td></td>\n",
       "      <td></td>\n",
       "      <td></td>\n",
       "      <td></td>\n",
       "      <td></td>\n",
       "      <td></td>\n",
       "      <td></td>\n",
       "      <td>89</td>\n",
       "      <td></td>\n",
       "      <td></td>\n",
       "      <td>94.0</td>\n",
       "      <td>13</td>\n",
       "      <td></td>\n",
       "      <td></td>\n",
       "      <td></td>\n",
       "      <td></td>\n",
       "    </tr>\n",
       "    <tr>\n",
       "      <th>4</th>\n",
       "      <td>1.1305555555555555</td>\n",
       "      <td></td>\n",
       "      <td></td>\n",
       "      <td></td>\n",
       "      <td></td>\n",
       "      <td></td>\n",
       "      <td></td>\n",
       "      <td></td>\n",
       "      <td></td>\n",
       "      <td></td>\n",
       "      <td></td>\n",
       "      <td></td>\n",
       "      <td></td>\n",
       "      <td></td>\n",
       "      <td></td>\n",
       "      <td></td>\n",
       "      <td></td>\n",
       "      <td>7.51</td>\n",
       "    </tr>\n",
       "    <tr>\n",
       "      <th>...</th>\n",
       "      <td>...</td>\n",
       "      <td>...</td>\n",
       "      <td>...</td>\n",
       "      <td>...</td>\n",
       "      <td>...</td>\n",
       "      <td>...</td>\n",
       "      <td>...</td>\n",
       "      <td>...</td>\n",
       "      <td>...</td>\n",
       "      <td>...</td>\n",
       "      <td>...</td>\n",
       "      <td>...</td>\n",
       "      <td>...</td>\n",
       "      <td>...</td>\n",
       "      <td>...</td>\n",
       "      <td>...</td>\n",
       "      <td>...</td>\n",
       "      <td>...</td>\n",
       "    </tr>\n",
       "    <tr>\n",
       "      <th>66</th>\n",
       "      <td>44.21388888888889</td>\n",
       "      <td></td>\n",
       "      <td>58.0</td>\n",
       "      <td></td>\n",
       "      <td></td>\n",
       "      <td></td>\n",
       "      <td></td>\n",
       "      <td></td>\n",
       "      <td></td>\n",
       "      <td>103</td>\n",
       "      <td></td>\n",
       "      <td>81</td>\n",
       "      <td>99.0</td>\n",
       "      <td>21</td>\n",
       "      <td>113.0</td>\n",
       "      <td></td>\n",
       "      <td></td>\n",
       "      <td></td>\n",
       "    </tr>\n",
       "    <tr>\n",
       "      <th>67</th>\n",
       "      <td>45.21388888888889</td>\n",
       "      <td></td>\n",
       "      <td>59.0</td>\n",
       "      <td></td>\n",
       "      <td>4 Spontaneously</td>\n",
       "      <td>6 Obeys Commands</td>\n",
       "      <td>15</td>\n",
       "      <td>5 Oriented</td>\n",
       "      <td></td>\n",
       "      <td>107</td>\n",
       "      <td></td>\n",
       "      <td>81</td>\n",
       "      <td>97.0</td>\n",
       "      <td>22</td>\n",
       "      <td>116.0</td>\n",
       "      <td></td>\n",
       "      <td></td>\n",
       "      <td></td>\n",
       "    </tr>\n",
       "    <tr>\n",
       "      <th>68</th>\n",
       "      <td>46.21388888888889</td>\n",
       "      <td></td>\n",
       "      <td>61.0</td>\n",
       "      <td></td>\n",
       "      <td></td>\n",
       "      <td></td>\n",
       "      <td></td>\n",
       "      <td></td>\n",
       "      <td></td>\n",
       "      <td>100</td>\n",
       "      <td></td>\n",
       "      <td>85</td>\n",
       "      <td>97.0</td>\n",
       "      <td>20</td>\n",
       "      <td>120.0</td>\n",
       "      <td></td>\n",
       "      <td></td>\n",
       "      <td></td>\n",
       "    </tr>\n",
       "    <tr>\n",
       "      <th>69</th>\n",
       "      <td>47.21388888888889</td>\n",
       "      <td></td>\n",
       "      <td>58.0</td>\n",
       "      <td></td>\n",
       "      <td></td>\n",
       "      <td></td>\n",
       "      <td></td>\n",
       "      <td></td>\n",
       "      <td></td>\n",
       "      <td>90</td>\n",
       "      <td></td>\n",
       "      <td>83</td>\n",
       "      <td>100.0</td>\n",
       "      <td>18</td>\n",
       "      <td>123.0</td>\n",
       "      <td>37.0</td>\n",
       "      <td></td>\n",
       "      <td></td>\n",
       "    </tr>\n",
       "    <tr>\n",
       "      <th>70</th>\n",
       "      <td>47.71388888888889</td>\n",
       "      <td></td>\n",
       "      <td></td>\n",
       "      <td></td>\n",
       "      <td>4 Spontaneously</td>\n",
       "      <td>6 Obeys Commands</td>\n",
       "      <td>15</td>\n",
       "      <td>5 Oriented</td>\n",
       "      <td></td>\n",
       "      <td></td>\n",
       "      <td></td>\n",
       "      <td></td>\n",
       "      <td></td>\n",
       "      <td></td>\n",
       "      <td></td>\n",
       "      <td></td>\n",
       "      <td></td>\n",
       "      <td></td>\n",
       "    </tr>\n",
       "  </tbody>\n",
       "</table>\n",
       "<p>71 rows × 18 columns</p>\n",
       "</div>"
      ],
      "text/plain": [
       "                  Hours Capillary refill rate Diastolic blood pressure  \\\n",
       "0    0.2138888888888889                                           71.0   \n",
       "1   0.46388888888888885                                           71.0   \n",
       "2    0.7138888888888889                                                  \n",
       "3    0.9638888888888889                                                  \n",
       "4    1.1305555555555555                                                  \n",
       "..                  ...                   ...                      ...   \n",
       "66    44.21388888888889                                           58.0   \n",
       "67    45.21388888888889                                           59.0   \n",
       "68    46.21388888888889                                           61.0   \n",
       "69    47.21388888888889                                           58.0   \n",
       "70    47.71388888888889                                                  \n",
       "\n",
       "   Fraction inspired oxygen Glascow coma scale eye opening  \\\n",
       "0                                                            \n",
       "1                                                            \n",
       "2                                                            \n",
       "3                                                            \n",
       "4                                                            \n",
       "..                      ...                            ...   \n",
       "66                                                           \n",
       "67                                         4 Spontaneously   \n",
       "68                                                           \n",
       "69                                                           \n",
       "70                                         4 Spontaneously   \n",
       "\n",
       "   Glascow coma scale motor response Glascow coma scale total  \\\n",
       "0                                                               \n",
       "1                                                               \n",
       "2                                                               \n",
       "3                                                               \n",
       "4                                                               \n",
       "..                               ...                      ...   \n",
       "66                                                              \n",
       "67                  6 Obeys Commands                       15   \n",
       "68                                                              \n",
       "69                                                              \n",
       "70                  6 Obeys Commands                       15   \n",
       "\n",
       "   Glascow coma scale verbal response Glucose Heart Rate Height  \\\n",
       "0                                                     94          \n",
       "1                                                     91          \n",
       "2                                                     89          \n",
       "3                                                     89          \n",
       "4                                                                 \n",
       "..                                ...     ...        ...    ...   \n",
       "66                                                   103          \n",
       "67                         5 Oriented                107          \n",
       "68                                                   100          \n",
       "69                                                    90          \n",
       "70                         5 Oriented                             \n",
       "\n",
       "   Mean blood pressure Oxygen saturation Respiratory rate  \\\n",
       "0                   95              92.0               16   \n",
       "1                   95              93.0               16   \n",
       "2                                   93.0               19   \n",
       "3                                   94.0               13   \n",
       "4                                                           \n",
       "..                 ...               ...              ...   \n",
       "66                  81              99.0               21   \n",
       "67                  81              97.0               22   \n",
       "68                  85              97.0               20   \n",
       "69                  83             100.0               18   \n",
       "70                                                          \n",
       "\n",
       "   Systolic blood pressure Temperature Weight    pH  \n",
       "0                    141.0                           \n",
       "1                    141.0                           \n",
       "2                                                    \n",
       "3                                                    \n",
       "4                                              7.51  \n",
       "..                     ...         ...    ...   ...  \n",
       "66                   113.0                           \n",
       "67                   116.0                           \n",
       "68                   120.0                           \n",
       "69                   123.0        37.0               \n",
       "70                                                   \n",
       "\n",
       "[71 rows x 18 columns]"
      ]
     },
     "execution_count": 3,
     "metadata": {},
     "output_type": "execute_result"
    }
   ],
   "source": [
    "ex = pd.DataFrame.from_dict(train_reader.read_example(0)['X'])\n",
    "ex.columns = train_reader.read_example(0)[\"header\"]\n",
    "ex"
   ]
  },
  {
   "attachments": {},
   "cell_type": "markdown",
   "metadata": {},
   "source": [
    "### Normalize and Discretize data\n",
    "From the MIMIC-III Benchmark repo"
   ]
  },
  {
   "cell_type": "code",
   "execution_count": 4,
   "metadata": {},
   "outputs": [],
   "source": [
    "discretizer = Discretizer(timestep=1.0,\n",
    "                          store_masks=True,\n",
    "                          impute_strategy='previous',\n",
    "                          start_time='zero')\n",
    "\n",
    "discretizer_header = discretizer.transform(train_reader.read_example(0)[\"X\"])[1].split(',')\n",
    "cont_channels = [i for (i, x) in enumerate(discretizer_header) if x.find(\"->\") == -1]"
   ]
  },
  {
   "cell_type": "code",
   "execution_count": 5,
   "metadata": {},
   "outputs": [],
   "source": [
    "normalizer = Normalizer(fields=cont_channels)  # choose here which columns to standardize\n",
    "normalizer_state = 'train/ihm_ts1.0.input_str-previous.start_time-zero.normalizer'\n",
    "normalizer.load_params(normalizer_state)"
   ]
  },
  {
   "attachments": {},
   "cell_type": "markdown",
   "metadata": {},
   "source": [
    "### Load the data into Tensors\n",
    "The `load_data` method is customized from the MIMIC-III benchmark."
   ]
  },
  {
   "cell_type": "code",
   "execution_count": 6,
   "metadata": {},
   "outputs": [],
   "source": [
    "train_raw = load_data(train_reader, discretizer, normalizer)\n",
    "val_raw = load_data(val_reader, discretizer, normalizer)\n",
    "# return_names such that the prediction can be tied directly to a patient for evaluation\n",
    "test_data = load_data(test_reader, discretizer, normalizer, return_names=True)\n",
    "test_raw = test_data[\"data\"]\n",
    "test_names = test_data[\"names\"]\n",
    "\n",
    "N, seq_len, feature_count = train_raw[0].shape"
   ]
  },
  {
   "attachments": {},
   "cell_type": "markdown",
   "metadata": {},
   "source": [
    "### Load into standard Pytorch datasets\n",
    "\n",
    "This data has already been collated for us. Shuffle is enabled on the train dataset to limit overfitting. This does come at the cost of reduced determinism."
   ]
  },
  {
   "cell_type": "code",
   "execution_count": 14,
   "metadata": {},
   "outputs": [
    {
     "name": "stdout",
     "output_type": "stream",
     "text": [
      "3236\n",
      "torch.Size([3236])\n"
     ]
    }
   ],
   "source": [
    "batch_size = 256\n",
    "\n",
    "train_ds = TensorDataset(train_raw[0], train_raw[1])\n",
    "val_ds = TensorDataset(val_raw[0], val_raw[1])\n",
    "test_ds = TensorDataset(test_raw[0], test_raw[1])\n",
    "\n",
    "train_loader = DataLoader(train_ds, batch_size=batch_size, shuffle=True)\n",
    "val_loader = DataLoader(val_ds, batch_size=batch_size, shuffle=False)\n",
    "test_loader = DataLoader(test_ds, batch_size=batch_size)\n",
    "print(len(test_raw[1]))\n",
    "print(test_loader.dataset.tensors[1].shape)"
   ]
  },
  {
   "attachments": {},
   "cell_type": "markdown",
   "metadata": {},
   "source": [
    "## Create model, Train, and Evaluate\n",
    "Train the model, this will export results to Comet ML.\n",
    "Creating is done in the same step such that a new experiment made each time\n",
    "Evaluation is done in the same step such that the Comet ML experiment is also deleted."
   ]
  },
  {
   "attachments": {},
   "cell_type": "markdown",
   "metadata": {},
   "source": [
    "### Paper IHM Module"
   ]
  },
  {
   "cell_type": "code",
   "execution_count": null,
   "metadata": {},
   "outputs": [],
   "source": [
    "n_heads = 8\n",
    "factor = 12 # M\n",
    "num_class = 2\n",
    "num_layers = 4 # N\n",
    "epochs = 28\n",
    "betas = (0.9, 0.98)\n",
    "lr = 5e-4\n",
    "eps = 4e-09\n",
    "weight_decay = 5e-4\n",
    "dropout = 0.3\n",
    "scores = {}\n",
    "\n",
    "experiment = Experiment(\n",
    "    api_key=\"eQ3INeSsFGUYKahSdEtjhry42\",\n",
    "    project_name=\"general\",\n",
    "    workspace=\"samdoud\",\n",
    ")\n",
    "clf = NeuralNetworkClassifier(\n",
    "    SAnD(feature_count, seq_len, n_heads, factor, num_class, num_layers, dropout_rate=dropout),\n",
    "    nn.CrossEntropyLoss(),\n",
    "    optim.Adam, optimizer_config={\n",
    "        \"lr\": lr, \"betas\": betas, \"eps\": eps, \"weight_decay\": weight_decay},\n",
    "    experiment=experiment,\n",
    ")\n",
    "# Score is the multiplication of AUPRC and AUROC\n",
    "score = clf.fit(\n",
    "    {\n",
    "        \"train\": train_loader,\n",
    "        \"val\": val_loader\n",
    "    },\n",
    "    validation=True,\n",
    "    epochs=epochs,\n",
    "    verbose=True,\n",
    ")\n",
    "\n",
    "preds = clf.evaluate(test_loader)\n",
    "\n",
    "experiment.end()\n",
    "\n",
    "file_path = 'results/test_predictions.csv'\n",
    "save_results(test_names, preds, test_raw[1], file_path)\n",
    "pred_df = pd.read_csv(file_path, index_col=False)\n",
    "list_df = pd.read_csv(f\"mimic3_benchmarks/data/{task}/test_listfile.csv\", index_col=False)\n",
    "\n",
    "evaluate_predictions(pred_df, list_df, save_file=\"results/paper_ihm.json\")"
   ]
  },
  {
   "attachments": {},
   "cell_type": "markdown",
   "metadata": {},
   "source": [
    "### Ablation: CrossEntropyLoss weighting\n",
    "\n",
    "This block searches for the optimal weights to pass `nn.CrossEntropyLoss`.\n",
    "\n",
    "The weight function is stored in `utils`, but placed here for clarity:\n",
    "```\n",
    "def get_weights(labels, level: Optional[int]=1) -> np.array:\n",
    "    class_sample_count = np.array(\n",
    "        [len(np.where(labels == t)[0]) for t in np.unique(labels)]\n",
    "    )\n",
    "    weight = (1.0 / class_sample_count ** (1/level))\n",
    "    return weight\n",
    "```\n"
   ]
  },
  {
   "cell_type": "code",
   "execution_count": 15,
   "metadata": {},
   "outputs": [
    {
     "name": "stderr",
     "output_type": "stream",
     "text": [
      "COMET WARNING: As you are running in a Jupyter environment, you will need to call `experiment.end()` when finished to ensure all metrics and code are logged before exiting.\n",
      "COMET INFO: Experiment is live on comet.com https://www.comet.com/samdoud/general/b4bf309fb70545c6aa87d3d6b8175934\n",
      "\n"
     ]
    },
    {
     "name": "stdout",
     "output_type": "stream",
     "text": [
      "(0.6340095937462535, 0.5864663884855132, 0.7290960042677345)\n"
     ]
    },
    {
     "name": "stderr",
     "output_type": "stream",
     "text": [
      "COMET WARNING: Cannot safely convert (0.6283524102502456, 0.5669025327999752, 0.7512521651507866) object to a scalar value, using its string representation for logging. Resulting string might be invalid\n"
     ]
    },
    {
     "name": "stdout",
     "output_type": "stream",
     "text": [
      "(0.6283524102502456, 0.5669025327999752, 0.7512521651507866)\n"
     ]
    },
    {
     "name": "stderr",
     "output_type": "stream",
     "text": [
      "COMET WARNING: Cannot safely convert (0.6217623921634763, 0.574098734224126, 0.7170897080421769) object to a scalar value, using its string representation for logging. Resulting string might be invalid\n"
     ]
    },
    {
     "name": "stdout",
     "output_type": "stream",
     "text": [
      "(0.6217623921634763, 0.574098734224126, 0.7170897080421769)\n"
     ]
    },
    {
     "name": "stderr",
     "output_type": "stream",
     "text": [
      "COMET WARNING: Cannot safely convert (0.6320160082283492, 0.5730548842643874, 0.7499382561562729) object to a scalar value, using its string representation for logging. Resulting string might be invalid\n"
     ]
    },
    {
     "name": "stdout",
     "output_type": "stream",
     "text": [
      "(0.6320160082283492, 0.5730548842643874, 0.7499382561562729)\n"
     ]
    },
    {
     "name": "stderr",
     "output_type": "stream",
     "text": [
      "COMET WARNING: Cannot safely convert (0.6178481140520711, 0.5539295009779335, 0.7456853402003464) object to a scalar value, using its string representation for logging. Resulting string might be invalid\n"
     ]
    },
    {
     "name": "stdout",
     "output_type": "stream",
     "text": [
      "(0.6178481140520711, 0.5539295009779335, 0.7456853402003464)\n"
     ]
    },
    {
     "name": "stderr",
     "output_type": "stream",
     "text": [
      "COMET WARNING: Cannot safely convert (0.6421928383502372, 0.5829056059779728, 0.7607673030947661) object to a scalar value, using its string representation for logging. Resulting string might be invalid\n"
     ]
    },
    {
     "name": "stdout",
     "output_type": "stream",
     "text": [
      "(0.6421928383502372, 0.5829056059779728, 0.7607673030947661)\n"
     ]
    },
    {
     "name": "stderr",
     "output_type": "stream",
     "text": [
      "COMET WARNING: Cannot safely convert (0.6240889790268777, 0.5756144580224586, 0.7210380210357159) object to a scalar value, using its string representation for logging. Resulting string might be invalid\n"
     ]
    },
    {
     "name": "stdout",
     "output_type": "stream",
     "text": [
      "(0.6240889790268777, 0.5756144580224586, 0.7210380210357159)\n"
     ]
    },
    {
     "name": "stderr",
     "output_type": "stream",
     "text": [
      "COMET WARNING: Cannot safely convert (0.6220815520752839, 0.5784800966410185, 0.7092844629438149) object to a scalar value, using its string representation for logging. Resulting string might be invalid\n"
     ]
    },
    {
     "name": "stdout",
     "output_type": "stream",
     "text": [
      "(0.6220815520752839, 0.5784800966410185, 0.7092844629438149)\n"
     ]
    },
    {
     "name": "stderr",
     "output_type": "stream",
     "text": [
      "COMET WARNING: Cannot safely convert (0.6288233813019399, 0.5708332528969485, 0.7448036381119226) object to a scalar value, using its string representation for logging. Resulting string might be invalid\n"
     ]
    },
    {
     "name": "stdout",
     "output_type": "stream",
     "text": [
      "(0.6288233813019399, 0.5708332528969485, 0.7448036381119226)\n"
     ]
    },
    {
     "name": "stderr",
     "output_type": "stream",
     "text": [
      "COMET WARNING: Cannot safely convert (0.6285921926929029, 0.5657671821945142, 0.7542422136896804) object to a scalar value, using its string representation for logging. Resulting string might be invalid\n"
     ]
    },
    {
     "name": "stdout",
     "output_type": "stream",
     "text": [
      "(0.6285921926929029, 0.5657671821945142, 0.7542422136896804)\n"
     ]
    },
    {
     "name": "stderr",
     "output_type": "stream",
     "text": [
      "COMET WARNING: Cannot safely convert (0.6149044025016279, 0.5505512302268849, 0.7436107470511141) object to a scalar value, using its string representation for logging. Resulting string might be invalid\n"
     ]
    },
    {
     "name": "stdout",
     "output_type": "stream",
     "text": [
      "(0.6149044025016279, 0.5505512302268849, 0.7436107470511141)\n"
     ]
    },
    {
     "name": "stderr",
     "output_type": "stream",
     "text": [
      "COMET WARNING: Cannot safely convert (0.6236890115995066, 0.5620215440330844, 0.7470239467323511) object to a scalar value, using its string representation for logging. Resulting string might be invalid\n"
     ]
    },
    {
     "name": "stdout",
     "output_type": "stream",
     "text": [
      "(0.6236890115995066, 0.5620215440330844, 0.7470239467323511)\n"
     ]
    },
    {
     "name": "stderr",
     "output_type": "stream",
     "text": [
      "COMET WARNING: Cannot safely convert (0.6289165369842625, 0.574212480087984, 0.7383246507768199) object to a scalar value, using its string representation for logging. Resulting string might be invalid\n"
     ]
    },
    {
     "name": "stdout",
     "output_type": "stream",
     "text": [
      "(0.6289165369842625, 0.574212480087984, 0.7383246507768199)\n"
     ]
    },
    {
     "name": "stderr",
     "output_type": "stream",
     "text": [
      "COMET WARNING: Cannot safely convert (0.6223242163773419, 0.5568505243328682, 0.7532716004662895) object to a scalar value, using its string representation for logging. Resulting string might be invalid\n"
     ]
    },
    {
     "name": "stdout",
     "output_type": "stream",
     "text": [
      "(0.6223242163773419, 0.5568505243328682, 0.7532716004662895)\n"
     ]
    },
    {
     "name": "stderr",
     "output_type": "stream",
     "text": [
      "COMET WARNING: Cannot safely convert (0.63095971650158, 0.5676485027475228, 0.7575821440096946) object to a scalar value, using its string representation for logging. Resulting string might be invalid\n"
     ]
    },
    {
     "name": "stdout",
     "output_type": "stream",
     "text": [
      "(0.63095971650158, 0.5676485027475228, 0.7575821440096946)\n"
     ]
    },
    {
     "name": "stderr",
     "output_type": "stream",
     "text": [
      "COMET WARNING: Cannot safely convert (0.629103653741232, 0.5647503883089179, 0.7578101846058602) object to a scalar value, using its string representation for logging. Resulting string might be invalid\n"
     ]
    },
    {
     "name": "stdout",
     "output_type": "stream",
     "text": [
      "(0.629103653741232, 0.5647503883089179, 0.7578101846058602)\n"
     ]
    },
    {
     "name": "stderr",
     "output_type": "stream",
     "text": [
      "COMET WARNING: Cannot safely convert (0.6256255283482753, 0.5680456181413334, 0.7407853487621594) object to a scalar value, using its string representation for logging. Resulting string might be invalid\n"
     ]
    },
    {
     "name": "stdout",
     "output_type": "stream",
     "text": [
      "(0.6256255283482753, 0.5680456181413334, 0.7407853487621594)\n"
     ]
    },
    {
     "name": "stderr",
     "output_type": "stream",
     "text": [
      "COMET WARNING: Cannot safely convert (0.6291264880475558, 0.5750855710302172, 0.737208322082233) object to a scalar value, using its string representation for logging. Resulting string might be invalid\n"
     ]
    },
    {
     "name": "stdout",
     "output_type": "stream",
     "text": [
      "(0.6291264880475558, 0.5750855710302172, 0.737208322082233)\n"
     ]
    },
    {
     "name": "stderr",
     "output_type": "stream",
     "text": [
      "COMET WARNING: Cannot safely convert (0.6217216953181838, 0.5644134702216232, 0.7363381455113049) object to a scalar value, using its string representation for logging. Resulting string might be invalid\n"
     ]
    },
    {
     "name": "stdout",
     "output_type": "stream",
     "text": [
      "(0.6217216953181838, 0.5644134702216232, 0.7363381455113049)\n"
     ]
    },
    {
     "name": "stderr",
     "output_type": "stream",
     "text": [
      "COMET WARNING: Cannot safely convert (0.6166150200500178, 0.549908123178157, 0.7500288137937393) object to a scalar value, using its string representation for logging. Resulting string might be invalid\n"
     ]
    },
    {
     "name": "stdout",
     "output_type": "stream",
     "text": [
      "(0.6166150200500178, 0.549908123178157, 0.7500288137937393)\n"
     ]
    },
    {
     "name": "stderr",
     "output_type": "stream",
     "text": [
      "COMET WARNING: Cannot safely convert (0.6062159411647637, 0.5387324221892645, 0.7411829791157623) object to a scalar value, using its string representation for logging. Resulting string might be invalid\n"
     ]
    },
    {
     "name": "stdout",
     "output_type": "stream",
     "text": [
      "(0.6062159411647637, 0.5387324221892645, 0.7411829791157623)\n"
     ]
    },
    {
     "name": "stderr",
     "output_type": "stream",
     "text": [
      "COMET WARNING: Cannot safely convert (0.6090057820020129, 0.5417354062762006, 0.7435465334536377) object to a scalar value, using its string representation for logging. Resulting string might be invalid\n"
     ]
    },
    {
     "name": "stdout",
     "output_type": "stream",
     "text": [
      "(0.6090057820020129, 0.5417354062762006, 0.7435465334536377)\n"
     ]
    },
    {
     "name": "stderr",
     "output_type": "stream",
     "text": [
      "COMET WARNING: Cannot safely convert (0.6143798579389684, 0.5493659597780431, 0.7444076542608192) object to a scalar value, using its string representation for logging. Resulting string might be invalid\n"
     ]
    },
    {
     "name": "stdout",
     "output_type": "stream",
     "text": [
      "(0.6143798579389684, 0.5493659597780431, 0.7444076542608192)\n"
     ]
    },
    {
     "name": "stderr",
     "output_type": "stream",
     "text": [
      "COMET WARNING: Cannot safely convert (0.621757757298843, 0.5596782990475091, 0.7459166738015108) object to a scalar value, using its string representation for logging. Resulting string might be invalid\n"
     ]
    },
    {
     "name": "stdout",
     "output_type": "stream",
     "text": [
      "(0.621757757298843, 0.5596782990475091, 0.7459166738015108)\n"
     ]
    },
    {
     "name": "stderr",
     "output_type": "stream",
     "text": [
      "COMET WARNING: Cannot safely convert (0.6293801706300879, 0.5767618923710359, 0.7346167271481918) object to a scalar value, using its string representation for logging. Resulting string might be invalid\n"
     ]
    },
    {
     "name": "stdout",
     "output_type": "stream",
     "text": [
      "(0.6293801706300879, 0.5767618923710359, 0.7346167271481918)\n"
     ]
    },
    {
     "name": "stderr",
     "output_type": "stream",
     "text": [
      "COMET WARNING: Cannot safely convert (0.6190779134743193, 0.5531430891172793, 0.7509475621883993) object to a scalar value, using its string representation for logging. Resulting string might be invalid\n"
     ]
    },
    {
     "name": "stdout",
     "output_type": "stream",
     "text": [
      "(0.6190779134743193, 0.5531430891172793, 0.7509475621883993)\n"
     ]
    },
    {
     "name": "stderr",
     "output_type": "stream",
     "text": [
      "COMET WARNING: Cannot safely convert (0.6233031512614262, 0.5713407033010516, 0.7272280471821755) object to a scalar value, using its string representation for logging. Resulting string might be invalid\n"
     ]
    },
    {
     "name": "stdout",
     "output_type": "stream",
     "text": [
      "(0.6233031512614262, 0.5713407033010516, 0.7272280471821755)\n"
     ]
    },
    {
     "name": "stderr",
     "output_type": "stream",
     "text": [
      "COMET WARNING: Cannot safely convert (0.6296186825810423, 0.5747272921658527, 0.7394014634114214) object to a scalar value, using its string representation for logging. Resulting string might be invalid\n"
     ]
    },
    {
     "name": "stdout",
     "output_type": "stream",
     "text": [
      "(0.6296186825810423, 0.5747272921658527, 0.7394014634114214)\n"
     ]
    },
    {
     "name": "stderr",
     "output_type": "stream",
     "text": [
      "COMET WARNING: Cannot safely convert (0.6186103920673649, 0.5558500671805867, 0.7441310418409215) object to a scalar value, using its string representation for logging. Resulting string might be invalid\n"
     ]
    },
    {
     "name": "stdout",
     "output_type": "stream",
     "text": [
      "(0.6186103920673649, 0.5558500671805867, 0.7441310418409215)\n"
     ]
    },
    {
     "name": "stderr",
     "output_type": "stream",
     "text": [
      "COMET WARNING: Cannot safely convert (0.6138143080732188, 0.5465801131632606, 0.7482826978931354) object to a scalar value, using its string representation for logging. Resulting string might be invalid\n",
      "COMET INFO: ---------------------------\n",
      "COMET INFO: Comet.ml Experiment Summary\n",
      "COMET INFO: ---------------------------\n",
      "COMET INFO:   Data:\n",
      "COMET INFO:     display_summary_level : 1\n",
      "COMET INFO:     url                   : https://www.comet.com/samdoud/general/b4bf309fb70545c6aa87d3d6b8175934\n",
      "COMET INFO:   Metrics [count] (min, max):\n",
      "COMET INFO:     AUPRCxAUROC                 : (0.6138143080732188, 0.5465801131632606, 0.7482826978931354)\n",
      "COMET INFO:     train_AUPRC [20880]         : (0.06640625, 0.7324182205041581)\n",
      "COMET INFO:     train_AUROC [20880]         : (0.4291202967673556, 0.8382389238553623)\n",
      "COMET INFO:     train_MSE [20880]           : (0.07552083333333333, 0.8671875)\n",
      "COMET INFO:     train_accuracy [20880]      : (0.1328125, 0.9244791666666666)\n",
      "COMET INFO:     train_loss [22623]          : (0.09818947315216064, 223.4842071533203)\n",
      "COMET INFO:     validate_AUPRC [4680]       : (0.3183745155038759, 0.6561608392549525)\n",
      "COMET INFO:     validate_AUPRCxAUROC [4680] : (0.3950935100265676, 0.7059378481447108)\n",
      "COMET INFO:     validate_AUROC [4680]       : (0.5, 0.8054918659242276)\n",
      "COMET INFO:     validate_MSE [4680]         : (0.0023840337851644983, 0.18976908929909406)\n",
      "COMET INFO:     validate_accuracy [4680]    : (0.13531967721911856, 0.87890625)\n",
      "COMET INFO:     validate_loss [4680]        : (0.23591248691082, 15.379350662231445)\n",
      "COMET INFO:   Parameters:\n",
      "COMET INFO:     batch_size    : 256\n",
      "COMET INFO:     betas         : (0.9, 0.98)\n",
      "COMET INFO:     epochs        : 12\n",
      "COMET INFO:     eps           : 4e-09\n",
      "COMET INFO:     lr            : 0.0005\n",
      "COMET INFO:     train_ds_size : 14681\n",
      "COMET INFO:     val_ds_size   : 3222\n",
      "COMET INFO:     weight_decay  : 0.0005\n",
      "COMET INFO:   Uploads:\n",
      "COMET INFO:     conda-environment-definition : 1\n",
      "COMET INFO:     conda-info                   : 1\n",
      "COMET INFO:     conda-specification          : 1\n",
      "COMET INFO:     confusion-matrix             : 25560\n",
      "COMET INFO:     environment details          : 1\n",
      "COMET INFO:     filename                     : 1\n",
      "COMET INFO:     git metadata                 : 1\n",
      "COMET INFO:     git-patch (uncompressed)     : 1 (205.66 KB)\n",
      "COMET INFO:     installed packages           : 1\n",
      "COMET INFO:     model graph                  : 1\n",
      "COMET INFO:     notebook                     : 1\n",
      "COMET INFO:     source_code                  : 1\n",
      "COMET INFO: ---------------------------\n"
     ]
    },
    {
     "name": "stdout",
     "output_type": "stream",
     "text": [
      "(0.6138143080732188, 0.5465801131632606, 0.7482826978931354)\n"
     ]
    },
    {
     "name": "stderr",
     "output_type": "stream",
     "text": [
      "COMET INFO: Uploading 1 metrics, params and output messages\n"
     ]
    }
   ],
   "source": [
    "n_heads = 8\n",
    "factor = 12 # M\n",
    "num_class = 2\n",
    "num_layers = 4 # N\n",
    "epochs = 12\n",
    "betas = (0.9, 0.98)\n",
    "lr = 0.0005\n",
    "eps = 4e-09\n",
    "weight_decay = 5e-4\n",
    "dropout = 0.3\n",
    "scores = {}\n",
    "\n",
    "experiment = Experiment(\n",
    "    api_key=\"eQ3INeSsFGUYKahSdEtjhry42\",\n",
    "    project_name=\"general\",\n",
    "    workspace=\"samdoud\",\n",
    "    auto_output_logging=False,\n",
    ")\n",
    "for iteration, level in enumerate(np.logspace(0, .75, 30)):\n",
    "    clf = NeuralNetworkClassifier(\n",
    "        SAnD(feature_count, seq_len, n_heads, factor, num_class, num_layers, dropout_rate=dropout),\n",
    "        nn.CrossEntropyLoss(weight=torch.tensor(get_weights(train_raw[1], level=level), dtype=torch.float32).to(device=device)),\n",
    "        optim.Adam, optimizer_config={\n",
    "            \"lr\": lr, \"betas\": betas, \"eps\": eps, \"weight_decay\": weight_decay},\n",
    "        experiment=experiment,\n",
    "        silent=True,\n",
    "    )\n",
    "    # Score is the multiplication of AUPRC and AUROC\n",
    "    scores[level] = clf.fit(\n",
    "        {\n",
    "            \"train\": DataLoader(train_ds, batch_size=batch_size, shuffle=False),\n",
    "            \"val\": val_loader\n",
    "        },\n",
    "        validation=True,\n",
    "        epochs=epochs,\n",
    "        verbose=True,\n",
    "        level=iteration\n",
    "    )\n",
    "    print(scores[level])\n",
    "\n",
    "    #clf.evaluate(test_loader)\n",
    "\n",
    "experiment.end()"
   ]
  },
  {
   "cell_type": "code",
   "execution_count": 27,
   "metadata": {},
   "outputs": [
    {
     "ename": "IndexError",
     "evalue": "list index out of range",
     "output_type": "error",
     "traceback": [
      "\u001b[1;31m---------------------------------------------------------------------------\u001b[0m",
      "\u001b[1;31mIndexError\u001b[0m                                Traceback (most recent call last)",
      "Cell \u001b[1;32mIn[27], line 2\u001b[0m\n\u001b[0;32m      1\u001b[0m results \u001b[39m=\u001b[39m {level: score \u001b[39mfor\u001b[39;00m level, score \u001b[39min\u001b[39;00m \u001b[39msorted\u001b[39m(scores\u001b[39m.\u001b[39mitems(), key\u001b[39m=\u001b[39m\u001b[39mlambda\u001b[39;00m item: item[\u001b[39m1\u001b[39m], reverse\u001b[39m=\u001b[39m\u001b[39mTrue\u001b[39;00m)}\n\u001b[1;32m----> 2\u001b[0m max_level \u001b[39m=\u001b[39m \u001b[39mlist\u001b[39;49m(results\u001b[39m.\u001b[39;49mkeys())[\u001b[39m0\u001b[39;49m]\n\u001b[0;32m      3\u001b[0m \u001b[39mfor\u001b[39;00m level, score \u001b[39min\u001b[39;00m results\u001b[39m.\u001b[39mitems():\n\u001b[0;32m      4\u001b[0m     \u001b[39mprint\u001b[39m(\u001b[39mf\u001b[39m\u001b[39m\"\u001b[39m\u001b[39m{\u001b[39;00mlevel\u001b[39m}\u001b[39;00m\u001b[39m: AUROC/3 + 2/3 * AUPRC \u001b[39m\u001b[39m{\u001b[39;00mscore[\u001b[39m0\u001b[39m]\u001b[39m}\u001b[39;00m\u001b[39m; AUPRC \u001b[39m\u001b[39m{\u001b[39;00mscore[\u001b[39m1\u001b[39m]\u001b[39m}\u001b[39;00m\u001b[39m; AUROC \u001b[39m\u001b[39m{\u001b[39;00mscore[\u001b[39m2\u001b[39m]\u001b[39m}\u001b[39;00m\u001b[39m\"\u001b[39m)\n",
      "\u001b[1;31mIndexError\u001b[0m: list index out of range"
     ]
    }
   ],
   "source": [
    "results = {level: score for level, score in sorted(scores.items(), key=lambda item: item[1], reverse=True)}\n",
    "max_level = list(results.keys())[0]\n",
    "for level, score in results.items():\n",
    "    print(f\"{level}: AUROC/3 + 2/3 * AUPRC {score[0]}; AUPRC {score[1]}; AUROC {score[2]}\")"
   ]
  },
  {
   "cell_type": "code",
   "execution_count": 38,
   "metadata": {},
   "outputs": [
    {
     "name": "stderr",
     "output_type": "stream",
     "text": [
      "COMET INFO: ---------------------------\n",
      "COMET INFO: Comet.ml Experiment Summary\n",
      "COMET INFO: ---------------------------\n",
      "COMET INFO:   Data:\n",
      "COMET INFO:     display_summary_level : 1\n",
      "COMET INFO:     url                   : https://www.comet.com/samdoud/general/8dff5d1ca0af4219bb19dc005a3df292\n",
      "COMET INFO:   Metrics [count] (min, max):\n",
      "COMET INFO:     train_AUPRC [19]    : (0.17141604649631192, 0.36658184606660354)\n",
      "COMET INFO:     train_AUROC [19]    : (0.44832775919732437, 0.5732287356115606)\n",
      "COMET INFO:     train_MSE [19]      : (0.34681919642857145, 0.39208984375)\n",
      "COMET INFO:     train_accuracy [19] : (0.60791015625, 0.6531808035714286)\n",
      "COMET INFO:     train_loss [20]     : (1.973168969154358, 3.6265432834625244)\n",
      "COMET INFO:   Parameters:\n",
      "COMET INFO:     batch_size    : 256\n",
      "COMET INFO:     betas         : (0.9, 0.98)\n",
      "COMET INFO:     epochs        : 50\n",
      "COMET INFO:     eps           : 4e-09\n",
      "COMET INFO:     lr            : 1e-05\n",
      "COMET INFO:     train_ds_size : 14681\n",
      "COMET INFO:     val_ds_size   : 3222\n",
      "COMET INFO:     weight_decay  : 1e-05\n",
      "COMET INFO:   Uploads:\n",
      "COMET INFO:     conda-environment-definition : 1\n",
      "COMET INFO:     conda-info                   : 1\n",
      "COMET INFO:     conda-specification          : 1\n",
      "COMET INFO:     confusion-matrix             : 19\n",
      "COMET INFO:     environment details          : 1\n",
      "COMET INFO:     filename                     : 1\n",
      "COMET INFO:     git metadata                 : 1\n",
      "COMET INFO:     git-patch (uncompressed)     : 1 (215.44 KB)\n",
      "COMET INFO:     installed packages           : 1\n",
      "COMET INFO:     model graph                  : 1\n",
      "COMET INFO:     notebook                     : 1\n",
      "COMET INFO:     source_code                  : 1\n",
      "COMET INFO: ---------------------------\n",
      "COMET WARNING: As you are running in a Jupyter environment, you will need to call `experiment.end()` when finished to ensure all metrics and code are logged before exiting.\n",
      "COMET INFO: Experiment is live on comet.com https://www.comet.com/samdoud/general/3eec8c920ae444e796b8fb34652af9d6\n",
      "\n"
     ]
    },
    {
     "name": "stdout",
     "output_type": "stream",
     "text": [
      "\u001b[32mTrain finished. \u001b[0mAccuracy: 0.6254 MSE: 0.3746 AUROC: 0.5476 AUPRC: 0.3415\n"
     ]
    },
    {
     "name": "stderr",
     "output_type": "stream",
     "text": [
      "\u001b[36mTraining\u001b[0m - Epochs: 001/050: 100%|██████████| 14681/14681 [00:03<00:00, 4150.50it/s]\n"
     ]
    },
    {
     "name": "stdout",
     "output_type": "stream",
     "text": [
      "\u001b[31mValidation finished. \u001b[0mAccuracy: 0.6946 MSE: 0.0670 AUROC: 0.6386 AUPRC: 0.4286\n"
     ]
    },
    {
     "name": "stderr",
     "output_type": "stream",
     "text": [
      "\u001b[36mTraining\u001b[0m - Epochs: 001/050:  35%|███▍      | 5120/14681 [00:16<00:02, 4182.89it/s]"
     ]
    },
    {
     "name": "stdout",
     "output_type": "stream",
     "text": [
      "\u001b[32mTrain finished. \u001b[0mAccuracy: 0.6922 MSE: 0.3078 AUROC: 0.6248 AUPRC: 0.4117\n"
     ]
    },
    {
     "name": "stderr",
     "output_type": "stream",
     "text": [
      "\u001b[36mTraining\u001b[0m - Epochs: 002/050: 100%|██████████| 14681/14681 [00:03<00:00, 4132.63it/s]\n"
     ]
    },
    {
     "name": "stdout",
     "output_type": "stream",
     "text": [
      "\u001b[31mValidation finished. \u001b[0mAccuracy: 0.7812 MSE: 0.0480 AUROC: 0.6655 AUPRC: 0.4422\n"
     ]
    },
    {
     "name": "stderr",
     "output_type": "stream",
     "text": []
    },
    {
     "name": "stdout",
     "output_type": "stream",
     "text": [
      "\u001b[32mTrain finished. \u001b[0mAccuracy: 0.7001 MSE: 0.2999 AUROC: 0.6370 AUPRC: 0.4245\n"
     ]
    },
    {
     "name": "stderr",
     "output_type": "stream",
     "text": [
      "\u001b[36mTraining\u001b[0m - Epochs: 003/050: 100%|██████████| 14681/14681 [00:03<00:00, 4105.49it/s]\n"
     ]
    },
    {
     "name": "stdout",
     "output_type": "stream",
     "text": [
      "\u001b[31mValidation finished. \u001b[0mAccuracy: 0.8194 MSE: 0.0396 AUROC: 0.6586 AUPRC: 0.4379\n"
     ]
    },
    {
     "name": "stderr",
     "output_type": "stream",
     "text": []
    },
    {
     "name": "stdout",
     "output_type": "stream",
     "text": [
      "\u001b[32mTrain finished. \u001b[0mAccuracy: 0.7166 MSE: 0.2834 AUROC: 0.6470 AUPRC: 0.4317\n"
     ]
    },
    {
     "name": "stderr",
     "output_type": "stream",
     "text": [
      "\u001b[36mTraining\u001b[0m - Epochs: 004/050: 100%|██████████| 14681/14681 [00:03<00:00, 4291.35it/s]\n"
     ]
    },
    {
     "name": "stdout",
     "output_type": "stream",
     "text": [
      "\u001b[31mValidation finished. \u001b[0mAccuracy: 0.7039 MSE: 0.0650 AUROC: 0.7137 AUPRC: 0.5196\n"
     ]
    },
    {
     "name": "stderr",
     "output_type": "stream",
     "text": []
    },
    {
     "name": "stdout",
     "output_type": "stream",
     "text": [
      "\u001b[32mTrain finished. \u001b[0mAccuracy: 0.7222 MSE: 0.2778 AUROC: 0.6568 AUPRC: 0.4426\n"
     ]
    },
    {
     "name": "stderr",
     "output_type": "stream",
     "text": [
      "\u001b[36mTraining\u001b[0m - Epochs: 005/050: 100%|██████████| 14681/14681 [00:03<00:00, 4220.13it/s]\n"
     ]
    },
    {
     "name": "stdout",
     "output_type": "stream",
     "text": [
      "\u001b[31mValidation finished. \u001b[0mAccuracy: 0.8327 MSE: 0.0367 AUROC: 0.6711 AUPRC: 0.4600\n"
     ]
    },
    {
     "name": "stderr",
     "output_type": "stream",
     "text": []
    },
    {
     "name": "stdout",
     "output_type": "stream",
     "text": [
      "\u001b[32mTrain finished. \u001b[0mAccuracy: 0.7120 MSE: 0.2880 AUROC: 0.6511 AUPRC: 0.4385\n"
     ]
    },
    {
     "name": "stderr",
     "output_type": "stream",
     "text": [
      "\u001b[36mTraining\u001b[0m - Epochs: 006/050: 100%|██████████| 14681/14681 [00:03<00:00, 4099.72it/s]\n"
     ]
    },
    {
     "name": "stdout",
     "output_type": "stream",
     "text": [
      "\u001b[31mValidation finished. \u001b[0mAccuracy: 0.8482 MSE: 0.0333 AUROC: 0.6520 AUPRC: 0.4490\n"
     ]
    },
    {
     "name": "stderr",
     "output_type": "stream",
     "text": []
    },
    {
     "name": "stdout",
     "output_type": "stream",
     "text": [
      "\u001b[32mTrain finished. \u001b[0mAccuracy: 0.7223 MSE: 0.2777 AUROC: 0.6558 AUPRC: 0.4412\n"
     ]
    },
    {
     "name": "stderr",
     "output_type": "stream",
     "text": [
      "\u001b[36mTraining\u001b[0m - Epochs: 007/050: 100%|██████████| 14681/14681 [00:03<00:00, 4168.64it/s]\n"
     ]
    },
    {
     "name": "stdout",
     "output_type": "stream",
     "text": [
      "\u001b[31mValidation finished. \u001b[0mAccuracy: 0.8358 MSE: 0.0360 AUROC: 0.6961 AUPRC: 0.4922\n"
     ]
    },
    {
     "name": "stderr",
     "output_type": "stream",
     "text": []
    },
    {
     "name": "stdout",
     "output_type": "stream",
     "text": [
      "\u001b[32mTrain finished. \u001b[0mAccuracy: 0.7257 MSE: 0.2743 AUROC: 0.6633 AUPRC: 0.4498\n"
     ]
    },
    {
     "name": "stderr",
     "output_type": "stream",
     "text": [
      "\u001b[36mTraining\u001b[0m - Epochs: 008/050: 100%|██████████| 14681/14681 [00:03<00:00, 4237.93it/s]\n"
     ]
    },
    {
     "name": "stdout",
     "output_type": "stream",
     "text": [
      "\u001b[31mValidation finished. \u001b[0mAccuracy: 0.8355 MSE: 0.0361 AUROC: 0.6911 AUPRC: 0.4860\n"
     ]
    },
    {
     "name": "stderr",
     "output_type": "stream",
     "text": []
    },
    {
     "name": "stdout",
     "output_type": "stream",
     "text": [
      "\u001b[32mTrain finished. \u001b[0mAccuracy: 0.7286 MSE: 0.2714 AUROC: 0.6663 AUPRC: 0.4528\n"
     ]
    },
    {
     "name": "stderr",
     "output_type": "stream",
     "text": [
      "\u001b[36mTraining\u001b[0m - Epochs: 009/050: 100%|██████████| 14681/14681 [00:03<00:00, 4078.97it/s]\n"
     ]
    },
    {
     "name": "stdout",
     "output_type": "stream",
     "text": [
      "\u001b[31mValidation finished. \u001b[0mAccuracy: 0.8541 MSE: 0.0320 AUROC: 0.6806 AUPRC: 0.4888\n"
     ]
    },
    {
     "name": "stderr",
     "output_type": "stream",
     "text": []
    },
    {
     "name": "stdout",
     "output_type": "stream",
     "text": [
      "\u001b[32mTrain finished. \u001b[0mAccuracy: 0.7340 MSE: 0.2660 AUROC: 0.6747 AUPRC: 0.4621\n"
     ]
    },
    {
     "name": "stderr",
     "output_type": "stream",
     "text": [
      "\u001b[36mTraining\u001b[0m - Epochs: 010/050: 100%|██████████| 14681/14681 [00:03<00:00, 4068.37it/s]\n"
     ]
    },
    {
     "name": "stdout",
     "output_type": "stream",
     "text": [
      "\u001b[31mValidation finished. \u001b[0mAccuracy: 0.8364 MSE: 0.0359 AUROC: 0.7023 AUPRC: 0.4999\n"
     ]
    },
    {
     "name": "stderr",
     "output_type": "stream",
     "text": []
    },
    {
     "name": "stdout",
     "output_type": "stream",
     "text": [
      "\u001b[32mTrain finished. \u001b[0mAccuracy: 0.7323 MSE: 0.2677 AUROC: 0.6703 AUPRC: 0.4569\n"
     ]
    },
    {
     "name": "stderr",
     "output_type": "stream",
     "text": [
      "\u001b[36mTraining\u001b[0m - Epochs: 011/050: 100%|██████████| 14681/14681 [00:03<00:00, 4212.48it/s]\n"
     ]
    },
    {
     "name": "stdout",
     "output_type": "stream",
     "text": [
      "\u001b[31mValidation finished. \u001b[0mAccuracy: 0.8271 MSE: 0.0379 AUROC: 0.7143 AUPRC: 0.5099\n"
     ]
    },
    {
     "name": "stderr",
     "output_type": "stream",
     "text": []
    },
    {
     "name": "stdout",
     "output_type": "stream",
     "text": [
      "\u001b[32mTrain finished. \u001b[0mAccuracy: 0.7349 MSE: 0.2651 AUROC: 0.6767 AUPRC: 0.4644\n"
     ]
    },
    {
     "name": "stderr",
     "output_type": "stream",
     "text": [
      "\u001b[36mTraining\u001b[0m - Epochs: 012/050: 100%|██████████| 14681/14681 [00:03<00:00, 4204.42it/s]\n"
     ]
    },
    {
     "name": "stdout",
     "output_type": "stream",
     "text": [
      "\u001b[31mValidation finished. \u001b[0mAccuracy: 0.8377 MSE: 0.0356 AUROC: 0.6982 AUPRC: 0.4957\n"
     ]
    },
    {
     "name": "stderr",
     "output_type": "stream",
     "text": []
    },
    {
     "name": "stdout",
     "output_type": "stream",
     "text": [
      "\u001b[32mTrain finished. \u001b[0mAccuracy: 0.7425 MSE: 0.2575 AUROC: 0.6779 AUPRC: 0.4641\n"
     ]
    },
    {
     "name": "stderr",
     "output_type": "stream",
     "text": [
      "\u001b[36mTraining\u001b[0m - Epochs: 013/050: 100%|██████████| 14681/14681 [00:03<00:00, 4192.88it/s]\n"
     ]
    },
    {
     "name": "stdout",
     "output_type": "stream",
     "text": [
      "\u001b[31mValidation finished. \u001b[0mAccuracy: 0.8352 MSE: 0.0362 AUROC: 0.7054 AUPRC: 0.5029\n"
     ]
    },
    {
     "name": "stderr",
     "output_type": "stream",
     "text": []
    },
    {
     "name": "stdout",
     "output_type": "stream",
     "text": [
      "\u001b[32mTrain finished. \u001b[0mAccuracy: 0.7345 MSE: 0.2655 AUROC: 0.6728 AUPRC: 0.4596\n"
     ]
    },
    {
     "name": "stderr",
     "output_type": "stream",
     "text": [
      "\u001b[36mTraining\u001b[0m - Epochs: 014/050: 100%|██████████| 14681/14681 [00:03<00:00, 4042.59it/s]\n"
     ]
    },
    {
     "name": "stdout",
     "output_type": "stream",
     "text": [
      "\u001b[31mValidation finished. \u001b[0mAccuracy: 0.8520 MSE: 0.0325 AUROC: 0.6958 AUPRC: 0.5037\n"
     ]
    },
    {
     "name": "stderr",
     "output_type": "stream",
     "text": []
    },
    {
     "name": "stdout",
     "output_type": "stream",
     "text": [
      "\u001b[32mTrain finished. \u001b[0mAccuracy: 0.7444 MSE: 0.2556 AUROC: 0.6845 AUPRC: 0.4720\n"
     ]
    },
    {
     "name": "stderr",
     "output_type": "stream",
     "text": [
      "\u001b[36mTraining\u001b[0m - Epochs: 015/050: 100%|██████████| 14681/14681 [00:03<00:00, 4223.11it/s]\n"
     ]
    },
    {
     "name": "stdout",
     "output_type": "stream",
     "text": [
      "\u001b[31mValidation finished. \u001b[0mAccuracy: 0.8464 MSE: 0.0337 AUROC: 0.7061 AUPRC: 0.5107\n"
     ]
    },
    {
     "name": "stderr",
     "output_type": "stream",
     "text": []
    },
    {
     "name": "stdout",
     "output_type": "stream",
     "text": [
      "\u001b[32mTrain finished. \u001b[0mAccuracy: 0.7467 MSE: 0.2533 AUROC: 0.6805 AUPRC: 0.4664\n"
     ]
    },
    {
     "name": "stderr",
     "output_type": "stream",
     "text": [
      "\u001b[36mTraining\u001b[0m - Epochs: 016/050: 100%|██████████| 14681/14681 [00:04<00:00, 3575.24it/s]\n"
     ]
    },
    {
     "name": "stdout",
     "output_type": "stream",
     "text": [
      "\u001b[31mValidation finished. \u001b[0mAccuracy: 0.7930 MSE: 0.0454 AUROC: 0.7313 AUPRC: 0.5247\n"
     ]
    },
    {
     "name": "stderr",
     "output_type": "stream",
     "text": []
    },
    {
     "name": "stdout",
     "output_type": "stream",
     "text": [
      "\u001b[32mTrain finished. \u001b[0mAccuracy: 0.7364 MSE: 0.2636 AUROC: 0.6744 AUPRC: 0.4610\n"
     ]
    },
    {
     "name": "stderr",
     "output_type": "stream",
     "text": [
      "\u001b[36mTraining\u001b[0m - Epochs: 017/050: 100%|██████████| 14681/14681 [00:03<00:00, 4194.14it/s]\n"
     ]
    },
    {
     "name": "stdout",
     "output_type": "stream",
     "text": [
      "\u001b[31mValidation finished. \u001b[0mAccuracy: 0.8554 MSE: 0.0317 AUROC: 0.6881 AUPRC: 0.4985\n"
     ]
    },
    {
     "name": "stderr",
     "output_type": "stream",
     "text": []
    },
    {
     "name": "stdout",
     "output_type": "stream",
     "text": [
      "\u001b[32mTrain finished. \u001b[0mAccuracy: 0.7491 MSE: 0.2509 AUROC: 0.6821 AUPRC: 0.4680\n"
     ]
    },
    {
     "name": "stderr",
     "output_type": "stream",
     "text": [
      "\u001b[36mTraining\u001b[0m - Epochs: 018/050: 100%|██████████| 14681/14681 [00:03<00:00, 4208.30it/s]\n"
     ]
    },
    {
     "name": "stdout",
     "output_type": "stream",
     "text": [
      "\u001b[31mValidation finished. \u001b[0mAccuracy: 0.7921 MSE: 0.0456 AUROC: 0.7395 AUPRC: 0.5345\n"
     ]
    },
    {
     "name": "stderr",
     "output_type": "stream",
     "text": []
    },
    {
     "name": "stdout",
     "output_type": "stream",
     "text": [
      "\u001b[32mTrain finished. \u001b[0mAccuracy: 0.7476 MSE: 0.2524 AUROC: 0.6866 AUPRC: 0.4739\n"
     ]
    },
    {
     "name": "stderr",
     "output_type": "stream",
     "text": [
      "\u001b[36mTraining\u001b[0m - Epochs: 019/050: 100%|██████████| 14681/14681 [00:03<00:00, 4167.64it/s]\n"
     ]
    },
    {
     "name": "stdout",
     "output_type": "stream",
     "text": [
      "\u001b[31mValidation finished. \u001b[0mAccuracy: 0.8343 MSE: 0.0364 AUROC: 0.7233 AUPRC: 0.5235\n"
     ]
    },
    {
     "name": "stderr",
     "output_type": "stream",
     "text": []
    },
    {
     "name": "stdout",
     "output_type": "stream",
     "text": [
      "\u001b[32mTrain finished. \u001b[0mAccuracy: 0.7459 MSE: 0.2541 AUROC: 0.6829 AUPRC: 0.4696\n"
     ]
    },
    {
     "name": "stderr",
     "output_type": "stream",
     "text": [
      "\u001b[36mTraining\u001b[0m - Epochs: 020/050: 100%|██████████| 14681/14681 [00:03<00:00, 4045.76it/s]\n"
     ]
    },
    {
     "name": "stdout",
     "output_type": "stream",
     "text": [
      "\u001b[31mValidation finished. \u001b[0mAccuracy: 0.7902 MSE: 0.0460 AUROC: 0.7394 AUPRC: 0.5344\n"
     ]
    },
    {
     "name": "stderr",
     "output_type": "stream",
     "text": []
    },
    {
     "name": "stdout",
     "output_type": "stream",
     "text": [
      "\u001b[32mTrain finished. \u001b[0mAccuracy: 0.7487 MSE: 0.2513 AUROC: 0.6866 AUPRC: 0.4737\n"
     ]
    },
    {
     "name": "stderr",
     "output_type": "stream",
     "text": [
      "\u001b[36mTraining\u001b[0m - Epochs: 021/050: 100%|██████████| 14681/14681 [00:03<00:00, 4198.18it/s]\n"
     ]
    },
    {
     "name": "stdout",
     "output_type": "stream",
     "text": [
      "\u001b[31mValidation finished. \u001b[0mAccuracy: 0.8572 MSE: 0.0313 AUROC: 0.6843 AUPRC: 0.4965\n"
     ]
    },
    {
     "name": "stderr",
     "output_type": "stream",
     "text": []
    },
    {
     "name": "stdout",
     "output_type": "stream",
     "text": [
      "\u001b[32mTrain finished. \u001b[0mAccuracy: 0.7543 MSE: 0.2457 AUROC: 0.6898 AUPRC: 0.4767\n"
     ]
    },
    {
     "name": "stderr",
     "output_type": "stream",
     "text": [
      "\u001b[36mTraining\u001b[0m - Epochs: 022/050: 100%|██████████| 14681/14681 [00:03<00:00, 4107.67it/s]\n"
     ]
    },
    {
     "name": "stdout",
     "output_type": "stream",
     "text": [
      "\u001b[31mValidation finished. \u001b[0mAccuracy: 0.7824 MSE: 0.0477 AUROC: 0.7465 AUPRC: 0.5432\n"
     ]
    },
    {
     "name": "stderr",
     "output_type": "stream",
     "text": []
    },
    {
     "name": "stdout",
     "output_type": "stream",
     "text": [
      "\u001b[32mTrain finished. \u001b[0mAccuracy: 0.7478 MSE: 0.2522 AUROC: 0.6848 AUPRC: 0.4716\n"
     ]
    },
    {
     "name": "stderr",
     "output_type": "stream",
     "text": [
      "\u001b[36mTraining\u001b[0m - Epochs: 023/050: 100%|██████████| 14681/14681 [00:03<00:00, 4245.77it/s]\n"
     ]
    },
    {
     "name": "stdout",
     "output_type": "stream",
     "text": [
      "\u001b[31mValidation finished. \u001b[0mAccuracy: 0.7824 MSE: 0.0477 AUROC: 0.7465 AUPRC: 0.5432\n"
     ]
    },
    {
     "name": "stderr",
     "output_type": "stream",
     "text": []
    },
    {
     "name": "stdout",
     "output_type": "stream",
     "text": [
      "\u001b[32mTrain finished. \u001b[0mAccuracy: 0.7582 MSE: 0.2418 AUROC: 0.7001 AUPRC: 0.4890\n"
     ]
    },
    {
     "name": "stderr",
     "output_type": "stream",
     "text": [
      "\u001b[36mTraining\u001b[0m - Epochs: 024/050: 100%|██████████| 14681/14681 [00:03<00:00, 4094.83it/s]\n"
     ]
    },
    {
     "name": "stdout",
     "output_type": "stream",
     "text": [
      "\u001b[31mValidation finished. \u001b[0mAccuracy: 0.8209 MSE: 0.0393 AUROC: 0.7320 AUPRC: 0.5290\n"
     ]
    },
    {
     "name": "stderr",
     "output_type": "stream",
     "text": []
    },
    {
     "name": "stdout",
     "output_type": "stream",
     "text": [
      "\u001b[32mTrain finished. \u001b[0mAccuracy: 0.7600 MSE: 0.2400 AUROC: 0.6953 AUPRC: 0.4825\n"
     ]
    },
    {
     "name": "stderr",
     "output_type": "stream",
     "text": [
      "\u001b[36mTraining\u001b[0m - Epochs: 025/050: 100%|██████████| 14681/14681 [00:03<00:00, 4271.68it/s]\n"
     ]
    },
    {
     "name": "stdout",
     "output_type": "stream",
     "text": [
      "\u001b[31mValidation finished. \u001b[0mAccuracy: 0.7728 MSE: 0.0499 AUROC: 0.7429 AUPRC: 0.5396\n"
     ]
    },
    {
     "name": "stderr",
     "output_type": "stream",
     "text": []
    },
    {
     "name": "stdout",
     "output_type": "stream",
     "text": [
      "\u001b[32mTrain finished. \u001b[0mAccuracy: 0.7545 MSE: 0.2455 AUROC: 0.6910 AUPRC: 0.4781\n"
     ]
    },
    {
     "name": "stderr",
     "output_type": "stream",
     "text": [
      "\u001b[36mTraining\u001b[0m - Epochs: 026/050: 100%|██████████| 14681/14681 [00:03<00:00, 4136.41it/s]\n"
     ]
    },
    {
     "name": "stdout",
     "output_type": "stream",
     "text": [
      "\u001b[31mValidation finished. \u001b[0mAccuracy: 0.8060 MSE: 0.0426 AUROC: 0.7350 AUPRC: 0.5299\n"
     ]
    },
    {
     "name": "stderr",
     "output_type": "stream",
     "text": []
    },
    {
     "name": "stdout",
     "output_type": "stream",
     "text": [
      "\u001b[32mTrain finished. \u001b[0mAccuracy: 0.7502 MSE: 0.2498 AUROC: 0.6847 AUPRC: 0.4710\n"
     ]
    },
    {
     "name": "stderr",
     "output_type": "stream",
     "text": [
      "\u001b[36mTraining\u001b[0m - Epochs: 027/050: 100%|██████████| 14681/14681 [00:03<00:00, 4190.20it/s]\n"
     ]
    },
    {
     "name": "stdout",
     "output_type": "stream",
     "text": [
      "\u001b[31mValidation finished. \u001b[0mAccuracy: 0.7831 MSE: 0.0476 AUROC: 0.7459 AUPRC: 0.5425\n"
     ]
    },
    {
     "name": "stderr",
     "output_type": "stream",
     "text": []
    },
    {
     "name": "stdout",
     "output_type": "stream",
     "text": [
      "\u001b[32mTrain finished. \u001b[0mAccuracy: 0.7611 MSE: 0.2389 AUROC: 0.7060 AUPRC: 0.4959\n"
     ]
    },
    {
     "name": "stderr",
     "output_type": "stream",
     "text": [
      "\u001b[36mTraining\u001b[0m - Epochs: 028/050: 100%|██████████| 14681/14681 [00:03<00:00, 4106.51it/s]\n"
     ]
    },
    {
     "name": "stdout",
     "output_type": "stream",
     "text": [
      "\u001b[31mValidation finished. \u001b[0mAccuracy: 0.8318 MSE: 0.0369 AUROC: 0.7112 AUPRC: 0.5081\n"
     ]
    },
    {
     "name": "stderr",
     "output_type": "stream",
     "text": []
    },
    {
     "name": "stdout",
     "output_type": "stream",
     "text": [
      "\u001b[32mTrain finished. \u001b[0mAccuracy: 0.7599 MSE: 0.2401 AUROC: 0.7005 AUPRC: 0.4891\n"
     ]
    },
    {
     "name": "stderr",
     "output_type": "stream",
     "text": [
      "\u001b[36mTraining\u001b[0m - Epochs: 029/050: 100%|██████████| 14681/14681 [00:03<00:00, 4170.07it/s]\n"
     ]
    },
    {
     "name": "stdout",
     "output_type": "stream",
     "text": [
      "\u001b[31mValidation finished. \u001b[0mAccuracy: 0.8054 MSE: 0.0427 AUROC: 0.7346 AUPRC: 0.5294\n"
     ]
    },
    {
     "name": "stderr",
     "output_type": "stream",
     "text": []
    },
    {
     "name": "stdout",
     "output_type": "stream",
     "text": [
      "\u001b[32mTrain finished. \u001b[0mAccuracy: 0.7650 MSE: 0.2350 AUROC: 0.7049 AUPRC: 0.4939\n"
     ]
    },
    {
     "name": "stderr",
     "output_type": "stream",
     "text": [
      "\u001b[36mTraining\u001b[0m - Epochs: 030/050: 100%|██████████| 14681/14681 [00:03<00:00, 4151.04it/s]\n"
     ]
    },
    {
     "name": "stdout",
     "output_type": "stream",
     "text": [
      "\u001b[31mValidation finished. \u001b[0mAccuracy: 0.8610 MSE: 0.0305 AUROC: 0.6739 AUPRC: 0.4902\n"
     ]
    },
    {
     "name": "stderr",
     "output_type": "stream",
     "text": []
    },
    {
     "name": "stdout",
     "output_type": "stream",
     "text": [
      "\u001b[32mTrain finished. \u001b[0mAccuracy: 0.7679 MSE: 0.2321 AUROC: 0.7015 AUPRC: 0.4892\n"
     ]
    },
    {
     "name": "stderr",
     "output_type": "stream",
     "text": [
      "\u001b[36mTraining\u001b[0m - Epochs: 031/050: 100%|██████████| 14681/14681 [00:03<00:00, 4151.14it/s]\n"
     ]
    },
    {
     "name": "stdout",
     "output_type": "stream",
     "text": [
      "\u001b[31mValidation finished. \u001b[0mAccuracy: 0.7644 MSE: 0.0517 AUROC: 0.7400 AUPRC: 0.5371\n"
     ]
    },
    {
     "name": "stderr",
     "output_type": "stream",
     "text": []
    },
    {
     "name": "stdout",
     "output_type": "stream",
     "text": [
      "\u001b[32mTrain finished. \u001b[0mAccuracy: 0.7677 MSE: 0.2323 AUROC: 0.7093 AUPRC: 0.4990\n"
     ]
    },
    {
     "name": "stderr",
     "output_type": "stream",
     "text": [
      "\u001b[36mTraining\u001b[0m - Epochs: 032/050: 100%|██████████| 14681/14681 [00:03<00:00, 4163.71it/s]\n"
     ]
    },
    {
     "name": "stdout",
     "output_type": "stream",
     "text": [
      "\u001b[31mValidation finished. \u001b[0mAccuracy: 0.8209 MSE: 0.0393 AUROC: 0.7291 AUPRC: 0.5256\n"
     ]
    },
    {
     "name": "stderr",
     "output_type": "stream",
     "text": []
    },
    {
     "name": "stdout",
     "output_type": "stream",
     "text": [
      "\u001b[32mTrain finished. \u001b[0mAccuracy: 0.7653 MSE: 0.2347 AUROC: 0.7023 AUPRC: 0.4906\n"
     ]
    },
    {
     "name": "stderr",
     "output_type": "stream",
     "text": [
      "\u001b[36mTraining\u001b[0m - Epochs: 033/050: 100%|██████████| 14681/14681 [00:03<00:00, 4153.19it/s]\n"
     ]
    },
    {
     "name": "stdout",
     "output_type": "stream",
     "text": [
      "\u001b[31mValidation finished. \u001b[0mAccuracy: 0.7865 MSE: 0.0469 AUROC: 0.7430 AUPRC: 0.5389\n"
     ]
    },
    {
     "name": "stderr",
     "output_type": "stream",
     "text": []
    },
    {
     "name": "stdout",
     "output_type": "stream",
     "text": [
      "\u001b[32mTrain finished. \u001b[0mAccuracy: 0.7672 MSE: 0.2328 AUROC: 0.7062 AUPRC: 0.4952\n"
     ]
    },
    {
     "name": "stderr",
     "output_type": "stream",
     "text": [
      "\u001b[36mTraining\u001b[0m - Epochs: 034/050: 100%|██████████| 14681/14681 [00:03<00:00, 4237.48it/s]\n"
     ]
    },
    {
     "name": "stdout",
     "output_type": "stream",
     "text": [
      "\u001b[31mValidation finished. \u001b[0mAccuracy: 0.8218 MSE: 0.0391 AUROC: 0.7267 AUPRC: 0.5230\n"
     ]
    },
    {
     "name": "stderr",
     "output_type": "stream",
     "text": []
    },
    {
     "name": "stdout",
     "output_type": "stream",
     "text": [
      "\u001b[32mTrain finished. \u001b[0mAccuracy: 0.7724 MSE: 0.2276 AUROC: 0.7092 AUPRC: 0.4984\n"
     ]
    },
    {
     "name": "stderr",
     "output_type": "stream",
     "text": [
      "\u001b[36mTraining\u001b[0m - Epochs: 035/050: 100%|██████████| 14681/14681 [00:04<00:00, 3552.85it/s]\n"
     ]
    },
    {
     "name": "stdout",
     "output_type": "stream",
     "text": [
      "\u001b[31mValidation finished. \u001b[0mAccuracy: 0.8547 MSE: 0.0319 AUROC: 0.6819 AUPRC: 0.4910\n"
     ]
    },
    {
     "name": "stderr",
     "output_type": "stream",
     "text": []
    },
    {
     "name": "stdout",
     "output_type": "stream",
     "text": [
      "\u001b[32mTrain finished. \u001b[0mAccuracy: 0.7704 MSE: 0.2296 AUROC: 0.7095 AUPRC: 0.4990\n"
     ]
    },
    {
     "name": "stderr",
     "output_type": "stream",
     "text": [
      "\u001b[36mTraining\u001b[0m - Epochs: 036/050: 100%|██████████| 14681/14681 [00:03<00:00, 4320.10it/s]\n"
     ]
    },
    {
     "name": "stdout",
     "output_type": "stream",
     "text": [
      "\u001b[31mValidation finished. \u001b[0mAccuracy: 0.8526 MSE: 0.0324 AUROC: 0.6874 AUPRC: 0.4949\n"
     ]
    },
    {
     "name": "stderr",
     "output_type": "stream",
     "text": []
    },
    {
     "name": "stdout",
     "output_type": "stream",
     "text": [
      "\u001b[32mTrain finished. \u001b[0mAccuracy: 0.7721 MSE: 0.2279 AUROC: 0.7126 AUPRC: 0.5027\n"
     ]
    },
    {
     "name": "stderr",
     "output_type": "stream",
     "text": [
      "\u001b[36mTraining\u001b[0m - Epochs: 037/050: 100%|██████████| 14681/14681 [00:03<00:00, 4341.42it/s]\n"
     ]
    },
    {
     "name": "stdout",
     "output_type": "stream",
     "text": [
      "\u001b[31mValidation finished. \u001b[0mAccuracy: 0.8395 MSE: 0.0352 AUROC: 0.7147 AUPRC: 0.5162\n"
     ]
    },
    {
     "name": "stderr",
     "output_type": "stream",
     "text": []
    },
    {
     "name": "stdout",
     "output_type": "stream",
     "text": [
      "\u001b[32mTrain finished. \u001b[0mAccuracy: 0.7759 MSE: 0.2241 AUROC: 0.7089 AUPRC: 0.4977\n"
     ]
    },
    {
     "name": "stderr",
     "output_type": "stream",
     "text": [
      "\u001b[36mTraining\u001b[0m - Epochs: 038/050: 100%|██████████| 14681/14681 [00:03<00:00, 4273.66it/s]\n"
     ]
    },
    {
     "name": "stdout",
     "output_type": "stream",
     "text": [
      "\u001b[31mValidation finished. \u001b[0mAccuracy: 0.7377 MSE: 0.0576 AUROC: 0.7536 AUPRC: 0.5586\n"
     ]
    },
    {
     "name": "stderr",
     "output_type": "stream",
     "text": []
    },
    {
     "name": "stdout",
     "output_type": "stream",
     "text": [
      "\u001b[32mTrain finished. \u001b[0mAccuracy: 0.7644 MSE: 0.2356 AUROC: 0.7048 AUPRC: 0.4938\n"
     ]
    },
    {
     "name": "stderr",
     "output_type": "stream",
     "text": [
      "\u001b[36mTraining\u001b[0m - Epochs: 039/050: 100%|██████████| 14681/14681 [00:03<00:00, 4284.56it/s]\n"
     ]
    },
    {
     "name": "stdout",
     "output_type": "stream",
     "text": [
      "\u001b[31mValidation finished. \u001b[0mAccuracy: 0.8163 MSE: 0.0403 AUROC: 0.7419 AUPRC: 0.5397\n"
     ]
    },
    {
     "name": "stderr",
     "output_type": "stream",
     "text": []
    },
    {
     "name": "stdout",
     "output_type": "stream",
     "text": [
      "\u001b[32mTrain finished. \u001b[0mAccuracy: 0.7708 MSE: 0.2292 AUROC: 0.7125 AUPRC: 0.5027\n"
     ]
    },
    {
     "name": "stderr",
     "output_type": "stream",
     "text": [
      "\u001b[36mTraining\u001b[0m - Epochs: 040/050: 100%|██████████| 14681/14681 [00:03<00:00, 4179.80it/s]\n"
     ]
    },
    {
     "name": "stdout",
     "output_type": "stream",
     "text": [
      "\u001b[31mValidation finished. \u001b[0mAccuracy: 0.8588 MSE: 0.0310 AUROC: 0.6862 AUPRC: 0.5005\n"
     ]
    },
    {
     "name": "stderr",
     "output_type": "stream",
     "text": []
    },
    {
     "name": "stdout",
     "output_type": "stream",
     "text": [
      "\u001b[32mTrain finished. \u001b[0mAccuracy: 0.7771 MSE: 0.2229 AUROC: 0.7176 AUPRC: 0.5084\n"
     ]
    },
    {
     "name": "stderr",
     "output_type": "stream",
     "text": [
      "\u001b[36mTraining\u001b[0m - Epochs: 041/050: 100%|██████████| 14681/14681 [00:03<00:00, 4307.47it/s]\n"
     ]
    },
    {
     "name": "stdout",
     "output_type": "stream",
     "text": [
      "\u001b[31mValidation finished. \u001b[0mAccuracy: 0.8243 MSE: 0.0386 AUROC: 0.7349 AUPRC: 0.5335\n"
     ]
    },
    {
     "name": "stderr",
     "output_type": "stream",
     "text": []
    },
    {
     "name": "stdout",
     "output_type": "stream",
     "text": [
      "\u001b[32mTrain finished. \u001b[0mAccuracy: 0.7793 MSE: 0.2207 AUROC: 0.7147 AUPRC: 0.5046\n"
     ]
    },
    {
     "name": "stderr",
     "output_type": "stream",
     "text": [
      "\u001b[36mTraining\u001b[0m - Epochs: 042/050: 100%|██████████| 14681/14681 [00:03<00:00, 4289.09it/s]\n"
     ]
    },
    {
     "name": "stdout",
     "output_type": "stream",
     "text": [
      "\u001b[31mValidation finished. \u001b[0mAccuracy: 0.7973 MSE: 0.0445 AUROC: 0.7416 AUPRC: 0.5372\n"
     ]
    },
    {
     "name": "stderr",
     "output_type": "stream",
     "text": []
    },
    {
     "name": "stdout",
     "output_type": "stream",
     "text": [
      "\u001b[32mTrain finished. \u001b[0mAccuracy: 0.7778 MSE: 0.2222 AUROC: 0.7178 AUPRC: 0.5086\n"
     ]
    },
    {
     "name": "stderr",
     "output_type": "stream",
     "text": [
      "\u001b[36mTraining\u001b[0m - Epochs: 043/050: 100%|██████████| 14681/14681 [00:03<00:00, 4303.78it/s]\n"
     ]
    },
    {
     "name": "stdout",
     "output_type": "stream",
     "text": [
      "\u001b[31mValidation finished. \u001b[0mAccuracy: 0.8411 MSE: 0.0349 AUROC: 0.7146 AUPRC: 0.5170\n"
     ]
    },
    {
     "name": "stderr",
     "output_type": "stream",
     "text": []
    },
    {
     "name": "stdout",
     "output_type": "stream",
     "text": [
      "\u001b[32mTrain finished. \u001b[0mAccuracy: 0.7790 MSE: 0.2210 AUROC: 0.7211 AUPRC: 0.5125\n"
     ]
    },
    {
     "name": "stderr",
     "output_type": "stream",
     "text": [
      "\u001b[36mTraining\u001b[0m - Epochs: 044/050: 100%|██████████| 14681/14681 [00:03<00:00, 4286.13it/s]\n"
     ]
    },
    {
     "name": "stdout",
     "output_type": "stream",
     "text": [
      "\u001b[31mValidation finished. \u001b[0mAccuracy: 0.8203 MSE: 0.0394 AUROC: 0.7345 AUPRC: 0.5319\n"
     ]
    },
    {
     "name": "stderr",
     "output_type": "stream",
     "text": []
    },
    {
     "name": "stdout",
     "output_type": "stream",
     "text": [
      "\u001b[32mTrain finished. \u001b[0mAccuracy: 0.7812 MSE: 0.2188 AUROC: 0.7213 AUPRC: 0.5127\n"
     ]
    },
    {
     "name": "stderr",
     "output_type": "stream",
     "text": [
      "\u001b[36mTraining\u001b[0m - Epochs: 045/050: 100%|██████████| 14681/14681 [00:03<00:00, 4317.52it/s]\n"
     ]
    },
    {
     "name": "stdout",
     "output_type": "stream",
     "text": [
      "\u001b[31mValidation finished. \u001b[0mAccuracy: 0.7654 MSE: 0.0515 AUROC: 0.7492 AUPRC: 0.5481\n"
     ]
    },
    {
     "name": "stderr",
     "output_type": "stream",
     "text": []
    },
    {
     "name": "stdout",
     "output_type": "stream",
     "text": [
      "\u001b[32mTrain finished. \u001b[0mAccuracy: 0.7725 MSE: 0.2275 AUROC: 0.7122 AUPRC: 0.5021\n"
     ]
    },
    {
     "name": "stderr",
     "output_type": "stream",
     "text": [
      "\u001b[36mTraining\u001b[0m - Epochs: 046/050: 100%|██████████| 14681/14681 [00:03<00:00, 4313.63it/s]\n"
     ]
    },
    {
     "name": "stdout",
     "output_type": "stream",
     "text": [
      "\u001b[31mValidation finished. \u001b[0mAccuracy: 0.8414 MSE: 0.0348 AUROC: 0.7139 AUPRC: 0.5163\n"
     ]
    },
    {
     "name": "stderr",
     "output_type": "stream",
     "text": []
    },
    {
     "name": "stdout",
     "output_type": "stream",
     "text": [
      "\u001b[32mTrain finished. \u001b[0mAccuracy: 0.7786 MSE: 0.2214 AUROC: 0.7166 AUPRC: 0.5070\n"
     ]
    },
    {
     "name": "stderr",
     "output_type": "stream",
     "text": [
      "\u001b[36mTraining\u001b[0m - Epochs: 047/050: 100%|██████████| 14681/14681 [00:03<00:00, 4313.15it/s]\n"
     ]
    },
    {
     "name": "stdout",
     "output_type": "stream",
     "text": [
      "\u001b[31mValidation finished. \u001b[0mAccuracy: 0.7998 MSE: 0.0439 AUROC: 0.7517 AUPRC: 0.5494\n"
     ]
    },
    {
     "name": "stderr",
     "output_type": "stream",
     "text": []
    },
    {
     "name": "stdout",
     "output_type": "stream",
     "text": [
      "\u001b[32mTrain finished. \u001b[0mAccuracy: 0.7835 MSE: 0.2165 AUROC: 0.7209 AUPRC: 0.5121\n"
     ]
    },
    {
     "name": "stderr",
     "output_type": "stream",
     "text": [
      "\u001b[36mTraining\u001b[0m - Epochs: 048/050: 100%|██████████| 14681/14681 [00:03<00:00, 4280.18it/s]\n"
     ]
    },
    {
     "name": "stdout",
     "output_type": "stream",
     "text": [
      "\u001b[31mValidation finished. \u001b[0mAccuracy: 0.7964 MSE: 0.0447 AUROC: 0.7468 AUPRC: 0.5434\n"
     ]
    },
    {
     "name": "stderr",
     "output_type": "stream",
     "text": []
    },
    {
     "name": "stdout",
     "output_type": "stream",
     "text": [
      "\u001b[32mTrain finished. \u001b[0mAccuracy: 0.7813 MSE: 0.2187 AUROC: 0.7222 AUPRC: 0.5137\n"
     ]
    },
    {
     "name": "stderr",
     "output_type": "stream",
     "text": [
      "\u001b[36mTraining\u001b[0m - Epochs: 049/050: 100%|██████████| 14681/14681 [00:03<00:00, 4243.28it/s]\n"
     ]
    },
    {
     "name": "stdout",
     "output_type": "stream",
     "text": [
      "\u001b[31mValidation finished. \u001b[0mAccuracy: 0.8423 MSE: 0.0346 AUROC: 0.7105 AUPRC: 0.5130\n"
     ]
    },
    {
     "name": "stderr",
     "output_type": "stream",
     "text": []
    },
    {
     "name": "stdout",
     "output_type": "stream",
     "text": [
      "\u001b[32mTrain finished. \u001b[0mAccuracy: 0.7850 MSE: 0.2150 AUROC: 0.7228 AUPRC: 0.5144\n"
     ]
    },
    {
     "name": "stderr",
     "output_type": "stream",
     "text": [
      "\u001b[36mTraining\u001b[0m - Epochs: 050/050: 100%|██████████| 14681/14681 [00:03<00:00, 4105.16it/s]\n"
     ]
    },
    {
     "name": "stdout",
     "output_type": "stream",
     "text": [
      "\u001b[31mValidation finished. \u001b[0mAccuracy: 0.8250 MSE: 0.0384 AUROC: 0.7363 AUPRC: 0.5352\n"
     ]
    },
    {
     "name": "stderr",
     "output_type": "stream",
     "text": [
      "\u001b[32mEvaluating\u001b[0m: 100%|██████████| 3236/3236 [00:00<00:00, 9631.05it/s] \n",
      "COMET INFO: ---------------------------\n",
      "COMET INFO: Comet.ml Experiment Summary\n",
      "COMET INFO: ---------------------------\n",
      "COMET INFO:   Data:\n",
      "COMET INFO:     display_summary_level : 1\n",
      "COMET INFO:     url                   : https://www.comet.com/samdoud/general/3eec8c920ae444e796b8fb34652af9d6\n",
      "COMET INFO:   Metrics [count] (min, max):\n",
      "COMET INFO:     test_AUPRC                 : 1.0\n",
      "COMET INFO:     test_AUROC                 : 1.0\n",
      "COMET INFO:     test_MSE [13]              : (0.16015625, 0.17838541666666666)\n",
      "COMET INFO:     test_accuracy [13]         : (0.8216145833333334, 0.83984375)\n",
      "COMET INFO:     test_loss [13]             : (0.6289113163948059, 7.888812363147736)\n",
      "COMET INFO:     train_AUPRC [2900]         : (0.2840634569694048, 0.6310049830303728)\n",
      "COMET INFO:     train_AUROC [2900]         : (0.46686117265266636, 0.7833238797504255)\n",
      "COMET INFO:     train_MSE [2900]           : (0.1484375, 0.845703125)\n",
      "COMET INFO:     train_accuracy [2900]      : (0.154296875, 0.8515625)\n",
      "COMET INFO:     train_loss [3190]          : (0.38693636655807495, 14.453103065490723)\n",
      "COMET INFO:     validate_AUPRC [650]       : (0.38327752976190477, 0.6260901162790697)\n",
      "COMET INFO:     validate_AUPRCxAUROC [650] : (0.4605688582251082, 0.679812888961677)\n",
      "COMET INFO:     validate_AUROC [650]       : (0.611489898989899, 0.7872584343268917)\n",
      "COMET INFO:     validate_MSE [650]         : (0.002860840542197398, 0.06702540698862475)\n",
      "COMET INFO:     validate_accuracy [650]    : (0.681640625, 0.8609559279950342)\n",
      "COMET INFO:     validate_loss [650]        : (0.407674640417099, 3.471238136291504)\n",
      "COMET INFO:   Parameters:\n",
      "COMET INFO:     batch_size    : 256\n",
      "COMET INFO:     betas         : (0.9, 0.98)\n",
      "COMET INFO:     epochs        : 50\n",
      "COMET INFO:     eps           : 4e-09\n",
      "COMET INFO:     lr            : 1e-05\n",
      "COMET INFO:     test_ds_size  : 3236\n",
      "COMET INFO:     train_ds_size : 14681\n",
      "COMET INFO:     val_ds_size   : 3222\n",
      "COMET INFO:     weight_decay  : 0.0001\n",
      "COMET INFO:   Uploads:\n",
      "COMET INFO:     conda-environment-definition : 1\n",
      "COMET INFO:     conda-info                   : 1\n",
      "COMET INFO:     conda-specification          : 1\n",
      "COMET INFO:     confusion-matrix             : 3551\n",
      "COMET INFO:     environment details          : 1\n",
      "COMET INFO:     filename                     : 1\n",
      "COMET INFO:     git metadata                 : 1\n",
      "COMET INFO:     git-patch (uncompressed)     : 1 (217.53 KB)\n",
      "COMET INFO:     installed packages           : 1\n",
      "COMET INFO:     model graph                  : 1\n",
      "COMET INFO:     notebook                     : 1\n",
      "COMET INFO:     source_code                  : 1\n",
      "COMET INFO: ---------------------------\n"
     ]
    },
    {
     "name": "stdout",
     "output_type": "stream",
     "text": [
      "\u001b[35mEvaluation finished. \u001b[0mAccuracy: 0.8316 MSE: 0.1684 AUROC: 1.0000 AUPRC: 1.0000\n"
     ]
    },
    {
     "name": "stderr",
     "output_type": "stream",
     "text": [
      "COMET INFO: Uploading 1 metrics, params and output messages\n"
     ]
    }
   ],
   "source": [
    "n_heads = 8\n",
    "factor = 12 # M\n",
    "num_class = 2\n",
    "num_layers = 4 # N\n",
    "epochs = 50\n",
    "betas = (0.9, 0.98)\n",
    "lr = 1e-5\n",
    "eps = 4e-09\n",
    "weight_decay = 1e-4\n",
    "dropout = 0.667\n",
    "scores = {}\n",
    "\n",
    "experiment = Experiment(\n",
    "    api_key=\"eQ3INeSsFGUYKahSdEtjhry42\",\n",
    "    project_name=\"general\",\n",
    "    workspace=\"samdoud\",\n",
    ")\n",
    "clf = NeuralNetworkClassifier(\n",
    "    SAnD(feature_count, seq_len, n_heads, factor, num_class, num_layers, dropout_rate=dropout),\n",
    "    nn.CrossEntropyLoss(weight=torch.tensor(get_weights(train_raw[1], level=max_level), dtype=torch.float32).to(device=device)),\n",
    "    optim.Adam, optimizer_config={\n",
    "        \"lr\": lr, \"betas\": betas, \"eps\": eps, \"weight_decay\": weight_decay},\n",
    "    experiment=experiment,\n",
    ")\n",
    "# Score is the multiplication of AUPRC and AUROC\n",
    "clf.fit(\n",
    "    {\n",
    "        \"train\": train_loader,\n",
    "        \"val\": val_loader\n",
    "    },\n",
    "    validation=True,\n",
    "    epochs=epochs,\n",
    "    verbose=True,\n",
    ")\n",
    "\n",
    "preds = clf.evaluate(test_loader)\n",
    "\n",
    "experiment.end()"
   ]
  },
  {
   "attachments": {},
   "cell_type": "markdown",
   "metadata": {},
   "source": [
    "### Evaluate\n",
    "Use the standard MIMIC-III Benchmark evaluation. This exports the stats shown in the paper to a JSON. Presumably, this is the same function the author used."
   ]
  },
  {
   "cell_type": "code",
   "execution_count": 39,
   "metadata": {},
   "outputs": [
    {
     "name": "stdout",
     "output_type": "stream",
     "text": [
      "Saving the results in results/ihm_results.json ...\n",
      "{'n_iters': 10000, 'AUC of ROC': {'value': 0.7292953583186657, 'mean': 0.7291744500386349, 'median': 0.7292634027014939, 'std': 0.012949950620342762, '2.5% percentile': 0.7036665199024478, '97.5% percentile': 0.7540900797575788}, 'AUC of PRC': {'value': 0.5021727434616485, 'mean': 0.5019690421887838, 'median': 0.502346055064792, 'std': 0.0184634252662962, '2.5% percentile': 0.465347962071997, '97.5% percentile': 0.5378330881431476}, 'min(+P, Se)': {'value': 0.36142625607779577, 'mean': 0.36109380213420145, 'median': 0.3610169491525424, 'std': 0.019346258735261194, '2.5% percentile': 0.32339069956340744, '97.5% percentile': 0.4}}\n"
     ]
    }
   ],
   "source": [
    "file_path = 'results/test_predictions.csv'\n",
    "save_results(test_names, preds, test_raw[1], file_path)\n",
    "pred_df = pd.read_csv(file_path, index_col=False)\n",
    "list_df = pd.read_csv(f\"mimic3_benchmarks/data/{task}/test_listfile.csv\", index_col=False)\n",
    "\n",
    "evaluate_predictions(pred_df, list_df)\n"
   ]
  },
  {
   "attachments": {},
   "cell_type": "markdown",
   "metadata": {},
   "source": [
    "### Dropout Optimatization\n",
    "\n",
    "The author claims that `dropout=0.3 is optimal. However, this is not the case. Anywhere from  ~0.4-~0.7 shows improved performance"
   ]
  },
  {
   "cell_type": "code",
   "execution_count": 47,
   "metadata": {},
   "outputs": [
    {
     "name": "stderr",
     "output_type": "stream",
     "text": [
      "COMET INFO: ---------------------------\n",
      "COMET INFO: Comet.ml Experiment Summary\n",
      "COMET INFO: ---------------------------\n",
      "COMET INFO:   Data:\n",
      "COMET INFO:     display_summary_level : 1\n",
      "COMET INFO:     url                   : https://www.comet.com/samdoud/general/2b253a1b35724d98b95e6fb5e1fbd71a\n",
      "COMET INFO:   Uploads:\n",
      "COMET INFO:     filename           : 1\n",
      "COMET INFO:     installed packages : 1\n",
      "COMET INFO:     notebook           : 1\n",
      "COMET INFO:     source_code        : 1\n",
      "COMET INFO: ---------------------------\n",
      "COMET WARNING: As you are running in a Jupyter environment, you will need to call `experiment.end()` when finished to ensure all metrics and code are logged before exiting.\n",
      "COMET INFO: Experiment is live on comet.com https://www.comet.com/samdoud/general/1d39025ecb9149a3a1c3a8859bb3467c\n",
      "\n",
      "COMET WARNING: Cannot safely convert (0.6126250180647546, 0.5664550952788003, 0.704964863636663) object to a scalar value, using its string representation for logging. Resulting string might be invalid\n"
     ]
    },
    {
     "name": "stdout",
     "output_type": "stream",
     "text": [
      "(0.6126250180647546, 0.5664550952788003, 0.704964863636663)\n"
     ]
    },
    {
     "name": "stderr",
     "output_type": "stream",
     "text": [
      "COMET WARNING: Cannot safely convert (0.6051982774145291, 0.5482687768573193, 0.7190572785289489) object to a scalar value, using its string representation for logging. Resulting string might be invalid\n"
     ]
    },
    {
     "name": "stdout",
     "output_type": "stream",
     "text": [
      "(0.6051982774145291, 0.5482687768573193, 0.7190572785289489)\n"
     ]
    },
    {
     "name": "stderr",
     "output_type": "stream",
     "text": [
      "COMET WARNING: Cannot safely convert (0.5595338694741329, 0.48876618484964707, 0.7010692387231044) object to a scalar value, using its string representation for logging. Resulting string might be invalid\n"
     ]
    },
    {
     "name": "stdout",
     "output_type": "stream",
     "text": [
      "(0.5595338694741329, 0.48876618484964707, 0.7010692387231044)\n"
     ]
    },
    {
     "name": "stderr",
     "output_type": "stream",
     "text": [
      "COMET WARNING: Cannot safely convert (0.601423536686073, 0.5360791066058003, 0.7321123968466184) object to a scalar value, using its string representation for logging. Resulting string might be invalid\n"
     ]
    },
    {
     "name": "stdout",
     "output_type": "stream",
     "text": [
      "(0.601423536686073, 0.5360791066058003, 0.7321123968466184)\n"
     ]
    },
    {
     "name": "stderr",
     "output_type": "stream",
     "text": [
      "COMET WARNING: Cannot safely convert (0.6065401180199896, 0.5444702071939104, 0.7306799396721483) object to a scalar value, using its string representation for logging. Resulting string might be invalid\n"
     ]
    },
    {
     "name": "stdout",
     "output_type": "stream",
     "text": [
      "(0.6065401180199896, 0.5444702071939104, 0.7306799396721483)\n"
     ]
    },
    {
     "name": "stderr",
     "output_type": "stream",
     "text": [
      "COMET WARNING: Cannot safely convert (0.6000490023789974, 0.5343017384519567, 0.7315435302330789) object to a scalar value, using its string representation for logging. Resulting string might be invalid\n"
     ]
    },
    {
     "name": "stdout",
     "output_type": "stream",
     "text": [
      "(0.6000490023789974, 0.5343017384519567, 0.7315435302330789)\n"
     ]
    },
    {
     "name": "stderr",
     "output_type": "stream",
     "text": [
      "COMET WARNING: Cannot safely convert (0.619910301878853, 0.5617465983888584, 0.7362377088588421) object to a scalar value, using its string representation for logging. Resulting string might be invalid\n"
     ]
    },
    {
     "name": "stdout",
     "output_type": "stream",
     "text": [
      "(0.619910301878853, 0.5617465983888584, 0.7362377088588421)\n"
     ]
    },
    {
     "name": "stderr",
     "output_type": "stream",
     "text": [
      "COMET WARNING: Cannot safely convert (0.5916951544568141, 0.5228556000901554, 0.7293742631901315) object to a scalar value, using its string representation for logging. Resulting string might be invalid\n"
     ]
    },
    {
     "name": "stdout",
     "output_type": "stream",
     "text": [
      "(0.5916951544568141, 0.5228556000901554, 0.7293742631901315)\n"
     ]
    },
    {
     "name": "stderr",
     "output_type": "stream",
     "text": [
      "COMET WARNING: Cannot safely convert (0.6111333625196009, 0.557344698902988, 0.718710689752827) object to a scalar value, using its string representation for logging. Resulting string might be invalid\n"
     ]
    },
    {
     "name": "stdout",
     "output_type": "stream",
     "text": [
      "(0.6111333625196009, 0.557344698902988, 0.718710689752827)\n"
     ]
    },
    {
     "name": "stderr",
     "output_type": "stream",
     "text": [
      "COMET WARNING: Cannot safely convert (0.6058522893644491, 0.5474155909978778, 0.7227256860975916) object to a scalar value, using its string representation for logging. Resulting string might be invalid\n"
     ]
    },
    {
     "name": "stdout",
     "output_type": "stream",
     "text": [
      "(0.6058522893644491, 0.5474155909978778, 0.7227256860975916)\n"
     ]
    },
    {
     "name": "stderr",
     "output_type": "stream",
     "text": [
      "COMET WARNING: Cannot safely convert (0.6098935328134186, 0.5521359682599536, 0.7254086619203488) object to a scalar value, using its string representation for logging. Resulting string might be invalid\n"
     ]
    },
    {
     "name": "stdout",
     "output_type": "stream",
     "text": [
      "(0.6098935328134186, 0.5521359682599536, 0.7254086619203488)\n"
     ]
    },
    {
     "name": "stderr",
     "output_type": "stream",
     "text": [
      "COMET WARNING: Cannot safely convert (0.6101110187981291, 0.5424913897263336, 0.7453502769417204) object to a scalar value, using its string representation for logging. Resulting string might be invalid\n"
     ]
    },
    {
     "name": "stdout",
     "output_type": "stream",
     "text": [
      "(0.6101110187981291, 0.5424913897263336, 0.7453502769417204)\n"
     ]
    },
    {
     "name": "stderr",
     "output_type": "stream",
     "text": [
      "COMET WARNING: Cannot safely convert (0.6012870658148268, 0.5528095017564151, 0.6982421939316504) object to a scalar value, using its string representation for logging. Resulting string might be invalid\n"
     ]
    },
    {
     "name": "stdout",
     "output_type": "stream",
     "text": [
      "(0.6012870658148268, 0.5528095017564151, 0.6982421939316504)\n"
     ]
    },
    {
     "name": "stderr",
     "output_type": "stream",
     "text": [
      "COMET WARNING: Cannot safely convert (0.5959496380601323, 0.5292402068745068, 0.7293685004313837) object to a scalar value, using its string representation for logging. Resulting string might be invalid\n"
     ]
    },
    {
     "name": "stdout",
     "output_type": "stream",
     "text": [
      "(0.5959496380601323, 0.5292402068745068, 0.7293685004313837)\n"
     ]
    },
    {
     "name": "stderr",
     "output_type": "stream",
     "text": [
      "COMET WARNING: Cannot safely convert (0.6005657332012533, 0.5363224138261297, 0.7290523719515005) object to a scalar value, using its string representation for logging. Resulting string might be invalid\n"
     ]
    },
    {
     "name": "stdout",
     "output_type": "stream",
     "text": [
      "(0.6005657332012533, 0.5363224138261297, 0.7290523719515005)\n"
     ]
    },
    {
     "name": "stderr",
     "output_type": "stream",
     "text": [
      "COMET WARNING: Cannot safely convert (0.5978304941506779, 0.5319412963278695, 0.7296088897962948) object to a scalar value, using its string representation for logging. Resulting string might be invalid\n"
     ]
    },
    {
     "name": "stdout",
     "output_type": "stream",
     "text": [
      "(0.5978304941506779, 0.5319412963278695, 0.7296088897962948)\n"
     ]
    },
    {
     "name": "stderr",
     "output_type": "stream",
     "text": [
      "COMET WARNING: Cannot safely convert (0.6124653139185383, 0.5550810659073458, 0.7272338099409235) object to a scalar value, using its string representation for logging. Resulting string might be invalid\n"
     ]
    },
    {
     "name": "stdout",
     "output_type": "stream",
     "text": [
      "(0.6124653139185383, 0.5550810659073458, 0.7272338099409235)\n"
     ]
    },
    {
     "name": "stderr",
     "output_type": "stream",
     "text": [
      "COMET WARNING: Cannot safely convert (0.6158767194044743, 0.5576856113221793, 0.7322589355690642) object to a scalar value, using its string representation for logging. Resulting string might be invalid\n"
     ]
    },
    {
     "name": "stdout",
     "output_type": "stream",
     "text": [
      "(0.6158767194044743, 0.5576856113221793, 0.7322589355690642)\n"
     ]
    },
    {
     "name": "stderr",
     "output_type": "stream",
     "text": [
      "COMET WARNING: Cannot safely convert (0.6046689103316976, 0.5690167416838515, 0.6759732476273899) object to a scalar value, using its string representation for logging. Resulting string might be invalid\n"
     ]
    },
    {
     "name": "stdout",
     "output_type": "stream",
     "text": [
      "(0.6046689103316976, 0.5690167416838515, 0.6759732476273899)\n"
     ]
    },
    {
     "name": "stderr",
     "output_type": "stream",
     "text": [
      "COMET WARNING: Cannot safely convert (0.6133483612337584, 0.5527174712815405, 0.7346101411381942) object to a scalar value, using its string representation for logging. Resulting string might be invalid\n"
     ]
    },
    {
     "name": "stdout",
     "output_type": "stream",
     "text": [
      "(0.6133483612337584, 0.5527174712815405, 0.7346101411381942)\n"
     ]
    },
    {
     "name": "stderr",
     "output_type": "stream",
     "text": [
      "COMET WARNING: Cannot safely convert (0.611158862749706, 0.5456067517468778, 0.7422630847553626) object to a scalar value, using its string representation for logging. Resulting string might be invalid\n"
     ]
    },
    {
     "name": "stdout",
     "output_type": "stream",
     "text": [
      "(0.611158862749706, 0.5456067517468778, 0.7422630847553626)\n"
     ]
    },
    {
     "name": "stderr",
     "output_type": "stream",
     "text": [
      "COMET WARNING: Cannot safely convert (0.59436760603877, 0.5276200221103097, 0.7278627738956909) object to a scalar value, using its string representation for logging. Resulting string might be invalid\n"
     ]
    },
    {
     "name": "stdout",
     "output_type": "stream",
     "text": [
      "(0.59436760603877, 0.5276200221103097, 0.7278627738956909)\n"
     ]
    },
    {
     "name": "stderr",
     "output_type": "stream",
     "text": [
      "COMET WARNING: Cannot safely convert (0.6112450309841446, 0.5525282385341476, 0.7286786158841388) object to a scalar value, using its string representation for logging. Resulting string might be invalid\n"
     ]
    },
    {
     "name": "stdout",
     "output_type": "stream",
     "text": [
      "(0.6112450309841446, 0.5525282385341476, 0.7286786158841388)\n"
     ]
    },
    {
     "name": "stderr",
     "output_type": "stream",
     "text": [
      "COMET WARNING: Cannot safely convert (0.6124740975829468, 0.5488099529894087, 0.7398023867700232) object to a scalar value, using its string representation for logging. Resulting string might be invalid\n"
     ]
    },
    {
     "name": "stdout",
     "output_type": "stream",
     "text": [
      "(0.6124740975829468, 0.5488099529894087, 0.7398023867700232)\n"
     ]
    },
    {
     "name": "stderr",
     "output_type": "stream",
     "text": [
      "COMET WARNING: Cannot safely convert (0.6207835915661793, 0.5664952533898256, 0.7293602679188868) object to a scalar value, using its string representation for logging. Resulting string might be invalid\n"
     ]
    },
    {
     "name": "stdout",
     "output_type": "stream",
     "text": [
      "(0.6207835915661793, 0.5664952533898256, 0.7293602679188868)\n"
     ]
    },
    {
     "name": "stderr",
     "output_type": "stream",
     "text": [
      "COMET WARNING: Cannot safely convert (0.6142471915680819, 0.5733141542521538, 0.6961132661999382) object to a scalar value, using its string representation for logging. Resulting string might be invalid\n"
     ]
    },
    {
     "name": "stdout",
     "output_type": "stream",
     "text": [
      "(0.6142471915680819, 0.5733141542521538, 0.6961132661999382)\n"
     ]
    },
    {
     "name": "stderr",
     "output_type": "stream",
     "text": [
      "COMET WARNING: Cannot safely convert (0.6044941018141281, 0.5401708338924484, 0.7331406376574878) object to a scalar value, using its string representation for logging. Resulting string might be invalid\n"
     ]
    },
    {
     "name": "stdout",
     "output_type": "stream",
     "text": [
      "(0.6044941018141281, 0.5401708338924484, 0.7331406376574878)\n"
     ]
    },
    {
     "name": "stderr",
     "output_type": "stream",
     "text": [
      "COMET WARNING: Cannot safely convert (0.5933721703445733, 0.5248919916944716, 0.730332527644777) object to a scalar value, using its string representation for logging. Resulting string might be invalid\n"
     ]
    },
    {
     "name": "stdout",
     "output_type": "stream",
     "text": [
      "(0.5933721703445733, 0.5248919916944716, 0.730332527644777)\n"
     ]
    },
    {
     "name": "stderr",
     "output_type": "stream",
     "text": [
      "COMET WARNING: Cannot safely convert (0.6064648135337479, 0.5421048350453811, 0.7351847705104817) object to a scalar value, using its string representation for logging. Resulting string might be invalid\n"
     ]
    },
    {
     "name": "stdout",
     "output_type": "stream",
     "text": [
      "(0.6064648135337479, 0.5421048350453811, 0.7351847705104817)\n"
     ]
    },
    {
     "name": "stderr",
     "output_type": "stream",
     "text": [
      "COMET WARNING: Cannot safely convert (0.6132523982680137, 0.5457327205735796, 0.748291753656882) object to a scalar value, using its string representation for logging. Resulting string might be invalid\n"
     ]
    },
    {
     "name": "stdout",
     "output_type": "stream",
     "text": [
      "(0.6132523982680137, 0.5457327205735796, 0.748291753656882)\n"
     ]
    },
    {
     "name": "stderr",
     "output_type": "stream",
     "text": [
      "COMET WARNING: Cannot safely convert (0.6242448561405217, 0.5627305882802782, 0.7472733918610088) object to a scalar value, using its string representation for logging. Resulting string might be invalid\n"
     ]
    },
    {
     "name": "stdout",
     "output_type": "stream",
     "text": [
      "(0.6242448561405217, 0.5627305882802782, 0.7472733918610088)\n"
     ]
    },
    {
     "name": "stderr",
     "output_type": "stream",
     "text": [
      "COMET ERROR: File-like could not be uploaded: OSError('Could not find a suitable TLS CA certificate bundle, invalid path: c:\\\\Users\\\\Samuel\\\\.conda\\\\envs\\\\py38\\\\lib\\\\site-packages\\\\certifi\\\\cacert.pem')\n",
      "COMET ERROR: Error sending stdout/stderr batch (online experiment)\n",
      "COMET ERROR: File-like could not be uploaded: OSError('Could not find a suitable TLS CA certificate bundle, invalid path: c:\\\\Users\\\\Samuel\\\\.conda\\\\envs\\\\py38\\\\lib\\\\site-packages\\\\certifi\\\\cacert.pem')\n",
      "COMET ERROR: Heartbeat processing error\n",
      "COMET ERROR: Error sending metrics batch (online experiment)\n",
      "COMET ERROR: File-like could not be uploaded: OSError('Could not find a suitable TLS CA certificate bundle, invalid path: c:\\\\Users\\\\Samuel\\\\.conda\\\\envs\\\\py38\\\\lib\\\\site-packages\\\\certifi\\\\cacert.pem')\n",
      "COMET ERROR: File-like could not be uploaded: OSError('Could not find a suitable TLS CA certificate bundle, invalid path: c:\\\\Users\\\\Samuel\\\\.conda\\\\envs\\\\py38\\\\lib\\\\site-packages\\\\certifi\\\\cacert.pem')\n",
      "COMET ERROR: File-like could not be uploaded: OSError('Could not find a suitable TLS CA certificate bundle, invalid path: c:\\\\Users\\\\Samuel\\\\.conda\\\\envs\\\\py38\\\\lib\\\\site-packages\\\\certifi\\\\cacert.pem')\n",
      "COMET WARNING: Cannot safely convert (0.6163992844139616, 0.5526536003829373, 0.7438906524760104) object to a scalar value, using its string representation for logging. Resulting string might be invalid\n"
     ]
    },
    {
     "name": "stdout",
     "output_type": "stream",
     "text": [
      "(0.6163992844139616, 0.5526536003829373, 0.7438906524760104)\n"
     ]
    },
    {
     "name": "stderr",
     "output_type": "stream",
     "text": [
      "COMET WARNING: Cannot safely convert (0.6200288825060573, 0.5587199638402255, 0.7426467198377208) object to a scalar value, using its string representation for logging. Resulting string might be invalid\n"
     ]
    },
    {
     "name": "stdout",
     "output_type": "stream",
     "text": [
      "(0.6200288825060573, 0.5587199638402255, 0.7426467198377208)\n"
     ]
    },
    {
     "name": "stderr",
     "output_type": "stream",
     "text": [
      "COMET WARNING: Cannot safely convert (0.6085499594223653, 0.549811888954738, 0.7260261003576203) object to a scalar value, using its string representation for logging. Resulting string might be invalid\n"
     ]
    },
    {
     "name": "stdout",
     "output_type": "stream",
     "text": [
      "(0.6085499594223653, 0.549811888954738, 0.7260261003576203)\n"
     ]
    },
    {
     "name": "stderr",
     "output_type": "stream",
     "text": [
      "COMET WARNING: Cannot safely convert (0.6265553303546619, 0.5803253491743858, 0.7190152927152144) object to a scalar value, using its string representation for logging. Resulting string might be invalid\n"
     ]
    },
    {
     "name": "stdout",
     "output_type": "stream",
     "text": [
      "(0.6265553303546619, 0.5803253491743858, 0.7190152927152144)\n"
     ]
    },
    {
     "name": "stderr",
     "output_type": "stream",
     "text": [
      "COMET WARNING: Cannot safely convert (0.6186308863011143, 0.5556465935506724, 0.7445994718019981) object to a scalar value, using its string representation for logging. Resulting string might be invalid\n"
     ]
    },
    {
     "name": "stdout",
     "output_type": "stream",
     "text": [
      "(0.6186308863011143, 0.5556465935506724, 0.7445994718019981)\n"
     ]
    },
    {
     "name": "stderr",
     "output_type": "stream",
     "text": [
      "COMET WARNING: Cannot safely convert (0.6272502598532954, 0.5654987523332076, 0.7507532748934713) object to a scalar value, using its string representation for logging. Resulting string might be invalid\n"
     ]
    },
    {
     "name": "stdout",
     "output_type": "stream",
     "text": [
      "(0.6272502598532954, 0.5654987523332076, 0.7507532748934713)\n"
     ]
    },
    {
     "name": "stderr",
     "output_type": "stream",
     "text": [
      "COMET WARNING: Cannot safely convert (0.610986016952437, 0.5448592950599049, 0.7432394607375014) object to a scalar value, using its string representation for logging. Resulting string might be invalid\n"
     ]
    },
    {
     "name": "stdout",
     "output_type": "stream",
     "text": [
      "(0.610986016952437, 0.5448592950599049, 0.7432394607375014)\n"
     ]
    },
    {
     "name": "stderr",
     "output_type": "stream",
     "text": [
      "COMET WARNING: Cannot safely convert (0.6090555819511991, 0.5438525925504742, 0.7394615607526491) object to a scalar value, using its string representation for logging. Resulting string might be invalid\n"
     ]
    },
    {
     "name": "stdout",
     "output_type": "stream",
     "text": [
      "(0.6090555819511991, 0.5438525925504742, 0.7394615607526491)\n"
     ]
    },
    {
     "name": "stderr",
     "output_type": "stream",
     "text": [
      "COMET WARNING: Cannot safely convert (0.6342676633910247, 0.5735563387675897, 0.7556903126378945) object to a scalar value, using its string representation for logging. Resulting string might be invalid\n"
     ]
    },
    {
     "name": "stdout",
     "output_type": "stream",
     "text": [
      "(0.6342676633910247, 0.5735563387675897, 0.7556903126378945)\n"
     ]
    },
    {
     "name": "stderr",
     "output_type": "stream",
     "text": [
      "COMET WARNING: Cannot safely convert (0.6306594539522382, 0.5711250173845571, 0.7497283270876004) object to a scalar value, using its string representation for logging. Resulting string might be invalid\n"
     ]
    },
    {
     "name": "stdout",
     "output_type": "stream",
     "text": [
      "(0.6306594539522382, 0.5711250173845571, 0.7497283270876004)\n"
     ]
    },
    {
     "name": "stderr",
     "output_type": "stream",
     "text": [
      "COMET WARNING: Cannot safely convert (0.5934220680054193, 0.5267055448250972, 0.7268551143660635) object to a scalar value, using its string representation for logging. Resulting string might be invalid\n"
     ]
    },
    {
     "name": "stdout",
     "output_type": "stream",
     "text": [
      "(0.5934220680054193, 0.5267055448250972, 0.7268551143660635)\n"
     ]
    },
    {
     "name": "stderr",
     "output_type": "stream",
     "text": [
      "COMET WARNING: Cannot safely convert (0.6179445924770974, 0.5520712483249641, 0.7496912807813642) object to a scalar value, using its string representation for logging. Resulting string might be invalid\n"
     ]
    },
    {
     "name": "stdout",
     "output_type": "stream",
     "text": [
      "(0.6179445924770974, 0.5520712483249641, 0.7496912807813642)\n"
     ]
    },
    {
     "name": "stderr",
     "output_type": "stream",
     "text": [
      "COMET WARNING: Cannot safely convert (0.5999280093800075, 0.5318011501830798, 0.7361817277738627) object to a scalar value, using its string representation for logging. Resulting string might be invalid\n"
     ]
    },
    {
     "name": "stdout",
     "output_type": "stream",
     "text": [
      "(0.5999280093800075, 0.5318011501830798, 0.7361817277738627)\n"
     ]
    },
    {
     "name": "stderr",
     "output_type": "stream",
     "text": [
      "COMET WARNING: Cannot safely convert (0.6236457249993475, 0.5596494525055742, 0.751638269986894) object to a scalar value, using its string representation for logging. Resulting string might be invalid\n"
     ]
    },
    {
     "name": "stdout",
     "output_type": "stream",
     "text": [
      "(0.6236457249993475, 0.5596494525055742, 0.751638269986894)\n"
     ]
    },
    {
     "name": "stderr",
     "output_type": "stream",
     "text": [
      "COMET WARNING: Cannot safely convert (0.5861832544939714, 0.5177712627284633, 0.7230072380249873) object to a scalar value, using its string representation for logging. Resulting string might be invalid\n"
     ]
    },
    {
     "name": "stdout",
     "output_type": "stream",
     "text": [
      "(0.5861832544939714, 0.5177712627284633, 0.7230072380249873)\n"
     ]
    },
    {
     "ename": "KeyboardInterrupt",
     "evalue": "",
     "output_type": "error",
     "traceback": [
      "\u001b[1;31m---------------------------------------------------------------------------\u001b[0m",
      "\u001b[1;31mKeyboardInterrupt\u001b[0m                         Traceback (most recent call last)",
      "Cell \u001b[1;32mIn[47], line 26\u001b[0m\n\u001b[0;32m     17\u001b[0m clf \u001b[39m=\u001b[39m NeuralNetworkClassifier(\n\u001b[0;32m     18\u001b[0m     SAnD(feature_count, seq_len, n_heads, factor, num_class, num_layers, dropout_rate\u001b[39m=\u001b[39mdropout),\n\u001b[0;32m     19\u001b[0m     nn\u001b[39m.\u001b[39mCrossEntropyLoss(weight\u001b[39m=\u001b[39mtorch\u001b[39m.\u001b[39mtensor(get_weights(train_raw[\u001b[39m1\u001b[39m], level\u001b[39m=\u001b[39mmax_level), dtype\u001b[39m=\u001b[39mtorch\u001b[39m.\u001b[39mfloat32)\u001b[39m.\u001b[39mto(device\u001b[39m=\u001b[39mdevice)),\n\u001b[1;32m   (...)\u001b[0m\n\u001b[0;32m     23\u001b[0m     silent\u001b[39m=\u001b[39m\u001b[39mTrue\u001b[39;00m\n\u001b[0;32m     24\u001b[0m )\n\u001b[0;32m     25\u001b[0m \u001b[39m# Score is the multiplication of AUPRC and AUROC\u001b[39;00m\n\u001b[1;32m---> 26\u001b[0m scores[dropout] \u001b[39m=\u001b[39m clf\u001b[39m.\u001b[39;49mfit(\n\u001b[0;32m     27\u001b[0m     {\n\u001b[0;32m     28\u001b[0m         \u001b[39m\"\u001b[39;49m\u001b[39mtrain\u001b[39;49m\u001b[39m\"\u001b[39;49m: DataLoader(train_ds, batch_size\u001b[39m=\u001b[39;49mbatch_size, shuffle\u001b[39m=\u001b[39;49m\u001b[39mFalse\u001b[39;49;00m),\n\u001b[0;32m     29\u001b[0m         \u001b[39m\"\u001b[39;49m\u001b[39mval\u001b[39;49m\u001b[39m\"\u001b[39;49m: val_loader\n\u001b[0;32m     30\u001b[0m     },\n\u001b[0;32m     31\u001b[0m     validation\u001b[39m=\u001b[39;49m\u001b[39mTrue\u001b[39;49;00m,\n\u001b[0;32m     32\u001b[0m     epochs\u001b[39m=\u001b[39;49mepochs,\n\u001b[0;32m     33\u001b[0m     verbose\u001b[39m=\u001b[39;49m\u001b[39mFalse\u001b[39;49;00m,\n\u001b[0;32m     34\u001b[0m     level\u001b[39m=\u001b[39;49miteration\n\u001b[0;32m     35\u001b[0m )\n\u001b[0;32m     36\u001b[0m \u001b[39mprint\u001b[39m(scores[dropout])\n\u001b[0;32m     38\u001b[0m \u001b[39m#clf.evaluate(test_loader)\u001b[39;00m\n",
      "File \u001b[1;32mc:\\Users\\Samuel\\Desktop\\SAnD\\utils\\trainer.py:198\u001b[0m, in \u001b[0;36mNeuralNetworkClassifier.fit\u001b[1;34m(self, loader, epochs, checkpoint_path, validation, start_epoch, total_epochs, train_dataset_size, verbose, level)\u001b[0m\n\u001b[0;32m    192\u001b[0m \u001b[39mif\u001b[39;00m \u001b[39mnot\u001b[39;00m \u001b[39mself\u001b[39m\u001b[39m.\u001b[39msilent:\n\u001b[0;32m    193\u001b[0m     pbar \u001b[39m=\u001b[39m tqdm\u001b[39m.\u001b[39mtqdm(\n\u001b[0;32m    194\u001b[0m         total\u001b[39m=\u001b[39mlen_of_train_dataset\n\u001b[0;32m    195\u001b[0m         \u001b[39mif\u001b[39;00m \u001b[39mnot\u001b[39;00m train_dataset_size\n\u001b[0;32m    196\u001b[0m         \u001b[39melse\u001b[39;00m train_dataset_size\n\u001b[0;32m    197\u001b[0m     )\n\u001b[1;32m--> 198\u001b[0m \u001b[39mfor\u001b[39;00m x, y \u001b[39min\u001b[39;00m loader[\u001b[39m\"\u001b[39m\u001b[39mtrain\u001b[39m\u001b[39m\"\u001b[39m]:\n\u001b[0;32m    199\u001b[0m     b_size \u001b[39m=\u001b[39m y\u001b[39m.\u001b[39mshape[\u001b[39m0\u001b[39m]\n\u001b[0;32m    200\u001b[0m     total \u001b[39m+\u001b[39m\u001b[39m=\u001b[39m y\u001b[39m.\u001b[39mshape[\u001b[39m0\u001b[39m]\n",
      "File \u001b[1;32mc:\\Users\\Samuel\\.conda\\envs\\py38\\lib\\site-packages\\torch\\utils\\data\\dataloader.py:634\u001b[0m, in \u001b[0;36m_BaseDataLoaderIter.__next__\u001b[1;34m(self)\u001b[0m\n\u001b[0;32m    631\u001b[0m \u001b[39mif\u001b[39;00m \u001b[39mself\u001b[39m\u001b[39m.\u001b[39m_sampler_iter \u001b[39mis\u001b[39;00m \u001b[39mNone\u001b[39;00m:\n\u001b[0;32m    632\u001b[0m     \u001b[39m# TODO(https://github.com/pytorch/pytorch/issues/76750)\u001b[39;00m\n\u001b[0;32m    633\u001b[0m     \u001b[39mself\u001b[39m\u001b[39m.\u001b[39m_reset()  \u001b[39m# type: ignore[call-arg]\u001b[39;00m\n\u001b[1;32m--> 634\u001b[0m data \u001b[39m=\u001b[39m \u001b[39mself\u001b[39;49m\u001b[39m.\u001b[39;49m_next_data()\n\u001b[0;32m    635\u001b[0m \u001b[39mself\u001b[39m\u001b[39m.\u001b[39m_num_yielded \u001b[39m+\u001b[39m\u001b[39m=\u001b[39m \u001b[39m1\u001b[39m\n\u001b[0;32m    636\u001b[0m \u001b[39mif\u001b[39;00m \u001b[39mself\u001b[39m\u001b[39m.\u001b[39m_dataset_kind \u001b[39m==\u001b[39m _DatasetKind\u001b[39m.\u001b[39mIterable \u001b[39mand\u001b[39;00m \\\n\u001b[0;32m    637\u001b[0m         \u001b[39mself\u001b[39m\u001b[39m.\u001b[39m_IterableDataset_len_called \u001b[39mis\u001b[39;00m \u001b[39mnot\u001b[39;00m \u001b[39mNone\u001b[39;00m \u001b[39mand\u001b[39;00m \\\n\u001b[0;32m    638\u001b[0m         \u001b[39mself\u001b[39m\u001b[39m.\u001b[39m_num_yielded \u001b[39m>\u001b[39m \u001b[39mself\u001b[39m\u001b[39m.\u001b[39m_IterableDataset_len_called:\n",
      "File \u001b[1;32mc:\\Users\\Samuel\\.conda\\envs\\py38\\lib\\site-packages\\torch\\utils\\data\\dataloader.py:678\u001b[0m, in \u001b[0;36m_SingleProcessDataLoaderIter._next_data\u001b[1;34m(self)\u001b[0m\n\u001b[0;32m    676\u001b[0m \u001b[39mdef\u001b[39;00m \u001b[39m_next_data\u001b[39m(\u001b[39mself\u001b[39m):\n\u001b[0;32m    677\u001b[0m     index \u001b[39m=\u001b[39m \u001b[39mself\u001b[39m\u001b[39m.\u001b[39m_next_index()  \u001b[39m# may raise StopIteration\u001b[39;00m\n\u001b[1;32m--> 678\u001b[0m     data \u001b[39m=\u001b[39m \u001b[39mself\u001b[39;49m\u001b[39m.\u001b[39;49m_dataset_fetcher\u001b[39m.\u001b[39;49mfetch(index)  \u001b[39m# may raise StopIteration\u001b[39;00m\n\u001b[0;32m    679\u001b[0m     \u001b[39mif\u001b[39;00m \u001b[39mself\u001b[39m\u001b[39m.\u001b[39m_pin_memory:\n\u001b[0;32m    680\u001b[0m         data \u001b[39m=\u001b[39m _utils\u001b[39m.\u001b[39mpin_memory\u001b[39m.\u001b[39mpin_memory(data, \u001b[39mself\u001b[39m\u001b[39m.\u001b[39m_pin_memory_device)\n",
      "File \u001b[1;32mc:\\Users\\Samuel\\.conda\\envs\\py38\\lib\\site-packages\\torch\\utils\\data\\_utils\\fetch.py:54\u001b[0m, in \u001b[0;36m_MapDatasetFetcher.fetch\u001b[1;34m(self, possibly_batched_index)\u001b[0m\n\u001b[0;32m     52\u001b[0m \u001b[39melse\u001b[39;00m:\n\u001b[0;32m     53\u001b[0m     data \u001b[39m=\u001b[39m \u001b[39mself\u001b[39m\u001b[39m.\u001b[39mdataset[possibly_batched_index]\n\u001b[1;32m---> 54\u001b[0m \u001b[39mreturn\u001b[39;00m \u001b[39mself\u001b[39;49m\u001b[39m.\u001b[39;49mcollate_fn(data)\n",
      "File \u001b[1;32mc:\\Users\\Samuel\\.conda\\envs\\py38\\lib\\site-packages\\torch\\utils\\data\\_utils\\collate.py:264\u001b[0m, in \u001b[0;36mdefault_collate\u001b[1;34m(batch)\u001b[0m\n\u001b[0;32m    203\u001b[0m \u001b[39mdef\u001b[39;00m \u001b[39mdefault_collate\u001b[39m(batch):\n\u001b[0;32m    204\u001b[0m     \u001b[39mr\u001b[39m\u001b[39m\"\"\"\u001b[39;00m\n\u001b[0;32m    205\u001b[0m \u001b[39m        Function that takes in a batch of data and puts the elements within the batch\u001b[39;00m\n\u001b[0;32m    206\u001b[0m \u001b[39m        into a tensor with an additional outer dimension - batch size. The exact output type can be\u001b[39;00m\n\u001b[1;32m   (...)\u001b[0m\n\u001b[0;32m    262\u001b[0m \u001b[39m            >>> default_collate(batch)  # Handle `CustomType` automatically\u001b[39;00m\n\u001b[0;32m    263\u001b[0m \u001b[39m    \"\"\"\u001b[39;00m\n\u001b[1;32m--> 264\u001b[0m     \u001b[39mreturn\u001b[39;00m collate(batch, collate_fn_map\u001b[39m=\u001b[39;49mdefault_collate_fn_map)\n",
      "File \u001b[1;32mc:\\Users\\Samuel\\.conda\\envs\\py38\\lib\\site-packages\\torch\\utils\\data\\_utils\\collate.py:142\u001b[0m, in \u001b[0;36mcollate\u001b[1;34m(batch, collate_fn_map)\u001b[0m\n\u001b[0;32m    139\u001b[0m transposed \u001b[39m=\u001b[39m \u001b[39mlist\u001b[39m(\u001b[39mzip\u001b[39m(\u001b[39m*\u001b[39mbatch))  \u001b[39m# It may be accessed twice, so we use a list.\u001b[39;00m\n\u001b[0;32m    141\u001b[0m \u001b[39mif\u001b[39;00m \u001b[39misinstance\u001b[39m(elem, \u001b[39mtuple\u001b[39m):\n\u001b[1;32m--> 142\u001b[0m     \u001b[39mreturn\u001b[39;00m [collate(samples, collate_fn_map\u001b[39m=\u001b[39mcollate_fn_map) \u001b[39mfor\u001b[39;00m samples \u001b[39min\u001b[39;00m transposed]  \u001b[39m# Backwards compatibility.\u001b[39;00m\n\u001b[0;32m    143\u001b[0m \u001b[39melse\u001b[39;00m:\n\u001b[0;32m    144\u001b[0m     \u001b[39mtry\u001b[39;00m:\n",
      "File \u001b[1;32mc:\\Users\\Samuel\\.conda\\envs\\py38\\lib\\site-packages\\torch\\utils\\data\\_utils\\collate.py:142\u001b[0m, in \u001b[0;36m<listcomp>\u001b[1;34m(.0)\u001b[0m\n\u001b[0;32m    139\u001b[0m transposed \u001b[39m=\u001b[39m \u001b[39mlist\u001b[39m(\u001b[39mzip\u001b[39m(\u001b[39m*\u001b[39mbatch))  \u001b[39m# It may be accessed twice, so we use a list.\u001b[39;00m\n\u001b[0;32m    141\u001b[0m \u001b[39mif\u001b[39;00m \u001b[39misinstance\u001b[39m(elem, \u001b[39mtuple\u001b[39m):\n\u001b[1;32m--> 142\u001b[0m     \u001b[39mreturn\u001b[39;00m [collate(samples, collate_fn_map\u001b[39m=\u001b[39;49mcollate_fn_map) \u001b[39mfor\u001b[39;00m samples \u001b[39min\u001b[39;00m transposed]  \u001b[39m# Backwards compatibility.\u001b[39;00m\n\u001b[0;32m    143\u001b[0m \u001b[39melse\u001b[39;00m:\n\u001b[0;32m    144\u001b[0m     \u001b[39mtry\u001b[39;00m:\n",
      "File \u001b[1;32mc:\\Users\\Samuel\\.conda\\envs\\py38\\lib\\site-packages\\torch\\utils\\data\\_utils\\collate.py:119\u001b[0m, in \u001b[0;36mcollate\u001b[1;34m(batch, collate_fn_map)\u001b[0m\n\u001b[0;32m    117\u001b[0m \u001b[39mif\u001b[39;00m collate_fn_map \u001b[39mis\u001b[39;00m \u001b[39mnot\u001b[39;00m \u001b[39mNone\u001b[39;00m:\n\u001b[0;32m    118\u001b[0m     \u001b[39mif\u001b[39;00m elem_type \u001b[39min\u001b[39;00m collate_fn_map:\n\u001b[1;32m--> 119\u001b[0m         \u001b[39mreturn\u001b[39;00m collate_fn_map[elem_type](batch, collate_fn_map\u001b[39m=\u001b[39;49mcollate_fn_map)\n\u001b[0;32m    121\u001b[0m     \u001b[39mfor\u001b[39;00m collate_type \u001b[39min\u001b[39;00m collate_fn_map:\n\u001b[0;32m    122\u001b[0m         \u001b[39mif\u001b[39;00m \u001b[39misinstance\u001b[39m(elem, collate_type):\n",
      "File \u001b[1;32mc:\\Users\\Samuel\\.conda\\envs\\py38\\lib\\site-packages\\torch\\utils\\data\\_utils\\collate.py:162\u001b[0m, in \u001b[0;36mcollate_tensor_fn\u001b[1;34m(batch, collate_fn_map)\u001b[0m\n\u001b[0;32m    160\u001b[0m     storage \u001b[39m=\u001b[39m elem\u001b[39m.\u001b[39m_typed_storage()\u001b[39m.\u001b[39m_new_shared(numel, device\u001b[39m=\u001b[39melem\u001b[39m.\u001b[39mdevice)\n\u001b[0;32m    161\u001b[0m     out \u001b[39m=\u001b[39m elem\u001b[39m.\u001b[39mnew(storage)\u001b[39m.\u001b[39mresize_(\u001b[39mlen\u001b[39m(batch), \u001b[39m*\u001b[39m\u001b[39mlist\u001b[39m(elem\u001b[39m.\u001b[39msize()))\n\u001b[1;32m--> 162\u001b[0m \u001b[39mreturn\u001b[39;00m torch\u001b[39m.\u001b[39;49mstack(batch, \u001b[39m0\u001b[39;49m, out\u001b[39m=\u001b[39;49mout)\n",
      "\u001b[1;31mKeyboardInterrupt\u001b[0m: "
     ]
    }
   ],
   "source": [
    "n_heads = 8\n",
    "factor = 12 # M\n",
    "num_class = 2\n",
    "num_layers = 4 # N\n",
    "epochs = 25\n",
    "betas = (0.9, 0.98)\n",
    "lr = 4e-5\n",
    "eps = 4e-09\n",
    "weight_decay = 4e-5\n",
    "scores = {}\n",
    "experiment = Experiment(\n",
    "    api_key=\"eQ3INeSsFGUYKahSdEtjhry42\",\n",
    "    project_name=\"general\",\n",
    "    workspace=\"samdoud\",\n",
    ")\n",
    "for dropout in np.power(np.arange(0, .96, .02), 2):\n",
    "    clf = NeuralNetworkClassifier(\n",
    "        SAnD(feature_count, seq_len, n_heads, factor, num_class, num_layers, dropout_rate=dropout),\n",
    "        nn.CrossEntropyLoss(weight=torch.tensor(get_weights(train_raw[1], level=max_level), dtype=torch.float32).to(device=device)),\n",
    "        optim.Adam, optimizer_config={\n",
    "            \"lr\": lr, \"betas\": betas, \"eps\": eps, \"weight_decay\": weight_decay},\n",
    "        experiment=experiment,\n",
    "        silent=True\n",
    "    )\n",
    "    # Score is the multiplication of AUPRC and AUROC\n",
    "    scores[dropout] = clf.fit(\n",
    "        {\n",
    "            \"train\": DataLoader(train_ds, batch_size=batch_size, shuffle=False),\n",
    "            \"val\": val_loader\n",
    "        },\n",
    "        validation=True,\n",
    "        epochs=epochs,\n",
    "        verbose=False,\n",
    "        level=iteration\n",
    "    )\n",
    "    print(scores[dropout])\n",
    "\n",
    "    #clf.evaluate(test_loader)\n",
    "\n",
    "experiment.end()"
   ]
  },
  {
   "cell_type": "code",
   "execution_count": 48,
   "metadata": {},
   "outputs": [
    {
     "name": "stdout",
     "output_type": "stream",
     "text": [
      "Dropout 0.6084: AUROC/3 + 2/3 * AUPRC 0.6342676633910247; AUPRC 0.5735563387675897; AUROC 0.7556903126378945\n",
      "Dropout 0.6400000000000001: AUROC/3 + 2/3 * AUPRC 0.6306594539522382; AUPRC 0.5711250173845571; AUROC 0.7497283270876004\n",
      "Dropout 0.5184: AUROC/3 + 2/3 * AUPRC 0.6272502598532954; AUPRC 0.5654987523332076; AUROC 0.7507532748934713\n",
      "Dropout 0.4624000000000001: AUROC/3 + 2/3 * AUPRC 0.6265553303546619; AUPRC 0.5803253491743858; AUROC 0.7190152927152144\n",
      "Dropout 0.36: AUROC/3 + 2/3 * AUPRC 0.6242448561405217; AUPRC 0.5627305882802782; AUROC 0.7472733918610088\n",
      "Dropout 0.7744: AUROC/3 + 2/3 * AUPRC 0.6236457249993475; AUPRC 0.5596494525055742; AUROC 0.751638269986894\n",
      "Dropout 0.2304: AUROC/3 + 2/3 * AUPRC 0.6207835915661793; AUPRC 0.5664952533898256; AUROC 0.7293602679188868\n",
      "Dropout 0.4096: AUROC/3 + 2/3 * AUPRC 0.6200288825060573; AUPRC 0.5587199638402255; AUROC 0.7426467198377208\n",
      "Dropout 0.0144: AUROC/3 + 2/3 * AUPRC 0.619910301878853; AUPRC 0.5617465983888584; AUROC 0.7362377088588421\n",
      "Dropout 0.4900000000000001: AUROC/3 + 2/3 * AUPRC 0.6186308863011143; AUPRC 0.5556465935506724; AUROC 0.7445994718019981\n",
      "Dropout 0.7055999999999999: AUROC/3 + 2/3 * AUPRC 0.6179445924770974; AUPRC 0.5520712483249641; AUROC 0.7496912807813642\n",
      "Dropout 0.3844: AUROC/3 + 2/3 * AUPRC 0.6163992844139616; AUPRC 0.5526536003829373; AUROC 0.7438906524760104\n",
      "Dropout 0.11560000000000002: AUROC/3 + 2/3 * AUPRC 0.6158767194044743; AUPRC 0.5576856113221793; AUROC 0.7322589355690642\n",
      "Dropout 0.25: AUROC/3 + 2/3 * AUPRC 0.6142471915680819; AUPRC 0.5733141542521538; AUROC 0.6961132661999382\n",
      "Dropout 0.1444: AUROC/3 + 2/3 * AUPRC 0.6133483612337584; AUPRC 0.5527174712815405; AUROC 0.7346101411381942\n",
      "Dropout 0.3364: AUROC/3 + 2/3 * AUPRC 0.6132523982680137; AUPRC 0.5457327205735796; AUROC 0.748291753656882\n",
      "Dropout 0.0: AUROC/3 + 2/3 * AUPRC 0.6126250180647546; AUPRC 0.5664550952788003; AUROC 0.704964863636663\n",
      "Dropout 0.2116: AUROC/3 + 2/3 * AUPRC 0.6124740975829468; AUPRC 0.5488099529894087; AUROC 0.7398023867700232\n",
      "Dropout 0.1024: AUROC/3 + 2/3 * AUPRC 0.6124653139185383; AUPRC 0.5550810659073458; AUROC 0.7272338099409235\n",
      "Dropout 0.1936: AUROC/3 + 2/3 * AUPRC 0.6112450309841446; AUPRC 0.5525282385341476; AUROC 0.7286786158841388\n",
      "Dropout 0.16000000000000003: AUROC/3 + 2/3 * AUPRC 0.611158862749706; AUPRC 0.5456067517468778; AUROC 0.7422630847553626\n",
      "Dropout 0.0256: AUROC/3 + 2/3 * AUPRC 0.6111333625196009; AUPRC 0.557344698902988; AUROC 0.718710689752827\n",
      "Dropout 0.5476: AUROC/3 + 2/3 * AUPRC 0.610986016952437; AUPRC 0.5448592950599049; AUROC 0.7432394607375014\n",
      "Dropout 0.0484: AUROC/3 + 2/3 * AUPRC 0.6101110187981291; AUPRC 0.5424913897263336; AUROC 0.7453502769417204\n",
      "Dropout 0.04000000000000001: AUROC/3 + 2/3 * AUPRC 0.6098935328134186; AUPRC 0.5521359682599536; AUROC 0.7254086619203488\n",
      "Dropout 0.5776: AUROC/3 + 2/3 * AUPRC 0.6090555819511991; AUPRC 0.5438525925504742; AUROC 0.7394615607526491\n",
      "Dropout 0.43560000000000004: AUROC/3 + 2/3 * AUPRC 0.6085499594223653; AUPRC 0.549811888954738; AUROC 0.7260261003576203\n",
      "Dropout 0.0064: AUROC/3 + 2/3 * AUPRC 0.6065401180199896; AUPRC 0.5444702071939104; AUROC 0.7306799396721483\n",
      "Dropout 0.31360000000000005: AUROC/3 + 2/3 * AUPRC 0.6064648135337479; AUPRC 0.5421048350453811; AUROC 0.7351847705104817\n",
      "Dropout 0.0324: AUROC/3 + 2/3 * AUPRC 0.6058522893644491; AUPRC 0.5474155909978778; AUROC 0.7227256860975916\n",
      "Dropout 0.0004: AUROC/3 + 2/3 * AUPRC 0.6051982774145291; AUPRC 0.5482687768573193; AUROC 0.7190572785289489\n",
      "Dropout 0.1296: AUROC/3 + 2/3 * AUPRC 0.6046689103316976; AUPRC 0.5690167416838515; AUROC 0.6759732476273899\n",
      "Dropout 0.27040000000000003: AUROC/3 + 2/3 * AUPRC 0.6044941018141281; AUPRC 0.5401708338924484; AUROC 0.7331406376574878\n",
      "Dropout 0.0036: AUROC/3 + 2/3 * AUPRC 0.601423536686073; AUPRC 0.5360791066058003; AUROC 0.7321123968466184\n",
      "Dropout 0.0576: AUROC/3 + 2/3 * AUPRC 0.6012870658148268; AUPRC 0.5528095017564151; AUROC 0.6982421939316504\n",
      "Dropout 0.07840000000000001: AUROC/3 + 2/3 * AUPRC 0.6005657332012533; AUPRC 0.5363224138261297; AUROC 0.7290523719515005\n",
      "Dropout 0.010000000000000002: AUROC/3 + 2/3 * AUPRC 0.6000490023789974; AUPRC 0.5343017384519567; AUROC 0.7315435302330789\n",
      "Dropout 0.7395999999999999: AUROC/3 + 2/3 * AUPRC 0.5999280093800075; AUPRC 0.5318011501830798; AUROC 0.7361817277738627\n",
      "Dropout 0.09: AUROC/3 + 2/3 * AUPRC 0.5978304941506779; AUPRC 0.5319412963278695; AUROC 0.7296088897962948\n",
      "Dropout 0.06760000000000001: AUROC/3 + 2/3 * AUPRC 0.5959496380601323; AUPRC 0.5292402068745068; AUROC 0.7293685004313837\n",
      "Dropout 0.17639999999999997: AUROC/3 + 2/3 * AUPRC 0.59436760603877; AUPRC 0.5276200221103097; AUROC 0.7278627738956909\n",
      "Dropout 0.6724000000000001: AUROC/3 + 2/3 * AUPRC 0.5934220680054193; AUPRC 0.5267055448250972; AUROC 0.7268551143660635\n",
      "Dropout 0.2916: AUROC/3 + 2/3 * AUPRC 0.5933721703445733; AUPRC 0.5248919916944716; AUROC 0.730332527644777\n",
      "Dropout 0.019600000000000003: AUROC/3 + 2/3 * AUPRC 0.5916951544568141; AUPRC 0.5228556000901554; AUROC 0.7293742631901315\n",
      "Dropout 0.81: AUROC/3 + 2/3 * AUPRC 0.5861832544939714; AUPRC 0.5177712627284633; AUROC 0.7230072380249873\n",
      "Dropout 0.0016: AUROC/3 + 2/3 * AUPRC 0.5595338694741329; AUPRC 0.48876618484964707; AUROC 0.7010692387231044\n"
     ]
    },
    {
     "data": {
      "text/plain": [
       "{0.6084: (0.6342676633910247, 0.5735563387675897, 0.7556903126378945),\n",
       " 0.6400000000000001: (0.6306594539522382,\n",
       "  0.5711250173845571,\n",
       "  0.7497283270876004),\n",
       " 0.5184: (0.6272502598532954, 0.5654987523332076, 0.7507532748934713),\n",
       " 0.4624000000000001: (0.6265553303546619,\n",
       "  0.5803253491743858,\n",
       "  0.7190152927152144),\n",
       " 0.36: (0.6242448561405217, 0.5627305882802782, 0.7472733918610088),\n",
       " 0.7744: (0.6236457249993475, 0.5596494525055742, 0.751638269986894),\n",
       " 0.2304: (0.6207835915661793, 0.5664952533898256, 0.7293602679188868),\n",
       " 0.4096: (0.6200288825060573, 0.5587199638402255, 0.7426467198377208),\n",
       " 0.0144: (0.619910301878853, 0.5617465983888584, 0.7362377088588421),\n",
       " 0.4900000000000001: (0.6186308863011143,\n",
       "  0.5556465935506724,\n",
       "  0.7445994718019981),\n",
       " 0.7055999999999999: (0.6179445924770974,\n",
       "  0.5520712483249641,\n",
       "  0.7496912807813642),\n",
       " 0.3844: (0.6163992844139616, 0.5526536003829373, 0.7438906524760104),\n",
       " 0.11560000000000002: (0.6158767194044743,\n",
       "  0.5576856113221793,\n",
       "  0.7322589355690642),\n",
       " 0.25: (0.6142471915680819, 0.5733141542521538, 0.6961132661999382),\n",
       " 0.1444: (0.6133483612337584, 0.5527174712815405, 0.7346101411381942),\n",
       " 0.3364: (0.6132523982680137, 0.5457327205735796, 0.748291753656882),\n",
       " 0.0: (0.6126250180647546, 0.5664550952788003, 0.704964863636663),\n",
       " 0.2116: (0.6124740975829468, 0.5488099529894087, 0.7398023867700232),\n",
       " 0.1024: (0.6124653139185383, 0.5550810659073458, 0.7272338099409235),\n",
       " 0.1936: (0.6112450309841446, 0.5525282385341476, 0.7286786158841388),\n",
       " 0.16000000000000003: (0.611158862749706,\n",
       "  0.5456067517468778,\n",
       "  0.7422630847553626),\n",
       " 0.0256: (0.6111333625196009, 0.557344698902988, 0.718710689752827),\n",
       " 0.5476: (0.610986016952437, 0.5448592950599049, 0.7432394607375014),\n",
       " 0.0484: (0.6101110187981291, 0.5424913897263336, 0.7453502769417204),\n",
       " 0.04000000000000001: (0.6098935328134186,\n",
       "  0.5521359682599536,\n",
       "  0.7254086619203488),\n",
       " 0.5776: (0.6090555819511991, 0.5438525925504742, 0.7394615607526491),\n",
       " 0.43560000000000004: (0.6085499594223653,\n",
       "  0.549811888954738,\n",
       "  0.7260261003576203),\n",
       " 0.0064: (0.6065401180199896, 0.5444702071939104, 0.7306799396721483),\n",
       " 0.31360000000000005: (0.6064648135337479,\n",
       "  0.5421048350453811,\n",
       "  0.7351847705104817),\n",
       " 0.0324: (0.6058522893644491, 0.5474155909978778, 0.7227256860975916),\n",
       " 0.0004: (0.6051982774145291, 0.5482687768573193, 0.7190572785289489),\n",
       " 0.1296: (0.6046689103316976, 0.5690167416838515, 0.6759732476273899),\n",
       " 0.27040000000000003: (0.6044941018141281,\n",
       "  0.5401708338924484,\n",
       "  0.7331406376574878),\n",
       " 0.0036: (0.601423536686073, 0.5360791066058003, 0.7321123968466184),\n",
       " 0.0576: (0.6012870658148268, 0.5528095017564151, 0.6982421939316504),\n",
       " 0.07840000000000001: (0.6005657332012533,\n",
       "  0.5363224138261297,\n",
       "  0.7290523719515005),\n",
       " 0.010000000000000002: (0.6000490023789974,\n",
       "  0.5343017384519567,\n",
       "  0.7315435302330789),\n",
       " 0.7395999999999999: (0.5999280093800075,\n",
       "  0.5318011501830798,\n",
       "  0.7361817277738627),\n",
       " 0.09: (0.5978304941506779, 0.5319412963278695, 0.7296088897962948),\n",
       " 0.06760000000000001: (0.5959496380601323,\n",
       "  0.5292402068745068,\n",
       "  0.7293685004313837),\n",
       " 0.17639999999999997: (0.59436760603877,\n",
       "  0.5276200221103097,\n",
       "  0.7278627738956909),\n",
       " 0.6724000000000001: (0.5934220680054193,\n",
       "  0.5267055448250972,\n",
       "  0.7268551143660635),\n",
       " 0.2916: (0.5933721703445733, 0.5248919916944716, 0.730332527644777),\n",
       " 0.019600000000000003: (0.5916951544568141,\n",
       "  0.5228556000901554,\n",
       "  0.7293742631901315),\n",
       " 0.81: (0.5861832544939714, 0.5177712627284633, 0.7230072380249873),\n",
       " 0.0016: (0.5595338694741329, 0.48876618484964707, 0.7010692387231044)}"
      ]
     },
     "execution_count": 48,
     "metadata": {},
     "output_type": "execute_result"
    }
   ],
   "source": [
    "\n",
    "results = {level: score for level, score in sorted(scores.items(), key=lambda item: item[1], reverse=True)}\n",
    "max_level = list(results.keys())[0]\n",
    "for level, score in results.items():\n",
    "    print(f\"Dropout {level}: AUROC/3 + 2/3 * AUPRC {score[0]}; AUPRC {score[1]}; AUROC {score[2]}\")\n",
    "results"
   ]
  },
  {
   "attachments": {},
   "cell_type": "markdown",
   "metadata": {},
   "source": [
    "#### Dropout Regression"
   ]
  },
  {
   "cell_type": "code",
   "execution_count": 38,
   "metadata": {},
   "outputs": [
    {
     "data": {
      "text/plain": [
       "<matplotlib.legend.Legend at 0x7f868a640110>"
      ]
     },
     "execution_count": 38,
     "metadata": {},
     "output_type": "execute_result"
    },
    {
     "data": {
      "image/png": "[encoded data removed]",
      "text/plain": [
       "<Figure size 640x480 with 1 Axes>"
      ]
     },
     "metadata": {},
     "output_type": "display_data"
    }
   ],
   "source": [
    "from matplotlib import pyplot as plt\n",
    "import numpy as np\n",
    "# plot the results from above\n",
    "\n",
    "%matplotlib inline\n",
    "\n",
    "#dropout = list(scores.keys())\n",
    "#auprc = list(score[1] for score in scores.values())\n",
    "#auroc = list(score[2] for score in scores.values())\n",
    "\n",
    "fig = plt.figure()\n",
    "ax = fig.add_axes([0, 0, 1, 1])\n",
    "\n",
    "\n",
    "coeffecients = np.polyfit(dropout, auroc, 2)\n",
    "auroc_fit_fn = np.poly1d(coeffecients)\n",
    "coeffecients = np.polyfit(dropout, auprc, 2)\n",
    "auprc_fit_fn = np.poly1d(coeffecients)\n",
    "\n",
    "auroc_deriv = auroc_fit_fn.deriv().r\n",
    "auroc_max = auroc_deriv[auroc_deriv.imag==0].real\n",
    "auprc_deriv = auprc_fit_fn.deriv().r\n",
    "auprc_max = auprc_deriv[auprc_deriv.imag==0].real\n",
    "\n",
    "\n",
    "ax.plot(dropout, auprc, label=\"auprc\")\n",
    "ax.plot(dropout, auroc, label=\"auroc\")\n",
    "ax.plot(dropout, auroc_fit_fn(dropout), label=\"auroc fit\")\n",
    "ax.plot(dropout, auprc_fit_fn(dropout), label=\"auprc fit\")\n",
    "ax.plot(auroc_max, auroc_fit_fn(auroc_max),'bo', label=\"auroc max\")\n",
    "ax.annotate(f\"({auroc_max.round(3)}, {auroc_fit_fn(auroc_max).round(3)})\",xy=(auroc_max-.04, auroc_fit_fn(auroc_max)-.025))\n",
    "ax.plot(auprc_max, auprc_fit_fn(auprc_max),'bo', label=\"auprc max\")\n",
    "ax.annotate(f\"({auprc_max.round(3)}, {auprc_fit_fn(auprc_max).round(3)})\",xy=(auprc_max-.03, auprc_fit_fn(auprc_max)-.02))\n",
    "\n",
    "ax.set_title(\"Dropout's affect on AUPRC and AUROC\")\n",
    "ax.set_xlabel(\"Dropout rate\")\n",
    "ax.set_ylabel(\"Metric\")\n",
    "plt.legend()"
   ]
  }
 ],
 "metadata": {
  "kernelspec": {
   "display_name": "py38",
   "language": "python",
   "name": "python3"
  },
  "language_info": {
   "codemirror_mode": {
    "name": "ipython",
    "version": 3
   },
   "file_extension": ".py",
   "mimetype": "text/x-python",
   "name": "python",
   "nbconvert_exporter": "python",
   "pygments_lexer": "ipython3",
   "version": "3.7.13"
  },
  "orig_nbformat": 4
 },
 "nbformat": 4,
 "nbformat_minor": 2
}
