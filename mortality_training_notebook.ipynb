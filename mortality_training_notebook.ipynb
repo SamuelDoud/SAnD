{
 "cells": [
  {
   "attachments": {},
   "cell_type": "markdown",
   "metadata": {},
   "source": [
    "## Mortality Training\n",
    "1. Load the MIMIC III Dataset\n",
    "2. Normalize Data\n",
    "3. Load into Pytorch Dataloader\n",
    "4. Train\n",
    "5. Evaluate"
   ]
  },
  {
   "cell_type": "code",
   "execution_count": 3,
   "metadata": {},
   "outputs": [],
   "source": [
    "from comet_ml import Experiment\n",
    "import numpy as np\n",
    "import pandas as pd\n",
    "import torch\n",
    "import torch.nn as nn\n",
    "import torch.optim as optim\n",
    "from torch.utils.data import TensorDataset, DataLoader\n",
    "\n",
    "from core.model import SAnD\n",
    "from mimic3_benchmarks.mimic3benchmark.readers import InHospitalMortalityReader as Reader\n",
    "from mimic3_benchmarks.mimic3models.preprocessing import Discretizer, Normalizer\n",
    "from utils.ihm_utils import load_data\n",
    "from utils.functions import get_weighted_sampler, get_weights\n",
    "from utils.trainer import NeuralNetworkClassifier\n",
    "\n",
    "device = torch.device(\"cuda\" if torch.cuda.is_available() else \"cpu\")\n",
    "task = \"in-hospital-mortality\""
   ]
  },
  {
   "attachments": {},
   "cell_type": "markdown",
   "metadata": {},
   "source": [
    "## Load Data\n",
    "Using the [MimicIII Benchmark's](https://github.com/YerevaNN/mimic3-benchmarks) InHospitalMortalityReader and associated functions, load the data into memory.\n",
    "\n",
    "If you are following along you will need to arrange the data following the directions on the link.\n"
   ]
  },
  {
   "cell_type": "code",
   "execution_count": 4,
   "metadata": {},
   "outputs": [],
   "source": [
    "train_reader = Reader(dataset_dir=f\"mimic3_benchmarks/data/{task}/train\",\n",
    "                              listfile=f\"mimic3_benchmarks/data/{task}/train_listfile.csv\")\n",
    "val_reader = Reader(dataset_dir=f\"mimic3_benchmarks/data/{task}/train\",\n",
    "                              listfile=f\"mimic3_benchmarks/data/{task}/val_listfile.csv\")\n",
    "test_reader = Reader(dataset_dir=f\"mimic3_benchmarks/data/{task}/test\",\n",
    "                              listfile=f\"mimic3_benchmarks/data/{task}/test_listfile.csv\")"
   ]
  },
  {
   "attachments": {},
   "cell_type": "markdown",
   "metadata": {},
   "source": [
    "### Example data"
   ]
  },
  {
   "cell_type": "code",
   "execution_count": 13,
   "metadata": {},
   "outputs": [
    {
     "data": {
      "text/html": [
       "<div>\n",
       "<style scoped>\n",
       "    .dataframe tbody tr th:only-of-type {\n",
       "        vertical-align: middle;\n",
       "    }\n",
       "\n",
       "    .dataframe tbody tr th {\n",
       "        vertical-align: top;\n",
       "    }\n",
       "\n",
       "    .dataframe thead th {\n",
       "        text-align: right;\n",
       "    }\n",
       "</style>\n",
       "<table border=\"1\" class=\"dataframe\">\n",
       "  <thead>\n",
       "    <tr style=\"text-align: right;\">\n",
       "      <th></th>\n",
       "      <th>Hours</th>\n",
       "      <th>Capillary refill rate</th>\n",
       "      <th>Diastolic blood pressure</th>\n",
       "      <th>Fraction inspired oxygen</th>\n",
       "      <th>Glascow coma scale eye opening</th>\n",
       "      <th>Glascow coma scale motor response</th>\n",
       "      <th>Glascow coma scale total</th>\n",
       "      <th>Glascow coma scale verbal response</th>\n",
       "      <th>Glucose</th>\n",
       "      <th>Heart Rate</th>\n",
       "      <th>Height</th>\n",
       "      <th>Mean blood pressure</th>\n",
       "      <th>Oxygen saturation</th>\n",
       "      <th>Respiratory rate</th>\n",
       "      <th>Systolic blood pressure</th>\n",
       "      <th>Temperature</th>\n",
       "      <th>Weight</th>\n",
       "      <th>pH</th>\n",
       "    </tr>\n",
       "  </thead>\n",
       "  <tbody>\n",
       "    <tr>\n",
       "      <th>0</th>\n",
       "      <td>0.2138888888888889</td>\n",
       "      <td></td>\n",
       "      <td>71.0</td>\n",
       "      <td></td>\n",
       "      <td></td>\n",
       "      <td></td>\n",
       "      <td></td>\n",
       "      <td></td>\n",
       "      <td></td>\n",
       "      <td>94</td>\n",
       "      <td></td>\n",
       "      <td>95</td>\n",
       "      <td>92.0</td>\n",
       "      <td>16</td>\n",
       "      <td>141.0</td>\n",
       "      <td></td>\n",
       "      <td></td>\n",
       "      <td></td>\n",
       "    </tr>\n",
       "    <tr>\n",
       "      <th>1</th>\n",
       "      <td>0.46388888888888885</td>\n",
       "      <td></td>\n",
       "      <td>71.0</td>\n",
       "      <td></td>\n",
       "      <td></td>\n",
       "      <td></td>\n",
       "      <td></td>\n",
       "      <td></td>\n",
       "      <td></td>\n",
       "      <td>91</td>\n",
       "      <td></td>\n",
       "      <td>95</td>\n",
       "      <td>93.0</td>\n",
       "      <td>16</td>\n",
       "      <td>141.0</td>\n",
       "      <td></td>\n",
       "      <td></td>\n",
       "      <td></td>\n",
       "    </tr>\n",
       "    <tr>\n",
       "      <th>2</th>\n",
       "      <td>0.7138888888888889</td>\n",
       "      <td></td>\n",
       "      <td></td>\n",
       "      <td></td>\n",
       "      <td></td>\n",
       "      <td></td>\n",
       "      <td></td>\n",
       "      <td></td>\n",
       "      <td></td>\n",
       "      <td>89</td>\n",
       "      <td></td>\n",
       "      <td></td>\n",
       "      <td>93.0</td>\n",
       "      <td>19</td>\n",
       "      <td></td>\n",
       "      <td></td>\n",
       "      <td></td>\n",
       "      <td></td>\n",
       "    </tr>\n",
       "    <tr>\n",
       "      <th>3</th>\n",
       "      <td>0.9638888888888889</td>\n",
       "      <td></td>\n",
       "      <td></td>\n",
       "      <td></td>\n",
       "      <td></td>\n",
       "      <td></td>\n",
       "      <td></td>\n",
       "      <td></td>\n",
       "      <td></td>\n",
       "      <td>89</td>\n",
       "      <td></td>\n",
       "      <td></td>\n",
       "      <td>94.0</td>\n",
       "      <td>13</td>\n",
       "      <td></td>\n",
       "      <td></td>\n",
       "      <td></td>\n",
       "      <td></td>\n",
       "    </tr>\n",
       "    <tr>\n",
       "      <th>4</th>\n",
       "      <td>1.1305555555555555</td>\n",
       "      <td></td>\n",
       "      <td></td>\n",
       "      <td></td>\n",
       "      <td></td>\n",
       "      <td></td>\n",
       "      <td></td>\n",
       "      <td></td>\n",
       "      <td></td>\n",
       "      <td></td>\n",
       "      <td></td>\n",
       "      <td></td>\n",
       "      <td></td>\n",
       "      <td></td>\n",
       "      <td></td>\n",
       "      <td></td>\n",
       "      <td></td>\n",
       "      <td>7.51</td>\n",
       "    </tr>\n",
       "    <tr>\n",
       "      <th>...</th>\n",
       "      <td>...</td>\n",
       "      <td>...</td>\n",
       "      <td>...</td>\n",
       "      <td>...</td>\n",
       "      <td>...</td>\n",
       "      <td>...</td>\n",
       "      <td>...</td>\n",
       "      <td>...</td>\n",
       "      <td>...</td>\n",
       "      <td>...</td>\n",
       "      <td>...</td>\n",
       "      <td>...</td>\n",
       "      <td>...</td>\n",
       "      <td>...</td>\n",
       "      <td>...</td>\n",
       "      <td>...</td>\n",
       "      <td>...</td>\n",
       "      <td>...</td>\n",
       "    </tr>\n",
       "    <tr>\n",
       "      <th>66</th>\n",
       "      <td>44.21388888888889</td>\n",
       "      <td></td>\n",
       "      <td>58.0</td>\n",
       "      <td></td>\n",
       "      <td></td>\n",
       "      <td></td>\n",
       "      <td></td>\n",
       "      <td></td>\n",
       "      <td></td>\n",
       "      <td>103</td>\n",
       "      <td></td>\n",
       "      <td>81</td>\n",
       "      <td>99.0</td>\n",
       "      <td>21</td>\n",
       "      <td>113.0</td>\n",
       "      <td></td>\n",
       "      <td></td>\n",
       "      <td></td>\n",
       "    </tr>\n",
       "    <tr>\n",
       "      <th>67</th>\n",
       "      <td>45.21388888888889</td>\n",
       "      <td></td>\n",
       "      <td>59.0</td>\n",
       "      <td></td>\n",
       "      <td>4 Spontaneously</td>\n",
       "      <td>6 Obeys Commands</td>\n",
       "      <td>15</td>\n",
       "      <td>5 Oriented</td>\n",
       "      <td></td>\n",
       "      <td>107</td>\n",
       "      <td></td>\n",
       "      <td>81</td>\n",
       "      <td>97.0</td>\n",
       "      <td>22</td>\n",
       "      <td>116.0</td>\n",
       "      <td></td>\n",
       "      <td></td>\n",
       "      <td></td>\n",
       "    </tr>\n",
       "    <tr>\n",
       "      <th>68</th>\n",
       "      <td>46.21388888888889</td>\n",
       "      <td></td>\n",
       "      <td>61.0</td>\n",
       "      <td></td>\n",
       "      <td></td>\n",
       "      <td></td>\n",
       "      <td></td>\n",
       "      <td></td>\n",
       "      <td></td>\n",
       "      <td>100</td>\n",
       "      <td></td>\n",
       "      <td>85</td>\n",
       "      <td>97.0</td>\n",
       "      <td>20</td>\n",
       "      <td>120.0</td>\n",
       "      <td></td>\n",
       "      <td></td>\n",
       "      <td></td>\n",
       "    </tr>\n",
       "    <tr>\n",
       "      <th>69</th>\n",
       "      <td>47.21388888888889</td>\n",
       "      <td></td>\n",
       "      <td>58.0</td>\n",
       "      <td></td>\n",
       "      <td></td>\n",
       "      <td></td>\n",
       "      <td></td>\n",
       "      <td></td>\n",
       "      <td></td>\n",
       "      <td>90</td>\n",
       "      <td></td>\n",
       "      <td>83</td>\n",
       "      <td>100.0</td>\n",
       "      <td>18</td>\n",
       "      <td>123.0</td>\n",
       "      <td>37.0</td>\n",
       "      <td></td>\n",
       "      <td></td>\n",
       "    </tr>\n",
       "    <tr>\n",
       "      <th>70</th>\n",
       "      <td>47.71388888888889</td>\n",
       "      <td></td>\n",
       "      <td></td>\n",
       "      <td></td>\n",
       "      <td>4 Spontaneously</td>\n",
       "      <td>6 Obeys Commands</td>\n",
       "      <td>15</td>\n",
       "      <td>5 Oriented</td>\n",
       "      <td></td>\n",
       "      <td></td>\n",
       "      <td></td>\n",
       "      <td></td>\n",
       "      <td></td>\n",
       "      <td></td>\n",
       "      <td></td>\n",
       "      <td></td>\n",
       "      <td></td>\n",
       "      <td></td>\n",
       "    </tr>\n",
       "  </tbody>\n",
       "</table>\n",
       "<p>71 rows × 18 columns</p>\n",
       "</div>"
      ],
      "text/plain": [
       "                  Hours Capillary refill rate Diastolic blood pressure  \\\n",
       "0    0.2138888888888889                                           71.0   \n",
       "1   0.46388888888888885                                           71.0   \n",
       "2    0.7138888888888889                                                  \n",
       "3    0.9638888888888889                                                  \n",
       "4    1.1305555555555555                                                  \n",
       "..                  ...                   ...                      ...   \n",
       "66    44.21388888888889                                           58.0   \n",
       "67    45.21388888888889                                           59.0   \n",
       "68    46.21388888888889                                           61.0   \n",
       "69    47.21388888888889                                           58.0   \n",
       "70    47.71388888888889                                                  \n",
       "\n",
       "   Fraction inspired oxygen Glascow coma scale eye opening  \\\n",
       "0                                                            \n",
       "1                                                            \n",
       "2                                                            \n",
       "3                                                            \n",
       "4                                                            \n",
       "..                      ...                            ...   \n",
       "66                                                           \n",
       "67                                         4 Spontaneously   \n",
       "68                                                           \n",
       "69                                                           \n",
       "70                                         4 Spontaneously   \n",
       "\n",
       "   Glascow coma scale motor response Glascow coma scale total  \\\n",
       "0                                                               \n",
       "1                                                               \n",
       "2                                                               \n",
       "3                                                               \n",
       "4                                                               \n",
       "..                               ...                      ...   \n",
       "66                                                              \n",
       "67                  6 Obeys Commands                       15   \n",
       "68                                                              \n",
       "69                                                              \n",
       "70                  6 Obeys Commands                       15   \n",
       "\n",
       "   Glascow coma scale verbal response Glucose Heart Rate Height  \\\n",
       "0                                                     94          \n",
       "1                                                     91          \n",
       "2                                                     89          \n",
       "3                                                     89          \n",
       "4                                                                 \n",
       "..                                ...     ...        ...    ...   \n",
       "66                                                   103          \n",
       "67                         5 Oriented                107          \n",
       "68                                                   100          \n",
       "69                                                    90          \n",
       "70                         5 Oriented                             \n",
       "\n",
       "   Mean blood pressure Oxygen saturation Respiratory rate  \\\n",
       "0                   95              92.0               16   \n",
       "1                   95              93.0               16   \n",
       "2                                   93.0               19   \n",
       "3                                   94.0               13   \n",
       "4                                                           \n",
       "..                 ...               ...              ...   \n",
       "66                  81              99.0               21   \n",
       "67                  81              97.0               22   \n",
       "68                  85              97.0               20   \n",
       "69                  83             100.0               18   \n",
       "70                                                          \n",
       "\n",
       "   Systolic blood pressure Temperature Weight    pH  \n",
       "0                    141.0                           \n",
       "1                    141.0                           \n",
       "2                                                    \n",
       "3                                                    \n",
       "4                                              7.51  \n",
       "..                     ...         ...    ...   ...  \n",
       "66                   113.0                           \n",
       "67                   116.0                           \n",
       "68                   120.0                           \n",
       "69                   123.0        37.0               \n",
       "70                                                   \n",
       "\n",
       "[71 rows x 18 columns]"
      ]
     },
     "execution_count": 13,
     "metadata": {},
     "output_type": "execute_result"
    }
   ],
   "source": [
    "ex = pd.DataFrame.from_dict(train_reader.read_example(0)['X'])\n",
    "ex.columns = train_reader.read_example(0)[\"header\"]\n",
    "ex"
   ]
  },
  {
   "attachments": {},
   "cell_type": "markdown",
   "metadata": {},
   "source": [
    "### Normalize and Discretize data\n",
    "From the MIMIC-III Benchmark repo"
   ]
  },
  {
   "cell_type": "code",
   "execution_count": 5,
   "metadata": {},
   "outputs": [],
   "source": [
    "discretizer = Discretizer(timestep=1.0,\n",
    "                          store_masks=True,\n",
    "                          impute_strategy='previous',\n",
    "                          start_time='zero')\n",
    "\n",
    "discretizer_header = discretizer.transform(train_reader.read_example(0)[\"X\"])[1].split(',')\n",
    "cont_channels = [i for (i, x) in enumerate(discretizer_header) if x.find(\"->\") == -1]"
   ]
  },
  {
   "cell_type": "code",
   "execution_count": 6,
   "metadata": {},
   "outputs": [],
   "source": [
    "normalizer = Normalizer(fields=cont_channels)  # choose here which columns to standardize\n",
    "normalizer_state = 'train/ihm_ts1.0.input_str-previous.start_time-zero.normalizer'\n",
    "normalizer.load_params(normalizer_state)"
   ]
  },
  {
   "cell_type": "code",
   "execution_count": null,
   "metadata": {},
   "outputs": [],
   "source": [
    "train_raw = load_data(train_reader, discretizer, normalizer)\n",
    "val_raw = load_data(val_reader, discretizer, normalizer)\n",
    "test_raw = load_data(val_reader, discretizer, normalizer)\n",
    "\n",
    "N, seq_len, feature_count = train_raw[0].shape"
   ]
  },
  {
   "cell_type": "code",
   "execution_count": 7,
   "metadata": {},
   "outputs": [],
   "source": [
    "batch_size = 256\n",
    "\n",
    "train_ds = TensorDataset(train_raw[0], train_raw[1])\n",
    "val_ds = TensorDataset(val_raw[0], val_raw[1])\n",
    "test_ds = TensorDataset(test_raw[0], test_raw[1])\n",
    "\n",
    "train_loader = DataLoader(train_ds, batch_size=batch_size)#sampler=get_weighted_sampler(y_train))\n",
    "val_loader = DataLoader(val_ds, batch_size=batch_size, shuffle=True)\n",
    "test_loader = DataLoader(test_ds, batch_size=batch_size)"
   ]
  },
  {
   "attachments": {},
   "cell_type": "markdown",
   "metadata": {},
   "source": [
    "## Create model, Train, and Evaluate\n",
    "Train the model, this will export results to Comet ML.\n",
    "Creating is done in the same step such that a new experiment made each time\n",
    "Evaluation is done in the same step such that the Comet ML experiment is also deleted."
   ]
  },
  {
   "cell_type": "code",
   "execution_count": 8,
   "metadata": {},
   "outputs": [
    {
     "name": "stderr",
     "output_type": "stream",
     "text": [
      "COMET WARNING: As you are running in a Jupyter environment, you will need to call `experiment.end()` when finished to ensure all metrics and code are logged before exiting.\n",
      "COMET INFO: Experiment is live on comet.com https://www.comet.com/samdoud/general/975b737db72048e9a0730bae7fced099\n",
      "\n",
      "\u001b[36mTraining\u001b[0m - Epochs: 001/030:  99%|█████████▉| 14592/14681 [00:04<00:00, 5969.89it/s]"
     ]
    },
    {
     "name": "stdout",
     "output_type": "stream",
     "text": [
      "\u001b[32mTrain finished. \u001b[0mAccuracy: 0.6446 MSE: 0.3554 AUROC: 0.6383 AUPRC: 0.4490\n"
     ]
    },
    {
     "name": "stderr",
     "output_type": "stream",
     "text": [
      "\u001b[36mTraining\u001b[0m - Epochs: 001/030: 100%|██████████| 14681/14681 [00:04<00:00, 3252.31it/s]\n"
     ]
    },
    {
     "name": "stdout",
     "output_type": "stream",
     "text": [
      "\u001b[31mValidation finished. \u001b[0mAccuracy: 0.4789 MSE: 0.1144 AUROC: 0.6697 AUPRC: 0.5690\n"
     ]
    },
    {
     "name": "stderr",
     "output_type": "stream",
     "text": [
      "\u001b[36mTraining\u001b[0m - Epochs: 002/030:  99%|█████████▉| 14592/14681 [00:02<00:00, 5918.43it/s]"
     ]
    },
    {
     "name": "stdout",
     "output_type": "stream",
     "text": [
      "\u001b[32mTrain finished. \u001b[0mAccuracy: 0.6971 MSE: 0.3029 AUROC: 0.6928 AUPRC: 0.4962\n"
     ]
    },
    {
     "name": "stderr",
     "output_type": "stream",
     "text": [
      "\u001b[36mTraining\u001b[0m - Epochs: 002/030: 100%|██████████| 14681/14681 [00:02<00:00, 6074.85it/s]\n"
     ]
    },
    {
     "name": "stdout",
     "output_type": "stream",
     "text": [
      "\u001b[31mValidation finished. \u001b[0mAccuracy: 0.4053 MSE: 0.1305 AUROC: 0.6358 AUPRC: 0.5690\n"
     ]
    },
    {
     "name": "stderr",
     "output_type": "stream",
     "text": [
      "\u001b[36mTraining\u001b[0m - Epochs: 003/030:  99%|█████████▉| 14592/14681 [00:02<00:00, 5646.81it/s]"
     ]
    },
    {
     "name": "stdout",
     "output_type": "stream",
     "text": [
      "\u001b[32mTrain finished. \u001b[0mAccuracy: 0.6934 MSE: 0.3066 AUROC: 0.6935 AUPRC: 0.4982\n"
     ]
    },
    {
     "name": "stderr",
     "output_type": "stream",
     "text": [
      "\u001b[36mTraining\u001b[0m - Epochs: 003/030: 100%|██████████| 14681/14681 [00:02<00:00, 5761.14it/s]\n"
     ]
    },
    {
     "name": "stdout",
     "output_type": "stream",
     "text": [
      "\u001b[31mValidation finished. \u001b[0mAccuracy: 0.5869 MSE: 0.0907 AUROC: 0.7089 AUPRC: 0.5616\n"
     ]
    },
    {
     "name": "stderr",
     "output_type": "stream",
     "text": [
      "\u001b[36mTraining\u001b[0m - Epochs: 004/030: 100%|██████████| 14681/14681 [00:02<00:00, 5267.14it/s]"
     ]
    },
    {
     "name": "stdout",
     "output_type": "stream",
     "text": [
      "\u001b[32mTrain finished. \u001b[0mAccuracy: 0.7049 MSE: 0.2951 AUROC: 0.7073 AUPRC: 0.5114\n"
     ]
    },
    {
     "name": "stderr",
     "output_type": "stream",
     "text": [
      "\u001b[36mTraining\u001b[0m - Epochs: 004/030: 100%|██████████| 14681/14681 [00:02<00:00, 5648.72it/s]\n"
     ]
    },
    {
     "name": "stdout",
     "output_type": "stream",
     "text": [
      "\u001b[31mValidation finished. \u001b[0mAccuracy: 0.8358 MSE: 0.0360 AUROC: 0.7164 AUPRC: 0.5162\n"
     ]
    },
    {
     "name": "stderr",
     "output_type": "stream",
     "text": [
      "\u001b[36mTraining\u001b[0m - Epochs: 005/030: 100%|██████████| 14681/14681 [00:02<00:00, 5289.62it/s]"
     ]
    },
    {
     "name": "stdout",
     "output_type": "stream",
     "text": [
      "\u001b[32mTrain finished. \u001b[0mAccuracy: 0.7143 MSE: 0.2857 AUROC: 0.7096 AUPRC: 0.5113\n"
     ]
    },
    {
     "name": "stderr",
     "output_type": "stream",
     "text": [
      "\u001b[36mTraining\u001b[0m - Epochs: 005/030: 100%|██████████| 14681/14681 [00:02<00:00, 5806.17it/s]\n"
     ]
    },
    {
     "name": "stdout",
     "output_type": "stream",
     "text": [
      "\u001b[31mValidation finished. \u001b[0mAccuracy: 0.6148 MSE: 0.0845 AUROC: 0.7241 AUPRC: 0.5670\n"
     ]
    },
    {
     "name": "stderr",
     "output_type": "stream",
     "text": [
      "\u001b[36mTraining\u001b[0m - Epochs: 006/030: 100%|██████████| 14681/14681 [00:02<00:00, 5152.20it/s]"
     ]
    },
    {
     "name": "stdout",
     "output_type": "stream",
     "text": [
      "\u001b[32mTrain finished. \u001b[0mAccuracy: 0.7372 MSE: 0.2628 AUROC: 0.7336 AUPRC: 0.5346\n"
     ]
    },
    {
     "name": "stderr",
     "output_type": "stream",
     "text": [
      "\u001b[36mTraining\u001b[0m - Epochs: 006/030: 100%|██████████| 14681/14681 [00:02<00:00, 5686.63it/s]\n"
     ]
    },
    {
     "name": "stdout",
     "output_type": "stream",
     "text": [
      "\u001b[31mValidation finished. \u001b[0mAccuracy: 0.7781 MSE: 0.0487 AUROC: 0.7392 AUPRC: 0.5346\n"
     ]
    },
    {
     "name": "stderr",
     "output_type": "stream",
     "text": [
      "\u001b[36mTraining\u001b[0m - Epochs: 007/030:  99%|█████████▉| 14592/14681 [00:02<00:00, 5920.88it/s]"
     ]
    },
    {
     "name": "stdout",
     "output_type": "stream",
     "text": [
      "\u001b[32mTrain finished. \u001b[0mAccuracy: 0.7390 MSE: 0.2610 AUROC: 0.7366 AUPRC: 0.5378\n"
     ]
    },
    {
     "name": "stderr",
     "output_type": "stream",
     "text": [
      "\u001b[36mTraining\u001b[0m - Epochs: 007/030: 100%|██████████| 14681/14681 [00:02<00:00, 5875.33it/s]\n"
     ]
    },
    {
     "name": "stdout",
     "output_type": "stream",
     "text": [
      "\u001b[31mValidation finished. \u001b[0mAccuracy: 0.7120 MSE: 0.0632 AUROC: 0.7532 AUPRC: 0.5650\n"
     ]
    },
    {
     "name": "stderr",
     "output_type": "stream",
     "text": [
      "\u001b[36mTraining\u001b[0m - Epochs: 008/030: 100%|██████████| 14681/14681 [00:02<00:00, 5478.01it/s]"
     ]
    },
    {
     "name": "stdout",
     "output_type": "stream",
     "text": [
      "\u001b[32mTrain finished. \u001b[0mAccuracy: 0.7491 MSE: 0.2509 AUROC: 0.7492 AUPRC: 0.5509\n"
     ]
    },
    {
     "name": "stderr",
     "output_type": "stream",
     "text": [
      "\u001b[36mTraining\u001b[0m - Epochs: 008/030: 100%|██████████| 14681/14681 [00:02<00:00, 5749.51it/s]\n"
     ]
    },
    {
     "name": "stdout",
     "output_type": "stream",
     "text": [
      "\u001b[31mValidation finished. \u001b[0mAccuracy: 0.7300 MSE: 0.0593 AUROC: 0.7568 AUPRC: 0.5644\n"
     ]
    },
    {
     "name": "stderr",
     "output_type": "stream",
     "text": [
      "\u001b[36mTraining\u001b[0m - Epochs: 009/030: 100%|██████████| 14681/14681 [00:02<00:00, 5182.58it/s]"
     ]
    },
    {
     "name": "stdout",
     "output_type": "stream",
     "text": [
      "\u001b[32mTrain finished. \u001b[0mAccuracy: 0.7523 MSE: 0.2477 AUROC: 0.7473 AUPRC: 0.5479\n"
     ]
    },
    {
     "name": "stderr",
     "output_type": "stream",
     "text": [
      "\u001b[36mTraining\u001b[0m - Epochs: 009/030: 100%|██████████| 14681/14681 [00:02<00:00, 5638.32it/s]\n"
     ]
    },
    {
     "name": "stdout",
     "output_type": "stream",
     "text": [
      "\u001b[31mValidation finished. \u001b[0mAccuracy: 0.4516 MSE: 0.1204 AUROC: 0.6635 AUPRC: 0.5763\n"
     ]
    },
    {
     "name": "stderr",
     "output_type": "stream",
     "text": [
      "\u001b[36mTraining\u001b[0m - Epochs: 010/030:  99%|█████████▉| 14592/14681 [00:02<00:00, 5410.01it/s]"
     ]
    },
    {
     "name": "stdout",
     "output_type": "stream",
     "text": [
      "\u001b[32mTrain finished. \u001b[0mAccuracy: 0.7740 MSE: 0.2260 AUROC: 0.7746 AUPRC: 0.5776\n"
     ]
    },
    {
     "name": "stderr",
     "output_type": "stream",
     "text": [
      "\u001b[36mTraining\u001b[0m - Epochs: 010/030: 100%|██████████| 14681/14681 [00:02<00:00, 5502.25it/s]\n"
     ]
    },
    {
     "name": "stdout",
     "output_type": "stream",
     "text": [
      "\u001b[31mValidation finished. \u001b[0mAccuracy: 0.4640 MSE: 0.1176 AUROC: 0.6668 AUPRC: 0.5736\n"
     ]
    },
    {
     "name": "stderr",
     "output_type": "stream",
     "text": [
      "\u001b[36mTraining\u001b[0m - Epochs: 011/030:  99%|█████████▉| 14592/14681 [00:02<00:00, 5630.19it/s]"
     ]
    },
    {
     "name": "stdout",
     "output_type": "stream",
     "text": [
      "\u001b[32mTrain finished. \u001b[0mAccuracy: 0.7836 MSE: 0.2164 AUROC: 0.7849 AUPRC: 0.5888\n"
     ]
    },
    {
     "name": "stderr",
     "output_type": "stream",
     "text": [
      "\u001b[36mTraining\u001b[0m - Epochs: 011/030: 100%|██████████| 14681/14681 [00:02<00:00, 5603.52it/s]\n"
     ]
    },
    {
     "name": "stdout",
     "output_type": "stream",
     "text": [
      "\u001b[31mValidation finished. \u001b[0mAccuracy: 0.4140 MSE: 0.1286 AUROC: 0.6350 AUPRC: 0.5633\n"
     ]
    },
    {
     "name": "stderr",
     "output_type": "stream",
     "text": [
      "\u001b[36mTraining\u001b[0m - Epochs: 012/030:  99%|█████████▉| 14592/14681 [00:02<00:00, 5841.47it/s]"
     ]
    },
    {
     "name": "stdout",
     "output_type": "stream",
     "text": [
      "\u001b[32mTrain finished. \u001b[0mAccuracy: 0.7918 MSE: 0.2082 AUROC: 0.7958 AUPRC: 0.6012\n"
     ]
    },
    {
     "name": "stderr",
     "output_type": "stream",
     "text": [
      "\u001b[36mTraining\u001b[0m - Epochs: 012/030: 100%|██████████| 14681/14681 [00:02<00:00, 5905.43it/s]\n"
     ]
    },
    {
     "name": "stdout",
     "output_type": "stream",
     "text": [
      "\u001b[31mValidation finished. \u001b[0mAccuracy: 0.5034 MSE: 0.1090 AUROC: 0.6674 AUPRC: 0.5535\n"
     ]
    },
    {
     "name": "stderr",
     "output_type": "stream",
     "text": [
      "\u001b[36mTraining\u001b[0m - Epochs: 013/030: 100%|██████████| 14681/14681 [00:02<00:00, 5329.86it/s]"
     ]
    },
    {
     "name": "stdout",
     "output_type": "stream",
     "text": [
      "\u001b[32mTrain finished. \u001b[0mAccuracy: 0.8090 MSE: 0.1910 AUROC: 0.8148 AUPRC: 0.6234\n"
     ]
    },
    {
     "name": "stderr",
     "output_type": "stream",
     "text": [
      "\u001b[36mTraining\u001b[0m - Epochs: 013/030: 100%|██████████| 14681/14681 [00:02<00:00, 5828.10it/s]\n"
     ]
    },
    {
     "name": "stdout",
     "output_type": "stream",
     "text": [
      "\u001b[31mValidation finished. \u001b[0mAccuracy: 0.5475 MSE: 0.0993 AUROC: 0.6793 AUPRC: 0.5453\n"
     ]
    },
    {
     "name": "stderr",
     "output_type": "stream",
     "text": [
      "\u001b[36mTraining\u001b[0m - Epochs: 014/030:  99%|█████████▉| 14592/14681 [00:02<00:00, 5711.42it/s]"
     ]
    },
    {
     "name": "stdout",
     "output_type": "stream",
     "text": [
      "\u001b[32mTrain finished. \u001b[0mAccuracy: 0.8177 MSE: 0.1823 AUROC: 0.8226 AUPRC: 0.6330\n"
     ]
    },
    {
     "name": "stderr",
     "output_type": "stream",
     "text": [
      "\u001b[36mTraining\u001b[0m - Epochs: 014/030: 100%|██████████| 14681/14681 [00:02<00:00, 5673.47it/s]\n"
     ]
    },
    {
     "name": "stdout",
     "output_type": "stream",
     "text": [
      "\u001b[31mValidation finished. \u001b[0mAccuracy: 0.4513 MSE: 0.1204 AUROC: 0.6469 AUPRC: 0.5570\n"
     ]
    },
    {
     "name": "stderr",
     "output_type": "stream",
     "text": [
      "\u001b[36mTraining\u001b[0m - Epochs: 015/030: 100%|██████████| 14681/14681 [00:02<00:00, 5442.94it/s]"
     ]
    },
    {
     "name": "stdout",
     "output_type": "stream",
     "text": [
      "\u001b[32mTrain finished. \u001b[0mAccuracy: 0.7887 MSE: 0.2113 AUROC: 0.7897 AUPRC: 0.5943\n"
     ]
    },
    {
     "name": "stderr",
     "output_type": "stream",
     "text": [
      "\u001b[36mTraining\u001b[0m - Epochs: 015/030: 100%|██████████| 14681/14681 [00:02<00:00, 5837.66it/s]\n"
     ]
    },
    {
     "name": "stdout",
     "output_type": "stream",
     "text": [
      "\u001b[31mValidation finished. \u001b[0mAccuracy: 0.6893 MSE: 0.0682 AUROC: 0.7101 AUPRC: 0.5201\n"
     ]
    },
    {
     "name": "stderr",
     "output_type": "stream",
     "text": [
      "\u001b[36mTraining\u001b[0m - Epochs: 016/030: 100%|██████████| 14681/14681 [00:02<00:00, 5338.46it/s]"
     ]
    },
    {
     "name": "stdout",
     "output_type": "stream",
     "text": [
      "\u001b[32mTrain finished. \u001b[0mAccuracy: 0.8149 MSE: 0.1851 AUROC: 0.8238 AUPRC: 0.6340\n"
     ]
    },
    {
     "name": "stderr",
     "output_type": "stream",
     "text": [
      "\u001b[36mTraining\u001b[0m - Epochs: 016/030: 100%|██████████| 14681/14681 [00:02<00:00, 5733.34it/s]\n"
     ]
    },
    {
     "name": "stdout",
     "output_type": "stream",
     "text": [
      "\u001b[31mValidation finished. \u001b[0mAccuracy: 0.7328 MSE: 0.0586 AUROC: 0.7013 AUPRC: 0.4959\n"
     ]
    },
    {
     "name": "stderr",
     "output_type": "stream",
     "text": [
      "\u001b[36mTraining\u001b[0m - Epochs: 017/030: 100%|██████████| 14681/14681 [00:02<00:00, 5274.19it/s]"
     ]
    },
    {
     "name": "stdout",
     "output_type": "stream",
     "text": [
      "\u001b[32mTrain finished. \u001b[0mAccuracy: 0.8329 MSE: 0.1671 AUROC: 0.8380 AUPRC: 0.6525\n"
     ]
    },
    {
     "name": "stderr",
     "output_type": "stream",
     "text": [
      "\u001b[36mTraining\u001b[0m - Epochs: 017/030: 100%|██████████| 14681/14681 [00:02<00:00, 5799.53it/s]\n"
     ]
    },
    {
     "name": "stdout",
     "output_type": "stream",
     "text": [
      "\u001b[31mValidation finished. \u001b[0mAccuracy: 0.7629 MSE: 0.0520 AUROC: 0.6917 AUPRC: 0.4776\n"
     ]
    },
    {
     "name": "stderr",
     "output_type": "stream",
     "text": [
      "\u001b[36mTraining\u001b[0m - Epochs: 018/030:  99%|█████████▉| 14592/14681 [00:02<00:00, 5892.91it/s]"
     ]
    },
    {
     "name": "stdout",
     "output_type": "stream",
     "text": [
      "\u001b[32mTrain finished. \u001b[0mAccuracy: 0.8434 MSE: 0.1566 AUROC: 0.8515 AUPRC: 0.6697\n"
     ]
    },
    {
     "name": "stderr",
     "output_type": "stream",
     "text": [
      "\u001b[36mTraining\u001b[0m - Epochs: 018/030: 100%|██████████| 14681/14681 [00:02<00:00, 5905.11it/s]\n"
     ]
    },
    {
     "name": "stdout",
     "output_type": "stream",
     "text": [
      "\u001b[31mValidation finished. \u001b[0mAccuracy: 0.7322 MSE: 0.0588 AUROC: 0.7039 AUPRC: 0.4992\n"
     ]
    },
    {
     "name": "stderr",
     "output_type": "stream",
     "text": [
      "\u001b[36mTraining\u001b[0m - Epochs: 019/030:  99%|█████████▉| 14592/14681 [00:02<00:00, 5898.01it/s]"
     ]
    },
    {
     "name": "stdout",
     "output_type": "stream",
     "text": [
      "\u001b[32mTrain finished. \u001b[0mAccuracy: 0.8563 MSE: 0.1437 AUROC: 0.8638 AUPRC: 0.6871\n"
     ]
    },
    {
     "name": "stderr",
     "output_type": "stream",
     "text": [
      "\u001b[36mTraining\u001b[0m - Epochs: 019/030: 100%|██████████| 14681/14681 [00:02<00:00, 5850.91it/s]\n"
     ]
    },
    {
     "name": "stdout",
     "output_type": "stream",
     "text": [
      "\u001b[31mValidation finished. \u001b[0mAccuracy: 0.7564 MSE: 0.0535 AUROC: 0.6821 AUPRC: 0.4665\n"
     ]
    },
    {
     "name": "stderr",
     "output_type": "stream",
     "text": [
      "\u001b[36mTraining\u001b[0m - Epochs: 020/030:  99%|█████████▉| 14592/14681 [00:02<00:00, 5608.84it/s]"
     ]
    },
    {
     "name": "stdout",
     "output_type": "stream",
     "text": [
      "\u001b[32mTrain finished. \u001b[0mAccuracy: 0.8577 MSE: 0.1423 AUROC: 0.8647 AUPRC: 0.6885\n"
     ]
    },
    {
     "name": "stderr",
     "output_type": "stream",
     "text": [
      "\u001b[36mTraining\u001b[0m - Epochs: 020/030: 100%|██████████| 14681/14681 [00:02<00:00, 5606.14it/s]\n"
     ]
    },
    {
     "name": "stdout",
     "output_type": "stream",
     "text": [
      "\u001b[31mValidation finished. \u001b[0mAccuracy: 0.8163 MSE: 0.0403 AUROC: 0.6626 AUPRC: 0.4421\n"
     ]
    },
    {
     "name": "stderr",
     "output_type": "stream",
     "text": [
      "\u001b[36mTraining\u001b[0m - Epochs: 021/030:  99%|█████████▉| 14592/14681 [00:02<00:00, 5898.98it/s]"
     ]
    },
    {
     "name": "stdout",
     "output_type": "stream",
     "text": [
      "\u001b[32mTrain finished. \u001b[0mAccuracy: 0.8500 MSE: 0.1500 AUROC: 0.8570 AUPRC: 0.6777\n"
     ]
    },
    {
     "name": "stderr",
     "output_type": "stream",
     "text": [
      "\u001b[36mTraining\u001b[0m - Epochs: 021/030: 100%|██████████| 14681/14681 [00:02<00:00, 5883.74it/s]\n"
     ]
    },
    {
     "name": "stdout",
     "output_type": "stream",
     "text": [
      "\u001b[31mValidation finished. \u001b[0mAccuracy: 0.8243 MSE: 0.0386 AUROC: 0.6556 AUPRC: 0.4361\n"
     ]
    },
    {
     "name": "stderr",
     "output_type": "stream",
     "text": [
      "\u001b[36mTraining\u001b[0m - Epochs: 022/030:  99%|█████████▉| 14592/14681 [00:02<00:00, 5918.27it/s]"
     ]
    },
    {
     "name": "stdout",
     "output_type": "stream",
     "text": [
      "\u001b[32mTrain finished. \u001b[0mAccuracy: 0.8544 MSE: 0.1456 AUROC: 0.8587 AUPRC: 0.6809\n"
     ]
    },
    {
     "name": "stderr",
     "output_type": "stream",
     "text": [
      "\u001b[36mTraining\u001b[0m - Epochs: 022/030: 100%|██████████| 14681/14681 [00:02<00:00, 5781.50it/s]\n"
     ]
    },
    {
     "name": "stdout",
     "output_type": "stream",
     "text": [
      "\u001b[31mValidation finished. \u001b[0mAccuracy: 0.7905 MSE: 0.0460 AUROC: 0.6719 AUPRC: 0.4503\n"
     ]
    },
    {
     "name": "stderr",
     "output_type": "stream",
     "text": [
      "\u001b[36mTraining\u001b[0m - Epochs: 023/030:  99%|█████████▉| 14592/14681 [00:02<00:00, 5737.06it/s]"
     ]
    },
    {
     "name": "stdout",
     "output_type": "stream",
     "text": [
      "\u001b[32mTrain finished. \u001b[0mAccuracy: 0.8405 MSE: 0.1595 AUROC: 0.8424 AUPRC: 0.6591\n"
     ]
    },
    {
     "name": "stderr",
     "output_type": "stream",
     "text": [
      "\u001b[36mTraining\u001b[0m - Epochs: 023/030: 100%|██████████| 14681/14681 [00:02<00:00, 5796.43it/s]\n"
     ]
    },
    {
     "name": "stdout",
     "output_type": "stream",
     "text": [
      "\u001b[31mValidation finished. \u001b[0mAccuracy: 0.8380 MSE: 0.0356 AUROC: 0.6500 AUPRC: 0.4370\n"
     ]
    },
    {
     "name": "stderr",
     "output_type": "stream",
     "text": [
      "\u001b[36mTraining\u001b[0m - Epochs: 024/030: 100%|██████████| 14681/14681 [00:02<00:00, 5287.82it/s]"
     ]
    },
    {
     "name": "stdout",
     "output_type": "stream",
     "text": [
      "\u001b[32mTrain finished. \u001b[0mAccuracy: 0.8525 MSE: 0.1475 AUROC: 0.8557 AUPRC: 0.6771\n"
     ]
    },
    {
     "name": "stderr",
     "output_type": "stream",
     "text": [
      "\u001b[36mTraining\u001b[0m - Epochs: 024/030: 100%|██████████| 14681/14681 [00:02<00:00, 5740.77it/s]\n"
     ]
    },
    {
     "name": "stdout",
     "output_type": "stream",
     "text": [
      "\u001b[31mValidation finished. \u001b[0mAccuracy: 0.8442 MSE: 0.0342 AUROC: 0.6294 AUPRC: 0.4163\n"
     ]
    },
    {
     "name": "stderr",
     "output_type": "stream",
     "text": [
      "\u001b[36mTraining\u001b[0m - Epochs: 025/030:  99%|█████████▉| 14592/14681 [00:02<00:00, 5887.52it/s]"
     ]
    },
    {
     "name": "stdout",
     "output_type": "stream",
     "text": [
      "\u001b[32mTrain finished. \u001b[0mAccuracy: 0.8813 MSE: 0.1187 AUROC: 0.8842 AUPRC: 0.7203\n"
     ]
    },
    {
     "name": "stderr",
     "output_type": "stream",
     "text": [
      "\u001b[36mTraining\u001b[0m - Epochs: 025/030: 100%|██████████| 14681/14681 [00:02<00:00, 5910.99it/s]\n"
     ]
    },
    {
     "name": "stdout",
     "output_type": "stream",
     "text": [
      "\u001b[31mValidation finished. \u001b[0mAccuracy: 0.8184 MSE: 0.0398 AUROC: 0.6532 AUPRC: 0.4306\n"
     ]
    },
    {
     "name": "stderr",
     "output_type": "stream",
     "text": [
      "\u001b[36mTraining\u001b[0m - Epochs: 026/030: 100%|██████████| 14681/14681 [00:02<00:00, 5470.85it/s]"
     ]
    },
    {
     "name": "stdout",
     "output_type": "stream",
     "text": [
      "\u001b[32mTrain finished. \u001b[0mAccuracy: 0.9012 MSE: 0.0988 AUROC: 0.9070 AUPRC: 0.7565\n"
     ]
    },
    {
     "name": "stderr",
     "output_type": "stream",
     "text": [
      "\u001b[36mTraining\u001b[0m - Epochs: 026/030: 100%|██████████| 14681/14681 [00:02<00:00, 5836.42it/s]\n"
     ]
    },
    {
     "name": "stdout",
     "output_type": "stream",
     "text": [
      "\u001b[31mValidation finished. \u001b[0mAccuracy: 0.7840 MSE: 0.0474 AUROC: 0.6797 AUPRC: 0.4604\n"
     ]
    },
    {
     "name": "stderr",
     "output_type": "stream",
     "text": [
      "\u001b[36mTraining\u001b[0m - Epochs: 027/030: 100%|██████████| 14681/14681 [00:02<00:00, 5445.62it/s]"
     ]
    },
    {
     "name": "stdout",
     "output_type": "stream",
     "text": [
      "\u001b[32mTrain finished. \u001b[0mAccuracy: 0.8999 MSE: 0.1001 AUROC: 0.9081 AUPRC: 0.7564\n"
     ]
    },
    {
     "name": "stderr",
     "output_type": "stream",
     "text": [
      "\u001b[36mTraining\u001b[0m - Epochs: 027/030: 100%|██████████| 14681/14681 [00:02<00:00, 5907.00it/s]\n"
     ]
    },
    {
     "name": "stdout",
     "output_type": "stream",
     "text": [
      "\u001b[31mValidation finished. \u001b[0mAccuracy: 0.7921 MSE: 0.0456 AUROC: 0.6718 AUPRC: 0.4503\n"
     ]
    },
    {
     "name": "stderr",
     "output_type": "stream",
     "text": [
      "\u001b[36mTraining\u001b[0m - Epochs: 028/030:  99%|█████████▉| 14592/14681 [00:02<00:00, 5778.78it/s]"
     ]
    },
    {
     "name": "stdout",
     "output_type": "stream",
     "text": [
      "\u001b[32mTrain finished. \u001b[0mAccuracy: 0.9061 MSE: 0.0939 AUROC: 0.9111 AUPRC: 0.7646\n"
     ]
    },
    {
     "name": "stderr",
     "output_type": "stream",
     "text": [
      "\u001b[36mTraining\u001b[0m - Epochs: 028/030: 100%|██████████| 14681/14681 [00:02<00:00, 5919.60it/s]\n"
     ]
    },
    {
     "name": "stdout",
     "output_type": "stream",
     "text": [
      "\u001b[31mValidation finished. \u001b[0mAccuracy: 0.7806 MSE: 0.0482 AUROC: 0.6690 AUPRC: 0.4468\n"
     ]
    },
    {
     "name": "stderr",
     "output_type": "stream",
     "text": [
      "\u001b[36mTraining\u001b[0m - Epochs: 029/030:  99%|█████████▉| 14592/14681 [00:02<00:00, 5996.23it/s]"
     ]
    },
    {
     "name": "stdout",
     "output_type": "stream",
     "text": [
      "\u001b[32mTrain finished. \u001b[0mAccuracy: 0.9074 MSE: 0.0926 AUROC: 0.9127 AUPRC: 0.7672\n"
     ]
    },
    {
     "name": "stderr",
     "output_type": "stream",
     "text": [
      "\u001b[36mTraining\u001b[0m - Epochs: 029/030: 100%|██████████| 14681/14681 [00:02<00:00, 5895.75it/s]\n"
     ]
    },
    {
     "name": "stdout",
     "output_type": "stream",
     "text": [
      "\u001b[31mValidation finished. \u001b[0mAccuracy: 0.8383 MSE: 0.0355 AUROC: 0.6473 AUPRC: 0.4338\n"
     ]
    },
    {
     "name": "stderr",
     "output_type": "stream",
     "text": [
      "\u001b[36mTraining\u001b[0m - Epochs: 030/030:  99%|█████████▉| 14592/14681 [00:02<00:00, 5826.17it/s]"
     ]
    },
    {
     "name": "stdout",
     "output_type": "stream",
     "text": [
      "\u001b[32mTrain finished. \u001b[0mAccuracy: 0.8976 MSE: 0.1024 AUROC: 0.8992 AUPRC: 0.7463\n"
     ]
    },
    {
     "name": "stderr",
     "output_type": "stream",
     "text": [
      "\u001b[36mTraining\u001b[0m - Epochs: 030/030: 100%|██████████| 14681/14681 [00:02<00:00, 5750.56it/s]\n"
     ]
    },
    {
     "name": "stdout",
     "output_type": "stream",
     "text": [
      "\u001b[31mValidation finished. \u001b[0mAccuracy: 0.7831 MSE: 0.0476 AUROC: 0.6898 AUPRC: 0.4733\n"
     ]
    },
    {
     "name": "stderr",
     "output_type": "stream",
     "text": [
      "\u001b[32mEvaluating\u001b[0m: 100%|██████████| 3222/3222 [00:00<00:00, 11385.22it/s]\n",
      "COMET INFO: ---------------------------\n",
      "COMET INFO: Comet.ml Experiment Summary\n",
      "COMET INFO: ---------------------------\n",
      "COMET INFO:   Data:\n",
      "COMET INFO:     display_summary_level : 1\n",
      "COMET INFO:     url                   : https://www.comet.com/samdoud/general/975b737db72048e9a0730bae7fced099\n",
      "COMET INFO:   Metrics [count] (min, max):\n",
      "COMET INFO:     test_AUPRC [13]         : (0.4699000046633014, 0.523934503496798)\n",
      "COMET INFO:     test_AUROC [13]         : (0.68517571313601, 0.705429292929293)\n",
      "COMET INFO:     test_MSE [13]           : (0.216796875, 0.234375)\n",
      "COMET INFO:     test_accuracy [13]      : (0.765625, 0.783203125)\n",
      "COMET INFO:     test_loss [13]          : (1.9413737058639526, 26.193230867385864)\n",
      "COMET INFO:     train_AUPRC [1740]      : (0.2807586733367984, 0.8437258126934984)\n",
      "COMET INFO:     train_AUROC [1740]      : (0.46840676292731087, 0.9425013248542661)\n",
      "COMET INFO:     train_MSE [1740]        : (0.046875, 0.87109375)\n",
      "COMET INFO:     train_accuracy [1740]   : (0.12890625, 0.953125)\n",
      "COMET INFO:     train_loss [1914]       : (0.030933693051338196, 20.896915435791016)\n",
      "COMET INFO:     validate_AUPRC [390]    : (0.3228236607142857, 0.6265293723778844)\n",
      "COMET INFO:     validate_AUROC [390]    : (0.6012006861063465, 0.7802224830901671)\n",
      "COMET INFO:     validate_MSE [390]      : (0.002452149036169198, 0.1305088209250051)\n",
      "COMET INFO:     validate_accuracy [390] : (0.40234375, 0.86328125)\n",
      "COMET INFO:     validate_loss [390]     : (0.43266206979751587, 3.3814308643341064)\n",
      "COMET INFO:   Parameters:\n",
      "COMET INFO:     batch_size    : 256\n",
      "COMET INFO:     betas         : (0.9, 0.98)\n",
      "COMET INFO:     epochs        : 30\n",
      "COMET INFO:     eps           : 4e-09\n",
      "COMET INFO:     lr            : 0.0005\n",
      "COMET INFO:     test_ds_size  : 3222\n",
      "COMET INFO:     train_ds_size : 14681\n",
      "COMET INFO:     val_ds_size   : 3222\n",
      "COMET INFO:     weight_decay  : 0.0005\n",
      "COMET INFO:   Uploads:\n",
      "COMET INFO:     conda-environment-definition : 1\n",
      "COMET INFO:     conda-info                   : 1\n",
      "COMET INFO:     conda-specification          : 1\n",
      "COMET INFO:     confusion-matrix             : 2131\n",
      "COMET INFO:     environment details          : 1\n",
      "COMET INFO:     filename                     : 1\n",
      "COMET INFO:     git metadata                 : 1\n",
      "COMET INFO:     git-patch (uncompressed)     : 1 (135.20 KB)\n",
      "COMET INFO:     installed packages           : 1\n",
      "COMET INFO:     model graph                  : 1\n",
      "COMET INFO:     notebook                     : 1\n",
      "COMET INFO:     source_code                  : 1\n",
      "COMET INFO: ---------------------------\n"
     ]
    },
    {
     "name": "stdout",
     "output_type": "stream",
     "text": [
      "\u001b[35mEvaluation finished. \u001b[0mAccuracy: 0.7831 MSE: 0.2169 AUROC: 0.6898 AUPRC: 0.4733\n"
     ]
    },
    {
     "name": "stderr",
     "output_type": "stream",
     "text": [
      "COMET INFO: Uploading metrics, params, and assets to Comet before program termination (may take several seconds)\n",
      "COMET INFO: The Python SDK has 3600 seconds to finish before aborting...\n"
     ]
    }
   ],
   "source": [
    "n_heads = 8\n",
    "factor = 12 # M\n",
    "num_class = 2\n",
    "num_layers = 2 # N\n",
    "epochs = 30\n",
    "betas = (0.9, 0.98)\n",
    "lr = 0.0005\n",
    "eps = 4e-09\n",
    "weight_decay = 5e-4\n",
    "\n",
    "experiment = Experiment(\n",
    "    api_key=\"eQ3INeSsFGUYKahSdEtjhry42\",\n",
    "    project_name=\"general\",\n",
    "    workspace=\"samdoud\"\n",
    ")\n",
    "\n",
    "clf = NeuralNetworkClassifier(\n",
    "    SAnD(feature_count, seq_len, n_heads, factor, num_class, num_layers, dropout_rate=0.3),\n",
    "    nn.CrossEntropyLoss(weight=torch.tensor(get_weights(train_raw[1], level=1), dtype=torch.float32).to(device=device)),\n",
    "    optim.Adam, optimizer_config={\n",
    "        \"lr\": lr, \"betas\": betas, \"eps\": eps, \"weight_decay\": weight_decay},\n",
    "    experiment=experiment\n",
    ")\n",
    "\n",
    "clf.fit(\n",
    "    {\n",
    "        \"train\": train_loader,\n",
    "        \"val\": val_loader\n",
    "    },\n",
    "    validation=True,\n",
    "    epochs=epochs,\n",
    "    verbose=True,\n",
    ")\n",
    "\n",
    "clf.evaluate(test_loader)\n",
    "experiment.end()"
   ]
  }
 ],
 "metadata": {
  "kernelspec": {
   "display_name": "py38",
   "language": "python",
   "name": "python3"
  },
  "language_info": {
   "codemirror_mode": {
    "name": "ipython",
    "version": 3
   },
   "file_extension": ".py",
   "mimetype": "text/x-python",
   "name": "python",
   "nbconvert_exporter": "python",
   "pygments_lexer": "ipython3",
   "version": "3.8.16"
  },
  "orig_nbformat": 4
 },
 "nbformat": 4,
 "nbformat_minor": 2
}
