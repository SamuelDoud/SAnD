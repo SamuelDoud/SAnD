{
 "cells": [
  {
   "attachments": {},
   "cell_type": "markdown",
   "metadata": {},
   "source": [
    "## Mortality Training\n",
    "1. Load the MIMIC III Dataset\n",
    "2. Normalize Data\n",
    "3. Load into Pytorch Dataloader\n",
    "4. Train\n",
    "5. Evaluate"
   ]
  },
  {
   "cell_type": "code",
   "execution_count": 1,
   "metadata": {},
   "outputs": [],
   "source": [
    "from comet_ml import Experiment\n",
    "import numpy as np\n",
    "import pandas as pd\n",
    "from sklearn.discriminant_analysis import StandardScaler\n",
    "from sklearn.impute import SimpleImputer\n",
    "import torch\n",
    "import torch.nn as nn\n",
    "import torch.optim as optim\n",
    "from torch.utils.data import TensorDataset, DataLoader\n",
    "\n",
    "from core.model import SAnD\n",
    "from mimic3_benchmarks.mimic3benchmark.readers import PhenotypingReader as Reader\n",
    "from mimic3_benchmarks.mimic3models.preprocessing import Discretizer, Normalizer\n",
    "from utils.functions import get_weighted_sampler, get_weights\n",
    "from utils.trainer import NeuralNetworkClassifier\n",
    "from utils.batch_gen import BatchGen\n",
    "from utils.phenotyping_utils import load_data\n",
    "\n",
    "\n",
    "device = torch.device(\"cuda\" if torch.cuda.is_available() else \"cpu\")\n",
    "task = \"phenotyping\""
   ]
  },
  {
   "attachments": {},
   "cell_type": "markdown",
   "metadata": {},
   "source": [
    "## Load Data\n",
    "Using the [MimicIII Benchmark's](https://github.com/YerevaNN/mimic3-benchmarks) InHospitalMortalityReader and associated functions, load the data into memory.\n",
    "\n",
    "If you are following along you will need to arrange the data following the directions on the link.\n"
   ]
  },
  {
   "cell_type": "code",
   "execution_count": 2,
   "metadata": {},
   "outputs": [],
   "source": [
    "train_reader = Reader(dataset_dir=f\"mimic3_benchmarks/data/{task}/train\",\n",
    "                              listfile=f\"mimic3_benchmarks/data/{task}/train_listfile.csv\")\n",
    "val_reader = Reader(dataset_dir=f\"mimic3_benchmarks/data/{task}/train\",\n",
    "                              listfile=f\"mimic3_benchmarks/data/{task}/val_listfile.csv\")\n",
    "test_reader = Reader(dataset_dir=f\"mimic3_benchmarks/data/{task}/test\",\n",
    "                              listfile=f\"mimic3_benchmarks/data/{task}/test_listfile.csv\")"
   ]
  },
  {
   "attachments": {},
   "cell_type": "markdown",
   "metadata": {},
   "source": [
    "### Example data"
   ]
  },
  {
   "cell_type": "code",
   "execution_count": 3,
   "metadata": {},
   "outputs": [
    {
     "name": "stdout",
     "output_type": "stream",
     "text": [
      "[0, 0, 0, 0, 0, 0, 1, 0, 0, 0, 0, 0, 0, 1, 0, 0, 0, 0, 0, 0, 0, 0, 0, 0, 0]\n"
     ]
    },
    {
     "data": {
      "text/html": [
       "<div>\n",
       "<style scoped>\n",
       "    .dataframe tbody tr th:only-of-type {\n",
       "        vertical-align: middle;\n",
       "    }\n",
       "\n",
       "    .dataframe tbody tr th {\n",
       "        vertical-align: top;\n",
       "    }\n",
       "\n",
       "    .dataframe thead th {\n",
       "        text-align: right;\n",
       "    }\n",
       "</style>\n",
       "<table border=\"1\" class=\"dataframe\">\n",
       "  <thead>\n",
       "    <tr style=\"text-align: right;\">\n",
       "      <th></th>\n",
       "      <th>Hours</th>\n",
       "      <th>Capillary refill rate</th>\n",
       "      <th>Diastolic blood pressure</th>\n",
       "      <th>Fraction inspired oxygen</th>\n",
       "      <th>Glascow coma scale eye opening</th>\n",
       "      <th>Glascow coma scale motor response</th>\n",
       "      <th>Glascow coma scale total</th>\n",
       "      <th>Glascow coma scale verbal response</th>\n",
       "      <th>Glucose</th>\n",
       "      <th>Heart Rate</th>\n",
       "      <th>Height</th>\n",
       "      <th>Mean blood pressure</th>\n",
       "      <th>Oxygen saturation</th>\n",
       "      <th>Respiratory rate</th>\n",
       "      <th>Systolic blood pressure</th>\n",
       "      <th>Temperature</th>\n",
       "      <th>Weight</th>\n",
       "      <th>pH</th>\n",
       "    </tr>\n",
       "  </thead>\n",
       "  <tbody>\n",
       "    <tr>\n",
       "      <th>0</th>\n",
       "      <td>0.30527777777777776</td>\n",
       "      <td></td>\n",
       "      <td>86.0</td>\n",
       "      <td></td>\n",
       "      <td>1 No Response</td>\n",
       "      <td>5 Localizes Pain</td>\n",
       "      <td>7</td>\n",
       "      <td>1.0 ET/Trach</td>\n",
       "      <td></td>\n",
       "      <td>92</td>\n",
       "      <td></td>\n",
       "      <td>104</td>\n",
       "      <td>100.0</td>\n",
       "      <td>14</td>\n",
       "      <td>141.0</td>\n",
       "      <td></td>\n",
       "      <td></td>\n",
       "      <td></td>\n",
       "    </tr>\n",
       "    <tr>\n",
       "      <th>1</th>\n",
       "      <td>0.47194444444444444</td>\n",
       "      <td></td>\n",
       "      <td></td>\n",
       "      <td></td>\n",
       "      <td></td>\n",
       "      <td></td>\n",
       "      <td></td>\n",
       "      <td></td>\n",
       "      <td>142.0</td>\n",
       "      <td></td>\n",
       "      <td></td>\n",
       "      <td></td>\n",
       "      <td>100.0</td>\n",
       "      <td>14</td>\n",
       "      <td></td>\n",
       "      <td></td>\n",
       "      <td></td>\n",
       "      <td></td>\n",
       "    </tr>\n",
       "    <tr>\n",
       "      <th>2</th>\n",
       "      <td>0.6719444444444445</td>\n",
       "      <td></td>\n",
       "      <td></td>\n",
       "      <td></td>\n",
       "      <td></td>\n",
       "      <td></td>\n",
       "      <td></td>\n",
       "      <td></td>\n",
       "      <td></td>\n",
       "      <td></td>\n",
       "      <td></td>\n",
       "      <td></td>\n",
       "      <td></td>\n",
       "      <td></td>\n",
       "      <td></td>\n",
       "      <td></td>\n",
       "      <td></td>\n",
       "      <td>7.43</td>\n",
       "    </tr>\n",
       "    <tr>\n",
       "      <th>3</th>\n",
       "      <td>1.3052777777777778</td>\n",
       "      <td></td>\n",
       "      <td>90.0</td>\n",
       "      <td></td>\n",
       "      <td></td>\n",
       "      <td></td>\n",
       "      <td></td>\n",
       "      <td></td>\n",
       "      <td></td>\n",
       "      <td>98</td>\n",
       "      <td></td>\n",
       "      <td>109</td>\n",
       "      <td>100.0</td>\n",
       "      <td>14</td>\n",
       "      <td>144.0</td>\n",
       "      <td>38.16669845581055</td>\n",
       "      <td></td>\n",
       "      <td></td>\n",
       "    </tr>\n",
       "    <tr>\n",
       "      <th>4</th>\n",
       "      <td>2.3052777777777775</td>\n",
       "      <td></td>\n",
       "      <td>90.0</td>\n",
       "      <td></td>\n",
       "      <td></td>\n",
       "      <td></td>\n",
       "      <td></td>\n",
       "      <td></td>\n",
       "      <td></td>\n",
       "      <td>99</td>\n",
       "      <td></td>\n",
       "      <td>109</td>\n",
       "      <td>100.0</td>\n",
       "      <td>14</td>\n",
       "      <td>147.0</td>\n",
       "      <td></td>\n",
       "      <td></td>\n",
       "      <td></td>\n",
       "    </tr>\n",
       "    <tr>\n",
       "      <th>5</th>\n",
       "      <td>3.3052777777777775</td>\n",
       "      <td></td>\n",
       "      <td>93.0</td>\n",
       "      <td></td>\n",
       "      <td></td>\n",
       "      <td></td>\n",
       "      <td></td>\n",
       "      <td></td>\n",
       "      <td></td>\n",
       "      <td>106</td>\n",
       "      <td></td>\n",
       "      <td>113</td>\n",
       "      <td>100.0</td>\n",
       "      <td>14</td>\n",
       "      <td>152.0</td>\n",
       "      <td>39.11111195882162</td>\n",
       "      <td></td>\n",
       "      <td></td>\n",
       "    </tr>\n",
       "    <tr>\n",
       "      <th>6</th>\n",
       "      <td>4.3052777777777775</td>\n",
       "      <td></td>\n",
       "      <td>88.0</td>\n",
       "      <td></td>\n",
       "      <td></td>\n",
       "      <td></td>\n",
       "      <td></td>\n",
       "      <td></td>\n",
       "      <td></td>\n",
       "      <td>106</td>\n",
       "      <td></td>\n",
       "      <td>106</td>\n",
       "      <td>100.0</td>\n",
       "      <td>14</td>\n",
       "      <td>145.0</td>\n",
       "      <td></td>\n",
       "      <td></td>\n",
       "      <td></td>\n",
       "    </tr>\n",
       "    <tr>\n",
       "      <th>7</th>\n",
       "      <td>5.3052777777777775</td>\n",
       "      <td></td>\n",
       "      <td>86.0</td>\n",
       "      <td></td>\n",
       "      <td>3 To speech</td>\n",
       "      <td>5 Localizes Pain</td>\n",
       "      <td>9</td>\n",
       "      <td>1.0 ET/Trach</td>\n",
       "      <td></td>\n",
       "      <td>103</td>\n",
       "      <td></td>\n",
       "      <td>103</td>\n",
       "      <td>100.0</td>\n",
       "      <td>14</td>\n",
       "      <td>141.0</td>\n",
       "      <td>39.11111195882162</td>\n",
       "      <td></td>\n",
       "      <td></td>\n",
       "    </tr>\n",
       "    <tr>\n",
       "      <th>8</th>\n",
       "      <td>5.8052777777777775</td>\n",
       "      <td></td>\n",
       "      <td>85.0</td>\n",
       "      <td></td>\n",
       "      <td></td>\n",
       "      <td></td>\n",
       "      <td></td>\n",
       "      <td></td>\n",
       "      <td></td>\n",
       "      <td>112</td>\n",
       "      <td></td>\n",
       "      <td>102</td>\n",
       "      <td>100.0</td>\n",
       "      <td>16</td>\n",
       "      <td>135.0</td>\n",
       "      <td></td>\n",
       "      <td></td>\n",
       "      <td></td>\n",
       "    </tr>\n",
       "    <tr>\n",
       "      <th>9</th>\n",
       "      <td>6.3052777777777775</td>\n",
       "      <td></td>\n",
       "      <td>88.0</td>\n",
       "      <td></td>\n",
       "      <td></td>\n",
       "      <td></td>\n",
       "      <td></td>\n",
       "      <td></td>\n",
       "      <td></td>\n",
       "      <td>105</td>\n",
       "      <td></td>\n",
       "      <td>110</td>\n",
       "      <td>100.0</td>\n",
       "      <td>9</td>\n",
       "      <td>151.0</td>\n",
       "      <td></td>\n",
       "      <td></td>\n",
       "      <td></td>\n",
       "    </tr>\n",
       "    <tr>\n",
       "      <th>10</th>\n",
       "      <td>6.605277777777777</td>\n",
       "      <td></td>\n",
       "      <td></td>\n",
       "      <td></td>\n",
       "      <td></td>\n",
       "      <td></td>\n",
       "      <td></td>\n",
       "      <td></td>\n",
       "      <td></td>\n",
       "      <td></td>\n",
       "      <td></td>\n",
       "      <td></td>\n",
       "      <td></td>\n",
       "      <td></td>\n",
       "      <td></td>\n",
       "      <td></td>\n",
       "      <td></td>\n",
       "      <td>7.37</td>\n",
       "    </tr>\n",
       "    <tr>\n",
       "      <th>11</th>\n",
       "      <td>7.3052777777777775</td>\n",
       "      <td></td>\n",
       "      <td>86.0</td>\n",
       "      <td></td>\n",
       "      <td>4 Spontaneously</td>\n",
       "      <td>6 Obeys Commands</td>\n",
       "      <td>11</td>\n",
       "      <td>1.0 ET/Trach</td>\n",
       "      <td></td>\n",
       "      <td>108</td>\n",
       "      <td></td>\n",
       "      <td>104</td>\n",
       "      <td>100.0</td>\n",
       "      <td>20</td>\n",
       "      <td>137.0</td>\n",
       "      <td>38.66669845581055</td>\n",
       "      <td></td>\n",
       "      <td></td>\n",
       "    </tr>\n",
       "    <tr>\n",
       "      <th>12</th>\n",
       "      <td>7.405277777777778</td>\n",
       "      <td></td>\n",
       "      <td></td>\n",
       "      <td></td>\n",
       "      <td></td>\n",
       "      <td></td>\n",
       "      <td></td>\n",
       "      <td></td>\n",
       "      <td></td>\n",
       "      <td></td>\n",
       "      <td></td>\n",
       "      <td></td>\n",
       "      <td>98.0</td>\n",
       "      <td></td>\n",
       "      <td></td>\n",
       "      <td></td>\n",
       "      <td></td>\n",
       "      <td>7.37</td>\n",
       "    </tr>\n",
       "    <tr>\n",
       "      <th>13</th>\n",
       "      <td>8.305277777777778</td>\n",
       "      <td></td>\n",
       "      <td>83.0</td>\n",
       "      <td></td>\n",
       "      <td></td>\n",
       "      <td></td>\n",
       "      <td></td>\n",
       "      <td></td>\n",
       "      <td></td>\n",
       "      <td>103</td>\n",
       "      <td></td>\n",
       "      <td>100</td>\n",
       "      <td>99.0</td>\n",
       "      <td>22</td>\n",
       "      <td>130.0</td>\n",
       "      <td></td>\n",
       "      <td></td>\n",
       "      <td></td>\n",
       "    </tr>\n",
       "    <tr>\n",
       "      <th>14</th>\n",
       "      <td>8.60527777777778</td>\n",
       "      <td></td>\n",
       "      <td></td>\n",
       "      <td></td>\n",
       "      <td></td>\n",
       "      <td></td>\n",
       "      <td></td>\n",
       "      <td></td>\n",
       "      <td></td>\n",
       "      <td></td>\n",
       "      <td></td>\n",
       "      <td></td>\n",
       "      <td></td>\n",
       "      <td></td>\n",
       "      <td></td>\n",
       "      <td></td>\n",
       "      <td></td>\n",
       "      <td>7.35</td>\n",
       "    </tr>\n",
       "    <tr>\n",
       "      <th>15</th>\n",
       "      <td>9.305277777777778</td>\n",
       "      <td></td>\n",
       "      <td>81.0</td>\n",
       "      <td></td>\n",
       "      <td>4 Spontaneously</td>\n",
       "      <td>6 Obeys Commands</td>\n",
       "      <td>11</td>\n",
       "      <td>1.0 ET/Trach</td>\n",
       "      <td></td>\n",
       "      <td>103</td>\n",
       "      <td></td>\n",
       "      <td>98</td>\n",
       "      <td>99.0</td>\n",
       "      <td>23</td>\n",
       "      <td>127.0</td>\n",
       "      <td>37.555599212646484</td>\n",
       "      <td></td>\n",
       "      <td></td>\n",
       "    </tr>\n",
       "    <tr>\n",
       "      <th>16</th>\n",
       "      <td>9.805277777777778</td>\n",
       "      <td></td>\n",
       "      <td>82.0</td>\n",
       "      <td></td>\n",
       "      <td></td>\n",
       "      <td></td>\n",
       "      <td></td>\n",
       "      <td></td>\n",
       "      <td></td>\n",
       "      <td>106</td>\n",
       "      <td></td>\n",
       "      <td>101</td>\n",
       "      <td>97.0</td>\n",
       "      <td>20</td>\n",
       "      <td>132.0</td>\n",
       "      <td></td>\n",
       "      <td></td>\n",
       "      <td></td>\n",
       "    </tr>\n",
       "    <tr>\n",
       "      <th>17</th>\n",
       "      <td>10.305277777777778</td>\n",
       "      <td></td>\n",
       "      <td>74.0</td>\n",
       "      <td></td>\n",
       "      <td></td>\n",
       "      <td></td>\n",
       "      <td></td>\n",
       "      <td></td>\n",
       "      <td></td>\n",
       "      <td>99</td>\n",
       "      <td></td>\n",
       "      <td>89</td>\n",
       "      <td>96.0</td>\n",
       "      <td>23</td>\n",
       "      <td>114.0</td>\n",
       "      <td></td>\n",
       "      <td></td>\n",
       "      <td></td>\n",
       "    </tr>\n",
       "    <tr>\n",
       "      <th>18</th>\n",
       "      <td>10.838611111111112</td>\n",
       "      <td></td>\n",
       "      <td></td>\n",
       "      <td></td>\n",
       "      <td></td>\n",
       "      <td></td>\n",
       "      <td></td>\n",
       "      <td></td>\n",
       "      <td></td>\n",
       "      <td></td>\n",
       "      <td></td>\n",
       "      <td></td>\n",
       "      <td></td>\n",
       "      <td></td>\n",
       "      <td></td>\n",
       "      <td></td>\n",
       "      <td></td>\n",
       "      <td>7.33</td>\n",
       "    </tr>\n",
       "    <tr>\n",
       "      <th>19</th>\n",
       "      <td>11.305277777777778</td>\n",
       "      <td></td>\n",
       "      <td>71.0</td>\n",
       "      <td></td>\n",
       "      <td>4 Spontaneously</td>\n",
       "      <td>6 Obeys Commands</td>\n",
       "      <td>15</td>\n",
       "      <td>5 Oriented</td>\n",
       "      <td></td>\n",
       "      <td>98</td>\n",
       "      <td></td>\n",
       "      <td>88</td>\n",
       "      <td>97.0</td>\n",
       "      <td>20</td>\n",
       "      <td>115.0</td>\n",
       "      <td></td>\n",
       "      <td></td>\n",
       "      <td></td>\n",
       "    </tr>\n",
       "    <tr>\n",
       "      <th>20</th>\n",
       "      <td>11.805277777777778</td>\n",
       "      <td></td>\n",
       "      <td>69.0</td>\n",
       "      <td></td>\n",
       "      <td></td>\n",
       "      <td></td>\n",
       "      <td></td>\n",
       "      <td></td>\n",
       "      <td></td>\n",
       "      <td></td>\n",
       "      <td></td>\n",
       "      <td></td>\n",
       "      <td></td>\n",
       "      <td>24</td>\n",
       "      <td>119.0</td>\n",
       "      <td></td>\n",
       "      <td></td>\n",
       "      <td></td>\n",
       "    </tr>\n",
       "    <tr>\n",
       "      <th>21</th>\n",
       "      <td>12.305277777777778</td>\n",
       "      <td></td>\n",
       "      <td>85.0</td>\n",
       "      <td></td>\n",
       "      <td></td>\n",
       "      <td></td>\n",
       "      <td></td>\n",
       "      <td></td>\n",
       "      <td></td>\n",
       "      <td>93</td>\n",
       "      <td></td>\n",
       "      <td>106</td>\n",
       "      <td>98.0</td>\n",
       "      <td>23</td>\n",
       "      <td>145.0</td>\n",
       "      <td></td>\n",
       "      <td></td>\n",
       "      <td></td>\n",
       "    </tr>\n",
       "    <tr>\n",
       "      <th>22</th>\n",
       "      <td>13.305277777777778</td>\n",
       "      <td></td>\n",
       "      <td>82.0</td>\n",
       "      <td></td>\n",
       "      <td>4 Spontaneously</td>\n",
       "      <td>6 Obeys Commands</td>\n",
       "      <td>15</td>\n",
       "      <td>5 Oriented</td>\n",
       "      <td></td>\n",
       "      <td>85</td>\n",
       "      <td></td>\n",
       "      <td>103</td>\n",
       "      <td>100.0</td>\n",
       "      <td>31</td>\n",
       "      <td>140.0</td>\n",
       "      <td>37.055599212646484</td>\n",
       "      <td></td>\n",
       "      <td></td>\n",
       "    </tr>\n",
       "    <tr>\n",
       "      <th>23</th>\n",
       "      <td>14.305277777777778</td>\n",
       "      <td></td>\n",
       "      <td>74.0</td>\n",
       "      <td></td>\n",
       "      <td></td>\n",
       "      <td></td>\n",
       "      <td></td>\n",
       "      <td></td>\n",
       "      <td></td>\n",
       "      <td>83</td>\n",
       "      <td></td>\n",
       "      <td>91</td>\n",
       "      <td>100.0</td>\n",
       "      <td>25</td>\n",
       "      <td>119.0</td>\n",
       "      <td></td>\n",
       "      <td></td>\n",
       "      <td></td>\n",
       "    </tr>\n",
       "    <tr>\n",
       "      <th>24</th>\n",
       "      <td>15.305277777777778</td>\n",
       "      <td></td>\n",
       "      <td>71.0</td>\n",
       "      <td></td>\n",
       "      <td>4 Spontaneously</td>\n",
       "      <td>6 Obeys Commands</td>\n",
       "      <td>15</td>\n",
       "      <td>5 Oriented</td>\n",
       "      <td></td>\n",
       "      <td>93</td>\n",
       "      <td></td>\n",
       "      <td>85</td>\n",
       "      <td>99.0</td>\n",
       "      <td>18</td>\n",
       "      <td>109.0</td>\n",
       "      <td></td>\n",
       "      <td></td>\n",
       "      <td></td>\n",
       "    </tr>\n",
       "    <tr>\n",
       "      <th>25</th>\n",
       "      <td>16.30527777777778</td>\n",
       "      <td></td>\n",
       "      <td>76.0</td>\n",
       "      <td></td>\n",
       "      <td></td>\n",
       "      <td></td>\n",
       "      <td></td>\n",
       "      <td></td>\n",
       "      <td></td>\n",
       "      <td>87</td>\n",
       "      <td></td>\n",
       "      <td>94</td>\n",
       "      <td>100.0</td>\n",
       "      <td>22</td>\n",
       "      <td>124.0</td>\n",
       "      <td></td>\n",
       "      <td></td>\n",
       "      <td></td>\n",
       "    </tr>\n",
       "    <tr>\n",
       "      <th>26</th>\n",
       "      <td>17.30527777777778</td>\n",
       "      <td></td>\n",
       "      <td>71.0</td>\n",
       "      <td></td>\n",
       "      <td>4 Spontaneously</td>\n",
       "      <td>6 Obeys Commands</td>\n",
       "      <td>15</td>\n",
       "      <td>5 Oriented</td>\n",
       "      <td></td>\n",
       "      <td>94</td>\n",
       "      <td></td>\n",
       "      <td>88</td>\n",
       "      <td>96.0</td>\n",
       "      <td>21</td>\n",
       "      <td>120.0</td>\n",
       "      <td>36.88890075683594</td>\n",
       "      <td></td>\n",
       "      <td></td>\n",
       "    </tr>\n",
       "    <tr>\n",
       "      <th>27</th>\n",
       "      <td>18.30527777777778</td>\n",
       "      <td></td>\n",
       "      <td>75.0</td>\n",
       "      <td></td>\n",
       "      <td></td>\n",
       "      <td></td>\n",
       "      <td></td>\n",
       "      <td></td>\n",
       "      <td></td>\n",
       "      <td>91</td>\n",
       "      <td></td>\n",
       "      <td>92</td>\n",
       "      <td>99.0</td>\n",
       "      <td>20</td>\n",
       "      <td>122.0</td>\n",
       "      <td></td>\n",
       "      <td></td>\n",
       "      <td></td>\n",
       "    </tr>\n",
       "    <tr>\n",
       "      <th>28</th>\n",
       "      <td>19.30527777777778</td>\n",
       "      <td></td>\n",
       "      <td>74.0</td>\n",
       "      <td></td>\n",
       "      <td></td>\n",
       "      <td></td>\n",
       "      <td></td>\n",
       "      <td></td>\n",
       "      <td></td>\n",
       "      <td>81</td>\n",
       "      <td></td>\n",
       "      <td>93</td>\n",
       "      <td>100.0</td>\n",
       "      <td>20</td>\n",
       "      <td>127.0</td>\n",
       "      <td></td>\n",
       "      <td></td>\n",
       "      <td></td>\n",
       "    </tr>\n",
       "    <tr>\n",
       "      <th>29</th>\n",
       "      <td>20.30527777777778</td>\n",
       "      <td></td>\n",
       "      <td>72.0</td>\n",
       "      <td></td>\n",
       "      <td></td>\n",
       "      <td></td>\n",
       "      <td></td>\n",
       "      <td></td>\n",
       "      <td></td>\n",
       "      <td>84</td>\n",
       "      <td></td>\n",
       "      <td>90</td>\n",
       "      <td>99.0</td>\n",
       "      <td>17</td>\n",
       "      <td>124.0</td>\n",
       "      <td></td>\n",
       "      <td></td>\n",
       "      <td></td>\n",
       "    </tr>\n",
       "    <tr>\n",
       "      <th>30</th>\n",
       "      <td>21.30527777777778</td>\n",
       "      <td></td>\n",
       "      <td>73.0</td>\n",
       "      <td></td>\n",
       "      <td></td>\n",
       "      <td></td>\n",
       "      <td></td>\n",
       "      <td></td>\n",
       "      <td></td>\n",
       "      <td>95</td>\n",
       "      <td></td>\n",
       "      <td>92</td>\n",
       "      <td>96.0</td>\n",
       "      <td>21</td>\n",
       "      <td>125.0</td>\n",
       "      <td>37.0</td>\n",
       "      <td></td>\n",
       "      <td></td>\n",
       "    </tr>\n",
       "    <tr>\n",
       "      <th>31</th>\n",
       "      <td>22.30527777777778</td>\n",
       "      <td></td>\n",
       "      <td>74.0</td>\n",
       "      <td></td>\n",
       "      <td></td>\n",
       "      <td></td>\n",
       "      <td></td>\n",
       "      <td></td>\n",
       "      <td></td>\n",
       "      <td>98</td>\n",
       "      <td></td>\n",
       "      <td>92</td>\n",
       "      <td>99.0</td>\n",
       "      <td>20</td>\n",
       "      <td>126.0</td>\n",
       "      <td></td>\n",
       "      <td></td>\n",
       "      <td></td>\n",
       "    </tr>\n",
       "    <tr>\n",
       "      <th>32</th>\n",
       "      <td>23.30527777777778</td>\n",
       "      <td></td>\n",
       "      <td>72.0</td>\n",
       "      <td></td>\n",
       "      <td></td>\n",
       "      <td></td>\n",
       "      <td></td>\n",
       "      <td></td>\n",
       "      <td></td>\n",
       "      <td>92</td>\n",
       "      <td></td>\n",
       "      <td>88</td>\n",
       "      <td>96.0</td>\n",
       "      <td>19</td>\n",
       "      <td>117.0</td>\n",
       "      <td></td>\n",
       "      <td></td>\n",
       "      <td></td>\n",
       "    </tr>\n",
       "    <tr>\n",
       "      <th>33</th>\n",
       "      <td>24.30527777777778</td>\n",
       "      <td></td>\n",
       "      <td>73.0</td>\n",
       "      <td></td>\n",
       "      <td></td>\n",
       "      <td></td>\n",
       "      <td></td>\n",
       "      <td></td>\n",
       "      <td></td>\n",
       "      <td>96</td>\n",
       "      <td></td>\n",
       "      <td>92</td>\n",
       "      <td>98.0</td>\n",
       "      <td>20</td>\n",
       "      <td>124.0</td>\n",
       "      <td></td>\n",
       "      <td></td>\n",
       "      <td></td>\n",
       "    </tr>\n",
       "    <tr>\n",
       "      <th>34</th>\n",
       "      <td>25.30527777777778</td>\n",
       "      <td></td>\n",
       "      <td>77.0</td>\n",
       "      <td></td>\n",
       "      <td>4 Spontaneously</td>\n",
       "      <td>6 Obeys Commands</td>\n",
       "      <td>15</td>\n",
       "      <td>5 Oriented</td>\n",
       "      <td>86.0</td>\n",
       "      <td>85</td>\n",
       "      <td></td>\n",
       "      <td>95</td>\n",
       "      <td>98.0</td>\n",
       "      <td>16</td>\n",
       "      <td>129.0</td>\n",
       "      <td>36.88890075683594</td>\n",
       "      <td></td>\n",
       "      <td></td>\n",
       "    </tr>\n",
       "    <tr>\n",
       "      <th>35</th>\n",
       "      <td>25.771944444444443</td>\n",
       "      <td></td>\n",
       "      <td></td>\n",
       "      <td></td>\n",
       "      <td></td>\n",
       "      <td></td>\n",
       "      <td></td>\n",
       "      <td></td>\n",
       "      <td></td>\n",
       "      <td></td>\n",
       "      <td></td>\n",
       "      <td></td>\n",
       "      <td></td>\n",
       "      <td></td>\n",
       "      <td></td>\n",
       "      <td></td>\n",
       "      <td></td>\n",
       "      <td>7.35</td>\n",
       "    </tr>\n",
       "    <tr>\n",
       "      <th>36</th>\n",
       "      <td>26.30527777777778</td>\n",
       "      <td></td>\n",
       "      <td>83.0</td>\n",
       "      <td></td>\n",
       "      <td></td>\n",
       "      <td></td>\n",
       "      <td></td>\n",
       "      <td></td>\n",
       "      <td></td>\n",
       "      <td>98</td>\n",
       "      <td></td>\n",
       "      <td>105</td>\n",
       "      <td>100.0</td>\n",
       "      <td></td>\n",
       "      <td>141.0</td>\n",
       "      <td></td>\n",
       "      <td></td>\n",
       "      <td></td>\n",
       "    </tr>\n",
       "    <tr>\n",
       "      <th>37</th>\n",
       "      <td>27.30527777777778</td>\n",
       "      <td></td>\n",
       "      <td>79.0</td>\n",
       "      <td></td>\n",
       "      <td></td>\n",
       "      <td></td>\n",
       "      <td></td>\n",
       "      <td></td>\n",
       "      <td></td>\n",
       "      <td>86</td>\n",
       "      <td></td>\n",
       "      <td>99</td>\n",
       "      <td>99.0</td>\n",
       "      <td>12</td>\n",
       "      <td>137.0</td>\n",
       "      <td></td>\n",
       "      <td></td>\n",
       "      <td></td>\n",
       "    </tr>\n",
       "    <tr>\n",
       "      <th>38</th>\n",
       "      <td>28.30527777777778</td>\n",
       "      <td></td>\n",
       "      <td>85.0</td>\n",
       "      <td></td>\n",
       "      <td></td>\n",
       "      <td></td>\n",
       "      <td></td>\n",
       "      <td></td>\n",
       "      <td></td>\n",
       "      <td>91</td>\n",
       "      <td></td>\n",
       "      <td>107</td>\n",
       "      <td>97.0</td>\n",
       "      <td>15</td>\n",
       "      <td>146.0</td>\n",
       "      <td></td>\n",
       "      <td></td>\n",
       "      <td></td>\n",
       "    </tr>\n",
       "    <tr>\n",
       "      <th>39</th>\n",
       "      <td>29.30527777777778</td>\n",
       "      <td></td>\n",
       "      <td>84.0</td>\n",
       "      <td></td>\n",
       "      <td>4 Spontaneously</td>\n",
       "      <td>6 Obeys Commands</td>\n",
       "      <td>15</td>\n",
       "      <td>5 Oriented</td>\n",
       "      <td></td>\n",
       "      <td>90</td>\n",
       "      <td></td>\n",
       "      <td>104</td>\n",
       "      <td>99.0</td>\n",
       "      <td>20</td>\n",
       "      <td>139.0</td>\n",
       "      <td>36.83333502875434</td>\n",
       "      <td></td>\n",
       "      <td></td>\n",
       "    </tr>\n",
       "    <tr>\n",
       "      <th>40</th>\n",
       "      <td>30.30527777777778</td>\n",
       "      <td></td>\n",
       "      <td>84.0</td>\n",
       "      <td></td>\n",
       "      <td></td>\n",
       "      <td></td>\n",
       "      <td></td>\n",
       "      <td></td>\n",
       "      <td></td>\n",
       "      <td>92</td>\n",
       "      <td></td>\n",
       "      <td>105</td>\n",
       "      <td>100.0</td>\n",
       "      <td>16</td>\n",
       "      <td>144.0</td>\n",
       "      <td></td>\n",
       "      <td></td>\n",
       "      <td></td>\n",
       "    </tr>\n",
       "    <tr>\n",
       "      <th>41</th>\n",
       "      <td>31.30527777777778</td>\n",
       "      <td></td>\n",
       "      <td>76.0</td>\n",
       "      <td></td>\n",
       "      <td></td>\n",
       "      <td></td>\n",
       "      <td></td>\n",
       "      <td></td>\n",
       "      <td></td>\n",
       "      <td>87</td>\n",
       "      <td></td>\n",
       "      <td>95</td>\n",
       "      <td>98.0</td>\n",
       "      <td>7</td>\n",
       "      <td>132.0</td>\n",
       "      <td></td>\n",
       "      <td></td>\n",
       "      <td></td>\n",
       "    </tr>\n",
       "    <tr>\n",
       "      <th>42</th>\n",
       "      <td>32.305277777777775</td>\n",
       "      <td></td>\n",
       "      <td>74.0</td>\n",
       "      <td></td>\n",
       "      <td></td>\n",
       "      <td></td>\n",
       "      <td></td>\n",
       "      <td></td>\n",
       "      <td></td>\n",
       "      <td>89</td>\n",
       "      <td></td>\n",
       "      <td>91</td>\n",
       "      <td>99.0</td>\n",
       "      <td>12</td>\n",
       "      <td>123.0</td>\n",
       "      <td></td>\n",
       "      <td></td>\n",
       "      <td></td>\n",
       "    </tr>\n",
       "    <tr>\n",
       "      <th>43</th>\n",
       "      <td>33.305277777777775</td>\n",
       "      <td></td>\n",
       "      <td>77.0</td>\n",
       "      <td></td>\n",
       "      <td>4 Spontaneously</td>\n",
       "      <td>6 Obeys Commands</td>\n",
       "      <td>15</td>\n",
       "      <td>5 Oriented</td>\n",
       "      <td></td>\n",
       "      <td>93</td>\n",
       "      <td></td>\n",
       "      <td>95</td>\n",
       "      <td>95.0</td>\n",
       "      <td>18</td>\n",
       "      <td>132.0</td>\n",
       "      <td></td>\n",
       "      <td></td>\n",
       "      <td></td>\n",
       "    </tr>\n",
       "    <tr>\n",
       "      <th>44</th>\n",
       "      <td>34.305277777777775</td>\n",
       "      <td></td>\n",
       "      <td>81.0</td>\n",
       "      <td></td>\n",
       "      <td></td>\n",
       "      <td></td>\n",
       "      <td></td>\n",
       "      <td></td>\n",
       "      <td></td>\n",
       "      <td>101</td>\n",
       "      <td></td>\n",
       "      <td>99</td>\n",
       "      <td>94.0</td>\n",
       "      <td>22</td>\n",
       "      <td>130.0</td>\n",
       "      <td>36.61111195882162</td>\n",
       "      <td></td>\n",
       "      <td></td>\n",
       "    </tr>\n",
       "    <tr>\n",
       "      <th>45</th>\n",
       "      <td>35.305277777777775</td>\n",
       "      <td></td>\n",
       "      <td></td>\n",
       "      <td></td>\n",
       "      <td></td>\n",
       "      <td></td>\n",
       "      <td></td>\n",
       "      <td></td>\n",
       "      <td></td>\n",
       "      <td>115</td>\n",
       "      <td></td>\n",
       "      <td></td>\n",
       "      <td>98.0</td>\n",
       "      <td>17</td>\n",
       "      <td></td>\n",
       "      <td></td>\n",
       "      <td></td>\n",
       "      <td></td>\n",
       "    </tr>\n",
       "  </tbody>\n",
       "</table>\n",
       "</div>"
      ],
      "text/plain": [
       "                  Hours Capillary refill rate Diastolic blood pressure  \\\n",
       "0   0.30527777777777776                                           86.0   \n",
       "1   0.47194444444444444                                                  \n",
       "2    0.6719444444444445                                                  \n",
       "3    1.3052777777777778                                           90.0   \n",
       "4    2.3052777777777775                                           90.0   \n",
       "5    3.3052777777777775                                           93.0   \n",
       "6    4.3052777777777775                                           88.0   \n",
       "7    5.3052777777777775                                           86.0   \n",
       "8    5.8052777777777775                                           85.0   \n",
       "9    6.3052777777777775                                           88.0   \n",
       "10    6.605277777777777                                                  \n",
       "11   7.3052777777777775                                           86.0   \n",
       "12    7.405277777777778                                                  \n",
       "13    8.305277777777778                                           83.0   \n",
       "14     8.60527777777778                                                  \n",
       "15    9.305277777777778                                           81.0   \n",
       "16    9.805277777777778                                           82.0   \n",
       "17   10.305277777777778                                           74.0   \n",
       "18   10.838611111111112                                                  \n",
       "19   11.305277777777778                                           71.0   \n",
       "20   11.805277777777778                                           69.0   \n",
       "21   12.305277777777778                                           85.0   \n",
       "22   13.305277777777778                                           82.0   \n",
       "23   14.305277777777778                                           74.0   \n",
       "24   15.305277777777778                                           71.0   \n",
       "25    16.30527777777778                                           76.0   \n",
       "26    17.30527777777778                                           71.0   \n",
       "27    18.30527777777778                                           75.0   \n",
       "28    19.30527777777778                                           74.0   \n",
       "29    20.30527777777778                                           72.0   \n",
       "30    21.30527777777778                                           73.0   \n",
       "31    22.30527777777778                                           74.0   \n",
       "32    23.30527777777778                                           72.0   \n",
       "33    24.30527777777778                                           73.0   \n",
       "34    25.30527777777778                                           77.0   \n",
       "35   25.771944444444443                                                  \n",
       "36    26.30527777777778                                           83.0   \n",
       "37    27.30527777777778                                           79.0   \n",
       "38    28.30527777777778                                           85.0   \n",
       "39    29.30527777777778                                           84.0   \n",
       "40    30.30527777777778                                           84.0   \n",
       "41    31.30527777777778                                           76.0   \n",
       "42   32.305277777777775                                           74.0   \n",
       "43   33.305277777777775                                           77.0   \n",
       "44   34.305277777777775                                           81.0   \n",
       "45   35.305277777777775                                                  \n",
       "\n",
       "   Fraction inspired oxygen Glascow coma scale eye opening  \\\n",
       "0                                            1 No Response   \n",
       "1                                                            \n",
       "2                                                            \n",
       "3                                                            \n",
       "4                                                            \n",
       "5                                                            \n",
       "6                                                            \n",
       "7                                              3 To speech   \n",
       "8                                                            \n",
       "9                                                            \n",
       "10                                                           \n",
       "11                                         4 Spontaneously   \n",
       "12                                                           \n",
       "13                                                           \n",
       "14                                                           \n",
       "15                                         4 Spontaneously   \n",
       "16                                                           \n",
       "17                                                           \n",
       "18                                                           \n",
       "19                                         4 Spontaneously   \n",
       "20                                                           \n",
       "21                                                           \n",
       "22                                         4 Spontaneously   \n",
       "23                                                           \n",
       "24                                         4 Spontaneously   \n",
       "25                                                           \n",
       "26                                         4 Spontaneously   \n",
       "27                                                           \n",
       "28                                                           \n",
       "29                                                           \n",
       "30                                                           \n",
       "31                                                           \n",
       "32                                                           \n",
       "33                                                           \n",
       "34                                         4 Spontaneously   \n",
       "35                                                           \n",
       "36                                                           \n",
       "37                                                           \n",
       "38                                                           \n",
       "39                                         4 Spontaneously   \n",
       "40                                                           \n",
       "41                                                           \n",
       "42                                                           \n",
       "43                                         4 Spontaneously   \n",
       "44                                                           \n",
       "45                                                           \n",
       "\n",
       "   Glascow coma scale motor response Glascow coma scale total  \\\n",
       "0                   5 Localizes Pain                        7   \n",
       "1                                                               \n",
       "2                                                               \n",
       "3                                                               \n",
       "4                                                               \n",
       "5                                                               \n",
       "6                                                               \n",
       "7                   5 Localizes Pain                        9   \n",
       "8                                                               \n",
       "9                                                               \n",
       "10                                                              \n",
       "11                  6 Obeys Commands                       11   \n",
       "12                                                              \n",
       "13                                                              \n",
       "14                                                              \n",
       "15                  6 Obeys Commands                       11   \n",
       "16                                                              \n",
       "17                                                              \n",
       "18                                                              \n",
       "19                  6 Obeys Commands                       15   \n",
       "20                                                              \n",
       "21                                                              \n",
       "22                  6 Obeys Commands                       15   \n",
       "23                                                              \n",
       "24                  6 Obeys Commands                       15   \n",
       "25                                                              \n",
       "26                  6 Obeys Commands                       15   \n",
       "27                                                              \n",
       "28                                                              \n",
       "29                                                              \n",
       "30                                                              \n",
       "31                                                              \n",
       "32                                                              \n",
       "33                                                              \n",
       "34                  6 Obeys Commands                       15   \n",
       "35                                                              \n",
       "36                                                              \n",
       "37                                                              \n",
       "38                                                              \n",
       "39                  6 Obeys Commands                       15   \n",
       "40                                                              \n",
       "41                                                              \n",
       "42                                                              \n",
       "43                  6 Obeys Commands                       15   \n",
       "44                                                              \n",
       "45                                                              \n",
       "\n",
       "   Glascow coma scale verbal response Glucose Heart Rate Height  \\\n",
       "0                        1.0 ET/Trach                 92          \n",
       "1                                       142.0                     \n",
       "2                                                                 \n",
       "3                                                     98          \n",
       "4                                                     99          \n",
       "5                                                    106          \n",
       "6                                                    106          \n",
       "7                        1.0 ET/Trach                103          \n",
       "8                                                    112          \n",
       "9                                                    105          \n",
       "10                                                                \n",
       "11                       1.0 ET/Trach                108          \n",
       "12                                                                \n",
       "13                                                   103          \n",
       "14                                                                \n",
       "15                       1.0 ET/Trach                103          \n",
       "16                                                   106          \n",
       "17                                                    99          \n",
       "18                                                                \n",
       "19                         5 Oriented                 98          \n",
       "20                                                                \n",
       "21                                                    93          \n",
       "22                         5 Oriented                 85          \n",
       "23                                                    83          \n",
       "24                         5 Oriented                 93          \n",
       "25                                                    87          \n",
       "26                         5 Oriented                 94          \n",
       "27                                                    91          \n",
       "28                                                    81          \n",
       "29                                                    84          \n",
       "30                                                    95          \n",
       "31                                                    98          \n",
       "32                                                    92          \n",
       "33                                                    96          \n",
       "34                         5 Oriented    86.0         85          \n",
       "35                                                                \n",
       "36                                                    98          \n",
       "37                                                    86          \n",
       "38                                                    91          \n",
       "39                         5 Oriented                 90          \n",
       "40                                                    92          \n",
       "41                                                    87          \n",
       "42                                                    89          \n",
       "43                         5 Oriented                 93          \n",
       "44                                                   101          \n",
       "45                                                   115          \n",
       "\n",
       "   Mean blood pressure Oxygen saturation Respiratory rate  \\\n",
       "0                  104             100.0               14   \n",
       "1                                  100.0               14   \n",
       "2                                                           \n",
       "3                  109             100.0               14   \n",
       "4                  109             100.0               14   \n",
       "5                  113             100.0               14   \n",
       "6                  106             100.0               14   \n",
       "7                  103             100.0               14   \n",
       "8                  102             100.0               16   \n",
       "9                  110             100.0                9   \n",
       "10                                                          \n",
       "11                 104             100.0               20   \n",
       "12                                  98.0                    \n",
       "13                 100              99.0               22   \n",
       "14                                                          \n",
       "15                  98              99.0               23   \n",
       "16                 101              97.0               20   \n",
       "17                  89              96.0               23   \n",
       "18                                                          \n",
       "19                  88              97.0               20   \n",
       "20                                                     24   \n",
       "21                 106              98.0               23   \n",
       "22                 103             100.0               31   \n",
       "23                  91             100.0               25   \n",
       "24                  85              99.0               18   \n",
       "25                  94             100.0               22   \n",
       "26                  88              96.0               21   \n",
       "27                  92              99.0               20   \n",
       "28                  93             100.0               20   \n",
       "29                  90              99.0               17   \n",
       "30                  92              96.0               21   \n",
       "31                  92              99.0               20   \n",
       "32                  88              96.0               19   \n",
       "33                  92              98.0               20   \n",
       "34                  95              98.0               16   \n",
       "35                                                          \n",
       "36                 105             100.0                    \n",
       "37                  99              99.0               12   \n",
       "38                 107              97.0               15   \n",
       "39                 104              99.0               20   \n",
       "40                 105             100.0               16   \n",
       "41                  95              98.0                7   \n",
       "42                  91              99.0               12   \n",
       "43                  95              95.0               18   \n",
       "44                  99              94.0               22   \n",
       "45                                  98.0               17   \n",
       "\n",
       "   Systolic blood pressure         Temperature Weight    pH  \n",
       "0                    141.0                                   \n",
       "1                                                            \n",
       "2                                                      7.43  \n",
       "3                    144.0   38.16669845581055               \n",
       "4                    147.0                                   \n",
       "5                    152.0   39.11111195882162               \n",
       "6                    145.0                                   \n",
       "7                    141.0   39.11111195882162               \n",
       "8                    135.0                                   \n",
       "9                    151.0                                   \n",
       "10                                                     7.37  \n",
       "11                   137.0   38.66669845581055               \n",
       "12                                                     7.37  \n",
       "13                   130.0                                   \n",
       "14                                                     7.35  \n",
       "15                   127.0  37.555599212646484               \n",
       "16                   132.0                                   \n",
       "17                   114.0                                   \n",
       "18                                                     7.33  \n",
       "19                   115.0                                   \n",
       "20                   119.0                                   \n",
       "21                   145.0                                   \n",
       "22                   140.0  37.055599212646484               \n",
       "23                   119.0                                   \n",
       "24                   109.0                                   \n",
       "25                   124.0                                   \n",
       "26                   120.0   36.88890075683594               \n",
       "27                   122.0                                   \n",
       "28                   127.0                                   \n",
       "29                   124.0                                   \n",
       "30                   125.0                37.0               \n",
       "31                   126.0                                   \n",
       "32                   117.0                                   \n",
       "33                   124.0                                   \n",
       "34                   129.0   36.88890075683594               \n",
       "35                                                     7.35  \n",
       "36                   141.0                                   \n",
       "37                   137.0                                   \n",
       "38                   146.0                                   \n",
       "39                   139.0   36.83333502875434               \n",
       "40                   144.0                                   \n",
       "41                   132.0                                   \n",
       "42                   123.0                                   \n",
       "43                   132.0                                   \n",
       "44                   130.0   36.61111195882162               \n",
       "45                                                           "
      ]
     },
     "execution_count": 3,
     "metadata": {},
     "output_type": "execute_result"
    }
   ],
   "source": [
    "ex = pd.DataFrame.from_dict(train_reader.read_example(0)['X'])\n",
    "ex.columns = train_reader.read_example(0)[\"header\"]\n",
    "print(train_reader.read_example(0)['y'])\n",
    "ex"
   ]
  },
  {
   "attachments": {},
   "cell_type": "markdown",
   "metadata": {},
   "source": [
    "### Normalize and Discretize data\n",
    "From the MIMIC-III Benchmark repo"
   ]
  },
  {
   "cell_type": "code",
   "execution_count": 4,
   "metadata": {},
   "outputs": [],
   "source": [
    "discretizer = Discretizer(timestep=1.0,\n",
    "                          store_masks=True,\n",
    "                          impute_strategy='previous',\n",
    "                          start_time='zero')\n",
    "\n",
    "discretizer_header = discretizer.transform(train_reader.read_example(0)[\"X\"])[1].split(',')\n",
    "cont_channels = [i for (i, x) in enumerate(discretizer_header) if x.find(\"->\") == -1]"
   ]
  },
  {
   "cell_type": "code",
   "execution_count": 5,
   "metadata": {},
   "outputs": [],
   "source": [
    "normalizer = Normalizer(fields=cont_channels)  # choose here which columns to standardize\n",
    "normalizer_state = 'train/ph_ts1.0.input_str-previous.start_time-zero.normalizer'\n",
    "normalizer.load_params(normalizer_state)"
   ]
  },
  {
   "cell_type": "code",
   "execution_count": 6,
   "metadata": {},
   "outputs": [
    {
     "name": "stdout",
     "output_type": "stream",
     "text": [
      "29250 256 76\n"
     ]
    }
   ],
   "source": [
    "batch_size = 128\n",
    "max_seq_len = 256\n",
    "small_part = False\n",
    "\n",
    "train_raw = load_data(train_reader, discretizer, normalizer, max_seq_len, small_part)\n",
    "val_raw = load_data(val_reader, discretizer, normalizer, max_seq_len, small_part)\n",
    "test_raw = load_data(test_reader, discretizer, normalizer, max_seq_len, small_part)\n",
    "\n",
    "train_ds = TensorDataset(train_raw[0], train_raw[1])\n",
    "val_ds = TensorDataset(val_raw[0], val_raw[1])\n",
    "test_ds = TensorDataset(test_raw[0], test_raw[1])\n",
    "\n",
    "train_loader = DataLoader(train_ds, batch_size=batch_size)#sampler=get_weighted_sampler(y_train))\n",
    "val_loader = DataLoader(val_ds, batch_size=batch_size, shuffle=True)\n",
    "test_loader = DataLoader(test_ds, batch_size=batch_size)\n",
    "\n",
    "N, seq_len, feature_count = train_raw[0].shape\n",
    "print(N, seq_len, feature_count)"
   ]
  },
  {
   "attachments": {},
   "cell_type": "markdown",
   "metadata": {},
   "source": [
    "## Create model, Train, and Evaluate\n",
    "Train the model, this will export results to Comet ML.\n",
    "Creating is done in the same step such that a new experiment made each time\n",
    "Evaluation is done in the same step such that the Comet ML experiment is also deleted."
   ]
  },
  {
   "cell_type": "code",
   "execution_count": 8,
   "metadata": {},
   "outputs": [
    {
     "name": "stderr",
     "output_type": "stream",
     "text": [
      "COMET WARNING: As you are running in a Jupyter environment, you will need to call `experiment.end()` when finished to ensure all metrics and code are logged before exiting.\n",
      "COMET INFO: Experiment is live on comet.com https://www.comet.com/samdoud/general/836ca91398974768a1daee8a8fa3b772\n",
      "\n",
      "\u001b[36mTraining\u001b[0m - Epochs: 001/030: 100%|█████████▉| 29184/29250 [00:12<00:00, 2308.47it/s]"
     ]
    },
    {
     "name": "stdout",
     "output_type": "stream",
     "text": [
      "\u001b[32mTrain finished. \u001b[0mAccuracy: 0.5506 MSE: 0.0000 AUROC: 0.0000 AUPRC: 0.0000\n"
     ]
    },
    {
     "name": "stderr",
     "output_type": "stream",
     "text": [
      "\u001b[36mTraining\u001b[0m - Epochs: 001/030: 100%|██████████| 29250/29250 [00:14<00:00, 2058.08it/s]\n"
     ]
    },
    {
     "name": "stdout",
     "output_type": "stream",
     "text": [
      "\u001b[31mValidation finished. \u001b[0mAccuracy: 0.6474 MSE: 0.0000 AUROC: 0.0000 AUPRC: 0.0000\n"
     ]
    },
    {
     "name": "stderr",
     "output_type": "stream",
     "text": [
      "\u001b[36mTraining\u001b[0m - Epochs: 002/030: 100%|█████████▉| 29184/29250 [00:12<00:00, 2328.46it/s]"
     ]
    },
    {
     "name": "stdout",
     "output_type": "stream",
     "text": [
      "\u001b[32mTrain finished. \u001b[0mAccuracy: 0.5504 MSE: 0.0000 AUROC: 0.0000 AUPRC: 0.0000\n"
     ]
    },
    {
     "name": "stderr",
     "output_type": "stream",
     "text": [
      "\u001b[36mTraining\u001b[0m - Epochs: 002/030: 100%|██████████| 29250/29250 [00:13<00:00, 2121.58it/s]\n"
     ]
    },
    {
     "name": "stdout",
     "output_type": "stream",
     "text": [
      "\u001b[31mValidation finished. \u001b[0mAccuracy: 0.6652 MSE: 0.0000 AUROC: 0.0000 AUPRC: 0.0000\n"
     ]
    },
    {
     "name": "stderr",
     "output_type": "stream",
     "text": [
      "\u001b[36mTraining\u001b[0m - Epochs: 003/030: 100%|█████████▉| 29184/29250 [00:12<00:00, 2362.62it/s]"
     ]
    },
    {
     "name": "stdout",
     "output_type": "stream",
     "text": [
      "\u001b[32mTrain finished. \u001b[0mAccuracy: 0.5486 MSE: 0.0000 AUROC: 0.0000 AUPRC: 0.0000\n"
     ]
    },
    {
     "name": "stderr",
     "output_type": "stream",
     "text": [
      "\u001b[36mTraining\u001b[0m - Epochs: 003/030: 100%|██████████| 29250/29250 [00:13<00:00, 2110.93it/s]\n"
     ]
    },
    {
     "name": "stdout",
     "output_type": "stream",
     "text": [
      "\u001b[31mValidation finished. \u001b[0mAccuracy: 0.6751 MSE: 0.0000 AUROC: 0.0000 AUPRC: 0.0000\n"
     ]
    },
    {
     "name": "stderr",
     "output_type": "stream",
     "text": [
      "\u001b[36mTraining\u001b[0m - Epochs: 004/030: 100%|█████████▉| 29184/29250 [00:12<00:00, 2383.89it/s]"
     ]
    },
    {
     "name": "stdout",
     "output_type": "stream",
     "text": [
      "\u001b[32mTrain finished. \u001b[0mAccuracy: 0.5512 MSE: 0.0000 AUROC: 0.0000 AUPRC: 0.0000\n"
     ]
    },
    {
     "name": "stderr",
     "output_type": "stream",
     "text": [
      "\u001b[36mTraining\u001b[0m - Epochs: 004/030: 100%|██████████| 29250/29250 [00:13<00:00, 2116.99it/s]\n"
     ]
    },
    {
     "name": "stdout",
     "output_type": "stream",
     "text": [
      "\u001b[31mValidation finished. \u001b[0mAccuracy: 0.6856 MSE: 0.0000 AUROC: 0.0000 AUPRC: 0.0000\n"
     ]
    },
    {
     "name": "stderr",
     "output_type": "stream",
     "text": [
      "\u001b[36mTraining\u001b[0m - Epochs: 005/030: 100%|█████████▉| 29184/29250 [00:12<00:00, 2390.11it/s]"
     ]
    },
    {
     "name": "stdout",
     "output_type": "stream",
     "text": [
      "\u001b[32mTrain finished. \u001b[0mAccuracy: 0.5541 MSE: 0.0000 AUROC: 0.0000 AUPRC: 0.0000\n"
     ]
    },
    {
     "name": "stderr",
     "output_type": "stream",
     "text": [
      "\u001b[36mTraining\u001b[0m - Epochs: 005/030: 100%|██████████| 29250/29250 [00:13<00:00, 2113.67it/s]\n"
     ]
    },
    {
     "name": "stdout",
     "output_type": "stream",
     "text": [
      "\u001b[31mValidation finished. \u001b[0mAccuracy: 0.6869 MSE: 0.0000 AUROC: 0.0000 AUPRC: 0.0000\n"
     ]
    },
    {
     "name": "stderr",
     "output_type": "stream",
     "text": [
      "\u001b[36mTraining\u001b[0m - Epochs: 006/030: 100%|█████████▉| 29184/29250 [00:12<00:00, 2403.14it/s]"
     ]
    },
    {
     "name": "stdout",
     "output_type": "stream",
     "text": [
      "\u001b[32mTrain finished. \u001b[0mAccuracy: 0.5556 MSE: 0.0000 AUROC: 0.0000 AUPRC: 0.0000\n"
     ]
    },
    {
     "name": "stderr",
     "output_type": "stream",
     "text": [
      "\u001b[36mTraining\u001b[0m - Epochs: 006/030: 100%|██████████| 29250/29250 [00:13<00:00, 2130.59it/s]\n"
     ]
    },
    {
     "name": "stdout",
     "output_type": "stream",
     "text": [
      "\u001b[31mValidation finished. \u001b[0mAccuracy: 0.6801 MSE: 0.0000 AUROC: 0.0000 AUPRC: 0.0000\n"
     ]
    },
    {
     "name": "stderr",
     "output_type": "stream",
     "text": [
      "\u001b[36mTraining\u001b[0m - Epochs: 007/030: 100%|█████████▉| 29184/29250 [00:12<00:00, 2393.52it/s]"
     ]
    },
    {
     "name": "stdout",
     "output_type": "stream",
     "text": [
      "\u001b[32mTrain finished. \u001b[0mAccuracy: 0.5653 MSE: 0.0000 AUROC: 0.0000 AUPRC: 0.0000\n"
     ]
    },
    {
     "name": "stderr",
     "output_type": "stream",
     "text": [
      "\u001b[36mTraining\u001b[0m - Epochs: 007/030: 100%|██████████| 29250/29250 [00:13<00:00, 2114.02it/s]\n"
     ]
    },
    {
     "name": "stdout",
     "output_type": "stream",
     "text": [
      "\u001b[31mValidation finished. \u001b[0mAccuracy: 0.6880 MSE: 0.0000 AUROC: 0.0000 AUPRC: 0.0000\n"
     ]
    },
    {
     "name": "stderr",
     "output_type": "stream",
     "text": [
      "\u001b[36mTraining\u001b[0m - Epochs: 008/030: 100%|█████████▉| 29184/29250 [00:12<00:00, 2392.65it/s]"
     ]
    },
    {
     "name": "stdout",
     "output_type": "stream",
     "text": [
      "\u001b[32mTrain finished. \u001b[0mAccuracy: 0.5649 MSE: 0.0000 AUROC: 0.0000 AUPRC: 0.0000\n"
     ]
    },
    {
     "name": "stderr",
     "output_type": "stream",
     "text": [
      "\u001b[36mTraining\u001b[0m - Epochs: 008/030: 100%|██████████| 29250/29250 [00:13<00:00, 2114.66it/s]\n"
     ]
    },
    {
     "name": "stdout",
     "output_type": "stream",
     "text": [
      "\u001b[31mValidation finished. \u001b[0mAccuracy: 0.7006 MSE: 0.0000 AUROC: 0.0000 AUPRC: 0.0000\n"
     ]
    },
    {
     "name": "stderr",
     "output_type": "stream",
     "text": [
      "\u001b[36mTraining\u001b[0m - Epochs: 009/030: 100%|█████████▉| 29184/29250 [00:12<00:00, 2392.07it/s]"
     ]
    },
    {
     "name": "stdout",
     "output_type": "stream",
     "text": [
      "\u001b[32mTrain finished. \u001b[0mAccuracy: 0.5728 MSE: 0.0000 AUROC: 0.0000 AUPRC: 0.0000\n"
     ]
    },
    {
     "name": "stderr",
     "output_type": "stream",
     "text": [
      "\u001b[36mTraining\u001b[0m - Epochs: 009/030: 100%|██████████| 29250/29250 [00:13<00:00, 2118.52it/s]\n"
     ]
    },
    {
     "name": "stdout",
     "output_type": "stream",
     "text": [
      "\u001b[31mValidation finished. \u001b[0mAccuracy: 0.7048 MSE: 0.0000 AUROC: 0.0000 AUPRC: 0.0000\n"
     ]
    },
    {
     "name": "stderr",
     "output_type": "stream",
     "text": [
      "\u001b[36mTraining\u001b[0m - Epochs: 010/030: 100%|█████████▉| 29184/29250 [00:12<00:00, 2343.18it/s]"
     ]
    },
    {
     "name": "stdout",
     "output_type": "stream",
     "text": [
      "\u001b[32mTrain finished. \u001b[0mAccuracy: 0.5703 MSE: 0.0000 AUROC: 0.0000 AUPRC: 0.0000\n"
     ]
    },
    {
     "name": "stderr",
     "output_type": "stream",
     "text": [
      "\u001b[36mTraining\u001b[0m - Epochs: 010/030: 100%|██████████| 29250/29250 [00:14<00:00, 2074.41it/s]\n"
     ]
    },
    {
     "name": "stdout",
     "output_type": "stream",
     "text": [
      "\u001b[31mValidation finished. \u001b[0mAccuracy: 0.6950 MSE: 0.0000 AUROC: 0.0000 AUPRC: 0.0000\n"
     ]
    },
    {
     "name": "stderr",
     "output_type": "stream",
     "text": [
      "\u001b[36mTraining\u001b[0m - Epochs: 011/030: 100%|█████████▉| 29184/29250 [00:12<00:00, 2386.51it/s]"
     ]
    },
    {
     "name": "stdout",
     "output_type": "stream",
     "text": [
      "\u001b[32mTrain finished. \u001b[0mAccuracy: 0.5772 MSE: 0.0000 AUROC: 0.0000 AUPRC: 0.0000\n"
     ]
    },
    {
     "name": "stderr",
     "output_type": "stream",
     "text": [
      "\u001b[36mTraining\u001b[0m - Epochs: 011/030: 100%|██████████| 29250/29250 [00:13<00:00, 2108.72it/s]\n"
     ]
    },
    {
     "name": "stdout",
     "output_type": "stream",
     "text": [
      "\u001b[31mValidation finished. \u001b[0mAccuracy: 0.7093 MSE: 0.0000 AUROC: 0.0000 AUPRC: 0.0000\n"
     ]
    },
    {
     "name": "stderr",
     "output_type": "stream",
     "text": [
      "\u001b[36mTraining\u001b[0m - Epochs: 012/030: 100%|█████████▉| 29184/29250 [00:12<00:00, 1954.85it/s]"
     ]
    },
    {
     "name": "stdout",
     "output_type": "stream",
     "text": [
      "\u001b[32mTrain finished. \u001b[0mAccuracy: 0.5790 MSE: 0.0000 AUROC: 0.0000 AUPRC: 0.0000\n"
     ]
    },
    {
     "name": "stderr",
     "output_type": "stream",
     "text": [
      "\u001b[36mTraining\u001b[0m - Epochs: 012/030: 100%|██████████| 29250/29250 [00:13<00:00, 2104.44it/s]\n"
     ]
    },
    {
     "name": "stdout",
     "output_type": "stream",
     "text": [
      "\u001b[31mValidation finished. \u001b[0mAccuracy: 0.7105 MSE: 0.0000 AUROC: 0.0000 AUPRC: 0.0000\n"
     ]
    },
    {
     "name": "stderr",
     "output_type": "stream",
     "text": [
      "\u001b[36mTraining\u001b[0m - Epochs: 013/030: 100%|█████████▉| 29184/29250 [00:12<00:00, 2382.73it/s]"
     ]
    },
    {
     "name": "stdout",
     "output_type": "stream",
     "text": [
      "\u001b[32mTrain finished. \u001b[0mAccuracy: 0.5850 MSE: 0.0000 AUROC: 0.0000 AUPRC: 0.0000\n"
     ]
    },
    {
     "name": "stderr",
     "output_type": "stream",
     "text": [
      "\u001b[36mTraining\u001b[0m - Epochs: 013/030: 100%|██████████| 29250/29250 [00:13<00:00, 2121.97it/s]\n"
     ]
    },
    {
     "name": "stdout",
     "output_type": "stream",
     "text": [
      "\u001b[31mValidation finished. \u001b[0mAccuracy: 0.7122 MSE: 0.0000 AUROC: 0.0000 AUPRC: 0.0000\n"
     ]
    },
    {
     "name": "stderr",
     "output_type": "stream",
     "text": [
      "\u001b[36mTraining\u001b[0m - Epochs: 014/030: 100%|█████████▉| 29184/29250 [00:12<00:00, 2383.13it/s]"
     ]
    },
    {
     "name": "stdout",
     "output_type": "stream",
     "text": [
      "\u001b[32mTrain finished. \u001b[0mAccuracy: 0.5871 MSE: 0.0000 AUROC: 0.0000 AUPRC: 0.0000\n"
     ]
    },
    {
     "name": "stderr",
     "output_type": "stream",
     "text": [
      "\u001b[36mTraining\u001b[0m - Epochs: 014/030: 100%|██████████| 29250/29250 [00:13<00:00, 2116.07it/s]\n"
     ]
    },
    {
     "name": "stdout",
     "output_type": "stream",
     "text": [
      "\u001b[31mValidation finished. \u001b[0mAccuracy: 0.7129 MSE: 0.0000 AUROC: 0.0000 AUPRC: 0.0000\n"
     ]
    },
    {
     "name": "stderr",
     "output_type": "stream",
     "text": [
      "\u001b[36mTraining\u001b[0m - Epochs: 015/030: 100%|█████████▉| 29184/29250 [00:12<00:00, 2387.86it/s]"
     ]
    },
    {
     "name": "stdout",
     "output_type": "stream",
     "text": [
      "\u001b[32mTrain finished. \u001b[0mAccuracy: 0.5924 MSE: 0.0000 AUROC: 0.0000 AUPRC: 0.0000\n"
     ]
    },
    {
     "name": "stderr",
     "output_type": "stream",
     "text": [
      "\u001b[36mTraining\u001b[0m - Epochs: 015/030: 100%|██████████| 29250/29250 [00:13<00:00, 2111.44it/s]\n"
     ]
    },
    {
     "name": "stdout",
     "output_type": "stream",
     "text": [
      "\u001b[31mValidation finished. \u001b[0mAccuracy: 0.7157 MSE: 0.0000 AUROC: 0.0000 AUPRC: 0.0000\n"
     ]
    },
    {
     "name": "stderr",
     "output_type": "stream",
     "text": [
      "\u001b[36mTraining\u001b[0m - Epochs: 016/030: 100%|█████████▉| 29184/29250 [00:12<00:00, 2393.51it/s]"
     ]
    },
    {
     "name": "stdout",
     "output_type": "stream",
     "text": [
      "\u001b[32mTrain finished. \u001b[0mAccuracy: 0.5978 MSE: 0.0000 AUROC: 0.0000 AUPRC: 0.0000\n"
     ]
    },
    {
     "name": "stderr",
     "output_type": "stream",
     "text": [
      "\u001b[36mTraining\u001b[0m - Epochs: 016/030: 100%|██████████| 29250/29250 [00:13<00:00, 2119.91it/s]\n"
     ]
    },
    {
     "name": "stdout",
     "output_type": "stream",
     "text": [
      "\u001b[31mValidation finished. \u001b[0mAccuracy: 0.7174 MSE: 0.0000 AUROC: 0.0000 AUPRC: 0.0000\n"
     ]
    },
    {
     "name": "stderr",
     "output_type": "stream",
     "text": [
      "\u001b[36mTraining\u001b[0m - Epochs: 017/030: 100%|█████████▉| 29184/29250 [00:12<00:00, 2388.64it/s]"
     ]
    },
    {
     "name": "stdout",
     "output_type": "stream",
     "text": [
      "\u001b[32mTrain finished. \u001b[0mAccuracy: 0.6037 MSE: 0.0000 AUROC: 0.0000 AUPRC: 0.0000\n"
     ]
    },
    {
     "name": "stderr",
     "output_type": "stream",
     "text": [
      "\u001b[36mTraining\u001b[0m - Epochs: 017/030: 100%|██████████| 29250/29250 [00:13<00:00, 2110.38it/s]\n"
     ]
    },
    {
     "name": "stdout",
     "output_type": "stream",
     "text": [
      "\u001b[31mValidation finished. \u001b[0mAccuracy: 0.7187 MSE: 0.0000 AUROC: 0.0000 AUPRC: 0.0000\n"
     ]
    },
    {
     "name": "stderr",
     "output_type": "stream",
     "text": [
      "\u001b[36mTraining\u001b[0m - Epochs: 018/030: 100%|█████████▉| 29184/29250 [00:12<00:00, 2360.09it/s]"
     ]
    },
    {
     "name": "stdout",
     "output_type": "stream",
     "text": [
      "\u001b[32mTrain finished. \u001b[0mAccuracy: 0.6116 MSE: 0.0000 AUROC: 0.0000 AUPRC: 0.0000\n"
     ]
    },
    {
     "name": "stderr",
     "output_type": "stream",
     "text": [
      "\u001b[36mTraining\u001b[0m - Epochs: 018/030: 100%|██████████| 29250/29250 [00:13<00:00, 2110.71it/s]\n"
     ]
    },
    {
     "name": "stdout",
     "output_type": "stream",
     "text": [
      "\u001b[31mValidation finished. \u001b[0mAccuracy: 0.7210 MSE: 0.0000 AUROC: 0.0000 AUPRC: 0.0000\n"
     ]
    },
    {
     "name": "stderr",
     "output_type": "stream",
     "text": [
      "\u001b[36mTraining\u001b[0m - Epochs: 019/030: 100%|█████████▉| 29184/29250 [00:12<00:00, 2384.40it/s]"
     ]
    },
    {
     "name": "stdout",
     "output_type": "stream",
     "text": [
      "\u001b[32mTrain finished. \u001b[0mAccuracy: 0.6311 MSE: 0.0000 AUROC: 0.0000 AUPRC: 0.0000\n"
     ]
    },
    {
     "name": "stderr",
     "output_type": "stream",
     "text": [
      "\u001b[36mTraining\u001b[0m - Epochs: 019/030: 100%|██████████| 29250/29250 [00:13<00:00, 2115.51it/s]\n"
     ]
    },
    {
     "name": "stdout",
     "output_type": "stream",
     "text": [
      "\u001b[31mValidation finished. \u001b[0mAccuracy: 0.7134 MSE: 0.0000 AUROC: 0.0000 AUPRC: 0.0000\n"
     ]
    },
    {
     "name": "stderr",
     "output_type": "stream",
     "text": [
      "\u001b[36mTraining\u001b[0m - Epochs: 020/030: 100%|█████████▉| 29184/29250 [00:12<00:00, 2357.01it/s]"
     ]
    },
    {
     "name": "stdout",
     "output_type": "stream",
     "text": [
      "\u001b[32mTrain finished. \u001b[0mAccuracy: 0.6513 MSE: 0.0000 AUROC: 0.0000 AUPRC: 0.0000\n"
     ]
    },
    {
     "name": "stderr",
     "output_type": "stream",
     "text": [
      "\u001b[36mTraining\u001b[0m - Epochs: 020/030: 100%|██████████| 29250/29250 [00:14<00:00, 2087.76it/s]\n"
     ]
    },
    {
     "name": "stdout",
     "output_type": "stream",
     "text": [
      "\u001b[31mValidation finished. \u001b[0mAccuracy: 0.7183 MSE: 0.0000 AUROC: 0.0000 AUPRC: 0.0000\n"
     ]
    },
    {
     "name": "stderr",
     "output_type": "stream",
     "text": [
      "\u001b[36mTraining\u001b[0m - Epochs: 021/030: 100%|█████████▉| 29184/29250 [00:12<00:00, 2418.39it/s]"
     ]
    },
    {
     "name": "stdout",
     "output_type": "stream",
     "text": [
      "\u001b[32mTrain finished. \u001b[0mAccuracy: 0.6622 MSE: 0.0000 AUROC: 0.0000 AUPRC: 0.0000\n"
     ]
    },
    {
     "name": "stderr",
     "output_type": "stream",
     "text": [
      "\u001b[36mTraining\u001b[0m - Epochs: 021/030: 100%|██████████| 29250/29250 [00:13<00:00, 2118.13it/s]\n"
     ]
    },
    {
     "name": "stdout",
     "output_type": "stream",
     "text": [
      "\u001b[31mValidation finished. \u001b[0mAccuracy: 0.7209 MSE: 0.0000 AUROC: 0.0000 AUPRC: 0.0000\n"
     ]
    },
    {
     "name": "stderr",
     "output_type": "stream",
     "text": [
      "\u001b[36mTraining\u001b[0m - Epochs: 022/030: 100%|█████████▉| 29184/29250 [00:12<00:00, 2406.74it/s]"
     ]
    },
    {
     "name": "stdout",
     "output_type": "stream",
     "text": [
      "\u001b[32mTrain finished. \u001b[0mAccuracy: 0.6687 MSE: 0.0000 AUROC: 0.0000 AUPRC: 0.0000\n"
     ]
    },
    {
     "name": "stderr",
     "output_type": "stream",
     "text": [
      "\u001b[36mTraining\u001b[0m - Epochs: 022/030: 100%|██████████| 29250/29250 [00:13<00:00, 2109.54it/s]\n"
     ]
    },
    {
     "name": "stdout",
     "output_type": "stream",
     "text": [
      "\u001b[31mValidation finished. \u001b[0mAccuracy: 0.7222 MSE: 0.0000 AUROC: 0.0000 AUPRC: 0.0000\n"
     ]
    },
    {
     "name": "stderr",
     "output_type": "stream",
     "text": [
      "\u001b[36mTraining\u001b[0m - Epochs: 023/030: 100%|█████████▉| 29184/29250 [00:12<00:00, 2390.51it/s]"
     ]
    },
    {
     "name": "stdout",
     "output_type": "stream",
     "text": [
      "\u001b[32mTrain finished. \u001b[0mAccuracy: 0.6731 MSE: 0.0000 AUROC: 0.0000 AUPRC: 0.0000\n"
     ]
    },
    {
     "name": "stderr",
     "output_type": "stream",
     "text": [
      "\u001b[36mTraining\u001b[0m - Epochs: 023/030: 100%|██████████| 29250/29250 [00:13<00:00, 2119.18it/s]\n"
     ]
    },
    {
     "name": "stdout",
     "output_type": "stream",
     "text": [
      "\u001b[31mValidation finished. \u001b[0mAccuracy: 0.7229 MSE: 0.0000 AUROC: 0.0000 AUPRC: 0.0000\n"
     ]
    },
    {
     "name": "stderr",
     "output_type": "stream",
     "text": [
      "\u001b[36mTraining\u001b[0m - Epochs: 024/030: 100%|█████████▉| 29184/29250 [00:12<00:00, 2351.58it/s]"
     ]
    },
    {
     "name": "stdout",
     "output_type": "stream",
     "text": [
      "\u001b[32mTrain finished. \u001b[0mAccuracy: 0.6773 MSE: 0.0000 AUROC: 0.0000 AUPRC: 0.0000\n"
     ]
    },
    {
     "name": "stderr",
     "output_type": "stream",
     "text": [
      "\u001b[36mTraining\u001b[0m - Epochs: 024/030: 100%|██████████| 29250/29250 [00:13<00:00, 2109.20it/s]\n"
     ]
    },
    {
     "name": "stdout",
     "output_type": "stream",
     "text": [
      "\u001b[31mValidation finished. \u001b[0mAccuracy: 0.7215 MSE: 0.0000 AUROC: 0.0000 AUPRC: 0.0000\n"
     ]
    },
    {
     "name": "stderr",
     "output_type": "stream",
     "text": [
      "\u001b[36mTraining\u001b[0m - Epochs: 025/030: 100%|█████████▉| 29184/29250 [00:12<00:00, 2388.54it/s]"
     ]
    },
    {
     "name": "stdout",
     "output_type": "stream",
     "text": [
      "\u001b[32mTrain finished. \u001b[0mAccuracy: 0.6772 MSE: 0.0000 AUROC: 0.0000 AUPRC: 0.0000\n"
     ]
    },
    {
     "name": "stderr",
     "output_type": "stream",
     "text": [
      "\u001b[36mTraining\u001b[0m - Epochs: 025/030: 100%|██████████| 29250/29250 [00:13<00:00, 2112.24it/s]\n"
     ]
    },
    {
     "name": "stdout",
     "output_type": "stream",
     "text": [
      "\u001b[31mValidation finished. \u001b[0mAccuracy: 0.7254 MSE: 0.0000 AUROC: 0.0000 AUPRC: 0.0000\n"
     ]
    },
    {
     "name": "stderr",
     "output_type": "stream",
     "text": [
      "\u001b[36mTraining\u001b[0m - Epochs: 026/030: 100%|█████████▉| 29184/29250 [00:12<00:00, 2364.48it/s]"
     ]
    },
    {
     "name": "stdout",
     "output_type": "stream",
     "text": [
      "\u001b[32mTrain finished. \u001b[0mAccuracy: 0.6807 MSE: 0.0000 AUROC: 0.0000 AUPRC: 0.0000\n"
     ]
    },
    {
     "name": "stderr",
     "output_type": "stream",
     "text": [
      "\u001b[36mTraining\u001b[0m - Epochs: 026/030: 100%|██████████| 29250/29250 [00:13<00:00, 2109.60it/s]\n"
     ]
    },
    {
     "name": "stdout",
     "output_type": "stream",
     "text": [
      "\u001b[31mValidation finished. \u001b[0mAccuracy: 0.7238 MSE: 0.0000 AUROC: 0.0000 AUPRC: 0.0000\n"
     ]
    },
    {
     "name": "stderr",
     "output_type": "stream",
     "text": [
      "\u001b[36mTraining\u001b[0m - Epochs: 027/030: 100%|█████████▉| 29184/29250 [00:12<00:00, 2408.36it/s]"
     ]
    },
    {
     "name": "stdout",
     "output_type": "stream",
     "text": [
      "\u001b[32mTrain finished. \u001b[0mAccuracy: 0.6824 MSE: 0.0000 AUROC: 0.0000 AUPRC: 0.0000\n"
     ]
    },
    {
     "name": "stderr",
     "output_type": "stream",
     "text": [
      "\u001b[36mTraining\u001b[0m - Epochs: 027/030: 100%|██████████| 29250/29250 [00:13<00:00, 2127.73it/s]\n"
     ]
    },
    {
     "name": "stdout",
     "output_type": "stream",
     "text": [
      "\u001b[31mValidation finished. \u001b[0mAccuracy: 0.7247 MSE: 0.0000 AUROC: 0.0000 AUPRC: 0.0000\n"
     ]
    },
    {
     "name": "stderr",
     "output_type": "stream",
     "text": [
      "\u001b[36mTraining\u001b[0m - Epochs: 028/030: 100%|█████████▉| 29184/29250 [00:12<00:00, 2413.88it/s]"
     ]
    },
    {
     "name": "stdout",
     "output_type": "stream",
     "text": [
      "\u001b[32mTrain finished. \u001b[0mAccuracy: 0.6847 MSE: 0.0000 AUROC: 0.0000 AUPRC: 0.0000\n"
     ]
    },
    {
     "name": "stderr",
     "output_type": "stream",
     "text": [
      "\u001b[36mTraining\u001b[0m - Epochs: 028/030: 100%|██████████| 29250/29250 [00:13<00:00, 2119.90it/s]\n"
     ]
    },
    {
     "name": "stdout",
     "output_type": "stream",
     "text": [
      "\u001b[31mValidation finished. \u001b[0mAccuracy: 0.7250 MSE: 0.0000 AUROC: 0.0000 AUPRC: 0.0000\n"
     ]
    },
    {
     "name": "stderr",
     "output_type": "stream",
     "text": [
      "\u001b[36mTraining\u001b[0m - Epochs: 029/030: 100%|█████████▉| 29184/29250 [00:12<00:00, 2367.66it/s]"
     ]
    },
    {
     "name": "stdout",
     "output_type": "stream",
     "text": [
      "\u001b[32mTrain finished. \u001b[0mAccuracy: 0.6866 MSE: 0.0000 AUROC: 0.0000 AUPRC: 0.0000\n"
     ]
    },
    {
     "name": "stderr",
     "output_type": "stream",
     "text": [
      "\u001b[36mTraining\u001b[0m - Epochs: 029/030: 100%|██████████| 29250/29250 [00:13<00:00, 2108.40it/s]\n"
     ]
    },
    {
     "name": "stdout",
     "output_type": "stream",
     "text": [
      "\u001b[31mValidation finished. \u001b[0mAccuracy: 0.7246 MSE: 0.0000 AUROC: 0.0000 AUPRC: 0.0000\n"
     ]
    },
    {
     "name": "stderr",
     "output_type": "stream",
     "text": [
      "\u001b[36mTraining\u001b[0m - Epochs: 030/030: 100%|█████████▉| 29184/29250 [00:12<00:00, 2314.58it/s]"
     ]
    },
    {
     "name": "stdout",
     "output_type": "stream",
     "text": [
      "\u001b[32mTrain finished. \u001b[0mAccuracy: 0.6886 MSE: 0.0000 AUROC: 0.0000 AUPRC: 0.0000\n"
     ]
    },
    {
     "name": "stderr",
     "output_type": "stream",
     "text": [
      "\u001b[36mTraining\u001b[0m - Epochs: 030/030: 100%|██████████| 29250/29250 [00:14<00:00, 2078.87it/s]\n"
     ]
    },
    {
     "name": "stdout",
     "output_type": "stream",
     "text": [
      "\u001b[31mValidation finished. \u001b[0mAccuracy: 0.7261 MSE: 0.0000 AUROC: 0.0000 AUPRC: 0.0000\n"
     ]
    },
    {
     "name": "stderr",
     "output_type": "stream",
     "text": [
      "\u001b[32mEvaluating\u001b[0m: 100%|██████████| 6281/6281 [00:01<00:00, 4612.78it/s]\n",
      "COMET INFO: ---------------------------\n",
      "COMET INFO: Comet.ml Experiment Summary\n",
      "COMET INFO: ---------------------------\n",
      "COMET INFO:   Data:\n",
      "COMET INFO:     display_summary_level : 1\n",
      "COMET INFO:     url                   : https://www.comet.com/samdoud/general/836ca91398974768a1daee8a8fa3b772\n",
      "COMET INFO:   Metrics [count] (min, max):\n",
      "COMET INFO:     test_loss [50]         : (0.5519314408302307, 29.14244955778122)\n",
      "COMET INFO:     train_accuracy [30]    : (0.5486425066445836, 0.6885715084333469)\n",
      "COMET INFO:     train_loss [7557]      : (0.32722023129463196, 261.7335510253906)\n",
      "COMET INFO:     validate_accuracy [30] : (0.6473843322424915, 0.7261181287295638)\n",
      "COMET INFO:     validate_loss [1500]   : (0.5097749829292297, 22.033466339111328)\n",
      "COMET INFO:   Parameters:\n",
      "COMET INFO:     batch_size    : 128\n",
      "COMET INFO:     betas         : (0.9, 0.98)\n",
      "COMET INFO:     epochs        : 30\n",
      "COMET INFO:     eps           : 4e-09\n",
      "COMET INFO:     lr            : 0.0005\n",
      "COMET INFO:     test_ds_size  : 6281\n",
      "COMET INFO:     train_ds_size : 29250\n",
      "COMET INFO:     val_ds_size   : 6371\n",
      "COMET INFO:     weight_decay  : 0.0005\n",
      "COMET INFO:   Uploads:\n",
      "COMET INFO:     conda-environment-definition : 1\n",
      "COMET INFO:     conda-info                   : 1\n",
      "COMET INFO:     conda-specification          : 1\n",
      "COMET INFO:     environment details          : 1\n",
      "COMET INFO:     filename                     : 1\n",
      "COMET INFO:     git metadata                 : 1\n",
      "COMET INFO:     git-patch (uncompressed)     : 1 (118.35 KB)\n",
      "COMET INFO:     installed packages           : 1\n",
      "COMET INFO:     model graph                  : 1\n",
      "COMET INFO:     notebook                     : 1\n",
      "COMET INFO:     source_code                  : 1\n",
      "COMET INFO: ---------------------------\n"
     ]
    },
    {
     "name": "stdout",
     "output_type": "stream",
     "text": [
      "error on test\n",
      "\u001b[35mEvaluation finished. \u001b[0mAccuracy: 0.7261 MSE: 0.0000 AUROC: 0.0000 AUPRC: 0.0000\n"
     ]
    },
    {
     "name": "stderr",
     "output_type": "stream",
     "text": [
      "COMET INFO: Uploading 1 metrics, params and output messages\n"
     ]
    }
   ],
   "source": [
    "n_heads = 8\n",
    "factor = 120 # M\n",
    "num_class = 25\n",
    "num_layers = 2 # N\n",
    "epochs = 30\n",
    "betas = (0.9, 0.98)\n",
    "lr = 0.0005\n",
    "eps = 4e-09\n",
    "weight_decay = 5e-4\n",
    "dropout = 0.4\n",
    "\n",
    "experiment = Experiment(\n",
    "    api_key=\"eQ3INeSsFGUYKahSdEtjhry42\",\n",
    "    project_name=\"general\",\n",
    "    workspace=\"samdoud\"\n",
    ")\n",
    "\n",
    "clf = NeuralNetworkClassifier(\n",
    "    SAnD(feature_count, seq_len, n_heads, factor, num_class, num_layers, dropout_rate=dropout),\n",
    "    nn.BCEWithLogitsLoss(),\n",
    "    optim.Adam, optimizer_config={\n",
    "        \"lr\": lr, \"betas\": betas, \"eps\": eps, \"weight_decay\": weight_decay},\n",
    "    experiment=experiment\n",
    ")\n",
    "\n",
    "clf.fit(\n",
    "    {\n",
    "        \"train\": train_loader,\n",
    "        \"val\": val_loader\n",
    "    },\n",
    "    validation=True,\n",
    "    epochs=epochs,\n",
    "    verbose=True,\n",
    ")\n",
    "\n",
    "clf.evaluate(test_loader)\n",
    "experiment.end()"
   ]
  }
 ],
 "metadata": {
  "kernelspec": {
   "display_name": "py38",
   "language": "python",
   "name": "python3"
  },
  "language_info": {
   "codemirror_mode": {
    "name": "ipython",
    "version": 3
   },
   "file_extension": ".py",
   "mimetype": "text/x-python",
   "name": "python",
   "nbconvert_exporter": "python",
   "pygments_lexer": "ipython3",
   "version": "3.8.16"
  },
  "orig_nbformat": 4
 },
 "nbformat": 4,
 "nbformat_minor": 2
}
